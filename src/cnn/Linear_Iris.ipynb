{
 "cells": [
  {
   "cell_type": "code",
   "execution_count": null,
   "metadata": {
    "colab": {
     "base_uri": "https://localhost:8080/"
    },
    "executionInfo": {
     "elapsed": 395,
     "status": "ok",
     "timestamp": 1637554380463,
     "user": {
      "displayName": "ryosuke OKUSHI",
      "photoUrl": "https://lh3.googleusercontent.com/a/default-user=s64",
      "userId": "14294643458702657930"
     },
     "user_tz": -540
    },
    "id": "XY4a3cQXklgx",
    "outputId": "7ab1909b-8166-484d-9f2d-c0bac75c516d"
   },
   "outputs": [
    {
     "name": "stdout",
     "output_type": "stream",
     "text": [
      "<class 'sklearn.utils.Bunch'>\n"
     ]
    }
   ],
   "source": [
    "\n",
    "from sklearn.datasets import load_iris\n",
    "\n",
    "iris = load_iris() #  アイリスデータセットの読み込み\n",
    "\n",
    "#print(iris.DESCR)\n",
    "\n",
    "print(type(iris))"
   ]
  },
  {
   "cell_type": "code",
   "execution_count": null,
   "metadata": {
    "colab": {
     "base_uri": "https://localhost:8080/"
    },
    "executionInfo": {
     "elapsed": 7,
     "status": "ok",
     "timestamp": 1637554380843,
     "user": {
      "displayName": "ryosuke OKUSHI",
      "photoUrl": "https://lh3.googleusercontent.com/a/default-user=s64",
      "userId": "14294643458702657930"
     },
     "user_tz": -540
    },
    "id": "HZWjSjczk-wC",
    "outputId": "2dda5736-9d6d-4b7e-8565-89a0618c190a"
   },
   "outputs": [
    {
     "name": "stdout",
     "output_type": "stream",
     "text": [
      "   sepal length (cm)  sepal width (cm)  petal length (cm)  petal width (cm)\n",
      "0                5.1               3.5                1.4               0.2\n",
      "1                4.9               3.0                1.4               0.2\n",
      "2                4.7               3.2                1.3               0.2\n",
      "3                4.6               3.1                1.5               0.2\n",
      "4                5.0               3.6                1.4               0.2\n"
     ]
    }
   ],
   "source": [
    "\n",
    "import pandas as pd\n",
    "\n",
    "df = pd.DataFrame(iris.data, columns=iris.feature_names) #データフレーム型に格納、特徴量の名前を列に加える\n",
    "print(df.head())"
   ]
  },
  {
   "cell_type": "code",
   "execution_count": null,
   "metadata": {
    "colab": {
     "base_uri": "https://localhost:8080/"
    },
    "executionInfo": {
     "elapsed": 6,
     "status": "ok",
     "timestamp": 1637554380844,
     "user": {
      "displayName": "ryosuke OKUSHI",
      "photoUrl": "https://lh3.googleusercontent.com/a/default-user=s64",
      "userId": "14294643458702657930"
     },
     "user_tz": -540
    },
    "id": "G5awAPcumJjL",
    "outputId": "03ca8132-0023-4dae-d2db-b0afd33a1d1e"
   },
   "outputs": [
    {
     "name": "stdout",
     "output_type": "stream",
     "text": [
      "   sepal length (cm)  sepal width (cm)  ...  petal width (cm)  Variety\n",
      "0                5.1               3.5  ...               0.2   setosa\n",
      "1                4.9               3.0  ...               0.2   setosa\n",
      "2                4.7               3.2  ...               0.2   setosa\n",
      "3                4.6               3.1  ...               0.2   setosa\n",
      "4                5.0               3.6  ...               0.2   setosa\n",
      "\n",
      "[5 rows x 5 columns]\n"
     ]
    }
   ],
   "source": [
    "df['Variety'] = iris.target #ターゲットデータ（教師データ）もデータフレームに格納,　そのためにアイリスデータのターゲットを引っ張ってきている \n",
    "\n",
    "df.loc[df['Variety'] == 0, 'Variety'] = 'setosa'\n",
    "df.loc[df['Variety'] == 1, 'Variety'] = 'versicolor'\n",
    "df.loc[df['Variety'] == 2, 'Variety'] = 'virginica'\n",
    "\n",
    "print(df.head())"
   ]
  },
  {
   "cell_type": "code",
   "execution_count": null,
   "metadata": {
    "colab": {
     "base_uri": "https://localhost:8080/"
    },
    "executionInfo": {
     "elapsed": 1027,
     "status": "ok",
     "timestamp": 1637554381867,
     "user": {
      "displayName": "ryosuke OKUSHI",
      "photoUrl": "https://lh3.googleusercontent.com/a/default-user=s64",
      "userId": "14294643458702657930"
     },
     "user_tz": -540
    },
    "id": "Sb_18cAwmXHJ",
    "outputId": "be750844-9a7f-4918-c35a-5a0d79b06c53"
   },
   "outputs": [
    {
     "name": "stdout",
     "output_type": "stream",
     "text": [
      "<class 'numpy.ndarray'>\n",
      "<class 'numpy.ndarray'>\n"
     ]
    }
   ],
   "source": [
    "import pandas as pd\n",
    "import matplotlib.pyplot as plt\n",
    "from sklearn.datasets import load_iris\n",
    "from sklearn.model_selection import train_test_split\n",
    "import torch\n",
    "from torch.utils.data import TensorDataset, DataLoader\n",
    "from torch import nn\n",
    "import torch.nn.functional as F\n",
    "from torch import optim\n",
    "\n",
    "iris = load_iris()\n",
    "data = iris.data\n",
    "label = iris.target\n",
    "\n",
    "print(type(data)) #ndarray型\n",
    "print(type(label))"
   ]
  },
  {
   "cell_type": "code",
   "execution_count": null,
   "metadata": {
    "colab": {
     "base_uri": "https://localhost:8080/"
    },
    "executionInfo": {
     "elapsed": 25,
     "status": "ok",
     "timestamp": 1637554381868,
     "user": {
      "displayName": "ryosuke OKUSHI",
      "photoUrl": "https://lh3.googleusercontent.com/a/default-user=s64",
      "userId": "14294643458702657930"
     },
     "user_tz": -540
    },
    "id": "OaaZcXJEm-l-",
    "outputId": "1dec3cea-c846-47a9-d3d7-29ebc642e685"
   },
   "outputs": [
    {
     "name": "stdout",
     "output_type": "stream",
     "text": [
      "train_data size: 120\n",
      "test_data size: 30\n",
      "train_label size: 120\n",
      "test_label size: 30\n",
      "<class 'numpy.ndarray'>\n"
     ]
    }
   ],
   "source": [
    "train_data, test_data, train_label, test_label = train_test_split( # trainデータとtestデータに分割、validationデータもいずれ作ろう！\n",
    "    data, label, test_size=0.2)\n",
    "print(\"train_data size: {}\".format(len(train_data)))\n",
    "print(\"test_data size: {}\".format(len(test_data)))\n",
    "print(\"train_label size: {}\".format(len(train_label)))\n",
    "print(\"test_label size: {}\".format(len(test_label)))\n",
    "\n",
    "print(type(train_data)) #型は変わらない\n"
   ]
  },
  {
   "cell_type": "code",
   "execution_count": null,
   "metadata": {
    "colab": {
     "base_uri": "https://localhost:8080/"
    },
    "executionInfo": {
     "elapsed": 20,
     "status": "ok",
     "timestamp": 1637554381869,
     "user": {
      "displayName": "ryosuke OKUSHI",
      "photoUrl": "https://lh3.googleusercontent.com/a/default-user=s64",
      "userId": "14294643458702657930"
     },
     "user_tz": -540
    },
    "id": "hZvu2P5Jn_jp",
    "outputId": "2e85a00b-7275-4768-a188-d0d9cadbd8c1"
   },
   "outputs": [
    {
     "name": "stdout",
     "output_type": "stream",
     "text": [
      "<class 'torch.Tensor'>\n",
      "<class 'torch.utils.data.dataset.TensorDataset'>\n"
     ]
    }
   ],
   "source": [
    "# 型をテンソルに変える\n",
    "train_x = torch.Tensor(train_data)\n",
    "test_x = torch.Tensor(test_data)\n",
    "train_y = torch.LongTensor(train_label)\n",
    "test_y = torch.LongTensor(test_label) \n",
    "print(type(train_x))\n",
    "\n",
    "# データをテンソルのデータにセットする.       引数として　入力データ, 教師データ とすれば良い\n",
    "train_dataset = TensorDataset(train_x, train_y)\n",
    "test_dataset = TensorDataset(test_x, test_y)\n",
    "print(type(train_dataset))"
   ]
  },
  {
   "cell_type": "code",
   "execution_count": null,
   "metadata": {
    "colab": {
     "base_uri": "https://localhost:8080/"
    },
    "executionInfo": {
     "elapsed": 15,
     "status": "ok",
     "timestamp": 1637554381869,
     "user": {
      "displayName": "ryosuke OKUSHI",
      "photoUrl": "https://lh3.googleusercontent.com/a/default-user=s64",
      "userId": "14294643458702657930"
     },
     "user_tz": -540
    },
    "id": "ZMpoeXMPoqW0",
    "outputId": "7160a937-2ca1-489e-c4dc-1eb27ead5769"
   },
   "outputs": [
    {
     "name": "stdout",
     "output_type": "stream",
     "text": [
      "batch data size: torch.Size([5, 4])\n",
      "batch label size: torch.Size([5])\n"
     ]
    }
   ],
   "source": [
    "\n",
    "# データローダーの際の細かい設定をする\n",
    "train_batch = DataLoader(\n",
    "    dataset = train_dataset,#データセットの指定\n",
    "    batch_size = 5,#バッチサイズの指定\n",
    "    shuffle = True,#シャッフルするかどうかの指定\n",
    "    num_workers = 2#コア数\n",
    ")\n",
    "test_batch = DataLoader(\n",
    "    dataset = test_dataset,\n",
    "    batch_size = 5,\n",
    "    shuffle = False,\n",
    "    num_workers = 2\n",
    ")\n",
    "## for文で回してサイズを確認する\n",
    "for data, label in train_batch:\n",
    "    print(\"batch data size: {}\".format(data.size())) #バッチサイズが5, 特徴量（軸）が4つと分かる\n",
    "    print(\"batch label size: {}\".format(label.size())) #バッチサイズはもちろん上と同じ5, クラスが入っている\n",
    "    break"
   ]
  },
  {
   "cell_type": "code",
   "execution_count": null,
   "metadata": {
    "id": "l6Y8G-R1o2HR"
   },
   "outputs": [],
   "source": [
    "# ニューラルネットワークを作成\n",
    "class Net(nn.Module):\n",
    "  def __init__(self, D_in, H, D_out): # モデルの定義.　重み, バイアスの初期化やその際のシード値固定もいずれしよう！\n",
    "    super(Net, self).__init__()\n",
    "    self.linear1 = torch.nn.Linear(D_in, H)\n",
    "    self.linear2 = torch.nn.Linear(H, D_out)\n",
    "  def forward(self, x):  # 順伝播の際の動きをプログラムする\n",
    "    x = F.relu(self.linear1(x))\n",
    "    x = self.linear2(x)\n",
    "    return x\n"
   ]
  },
  {
   "cell_type": "code",
   "execution_count": null,
   "metadata": {
    "colab": {
     "base_uri": "https://localhost:8080/"
    },
    "executionInfo": {
     "elapsed": 11,
     "status": "ok",
     "timestamp": 1637554381870,
     "user": {
      "displayName": "ryosuke OKUSHI",
      "photoUrl": "https://lh3.googleusercontent.com/a/default-user=s64",
      "userId": "14294643458702657930"
     },
     "user_tz": -540
    },
    "id": "njc3MDalqejp",
    "outputId": "adbfdfae-dd1b-4408-8b47-41d627cd1419"
   },
   "outputs": [
    {
     "name": "stdout",
     "output_type": "stream",
     "text": [
      "Device: cpu\n"
     ]
    }
   ],
   "source": [
    "## パラメータ表示\n",
    "#ハイパーパラメータ\n",
    "D_in = 4#入力次元\n",
    "H = 100#隠れ層次元\n",
    "D_out = 3#出力次元\n",
    "epoch = 10#学習回数\n",
    "## デバイスの指定\n",
    "device = torch.device('cuda' if torch.cuda.is_available() else 'cpu')\n",
    "## ネットワーク実行\n",
    "net = Net(D_in, H, D_out).to(device)\n",
    "print(\"Device: {}\".format(device))"
   ]
  },
  {
   "cell_type": "code",
   "execution_count": null,
   "metadata": {
    "id": "lGKJUP7bpnVl"
   },
   "outputs": [],
   "source": [
    "\n",
    "#使用する損失関数の定義\n",
    "criterion = nn.CrossEntropyLoss()\n",
    "#使用する最適化関数の定義\n",
    "optimizer = optim.Adam(net.parameters())\n"
   ]
  },
  {
   "cell_type": "code",
   "execution_count": null,
   "metadata": {
    "colab": {
     "base_uri": "https://localhost:8080/"
    },
    "executionInfo": {
     "elapsed": 20422,
     "status": "ok",
     "timestamp": 1637554402284,
     "user": {
      "displayName": "ryosuke OKUSHI",
      "photoUrl": "https://lh3.googleusercontent.com/a/default-user=s64",
      "userId": "14294643458702657930"
     },
     "user_tz": -540
    },
    "id": "3VgU2QR0qUvO",
    "outputId": "e3381840-80e8-4a30-a066-b7fca4281fc2"
   },
   "outputs": [
    {
     "name": "stdout",
     "output_type": "stream",
     "text": [
      "--------\n",
      "Epoch: 1/100\n",
      "Train_Loss: 1.0194 Train_Accuracy: 0.4917\n",
      "Test_Loss: 0.8445 Test_Accuracy: 0.8000\n",
      "--------\n",
      "Epoch: 2/100\n",
      "Train_Loss: 0.8138 Train_Accuracy: 0.6667\n",
      "Test_Loss: 0.6959 Test_Accuracy: 0.7000\n",
      "--------\n",
      "Epoch: 3/100\n",
      "Train_Loss: 0.6844 Train_Accuracy: 0.7417\n",
      "Test_Loss: 0.5646 Test_Accuracy: 0.9000\n",
      "--------\n",
      "Epoch: 4/100\n",
      "Train_Loss: 0.6096 Train_Accuracy: 0.7083\n",
      "Test_Loss: 0.4862 Test_Accuracy: 0.9667\n",
      "--------\n",
      "Epoch: 5/100\n",
      "Train_Loss: 0.5445 Train_Accuracy: 0.8250\n",
      "Test_Loss: 0.4706 Test_Accuracy: 0.6667\n",
      "--------\n",
      "Epoch: 6/100\n",
      "Train_Loss: 0.4977 Train_Accuracy: 0.7750\n",
      "Test_Loss: 0.3927 Test_Accuracy: 0.9667\n",
      "--------\n",
      "Epoch: 7/100\n",
      "Train_Loss: 0.4629 Train_Accuracy: 0.8667\n",
      "Test_Loss: 0.3922 Test_Accuracy: 0.7667\n",
      "--------\n",
      "Epoch: 8/100\n",
      "Train_Loss: 0.4363 Train_Accuracy: 0.8833\n",
      "Test_Loss: 0.3513 Test_Accuracy: 0.9667\n",
      "--------\n",
      "Epoch: 9/100\n",
      "Train_Loss: 0.4139 Train_Accuracy: 0.9083\n",
      "Test_Loss: 0.3327 Test_Accuracy: 0.9667\n",
      "--------\n",
      "Epoch: 10/100\n",
      "Train_Loss: 0.3988 Train_Accuracy: 0.9500\n",
      "Test_Loss: 0.3216 Test_Accuracy: 0.9333\n",
      "--------\n",
      "Epoch: 11/100\n",
      "Train_Loss: 0.3789 Train_Accuracy: 0.8917\n",
      "Test_Loss: 0.2929 Test_Accuracy: 1.0000\n",
      "--------\n",
      "Epoch: 12/100\n",
      "Train_Loss: 0.3665 Train_Accuracy: 0.8917\n",
      "Test_Loss: 0.3517 Test_Accuracy: 0.7333\n",
      "--------\n",
      "Epoch: 13/100\n",
      "Train_Loss: 0.3548 Train_Accuracy: 0.8833\n",
      "Test_Loss: 0.2807 Test_Accuracy: 0.9667\n",
      "--------\n",
      "Epoch: 14/100\n",
      "Train_Loss: 0.3343 Train_Accuracy: 0.9750\n",
      "Test_Loss: 0.2660 Test_Accuracy: 1.0000\n",
      "--------\n",
      "Epoch: 15/100\n",
      "Train_Loss: 0.3249 Train_Accuracy: 0.9167\n",
      "Test_Loss: 0.2457 Test_Accuracy: 1.0000\n",
      "--------\n",
      "Epoch: 16/100\n",
      "Train_Loss: 0.3071 Train_Accuracy: 0.9583\n",
      "Test_Loss: 0.2543 Test_Accuracy: 0.9667\n",
      "--------\n",
      "Epoch: 17/100\n",
      "Train_Loss: 0.3078 Train_Accuracy: 0.9167\n",
      "Test_Loss: 0.2259 Test_Accuracy: 0.9333\n",
      "--------\n",
      "Epoch: 18/100\n",
      "Train_Loss: 0.2943 Train_Accuracy: 0.9667\n",
      "Test_Loss: 0.2399 Test_Accuracy: 0.9667\n",
      "--------\n",
      "Epoch: 19/100\n",
      "Train_Loss: 0.2708 Train_Accuracy: 0.9750\n",
      "Test_Loss: 0.2209 Test_Accuracy: 0.9667\n",
      "--------\n",
      "Epoch: 20/100\n",
      "Train_Loss: 0.2757 Train_Accuracy: 0.9500\n",
      "Test_Loss: 0.2544 Test_Accuracy: 0.8667\n",
      "--------\n",
      "Epoch: 21/100\n",
      "Train_Loss: 0.2733 Train_Accuracy: 0.9167\n",
      "Test_Loss: 0.2512 Test_Accuracy: 0.8667\n",
      "--------\n",
      "Epoch: 22/100\n",
      "Train_Loss: 0.2398 Train_Accuracy: 0.9583\n",
      "Test_Loss: 0.1886 Test_Accuracy: 1.0000\n",
      "--------\n",
      "Epoch: 23/100\n",
      "Train_Loss: 0.2485 Train_Accuracy: 0.9583\n",
      "Test_Loss: 0.2612 Test_Accuracy: 0.8667\n",
      "--------\n",
      "Epoch: 24/100\n",
      "Train_Loss: 0.2486 Train_Accuracy: 0.9583\n",
      "Test_Loss: 0.1857 Test_Accuracy: 0.9667\n",
      "--------\n",
      "Epoch: 25/100\n",
      "Train_Loss: 0.2175 Train_Accuracy: 0.9667\n",
      "Test_Loss: 0.1921 Test_Accuracy: 0.9667\n",
      "--------\n",
      "Epoch: 26/100\n",
      "Train_Loss: 0.2176 Train_Accuracy: 0.9750\n",
      "Test_Loss: 0.1645 Test_Accuracy: 1.0000\n",
      "--------\n",
      "Epoch: 27/100\n",
      "Train_Loss: 0.2097 Train_Accuracy: 0.9750\n",
      "Test_Loss: 0.1760 Test_Accuracy: 0.9667\n",
      "--------\n",
      "Epoch: 28/100\n",
      "Train_Loss: 0.2011 Train_Accuracy: 0.9667\n",
      "Test_Loss: 0.1583 Test_Accuracy: 1.0000\n",
      "--------\n",
      "Epoch: 29/100\n",
      "Train_Loss: 0.1964 Train_Accuracy: 0.9750\n",
      "Test_Loss: 0.1545 Test_Accuracy: 1.0000\n",
      "--------\n",
      "Epoch: 30/100\n",
      "Train_Loss: 0.1894 Train_Accuracy: 0.9750\n",
      "Test_Loss: 0.1620 Test_Accuracy: 0.9667\n",
      "--------\n",
      "Epoch: 31/100\n",
      "Train_Loss: 0.1849 Train_Accuracy: 0.9750\n",
      "Test_Loss: 0.1618 Test_Accuracy: 0.9667\n",
      "--------\n",
      "Epoch: 32/100\n",
      "Train_Loss: 0.1865 Train_Accuracy: 0.9583\n",
      "Test_Loss: 0.1387 Test_Accuracy: 0.9667\n",
      "--------\n",
      "Epoch: 33/100\n",
      "Train_Loss: 0.1856 Train_Accuracy: 0.9833\n",
      "Test_Loss: 0.1567 Test_Accuracy: 0.9667\n",
      "--------\n",
      "Epoch: 34/100\n",
      "Train_Loss: 0.1690 Train_Accuracy: 0.9667\n",
      "Test_Loss: 0.1369 Test_Accuracy: 0.9667\n",
      "--------\n",
      "Epoch: 35/100\n",
      "Train_Loss: 0.1671 Train_Accuracy: 0.9833\n",
      "Test_Loss: 0.1589 Test_Accuracy: 0.9333\n",
      "--------\n",
      "Epoch: 36/100\n",
      "Train_Loss: 0.1689 Train_Accuracy: 0.9667\n",
      "Test_Loss: 0.1337 Test_Accuracy: 0.9667\n",
      "--------\n",
      "Epoch: 37/100\n",
      "Train_Loss: 0.1604 Train_Accuracy: 0.9667\n",
      "Test_Loss: 0.1205 Test_Accuracy: 1.0000\n",
      "--------\n",
      "Epoch: 38/100\n",
      "Train_Loss: 0.1605 Train_Accuracy: 0.9750\n",
      "Test_Loss: 0.1314 Test_Accuracy: 0.9667\n",
      "--------\n",
      "Epoch: 39/100\n",
      "Train_Loss: 0.1511 Train_Accuracy: 0.9750\n",
      "Test_Loss: 0.1477 Test_Accuracy: 0.9333\n",
      "--------\n",
      "Epoch: 40/100\n",
      "Train_Loss: 0.1639 Train_Accuracy: 0.9500\n",
      "Test_Loss: 0.1130 Test_Accuracy: 1.0000\n",
      "--------\n",
      "Epoch: 41/100\n",
      "Train_Loss: 0.1462 Train_Accuracy: 0.9667\n",
      "Test_Loss: 0.1198 Test_Accuracy: 0.9667\n",
      "--------\n",
      "Epoch: 42/100\n",
      "Train_Loss: 0.1402 Train_Accuracy: 0.9833\n",
      "Test_Loss: 0.1163 Test_Accuracy: 0.9667\n",
      "--------\n",
      "Epoch: 43/100\n",
      "Train_Loss: 0.1365 Train_Accuracy: 0.9833\n",
      "Test_Loss: 0.1261 Test_Accuracy: 0.9667\n",
      "--------\n",
      "Epoch: 44/100\n",
      "Train_Loss: 0.1352 Train_Accuracy: 0.9750\n",
      "Test_Loss: 0.1134 Test_Accuracy: 0.9667\n",
      "--------\n",
      "Epoch: 45/100\n",
      "Train_Loss: 0.1355 Train_Accuracy: 0.9833\n",
      "Test_Loss: 0.1150 Test_Accuracy: 0.9667\n",
      "--------\n",
      "Epoch: 46/100\n",
      "Train_Loss: 0.1336 Train_Accuracy: 0.9750\n",
      "Test_Loss: 0.1110 Test_Accuracy: 0.9667\n",
      "--------\n",
      "Epoch: 47/100\n",
      "Train_Loss: 0.1321 Train_Accuracy: 0.9833\n",
      "Test_Loss: 0.0979 Test_Accuracy: 1.0000\n",
      "--------\n",
      "Epoch: 48/100\n",
      "Train_Loss: 0.1299 Train_Accuracy: 0.9583\n",
      "Test_Loss: 0.1229 Test_Accuracy: 0.9667\n",
      "--------\n",
      "Epoch: 49/100\n",
      "Train_Loss: 0.1257 Train_Accuracy: 0.9750\n",
      "Test_Loss: 0.1093 Test_Accuracy: 0.9667\n",
      "--------\n",
      "Epoch: 50/100\n",
      "Train_Loss: 0.1273 Train_Accuracy: 0.9833\n",
      "Test_Loss: 0.0934 Test_Accuracy: 1.0000\n",
      "--------\n",
      "Epoch: 51/100\n",
      "Train_Loss: 0.1242 Train_Accuracy: 0.9750\n",
      "Test_Loss: 0.1001 Test_Accuracy: 0.9667\n",
      "--------\n",
      "Epoch: 52/100\n",
      "Train_Loss: 0.1208 Train_Accuracy: 0.9667\n",
      "Test_Loss: 0.1237 Test_Accuracy: 0.9333\n",
      "--------\n",
      "Epoch: 53/100\n",
      "Train_Loss: 0.1185 Train_Accuracy: 0.9667\n",
      "Test_Loss: 0.0927 Test_Accuracy: 0.9667\n",
      "--------\n",
      "Epoch: 54/100\n",
      "Train_Loss: 0.1177 Train_Accuracy: 0.9833\n",
      "Test_Loss: 0.1167 Test_Accuracy: 0.9667\n",
      "--------\n",
      "Epoch: 55/100\n",
      "Train_Loss: 0.1231 Train_Accuracy: 0.9750\n",
      "Test_Loss: 0.1031 Test_Accuracy: 0.9667\n",
      "--------\n",
      "Epoch: 56/100\n",
      "Train_Loss: 0.1133 Train_Accuracy: 0.9750\n",
      "Test_Loss: 0.0957 Test_Accuracy: 0.9667\n",
      "--------\n",
      "Epoch: 57/100\n",
      "Train_Loss: 0.1087 Train_Accuracy: 0.9833\n",
      "Test_Loss: 0.1029 Test_Accuracy: 0.9667\n",
      "--------\n",
      "Epoch: 58/100\n",
      "Train_Loss: 0.1109 Train_Accuracy: 0.9750\n",
      "Test_Loss: 0.0866 Test_Accuracy: 0.9667\n",
      "--------\n",
      "Epoch: 59/100\n",
      "Train_Loss: 0.1086 Train_Accuracy: 0.9750\n",
      "Test_Loss: 0.1225 Test_Accuracy: 0.9333\n",
      "--------\n",
      "Epoch: 60/100\n",
      "Train_Loss: 0.1144 Train_Accuracy: 0.9750\n",
      "Test_Loss: 0.0935 Test_Accuracy: 0.9667\n",
      "--------\n",
      "Epoch: 61/100\n",
      "Train_Loss: 0.1033 Train_Accuracy: 0.9833\n",
      "Test_Loss: 0.0931 Test_Accuracy: 0.9667\n",
      "--------\n",
      "Epoch: 62/100\n",
      "Train_Loss: 0.1005 Train_Accuracy: 0.9750\n",
      "Test_Loss: 0.0822 Test_Accuracy: 0.9667\n",
      "--------\n",
      "Epoch: 63/100\n",
      "Train_Loss: 0.1043 Train_Accuracy: 0.9750\n",
      "Test_Loss: 0.0926 Test_Accuracy: 0.9667\n",
      "--------\n",
      "Epoch: 64/100\n",
      "Train_Loss: 0.1002 Train_Accuracy: 0.9583\n",
      "Test_Loss: 0.0859 Test_Accuracy: 0.9667\n",
      "--------\n",
      "Epoch: 65/100\n",
      "Train_Loss: 0.1021 Train_Accuracy: 0.9667\n",
      "Test_Loss: 0.0761 Test_Accuracy: 1.0000\n",
      "--------\n",
      "Epoch: 66/100\n",
      "Train_Loss: 0.1023 Train_Accuracy: 0.9917\n",
      "Test_Loss: 0.0813 Test_Accuracy: 0.9667\n",
      "--------\n",
      "Epoch: 67/100\n",
      "Train_Loss: 0.0954 Train_Accuracy: 0.9833\n",
      "Test_Loss: 0.0859 Test_Accuracy: 0.9667\n",
      "--------\n",
      "Epoch: 68/100\n",
      "Train_Loss: 0.0945 Train_Accuracy: 0.9917\n",
      "Test_Loss: 0.0802 Test_Accuracy: 0.9667\n",
      "--------\n",
      "Epoch: 69/100\n",
      "Train_Loss: 0.0919 Train_Accuracy: 0.9833\n",
      "Test_Loss: 0.0957 Test_Accuracy: 0.9667\n",
      "--------\n",
      "Epoch: 70/100\n",
      "Train_Loss: 0.0944 Train_Accuracy: 0.9833\n",
      "Test_Loss: 0.0877 Test_Accuracy: 0.9667\n",
      "--------\n",
      "Epoch: 71/100\n",
      "Train_Loss: 0.0987 Train_Accuracy: 0.9833\n",
      "Test_Loss: 0.0910 Test_Accuracy: 0.9667\n",
      "--------\n",
      "Epoch: 72/100\n",
      "Train_Loss: 0.0962 Train_Accuracy: 0.9833\n",
      "Test_Loss: 0.1061 Test_Accuracy: 0.9333\n",
      "--------\n",
      "Epoch: 73/100\n",
      "Train_Loss: 0.0977 Train_Accuracy: 0.9750\n",
      "Test_Loss: 0.0670 Test_Accuracy: 1.0000\n",
      "--------\n",
      "Epoch: 74/100\n",
      "Train_Loss: 0.0947 Train_Accuracy: 0.9750\n",
      "Test_Loss: 0.0716 Test_Accuracy: 0.9667\n",
      "--------\n",
      "Epoch: 75/100\n",
      "Train_Loss: 0.0916 Train_Accuracy: 0.9833\n",
      "Test_Loss: 0.0897 Test_Accuracy: 0.9667\n",
      "--------\n",
      "Epoch: 76/100\n",
      "Train_Loss: 0.0918 Train_Accuracy: 0.9917\n",
      "Test_Loss: 0.0766 Test_Accuracy: 0.9667\n",
      "--------\n",
      "Epoch: 77/100\n",
      "Train_Loss: 0.0874 Train_Accuracy: 0.9750\n",
      "Test_Loss: 0.0806 Test_Accuracy: 0.9667\n",
      "--------\n",
      "Epoch: 78/100\n",
      "Train_Loss: 0.0880 Train_Accuracy: 0.9833\n",
      "Test_Loss: 0.0786 Test_Accuracy: 0.9667\n",
      "--------\n",
      "Epoch: 79/100\n",
      "Train_Loss: 0.0880 Train_Accuracy: 0.9833\n",
      "Test_Loss: 0.0790 Test_Accuracy: 0.9667\n",
      "--------\n",
      "Epoch: 80/100\n",
      "Train_Loss: 0.0948 Train_Accuracy: 0.9667\n",
      "Test_Loss: 0.0803 Test_Accuracy: 0.9667\n",
      "--------\n",
      "Epoch: 81/100\n",
      "Train_Loss: 0.0847 Train_Accuracy: 0.9833\n",
      "Test_Loss: 0.0753 Test_Accuracy: 0.9667\n",
      "--------\n",
      "Epoch: 82/100\n",
      "Train_Loss: 0.0851 Train_Accuracy: 0.9833\n",
      "Test_Loss: 0.0850 Test_Accuracy: 0.9667\n",
      "--------\n",
      "Epoch: 83/100\n",
      "Train_Loss: 0.0835 Train_Accuracy: 0.9833\n",
      "Test_Loss: 0.0693 Test_Accuracy: 0.9667\n",
      "--------\n",
      "Epoch: 84/100\n",
      "Train_Loss: 0.0881 Train_Accuracy: 0.9750\n",
      "Test_Loss: 0.0668 Test_Accuracy: 0.9667\n",
      "--------\n",
      "Epoch: 85/100\n",
      "Train_Loss: 0.0866 Train_Accuracy: 0.9833\n",
      "Test_Loss: 0.0744 Test_Accuracy: 0.9667\n",
      "--------\n",
      "Epoch: 86/100\n",
      "Train_Loss: 0.0821 Train_Accuracy: 0.9833\n",
      "Test_Loss: 0.0644 Test_Accuracy: 0.9667\n",
      "--------\n",
      "Epoch: 87/100\n",
      "Train_Loss: 0.0813 Train_Accuracy: 0.9833\n",
      "Test_Loss: 0.0807 Test_Accuracy: 0.9667\n",
      "--------\n",
      "Epoch: 88/100\n",
      "Train_Loss: 0.0802 Train_Accuracy: 0.9833\n",
      "Test_Loss: 0.0660 Test_Accuracy: 0.9667\n",
      "--------\n",
      "Epoch: 89/100\n",
      "Train_Loss: 0.0818 Train_Accuracy: 0.9833\n",
      "Test_Loss: 0.0898 Test_Accuracy: 0.9667\n",
      "--------\n",
      "Epoch: 90/100\n",
      "Train_Loss: 0.0832 Train_Accuracy: 0.9833\n",
      "Test_Loss: 0.0802 Test_Accuracy: 0.9667\n",
      "--------\n",
      "Epoch: 91/100\n",
      "Train_Loss: 0.0805 Train_Accuracy: 0.9833\n",
      "Test_Loss: 0.0620 Test_Accuracy: 0.9667\n",
      "--------\n",
      "Epoch: 92/100\n",
      "Train_Loss: 0.0955 Train_Accuracy: 0.9667\n",
      "Test_Loss: 0.0582 Test_Accuracy: 1.0000\n",
      "--------\n",
      "Epoch: 93/100\n",
      "Train_Loss: 0.0911 Train_Accuracy: 0.9750\n",
      "Test_Loss: 0.0916 Test_Accuracy: 0.9667\n",
      "--------\n",
      "Epoch: 94/100\n",
      "Train_Loss: 0.0820 Train_Accuracy: 0.9833\n",
      "Test_Loss: 0.0630 Test_Accuracy: 0.9667\n",
      "--------\n",
      "Epoch: 95/100\n",
      "Train_Loss: 0.0776 Train_Accuracy: 0.9750\n",
      "Test_Loss: 0.0679 Test_Accuracy: 0.9667\n",
      "--------\n",
      "Epoch: 96/100\n",
      "Train_Loss: 0.0801 Train_Accuracy: 0.9833\n",
      "Test_Loss: 0.0595 Test_Accuracy: 1.0000\n",
      "--------\n",
      "Epoch: 97/100\n",
      "Train_Loss: 0.0823 Train_Accuracy: 0.9833\n",
      "Test_Loss: 0.0700 Test_Accuracy: 0.9667\n",
      "--------\n",
      "Epoch: 98/100\n",
      "Train_Loss: 0.0769 Train_Accuracy: 0.9833\n",
      "Test_Loss: 0.0657 Test_Accuracy: 0.9667\n",
      "--------\n",
      "Epoch: 99/100\n",
      "Train_Loss: 0.0835 Train_Accuracy: 0.9667\n",
      "Test_Loss: 0.1085 Test_Accuracy: 0.9333\n",
      "--------\n",
      "Epoch: 100/100\n",
      "Train_Loss: 0.0829 Train_Accuracy: 0.9667\n",
      "Test_Loss: 0.0562 Test_Accuracy: 1.0000\n"
     ]
    }
   ],
   "source": [
    "\n",
    "## 学習に必要な空リストを作成\n",
    "train_loss_list = []#学習損失\n",
    "train_accuracy_list = []#学習データ正解率\n",
    "test_loss_list = []#評価損失\n",
    "test_accuracy_list = []#テストデータの正答率\n",
    "\n",
    "\n",
    "\n",
    "#学習の実行\n",
    "for I in range(epoch):\n",
    "    #学習の進行状況を表示\n",
    "    print('--------')\n",
    "    print(\"Epoch: {}/{}\".format(I + 1, epoch))\n",
    "    #損失と正解率の初期化\n",
    "    train_loss = 0#学習損失\n",
    "    train_accuracy = 0#学習データの正答数\n",
    "    test_loss = 0#評価損失\n",
    "    test_accuracy = 0#テストデータの正答数\n",
    "    #学習モードに設定\n",
    "    net.train()\n",
    "    #ミニバッチごとにデータをロードして学習\n",
    "    for data, label in train_batch:\n",
    "        data = data.to(device)\n",
    "        label = label.to(device)\n",
    "        #勾配を初期化\n",
    "        optimizer.zero_grad()\n",
    "        #データを入力して予測値を計算\n",
    "        y_pred_prob = net(data)\n",
    "        #損失を計算\n",
    "        loss = criterion(y_pred_prob, label)\n",
    "        #勾配を計算\n",
    "        loss.backward()\n",
    "        #パラメータの更新\n",
    "        optimizer.step()\n",
    "        #ミニバッチごとの損失を蓄積\n",
    "        train_loss += loss.item()\n",
    "        #予測したラベルを予測確率から計算\n",
    "        y_pred_label = torch.max(y_pred_prob, 1)[1]\n",
    "        #ミニバッチごとに正解したラベル数をカウント\n",
    "        train_accuracy += torch.sum(y_pred_label == label).item() / len(label)\n",
    "    #ミニバッチの平均の損失と正解率を計算\n",
    "    batch_train_loss = train_loss / len(train_batch)\n",
    "    batch_train_accuracy = train_accuracy / len(train_batch)\n",
    "    #評価モードに設定\n",
    "    net.eval()\n",
    "    #評価時に自動微分をゼロにする\n",
    "    with torch.no_grad():\n",
    "        for data, label in test_batch:\n",
    "            data = data.to(device)\n",
    "            label = label.to(device)\n",
    "            #データを入力して予測値を計算\n",
    "            y_pred_prob = net(data)\n",
    "            #損失を計算\n",
    "            loss = criterion(y_pred_prob, label)\n",
    "            #ミニバッチごとの損失を備蓄\n",
    "            test_loss += loss.item()\n",
    "            #予測したラベルを予測確率から計算\n",
    "            y_pred_label = torch.max(y_pred_prob, 1)[1]\n",
    "            #ミニバッチごとに正解したラベル数をカウント\n",
    "            test_accuracy += torch.sum(y_pred_label == label).item() / len(label)\n",
    "    #ミニバッチの平均の損失と正解率を計算\n",
    "    batch_test_loss = test_loss / len(test_batch)\n",
    "    batch_test_accuracy = test_accuracy / len(test_batch)\n",
    "\n",
    "    #エポックごとに損失と正解率を表示\n",
    "    print(\"Train_Loss: {:.4f} Train_Accuracy: {:.4f}\".format(batch_train_loss, batch_train_accuracy))\n",
    "    print(\"Test_Loss: {:.4f} Test_Accuracy: {:.4f}\".format(batch_test_loss, batch_test_accuracy))\n",
    "\n",
    "\n",
    "\n",
    "    #損失と正解率をリスト化して保存\n",
    "    train_loss_list.append(batch_train_loss)\n",
    "    train_accuracy_list.append(batch_train_accuracy)\n",
    "    test_loss_list.append(batch_test_loss)\n",
    "    test_accuracy_list.append(batch_test_accuracy)"
   ]
  },
  {
   "cell_type": "code",
   "execution_count": null,
   "metadata": {
    "colab": {
     "base_uri": "https://localhost:8080/",
     "height": 573
    },
    "executionInfo": {
     "elapsed": 693,
     "status": "ok",
     "timestamp": 1637554402939,
     "user": {
      "displayName": "ryosuke OKUSHI",
      "photoUrl": "https://lh3.googleusercontent.com/a/default-user=s64",
      "userId": "14294643458702657930"
     },
     "user_tz": -540
    },
    "id": "U7YGKzV_qv-b",
    "outputId": "f6b8e595-d65a-4ece-f557-60116a72a9b3"
   },
   "outputs": [
    {
     "data": {
      "image/png": "[encoded data removed]",
      "text/plain": [
       "<Figure size 432x288 with 1 Axes>"
      ]
     },
     "metadata": {
      "needs_background": "light"
     },
     "output_type": "display_data"
    },
    {
     "data": {
      "image/png": "[encoded data removed]",
      "text/plain": [
       "<Figure size 432x288 with 1 Axes>"
      ]
     },
     "metadata": {
      "needs_background": "light"
     },
     "output_type": "display_data"
    }
   ],
   "source": [
    "\n",
    "\n",
    "plt.figure()\n",
    "plt.title('Train and Test Loss')\n",
    "plt.xlabel('Epoch')\n",
    "plt.ylabel('Loss')\n",
    "plt.plot(range(1, epoch+1), train_loss_list, color='blue',linestyle='-', label='Train_Loss')\n",
    "plt.plot(range(1, epoch+1), test_loss_list, color='red', linestyle='--', label='Test_Loss')\n",
    "plt.legend()\n",
    "\n",
    "plt.figure()\n",
    "plt.title('Train and Test Accuracy')\n",
    "plt.xlabel('Epoch')\n",
    "plt.ylabel('Accuracy')\n",
    "plt.plot(range(1, epoch+1), train_accuracy_list, color='blue', linestyle='-', label='Test_Accuracy')\n",
    "plt.plot(range(1, epoch+1), test_accuracy_list, color='red', linestyle='--', label='Test_Accuracy')\n",
    "plt.legend()\n",
    "\n",
    "plt.show()"
   ]
  },
  {
   "cell_type": "code",
   "execution_count": null,
   "metadata": {
    "id": "-1VQU3MNxdss"
   },
   "outputs": [],
   "source": []
  }
 ],
 "metadata": {
  "colab": {
   "authorship_tag": "ABX9TyNye13N1AmXeZBxS2F7OvLE",
   "collapsed_sections": [],
   "name": "Linear_Iris.ipynb",
   "provenance": []
  },
  "kernelspec": {
   "display_name": "Python 3.8.8 ('py38')",
   "language": "python",
   "name": "python3"
  },
  "language_info": {
   "name": "python",
   "version": "3.8.8"
  },
  "vscode": {
   "interpreter": {
    "hash": "32b9c20829289ef5e151da5ec4bd3bfb0e226a45af99fafcd8f65e320b46c615"
   }
  }
 },
 "nbformat": 4,
 "nbformat_minor": 0
}

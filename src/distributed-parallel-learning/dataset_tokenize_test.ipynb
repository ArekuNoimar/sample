{
  "cells": [
    {
      "cell_type": "code",
      "execution_count": 1,
      "metadata": {},
      "outputs": [
        {
          "name": "stdout",
          "output_type": "stream",
          "text": [
            "パッケージリストを読み込んでいます... 完了0%\n",
            "依存関係ツリーを作成しています... 完了%         \n",
            "状態情報を読み取っています... 完了          \n",
            "mpich はすでに最新バージョン (4.0-3) です。\n",
            "アップグレード: 0 個、新規インストール: 0 個、削除: 0 個、保留: 24 個。\n"
          ]
        }
      ],
      "source": [
        "password = input(\"Enter the password: \")\n",
        "!echo {password} | sudo -S apt-get install mpich -y"
      ]
    },
    {
      "cell_type": "code",
      "execution_count": 2,
      "metadata": {
        "colab": {
          "base_uri": "https://localhost:8080/",
          "height": 1000
        },
        "id": "2-4fmBm3eEUu",
        "outputId": "091130b4-59ff-4618-f4be-60020d408389"
      },
      "outputs": [
        {
          "name": "stdout",
          "output_type": "stream",
          "text": [
            "Looking in indexes: https://download.pytorch.org/whl/cu124\n",
            "Requirement already satisfied: torch in /home/ubuntu/python_project/sample/.venv/lib/python3.10/site-packages (2.6.0+cu124)\n",
            "Requirement already satisfied: torchvision in /home/ubuntu/python_project/sample/.venv/lib/python3.10/site-packages (0.21.0+cu124)\n",
            "Requirement already satisfied: torchaudio in /home/ubuntu/python_project/sample/.venv/lib/python3.10/site-packages (2.6.0+cu124)\n",
            "Requirement already satisfied: networkx in /home/ubuntu/python_project/sample/.venv/lib/python3.10/site-packages (from torch) (3.3)\n",
            "Requirement already satisfied: nvidia-cusparse-cu12==12.3.1.170 in /home/ubuntu/python_project/sample/.venv/lib/python3.10/site-packages (from torch) (12.3.1.170)\n",
            "Requirement already satisfied: nvidia-nvjitlink-cu12==12.4.127 in /home/ubuntu/python_project/sample/.venv/lib/python3.10/site-packages (from torch) (12.4.127)\n",
            "Requirement already satisfied: nvidia-cufft-cu12==11.2.1.3 in /home/ubuntu/python_project/sample/.venv/lib/python3.10/site-packages (from torch) (11.2.1.3)\n",
            "Requirement already satisfied: typing-extensions>=4.10.0 in /home/ubuntu/python_project/sample/.venv/lib/python3.10/site-packages (from torch) (4.14.0)\n",
            "Requirement already satisfied: nvidia-cudnn-cu12==9.1.0.70 in /home/ubuntu/python_project/sample/.venv/lib/python3.10/site-packages (from torch) (9.1.0.70)\n",
            "Requirement already satisfied: nvidia-cusolver-cu12==11.6.1.9 in /home/ubuntu/python_project/sample/.venv/lib/python3.10/site-packages (from torch) (11.6.1.9)\n",
            "Requirement already satisfied: fsspec in /home/ubuntu/python_project/sample/.venv/lib/python3.10/site-packages (from torch) (2024.6.1)\n",
            "Requirement already satisfied: nvidia-cuda-cupti-cu12==12.4.127 in /home/ubuntu/python_project/sample/.venv/lib/python3.10/site-packages (from torch) (12.4.127)\n",
            "Requirement already satisfied: nvidia-cusparselt-cu12==0.6.2 in /home/ubuntu/python_project/sample/.venv/lib/python3.10/site-packages (from torch) (0.6.2)\n",
            "Requirement already satisfied: nvidia-cuda-nvrtc-cu12==12.4.127 in /home/ubuntu/python_project/sample/.venv/lib/python3.10/site-packages (from torch) (12.4.127)\n",
            "Requirement already satisfied: filelock in /home/ubuntu/python_project/sample/.venv/lib/python3.10/site-packages (from torch) (3.13.1)\n",
            "Requirement already satisfied: sympy==1.13.1 in /home/ubuntu/python_project/sample/.venv/lib/python3.10/site-packages (from torch) (1.13.1)\n",
            "Requirement already satisfied: jinja2 in /home/ubuntu/python_project/sample/.venv/lib/python3.10/site-packages (from torch) (3.1.4)\n",
            "Requirement already satisfied: nvidia-nvtx-cu12==12.4.127 in /home/ubuntu/python_project/sample/.venv/lib/python3.10/site-packages (from torch) (12.4.127)\n",
            "Requirement already satisfied: triton==3.2.0 in /home/ubuntu/python_project/sample/.venv/lib/python3.10/site-packages (from torch) (3.2.0)\n",
            "Requirement already satisfied: nvidia-cublas-cu12==12.4.5.8 in /home/ubuntu/python_project/sample/.venv/lib/python3.10/site-packages (from torch) (12.4.5.8)\n",
            "Requirement already satisfied: nvidia-curand-cu12==10.3.5.147 in /home/ubuntu/python_project/sample/.venv/lib/python3.10/site-packages (from torch) (10.3.5.147)\n",
            "Requirement already satisfied: nvidia-cuda-runtime-cu12==12.4.127 in /home/ubuntu/python_project/sample/.venv/lib/python3.10/site-packages (from torch) (12.4.127)\n",
            "Requirement already satisfied: nvidia-nccl-cu12==2.21.5 in /home/ubuntu/python_project/sample/.venv/lib/python3.10/site-packages (from torch) (2.21.5)\n",
            "Requirement already satisfied: mpmath<1.4,>=1.1.0 in /home/ubuntu/python_project/sample/.venv/lib/python3.10/site-packages (from sympy==1.13.1->torch) (1.3.0)\n",
            "Requirement already satisfied: pillow!=8.3.*,>=5.3.0 in /home/ubuntu/python_project/sample/.venv/lib/python3.10/site-packages (from torchvision) (11.0.0)\n",
            "Requirement already satisfied: numpy in /home/ubuntu/python_project/sample/.venv/lib/python3.10/site-packages (from torchvision) (1.26.4)\n",
            "Requirement already satisfied: MarkupSafe>=2.0 in /home/ubuntu/python_project/sample/.venv/lib/python3.10/site-packages (from jinja2->torch) (2.1.5)\n",
            "Requirement already satisfied: transformers==4.51.3 in /home/ubuntu/python_project/sample/.venv/lib/python3.10/site-packages (4.51.3)\n",
            "Requirement already satisfied: numpy>=1.17 in /home/ubuntu/python_project/sample/.venv/lib/python3.10/site-packages (from transformers==4.51.3) (1.26.4)\n",
            "Requirement already satisfied: requests in /home/ubuntu/python_project/sample/.venv/lib/python3.10/site-packages (from transformers==4.51.3) (2.32.4)\n",
            "Requirement already satisfied: filelock in /home/ubuntu/python_project/sample/.venv/lib/python3.10/site-packages (from transformers==4.51.3) (3.13.1)\n",
            "Requirement already satisfied: safetensors>=0.4.3 in /home/ubuntu/python_project/sample/.venv/lib/python3.10/site-packages (from transformers==4.51.3) (0.5.3)\n",
            "Requirement already satisfied: tqdm>=4.27 in /home/ubuntu/python_project/sample/.venv/lib/python3.10/site-packages (from transformers==4.51.3) (4.67.1)\n",
            "Requirement already satisfied: tokenizers<0.22,>=0.21 in /home/ubuntu/python_project/sample/.venv/lib/python3.10/site-packages (from transformers==4.51.3) (0.21.1)\n",
            "Requirement already satisfied: packaging>=20.0 in /home/ubuntu/python_project/sample/.venv/lib/python3.10/site-packages (from transformers==4.51.3) (25.0)\n",
            "Requirement already satisfied: pyyaml>=5.1 in /home/ubuntu/python_project/sample/.venv/lib/python3.10/site-packages (from transformers==4.51.3) (6.0.2)\n",
            "Requirement already satisfied: regex!=2019.12.17 in /home/ubuntu/python_project/sample/.venv/lib/python3.10/site-packages (from transformers==4.51.3) (2024.11.6)\n",
            "Requirement already satisfied: huggingface-hub<1.0,>=0.30.0 in /home/ubuntu/python_project/sample/.venv/lib/python3.10/site-packages (from transformers==4.51.3) (0.30.2)\n",
            "Requirement already satisfied: fsspec>=2023.5.0 in /home/ubuntu/python_project/sample/.venv/lib/python3.10/site-packages (from huggingface-hub<1.0,>=0.30.0->transformers==4.51.3) (2024.6.1)\n",
            "Requirement already satisfied: typing-extensions>=3.7.4.3 in /home/ubuntu/python_project/sample/.venv/lib/python3.10/site-packages (from huggingface-hub<1.0,>=0.30.0->transformers==4.51.3) (4.14.0)\n",
            "Requirement already satisfied: charset_normalizer<4,>=2 in /home/ubuntu/python_project/sample/.venv/lib/python3.10/site-packages (from requests->transformers==4.51.3) (3.4.2)\n",
            "Requirement already satisfied: certifi>=2017.4.17 in /home/ubuntu/python_project/sample/.venv/lib/python3.10/site-packages (from requests->transformers==4.51.3) (2025.6.15)\n",
            "Requirement already satisfied: idna<4,>=2.5 in /home/ubuntu/python_project/sample/.venv/lib/python3.10/site-packages (from requests->transformers==4.51.3) (3.10)\n",
            "Requirement already satisfied: urllib3<3,>=1.21.1 in /home/ubuntu/python_project/sample/.venv/lib/python3.10/site-packages (from requests->transformers==4.51.3) (2.5.0)\n",
            "Requirement already satisfied: numpy==1.26.4 in /home/ubuntu/python_project/sample/.venv/lib/python3.10/site-packages (1.26.4)\n",
            "Requirement already satisfied: datasets==3.5.0 in /home/ubuntu/python_project/sample/.venv/lib/python3.10/site-packages (3.5.0)\n",
            "Requirement already satisfied: fsspec[http]<=2024.12.0,>=2023.1.0 in /home/ubuntu/python_project/sample/.venv/lib/python3.10/site-packages (from datasets==3.5.0) (2024.6.1)\n",
            "Requirement already satisfied: tqdm>=4.66.3 in /home/ubuntu/python_project/sample/.venv/lib/python3.10/site-packages (from datasets==3.5.0) (4.67.1)\n",
            "Requirement already satisfied: pandas in /home/ubuntu/python_project/sample/.venv/lib/python3.10/site-packages (from datasets==3.5.0) (2.2.3)\n",
            "Requirement already satisfied: numpy>=1.17 in /home/ubuntu/python_project/sample/.venv/lib/python3.10/site-packages (from datasets==3.5.0) (1.26.4)\n",
            "Requirement already satisfied: aiohttp in /home/ubuntu/python_project/sample/.venv/lib/python3.10/site-packages (from datasets==3.5.0) (3.12.13)\n",
            "Requirement already satisfied: pyyaml>=5.1 in /home/ubuntu/python_project/sample/.venv/lib/python3.10/site-packages (from datasets==3.5.0) (6.0.2)\n",
            "Requirement already satisfied: requests>=2.32.2 in /home/ubuntu/python_project/sample/.venv/lib/python3.10/site-packages (from datasets==3.5.0) (2.32.4)\n",
            "Requirement already satisfied: huggingface-hub>=0.24.0 in /home/ubuntu/python_project/sample/.venv/lib/python3.10/site-packages (from datasets==3.5.0) (0.30.2)\n",
            "Requirement already satisfied: multiprocess<0.70.17 in /home/ubuntu/python_project/sample/.venv/lib/python3.10/site-packages (from datasets==3.5.0) (0.70.16)\n",
            "Requirement already satisfied: filelock in /home/ubuntu/python_project/sample/.venv/lib/python3.10/site-packages (from datasets==3.5.0) (3.13.1)\n",
            "Requirement already satisfied: packaging in /home/ubuntu/python_project/sample/.venv/lib/python3.10/site-packages (from datasets==3.5.0) (25.0)\n",
            "Requirement already satisfied: xxhash in /home/ubuntu/python_project/sample/.venv/lib/python3.10/site-packages (from datasets==3.5.0) (3.5.0)\n",
            "Requirement already satisfied: pyarrow>=15.0.0 in /home/ubuntu/python_project/sample/.venv/lib/python3.10/site-packages (from datasets==3.5.0) (20.0.0)\n",
            "Requirement already satisfied: dill<0.3.9,>=0.3.0 in /home/ubuntu/python_project/sample/.venv/lib/python3.10/site-packages (from datasets==3.5.0) (0.3.8)\n",
            "Requirement already satisfied: aiohappyeyeballs>=2.5.0 in /home/ubuntu/python_project/sample/.venv/lib/python3.10/site-packages (from aiohttp->datasets==3.5.0) (2.6.1)\n",
            "Requirement already satisfied: attrs>=17.3.0 in /home/ubuntu/python_project/sample/.venv/lib/python3.10/site-packages (from aiohttp->datasets==3.5.0) (25.3.0)\n",
            "Requirement already satisfied: multidict<7.0,>=4.5 in /home/ubuntu/python_project/sample/.venv/lib/python3.10/site-packages (from aiohttp->datasets==3.5.0) (6.5.0)\n",
            "Requirement already satisfied: async-timeout<6.0,>=4.0 in /home/ubuntu/python_project/sample/.venv/lib/python3.10/site-packages (from aiohttp->datasets==3.5.0) (5.0.1)\n",
            "Requirement already satisfied: aiosignal>=1.1.2 in /home/ubuntu/python_project/sample/.venv/lib/python3.10/site-packages (from aiohttp->datasets==3.5.0) (1.3.2)\n",
            "Requirement already satisfied: yarl<2.0,>=1.17.0 in /home/ubuntu/python_project/sample/.venv/lib/python3.10/site-packages (from aiohttp->datasets==3.5.0) (1.20.1)\n",
            "Requirement already satisfied: frozenlist>=1.1.1 in /home/ubuntu/python_project/sample/.venv/lib/python3.10/site-packages (from aiohttp->datasets==3.5.0) (1.7.0)\n",
            "Requirement already satisfied: propcache>=0.2.0 in /home/ubuntu/python_project/sample/.venv/lib/python3.10/site-packages (from aiohttp->datasets==3.5.0) (0.3.2)\n",
            "Requirement already satisfied: typing-extensions>=3.7.4.3 in /home/ubuntu/python_project/sample/.venv/lib/python3.10/site-packages (from huggingface-hub>=0.24.0->datasets==3.5.0) (4.14.0)\n",
            "Requirement already satisfied: charset_normalizer<4,>=2 in /home/ubuntu/python_project/sample/.venv/lib/python3.10/site-packages (from requests>=2.32.2->datasets==3.5.0) (3.4.2)\n",
            "Requirement already satisfied: urllib3<3,>=1.21.1 in /home/ubuntu/python_project/sample/.venv/lib/python3.10/site-packages (from requests>=2.32.2->datasets==3.5.0) (2.5.0)\n",
            "Requirement already satisfied: idna<4,>=2.5 in /home/ubuntu/python_project/sample/.venv/lib/python3.10/site-packages (from requests>=2.32.2->datasets==3.5.0) (3.10)\n",
            "Requirement already satisfied: certifi>=2017.4.17 in /home/ubuntu/python_project/sample/.venv/lib/python3.10/site-packages (from requests>=2.32.2->datasets==3.5.0) (2025.6.15)\n",
            "Requirement already satisfied: pytz>=2020.1 in /home/ubuntu/python_project/sample/.venv/lib/python3.10/site-packages (from pandas->datasets==3.5.0) (2025.2)\n",
            "Requirement already satisfied: tzdata>=2022.7 in /home/ubuntu/python_project/sample/.venv/lib/python3.10/site-packages (from pandas->datasets==3.5.0) (2025.2)\n",
            "Requirement already satisfied: python-dateutil>=2.8.2 in /home/ubuntu/python_project/sample/.venv/lib/python3.10/site-packages (from pandas->datasets==3.5.0) (2.9.0.post0)\n",
            "Requirement already satisfied: six>=1.5 in /home/ubuntu/python_project/sample/.venv/lib/python3.10/site-packages (from python-dateutil>=2.8.2->pandas->datasets==3.5.0) (1.17.0)\n",
            "Requirement already satisfied: huggingface_hub[cli]==0.30.2 in /home/ubuntu/python_project/sample/.venv/lib/python3.10/site-packages (0.30.2)\n",
            "Requirement already satisfied: tqdm>=4.42.1 in /home/ubuntu/python_project/sample/.venv/lib/python3.10/site-packages (from huggingface_hub[cli]==0.30.2) (4.67.1)\n",
            "Requirement already satisfied: packaging>=20.9 in /home/ubuntu/python_project/sample/.venv/lib/python3.10/site-packages (from huggingface_hub[cli]==0.30.2) (25.0)\n",
            "Requirement already satisfied: typing-extensions>=3.7.4.3 in /home/ubuntu/python_project/sample/.venv/lib/python3.10/site-packages (from huggingface_hub[cli]==0.30.2) (4.14.0)\n",
            "Requirement already satisfied: filelock in /home/ubuntu/python_project/sample/.venv/lib/python3.10/site-packages (from huggingface_hub[cli]==0.30.2) (3.13.1)\n",
            "Requirement already satisfied: fsspec>=2023.5.0 in /home/ubuntu/python_project/sample/.venv/lib/python3.10/site-packages (from huggingface_hub[cli]==0.30.2) (2024.6.1)\n",
            "Requirement already satisfied: requests in /home/ubuntu/python_project/sample/.venv/lib/python3.10/site-packages (from huggingface_hub[cli]==0.30.2) (2.32.4)\n",
            "Requirement already satisfied: pyyaml>=5.1 in /home/ubuntu/python_project/sample/.venv/lib/python3.10/site-packages (from huggingface_hub[cli]==0.30.2) (6.0.2)\n",
            "Requirement already satisfied: InquirerPy==0.3.4 in /home/ubuntu/python_project/sample/.venv/lib/python3.10/site-packages (from huggingface_hub[cli]==0.30.2) (0.3.4)\n",
            "Requirement already satisfied: prompt-toolkit<4.0.0,>=3.0.1 in /home/ubuntu/python_project/sample/.venv/lib/python3.10/site-packages (from InquirerPy==0.3.4->huggingface_hub[cli]==0.30.2) (3.0.51)\n",
            "Requirement already satisfied: pfzy<0.4.0,>=0.3.1 in /home/ubuntu/python_project/sample/.venv/lib/python3.10/site-packages (from InquirerPy==0.3.4->huggingface_hub[cli]==0.30.2) (0.3.4)\n",
            "Requirement already satisfied: certifi>=2017.4.17 in /home/ubuntu/python_project/sample/.venv/lib/python3.10/site-packages (from requests->huggingface_hub[cli]==0.30.2) (2025.6.15)\n",
            "Requirement already satisfied: charset_normalizer<4,>=2 in /home/ubuntu/python_project/sample/.venv/lib/python3.10/site-packages (from requests->huggingface_hub[cli]==0.30.2) (3.4.2)\n",
            "Requirement already satisfied: urllib3<3,>=1.21.1 in /home/ubuntu/python_project/sample/.venv/lib/python3.10/site-packages (from requests->huggingface_hub[cli]==0.30.2) (2.5.0)\n",
            "Requirement already satisfied: idna<4,>=2.5 in /home/ubuntu/python_project/sample/.venv/lib/python3.10/site-packages (from requests->huggingface_hub[cli]==0.30.2) (3.10)\n",
            "Requirement already satisfied: wcwidth in /home/ubuntu/python_project/sample/.venv/lib/python3.10/site-packages (from prompt-toolkit<4.0.0,>=3.0.1->InquirerPy==0.3.4->huggingface_hub[cli]==0.30.2) (0.2.13)\n",
            "Requirement already satisfied: deepspeed==0.16.7 in /home/ubuntu/python_project/sample/.venv/lib/python3.10/site-packages (0.16.7)\n",
            "Requirement already satisfied: ninja in /home/ubuntu/python_project/sample/.venv/lib/python3.10/site-packages (from deepspeed==0.16.7) (1.11.1.4)\n",
            "Requirement already satisfied: einops in /home/ubuntu/python_project/sample/.venv/lib/python3.10/site-packages (from deepspeed==0.16.7) (0.8.1)\n",
            "Requirement already satisfied: torch in /home/ubuntu/python_project/sample/.venv/lib/python3.10/site-packages (from deepspeed==0.16.7) (2.6.0+cu124)\n",
            "Requirement already satisfied: msgpack in /home/ubuntu/python_project/sample/.venv/lib/python3.10/site-packages (from deepspeed==0.16.7) (1.1.1)\n",
            "Requirement already satisfied: numpy in /home/ubuntu/python_project/sample/.venv/lib/python3.10/site-packages (from deepspeed==0.16.7) (1.26.4)\n",
            "Requirement already satisfied: hjson in /home/ubuntu/python_project/sample/.venv/lib/python3.10/site-packages (from deepspeed==0.16.7) (3.1.0)\n",
            "Requirement already satisfied: tqdm in /home/ubuntu/python_project/sample/.venv/lib/python3.10/site-packages (from deepspeed==0.16.7) (4.67.1)\n",
            "Requirement already satisfied: psutil in /home/ubuntu/python_project/sample/.venv/lib/python3.10/site-packages (from deepspeed==0.16.7) (7.0.0)\n",
            "Requirement already satisfied: packaging>=20.0 in /home/ubuntu/python_project/sample/.venv/lib/python3.10/site-packages (from deepspeed==0.16.7) (25.0)\n",
            "Requirement already satisfied: pydantic>=2.0.0 in /home/ubuntu/python_project/sample/.venv/lib/python3.10/site-packages (from deepspeed==0.16.7) (2.11.7)\n",
            "Requirement already satisfied: py-cpuinfo in /home/ubuntu/python_project/sample/.venv/lib/python3.10/site-packages (from deepspeed==0.16.7) (9.0.0)\n",
            "Requirement already satisfied: annotated-types>=0.6.0 in /home/ubuntu/python_project/sample/.venv/lib/python3.10/site-packages (from pydantic>=2.0.0->deepspeed==0.16.7) (0.7.0)\n",
            "Requirement already satisfied: typing-inspection>=0.4.0 in /home/ubuntu/python_project/sample/.venv/lib/python3.10/site-packages (from pydantic>=2.0.0->deepspeed==0.16.7) (0.4.1)\n",
            "Requirement already satisfied: typing-extensions>=4.12.2 in /home/ubuntu/python_project/sample/.venv/lib/python3.10/site-packages (from pydantic>=2.0.0->deepspeed==0.16.7) (4.14.0)\n",
            "Requirement already satisfied: pydantic-core==2.33.2 in /home/ubuntu/python_project/sample/.venv/lib/python3.10/site-packages (from pydantic>=2.0.0->deepspeed==0.16.7) (2.33.2)\n",
            "Requirement already satisfied: nvidia-cusolver-cu12==11.6.1.9 in /home/ubuntu/python_project/sample/.venv/lib/python3.10/site-packages (from torch->deepspeed==0.16.7) (11.6.1.9)\n",
            "Requirement already satisfied: sympy==1.13.1 in /home/ubuntu/python_project/sample/.venv/lib/python3.10/site-packages (from torch->deepspeed==0.16.7) (1.13.1)\n",
            "Requirement already satisfied: nvidia-nvjitlink-cu12==12.4.127 in /home/ubuntu/python_project/sample/.venv/lib/python3.10/site-packages (from torch->deepspeed==0.16.7) (12.4.127)\n",
            "Requirement already satisfied: nvidia-nccl-cu12==2.21.5 in /home/ubuntu/python_project/sample/.venv/lib/python3.10/site-packages (from torch->deepspeed==0.16.7) (2.21.5)\n",
            "Requirement already satisfied: triton==3.2.0 in /home/ubuntu/python_project/sample/.venv/lib/python3.10/site-packages (from torch->deepspeed==0.16.7) (3.2.0)\n",
            "Requirement already satisfied: nvidia-cusparse-cu12==12.3.1.170 in /home/ubuntu/python_project/sample/.venv/lib/python3.10/site-packages (from torch->deepspeed==0.16.7) (12.3.1.170)\n",
            "Requirement already satisfied: networkx in /home/ubuntu/python_project/sample/.venv/lib/python3.10/site-packages (from torch->deepspeed==0.16.7) (3.3)\n",
            "Requirement already satisfied: nvidia-curand-cu12==10.3.5.147 in /home/ubuntu/python_project/sample/.venv/lib/python3.10/site-packages (from torch->deepspeed==0.16.7) (10.3.5.147)\n",
            "Requirement already satisfied: nvidia-nvtx-cu12==12.4.127 in /home/ubuntu/python_project/sample/.venv/lib/python3.10/site-packages (from torch->deepspeed==0.16.7) (12.4.127)\n",
            "Requirement already satisfied: jinja2 in /home/ubuntu/python_project/sample/.venv/lib/python3.10/site-packages (from torch->deepspeed==0.16.7) (3.1.4)\n",
            "Requirement already satisfied: nvidia-cufft-cu12==11.2.1.3 in /home/ubuntu/python_project/sample/.venv/lib/python3.10/site-packages (from torch->deepspeed==0.16.7) (11.2.1.3)\n",
            "Requirement already satisfied: nvidia-cublas-cu12==12.4.5.8 in /home/ubuntu/python_project/sample/.venv/lib/python3.10/site-packages (from torch->deepspeed==0.16.7) (12.4.5.8)\n",
            "Requirement already satisfied: nvidia-cusparselt-cu12==0.6.2 in /home/ubuntu/python_project/sample/.venv/lib/python3.10/site-packages (from torch->deepspeed==0.16.7) (0.6.2)\n",
            "Requirement already satisfied: nvidia-cuda-nvrtc-cu12==12.4.127 in /home/ubuntu/python_project/sample/.venv/lib/python3.10/site-packages (from torch->deepspeed==0.16.7) (12.4.127)\n",
            "Requirement already satisfied: nvidia-cuda-cupti-cu12==12.4.127 in /home/ubuntu/python_project/sample/.venv/lib/python3.10/site-packages (from torch->deepspeed==0.16.7) (12.4.127)\n",
            "Requirement already satisfied: nvidia-cuda-runtime-cu12==12.4.127 in /home/ubuntu/python_project/sample/.venv/lib/python3.10/site-packages (from torch->deepspeed==0.16.7) (12.4.127)\n",
            "Requirement already satisfied: fsspec in /home/ubuntu/python_project/sample/.venv/lib/python3.10/site-packages (from torch->deepspeed==0.16.7) (2024.6.1)\n",
            "Requirement already satisfied: nvidia-cudnn-cu12==9.1.0.70 in /home/ubuntu/python_project/sample/.venv/lib/python3.10/site-packages (from torch->deepspeed==0.16.7) (9.1.0.70)\n",
            "Requirement already satisfied: filelock in /home/ubuntu/python_project/sample/.venv/lib/python3.10/site-packages (from torch->deepspeed==0.16.7) (3.13.1)\n",
            "Requirement already satisfied: mpmath<1.4,>=1.1.0 in /home/ubuntu/python_project/sample/.venv/lib/python3.10/site-packages (from sympy==1.13.1->torch->deepspeed==0.16.7) (1.3.0)\n",
            "Requirement already satisfied: MarkupSafe>=2.0 in /home/ubuntu/python_project/sample/.venv/lib/python3.10/site-packages (from jinja2->torch->deepspeed==0.16.7) (2.1.5)\n",
            "Requirement already satisfied: trl==0.19.0 in /home/ubuntu/python_project/sample/.venv/lib/python3.10/site-packages (0.19.0)\n",
            "Requirement already satisfied: datasets>=3.0.0 in /home/ubuntu/python_project/sample/.venv/lib/python3.10/site-packages (from trl==0.19.0) (3.5.0)\n",
            "Requirement already satisfied: transformers>=4.51.0 in /home/ubuntu/python_project/sample/.venv/lib/python3.10/site-packages (from trl==0.19.0) (4.51.3)\n",
            "Collecting accelerate>=1.4.0\n",
            "  Using cached accelerate-1.8.1-py3-none-any.whl (365 kB)\n",
            "Requirement already satisfied: torch>=2.0.0 in /home/ubuntu/python_project/sample/.venv/lib/python3.10/site-packages (from accelerate>=1.4.0->trl==0.19.0) (2.6.0+cu124)\n",
            "Requirement already satisfied: numpy<3.0.0,>=1.17 in /home/ubuntu/python_project/sample/.venv/lib/python3.10/site-packages (from accelerate>=1.4.0->trl==0.19.0) (1.26.4)\n",
            "Requirement already satisfied: safetensors>=0.4.3 in /home/ubuntu/python_project/sample/.venv/lib/python3.10/site-packages (from accelerate>=1.4.0->trl==0.19.0) (0.5.3)\n",
            "Requirement already satisfied: huggingface_hub>=0.21.0 in /home/ubuntu/python_project/sample/.venv/lib/python3.10/site-packages (from accelerate>=1.4.0->trl==0.19.0) (0.30.2)\n",
            "Requirement already satisfied: packaging>=20.0 in /home/ubuntu/python_project/sample/.venv/lib/python3.10/site-packages (from accelerate>=1.4.0->trl==0.19.0) (25.0)\n",
            "Requirement already satisfied: pyyaml in /home/ubuntu/python_project/sample/.venv/lib/python3.10/site-packages (from accelerate>=1.4.0->trl==0.19.0) (6.0.2)\n",
            "Requirement already satisfied: psutil in /home/ubuntu/python_project/sample/.venv/lib/python3.10/site-packages (from accelerate>=1.4.0->trl==0.19.0) (7.0.0)\n",
            "Requirement already satisfied: filelock in /home/ubuntu/python_project/sample/.venv/lib/python3.10/site-packages (from datasets>=3.0.0->trl==0.19.0) (3.13.1)\n",
            "Requirement already satisfied: fsspec[http]<=2024.12.0,>=2023.1.0 in /home/ubuntu/python_project/sample/.venv/lib/python3.10/site-packages (from datasets>=3.0.0->trl==0.19.0) (2024.6.1)\n",
            "Requirement already satisfied: aiohttp in /home/ubuntu/python_project/sample/.venv/lib/python3.10/site-packages (from datasets>=3.0.0->trl==0.19.0) (3.12.13)\n",
            "Requirement already satisfied: requests>=2.32.2 in /home/ubuntu/python_project/sample/.venv/lib/python3.10/site-packages (from datasets>=3.0.0->trl==0.19.0) (2.32.4)\n",
            "Requirement already satisfied: dill<0.3.9,>=0.3.0 in /home/ubuntu/python_project/sample/.venv/lib/python3.10/site-packages (from datasets>=3.0.0->trl==0.19.0) (0.3.8)\n",
            "Requirement already satisfied: xxhash in /home/ubuntu/python_project/sample/.venv/lib/python3.10/site-packages (from datasets>=3.0.0->trl==0.19.0) (3.5.0)\n",
            "Requirement already satisfied: multiprocess<0.70.17 in /home/ubuntu/python_project/sample/.venv/lib/python3.10/site-packages (from datasets>=3.0.0->trl==0.19.0) (0.70.16)\n",
            "Requirement already satisfied: pandas in /home/ubuntu/python_project/sample/.venv/lib/python3.10/site-packages (from datasets>=3.0.0->trl==0.19.0) (2.2.3)\n",
            "Requirement already satisfied: tqdm>=4.66.3 in /home/ubuntu/python_project/sample/.venv/lib/python3.10/site-packages (from datasets>=3.0.0->trl==0.19.0) (4.67.1)\n",
            "Requirement already satisfied: pyarrow>=15.0.0 in /home/ubuntu/python_project/sample/.venv/lib/python3.10/site-packages (from datasets>=3.0.0->trl==0.19.0) (20.0.0)\n",
            "Requirement already satisfied: regex!=2019.12.17 in /home/ubuntu/python_project/sample/.venv/lib/python3.10/site-packages (from transformers>=4.51.0->trl==0.19.0) (2024.11.6)\n",
            "Requirement already satisfied: tokenizers<0.22,>=0.21 in /home/ubuntu/python_project/sample/.venv/lib/python3.10/site-packages (from transformers>=4.51.0->trl==0.19.0) (0.21.1)\n",
            "Requirement already satisfied: aiohappyeyeballs>=2.5.0 in /home/ubuntu/python_project/sample/.venv/lib/python3.10/site-packages (from aiohttp->datasets>=3.0.0->trl==0.19.0) (2.6.1)\n",
            "Requirement already satisfied: attrs>=17.3.0 in /home/ubuntu/python_project/sample/.venv/lib/python3.10/site-packages (from aiohttp->datasets>=3.0.0->trl==0.19.0) (25.3.0)\n",
            "Requirement already satisfied: yarl<2.0,>=1.17.0 in /home/ubuntu/python_project/sample/.venv/lib/python3.10/site-packages (from aiohttp->datasets>=3.0.0->trl==0.19.0) (1.20.1)\n",
            "Requirement already satisfied: multidict<7.0,>=4.5 in /home/ubuntu/python_project/sample/.venv/lib/python3.10/site-packages (from aiohttp->datasets>=3.0.0->trl==0.19.0) (6.5.0)\n",
            "Requirement already satisfied: aiosignal>=1.1.2 in /home/ubuntu/python_project/sample/.venv/lib/python3.10/site-packages (from aiohttp->datasets>=3.0.0->trl==0.19.0) (1.3.2)\n",
            "Requirement already satisfied: propcache>=0.2.0 in /home/ubuntu/python_project/sample/.venv/lib/python3.10/site-packages (from aiohttp->datasets>=3.0.0->trl==0.19.0) (0.3.2)\n",
            "Requirement already satisfied: async-timeout<6.0,>=4.0 in /home/ubuntu/python_project/sample/.venv/lib/python3.10/site-packages (from aiohttp->datasets>=3.0.0->trl==0.19.0) (5.0.1)\n",
            "Requirement already satisfied: frozenlist>=1.1.1 in /home/ubuntu/python_project/sample/.venv/lib/python3.10/site-packages (from aiohttp->datasets>=3.0.0->trl==0.19.0) (1.7.0)\n",
            "Requirement already satisfied: typing-extensions>=3.7.4.3 in /home/ubuntu/python_project/sample/.venv/lib/python3.10/site-packages (from huggingface_hub>=0.21.0->accelerate>=1.4.0->trl==0.19.0) (4.14.0)\n",
            "Requirement already satisfied: idna<4,>=2.5 in /home/ubuntu/python_project/sample/.venv/lib/python3.10/site-packages (from requests>=2.32.2->datasets>=3.0.0->trl==0.19.0) (3.10)\n",
            "Requirement already satisfied: certifi>=2017.4.17 in /home/ubuntu/python_project/sample/.venv/lib/python3.10/site-packages (from requests>=2.32.2->datasets>=3.0.0->trl==0.19.0) (2025.6.15)\n",
            "Requirement already satisfied: urllib3<3,>=1.21.1 in /home/ubuntu/python_project/sample/.venv/lib/python3.10/site-packages (from requests>=2.32.2->datasets>=3.0.0->trl==0.19.0) (2.5.0)\n",
            "Requirement already satisfied: charset_normalizer<4,>=2 in /home/ubuntu/python_project/sample/.venv/lib/python3.10/site-packages (from requests>=2.32.2->datasets>=3.0.0->trl==0.19.0) (3.4.2)\n",
            "Requirement already satisfied: networkx in /home/ubuntu/python_project/sample/.venv/lib/python3.10/site-packages (from torch>=2.0.0->accelerate>=1.4.0->trl==0.19.0) (3.3)\n",
            "Requirement already satisfied: nvidia-cusparselt-cu12==0.6.2 in /home/ubuntu/python_project/sample/.venv/lib/python3.10/site-packages (from torch>=2.0.0->accelerate>=1.4.0->trl==0.19.0) (0.6.2)\n",
            "Requirement already satisfied: nvidia-cusolver-cu12==11.6.1.9 in /home/ubuntu/python_project/sample/.venv/lib/python3.10/site-packages (from torch>=2.0.0->accelerate>=1.4.0->trl==0.19.0) (11.6.1.9)\n",
            "Requirement already satisfied: nvidia-nvtx-cu12==12.4.127 in /home/ubuntu/python_project/sample/.venv/lib/python3.10/site-packages (from torch>=2.0.0->accelerate>=1.4.0->trl==0.19.0) (12.4.127)\n",
            "Requirement already satisfied: nvidia-cuda-nvrtc-cu12==12.4.127 in /home/ubuntu/python_project/sample/.venv/lib/python3.10/site-packages (from torch>=2.0.0->accelerate>=1.4.0->trl==0.19.0) (12.4.127)\n",
            "Requirement already satisfied: nvidia-cudnn-cu12==9.1.0.70 in /home/ubuntu/python_project/sample/.venv/lib/python3.10/site-packages (from torch>=2.0.0->accelerate>=1.4.0->trl==0.19.0) (9.1.0.70)\n",
            "Requirement already satisfied: nvidia-cusparse-cu12==12.3.1.170 in /home/ubuntu/python_project/sample/.venv/lib/python3.10/site-packages (from torch>=2.0.0->accelerate>=1.4.0->trl==0.19.0) (12.3.1.170)\n",
            "Requirement already satisfied: nvidia-cuda-runtime-cu12==12.4.127 in /home/ubuntu/python_project/sample/.venv/lib/python3.10/site-packages (from torch>=2.0.0->accelerate>=1.4.0->trl==0.19.0) (12.4.127)\n",
            "Requirement already satisfied: nvidia-cufft-cu12==11.2.1.3 in /home/ubuntu/python_project/sample/.venv/lib/python3.10/site-packages (from torch>=2.0.0->accelerate>=1.4.0->trl==0.19.0) (11.2.1.3)\n",
            "Requirement already satisfied: sympy==1.13.1 in /home/ubuntu/python_project/sample/.venv/lib/python3.10/site-packages (from torch>=2.0.0->accelerate>=1.4.0->trl==0.19.0) (1.13.1)\n",
            "Requirement already satisfied: nvidia-nccl-cu12==2.21.5 in /home/ubuntu/python_project/sample/.venv/lib/python3.10/site-packages (from torch>=2.0.0->accelerate>=1.4.0->trl==0.19.0) (2.21.5)\n",
            "Requirement already satisfied: nvidia-curand-cu12==10.3.5.147 in /home/ubuntu/python_project/sample/.venv/lib/python3.10/site-packages (from torch>=2.0.0->accelerate>=1.4.0->trl==0.19.0) (10.3.5.147)\n",
            "Requirement already satisfied: nvidia-nvjitlink-cu12==12.4.127 in /home/ubuntu/python_project/sample/.venv/lib/python3.10/site-packages (from torch>=2.0.0->accelerate>=1.4.0->trl==0.19.0) (12.4.127)\n",
            "Requirement already satisfied: triton==3.2.0 in /home/ubuntu/python_project/sample/.venv/lib/python3.10/site-packages (from torch>=2.0.0->accelerate>=1.4.0->trl==0.19.0) (3.2.0)\n",
            "Requirement already satisfied: nvidia-cuda-cupti-cu12==12.4.127 in /home/ubuntu/python_project/sample/.venv/lib/python3.10/site-packages (from torch>=2.0.0->accelerate>=1.4.0->trl==0.19.0) (12.4.127)\n",
            "Requirement already satisfied: nvidia-cublas-cu12==12.4.5.8 in /home/ubuntu/python_project/sample/.venv/lib/python3.10/site-packages (from torch>=2.0.0->accelerate>=1.4.0->trl==0.19.0) (12.4.5.8)\n",
            "Requirement already satisfied: jinja2 in /home/ubuntu/python_project/sample/.venv/lib/python3.10/site-packages (from torch>=2.0.0->accelerate>=1.4.0->trl==0.19.0) (3.1.4)\n",
            "Requirement already satisfied: mpmath<1.4,>=1.1.0 in /home/ubuntu/python_project/sample/.venv/lib/python3.10/site-packages (from sympy==1.13.1->torch>=2.0.0->accelerate>=1.4.0->trl==0.19.0) (1.3.0)\n",
            "Requirement already satisfied: python-dateutil>=2.8.2 in /home/ubuntu/python_project/sample/.venv/lib/python3.10/site-packages (from pandas->datasets>=3.0.0->trl==0.19.0) (2.9.0.post0)\n",
            "Requirement already satisfied: tzdata>=2022.7 in /home/ubuntu/python_project/sample/.venv/lib/python3.10/site-packages (from pandas->datasets>=3.0.0->trl==0.19.0) (2025.2)\n",
            "Requirement already satisfied: pytz>=2020.1 in /home/ubuntu/python_project/sample/.venv/lib/python3.10/site-packages (from pandas->datasets>=3.0.0->trl==0.19.0) (2025.2)\n",
            "Requirement already satisfied: six>=1.5 in /home/ubuntu/python_project/sample/.venv/lib/python3.10/site-packages (from python-dateutil>=2.8.2->pandas->datasets>=3.0.0->trl==0.19.0) (1.17.0)\n",
            "Requirement already satisfied: MarkupSafe>=2.0 in /home/ubuntu/python_project/sample/.venv/lib/python3.10/site-packages (from jinja2->torch>=2.0.0->accelerate>=1.4.0->trl==0.19.0) (2.1.5)\n",
            "Installing collected packages: accelerate\n",
            "  Attempting uninstall: accelerate\n",
            "    Found existing installation: accelerate 0.26.0\n",
            "    Uninstalling accelerate-0.26.0:\n",
            "      Successfully uninstalled accelerate-0.26.0\n",
            "Successfully installed accelerate-1.8.1\n",
            "Requirement already satisfied: mpi4py in /home/ubuntu/python_project/sample/.venv/lib/python3.10/site-packages (4.0.3)\n",
            "Requirement already satisfied: peft==0.15.2 in /home/ubuntu/python_project/sample/.venv/lib/python3.10/site-packages (0.15.2)\n",
            "Requirement already satisfied: packaging>=20.0 in /home/ubuntu/python_project/sample/.venv/lib/python3.10/site-packages (from peft==0.15.2) (25.0)\n",
            "Requirement already satisfied: safetensors in /home/ubuntu/python_project/sample/.venv/lib/python3.10/site-packages (from peft==0.15.2) (0.5.3)\n",
            "Requirement already satisfied: transformers in /home/ubuntu/python_project/sample/.venv/lib/python3.10/site-packages (from peft==0.15.2) (4.51.3)\n",
            "Requirement already satisfied: psutil in /home/ubuntu/python_project/sample/.venv/lib/python3.10/site-packages (from peft==0.15.2) (7.0.0)\n",
            "Requirement already satisfied: tqdm in /home/ubuntu/python_project/sample/.venv/lib/python3.10/site-packages (from peft==0.15.2) (4.67.1)\n",
            "Requirement already satisfied: torch>=1.13.0 in /home/ubuntu/python_project/sample/.venv/lib/python3.10/site-packages (from peft==0.15.2) (2.6.0+cu124)\n",
            "Requirement already satisfied: numpy>=1.17 in /home/ubuntu/python_project/sample/.venv/lib/python3.10/site-packages (from peft==0.15.2) (1.26.4)\n",
            "Requirement already satisfied: huggingface_hub>=0.25.0 in /home/ubuntu/python_project/sample/.venv/lib/python3.10/site-packages (from peft==0.15.2) (0.30.2)\n",
            "Requirement already satisfied: accelerate>=0.21.0 in /home/ubuntu/python_project/sample/.venv/lib/python3.10/site-packages (from peft==0.15.2) (1.8.1)\n",
            "Requirement already satisfied: pyyaml in /home/ubuntu/python_project/sample/.venv/lib/python3.10/site-packages (from peft==0.15.2) (6.0.2)\n",
            "Requirement already satisfied: filelock in /home/ubuntu/python_project/sample/.venv/lib/python3.10/site-packages (from huggingface_hub>=0.25.0->peft==0.15.2) (3.13.1)\n",
            "Requirement already satisfied: requests in /home/ubuntu/python_project/sample/.venv/lib/python3.10/site-packages (from huggingface_hub>=0.25.0->peft==0.15.2) (2.32.4)\n",
            "Requirement already satisfied: typing-extensions>=3.7.4.3 in /home/ubuntu/python_project/sample/.venv/lib/python3.10/site-packages (from huggingface_hub>=0.25.0->peft==0.15.2) (4.14.0)\n",
            "Requirement already satisfied: fsspec>=2023.5.0 in /home/ubuntu/python_project/sample/.venv/lib/python3.10/site-packages (from huggingface_hub>=0.25.0->peft==0.15.2) (2024.6.1)\n",
            "Requirement already satisfied: nvidia-cublas-cu12==12.4.5.8 in /home/ubuntu/python_project/sample/.venv/lib/python3.10/site-packages (from torch>=1.13.0->peft==0.15.2) (12.4.5.8)\n",
            "Requirement already satisfied: nvidia-cusolver-cu12==11.6.1.9 in /home/ubuntu/python_project/sample/.venv/lib/python3.10/site-packages (from torch>=1.13.0->peft==0.15.2) (11.6.1.9)\n",
            "Requirement already satisfied: nvidia-cudnn-cu12==9.1.0.70 in /home/ubuntu/python_project/sample/.venv/lib/python3.10/site-packages (from torch>=1.13.0->peft==0.15.2) (9.1.0.70)\n",
            "Requirement already satisfied: nvidia-cuda-nvrtc-cu12==12.4.127 in /home/ubuntu/python_project/sample/.venv/lib/python3.10/site-packages (from torch>=1.13.0->peft==0.15.2) (12.4.127)\n",
            "Requirement already satisfied: nvidia-cuda-runtime-cu12==12.4.127 in /home/ubuntu/python_project/sample/.venv/lib/python3.10/site-packages (from torch>=1.13.0->peft==0.15.2) (12.4.127)\n",
            "Requirement already satisfied: nvidia-cusparselt-cu12==0.6.2 in /home/ubuntu/python_project/sample/.venv/lib/python3.10/site-packages (from torch>=1.13.0->peft==0.15.2) (0.6.2)\n",
            "Requirement already satisfied: nvidia-cuda-cupti-cu12==12.4.127 in /home/ubuntu/python_project/sample/.venv/lib/python3.10/site-packages (from torch>=1.13.0->peft==0.15.2) (12.4.127)\n",
            "Requirement already satisfied: networkx in /home/ubuntu/python_project/sample/.venv/lib/python3.10/site-packages (from torch>=1.13.0->peft==0.15.2) (3.3)\n",
            "Requirement already satisfied: nvidia-cusparse-cu12==12.3.1.170 in /home/ubuntu/python_project/sample/.venv/lib/python3.10/site-packages (from torch>=1.13.0->peft==0.15.2) (12.3.1.170)\n",
            "Requirement already satisfied: nvidia-nvjitlink-cu12==12.4.127 in /home/ubuntu/python_project/sample/.venv/lib/python3.10/site-packages (from torch>=1.13.0->peft==0.15.2) (12.4.127)\n",
            "Requirement already satisfied: sympy==1.13.1 in /home/ubuntu/python_project/sample/.venv/lib/python3.10/site-packages (from torch>=1.13.0->peft==0.15.2) (1.13.1)\n",
            "Requirement already satisfied: nvidia-nvtx-cu12==12.4.127 in /home/ubuntu/python_project/sample/.venv/lib/python3.10/site-packages (from torch>=1.13.0->peft==0.15.2) (12.4.127)\n",
            "Requirement already satisfied: triton==3.2.0 in /home/ubuntu/python_project/sample/.venv/lib/python3.10/site-packages (from torch>=1.13.0->peft==0.15.2) (3.2.0)\n",
            "Requirement already satisfied: nvidia-curand-cu12==10.3.5.147 in /home/ubuntu/python_project/sample/.venv/lib/python3.10/site-packages (from torch>=1.13.0->peft==0.15.2) (10.3.5.147)\n",
            "Requirement already satisfied: jinja2 in /home/ubuntu/python_project/sample/.venv/lib/python3.10/site-packages (from torch>=1.13.0->peft==0.15.2) (3.1.4)\n",
            "Requirement already satisfied: nvidia-nccl-cu12==2.21.5 in /home/ubuntu/python_project/sample/.venv/lib/python3.10/site-packages (from torch>=1.13.0->peft==0.15.2) (2.21.5)\n",
            "Requirement already satisfied: nvidia-cufft-cu12==11.2.1.3 in /home/ubuntu/python_project/sample/.venv/lib/python3.10/site-packages (from torch>=1.13.0->peft==0.15.2) (11.2.1.3)\n",
            "Requirement already satisfied: mpmath<1.4,>=1.1.0 in /home/ubuntu/python_project/sample/.venv/lib/python3.10/site-packages (from sympy==1.13.1->torch>=1.13.0->peft==0.15.2) (1.3.0)\n",
            "Requirement already satisfied: tokenizers<0.22,>=0.21 in /home/ubuntu/python_project/sample/.venv/lib/python3.10/site-packages (from transformers->peft==0.15.2) (0.21.1)\n",
            "Requirement already satisfied: regex!=2019.12.17 in /home/ubuntu/python_project/sample/.venv/lib/python3.10/site-packages (from transformers->peft==0.15.2) (2024.11.6)\n",
            "Requirement already satisfied: MarkupSafe>=2.0 in /home/ubuntu/python_project/sample/.venv/lib/python3.10/site-packages (from jinja2->torch>=1.13.0->peft==0.15.2) (2.1.5)\n",
            "Requirement already satisfied: charset_normalizer<4,>=2 in /home/ubuntu/python_project/sample/.venv/lib/python3.10/site-packages (from requests->huggingface_hub>=0.25.0->peft==0.15.2) (3.4.2)\n",
            "Requirement already satisfied: certifi>=2017.4.17 in /home/ubuntu/python_project/sample/.venv/lib/python3.10/site-packages (from requests->huggingface_hub>=0.25.0->peft==0.15.2) (2025.6.15)\n",
            "Requirement already satisfied: urllib3<3,>=1.21.1 in /home/ubuntu/python_project/sample/.venv/lib/python3.10/site-packages (from requests->huggingface_hub>=0.25.0->peft==0.15.2) (2.5.0)\n",
            "Requirement already satisfied: idna<4,>=2.5 in /home/ubuntu/python_project/sample/.venv/lib/python3.10/site-packages (from requests->huggingface_hub>=0.25.0->peft==0.15.2) (3.10)\n"
          ]
        }
      ],
      "source": [
        "!pip install torch torchvision torchaudio --index-url https://download.pytorch.org/whl/cu124\n",
        "!pip install 'transformers==4.51.3'\n",
        "!pip install 'numpy==1.26.4'\n",
        "!pip install 'datasets==3.5.0'\n",
        "!pip install 'huggingface_hub[cli]==0.30.2'\n",
        "!pip install 'deepspeed==0.16.7' --use-pep517\n",
        "!pip install 'trl==0.19.0'\n",
        "!pip install 'mpi4py'\n",
        "!pip install 'peft==0.15.2'"
      ]
    },
    {
      "cell_type": "code",
      "execution_count": 3,
      "metadata": {},
      "outputs": [],
      "source": [
        "import os\n",
        "os.environ['PYTORCH_CUDA_ALLOC_CONF'] = 'expandable_segments:True'"
      ]
    },
    {
      "cell_type": "code",
      "execution_count": 4,
      "metadata": {
        "id": "wV_2TXekf5tX"
      },
      "outputs": [],
      "source": [
        "# Set Environment Variables\n",
        "default_environment_variables = {\n",
        "    \"output_dir\": \"./\",\n",
        "    \"wandb_account_name\": \"arekunoimar-deepspeed\",\n",
        "    \"wandb_project_name\": \"llama-3-2-1b\",\n",
        "    \"model_name\": \"meta-llama/Llama-3.2-1B\",\n",
        "    \"dataset\": \"../dataset/alpaca_data.json\",\n",
        "    \"dataset_max_length\": 512,\n",
        "    \"apply_dataset_rate\": 0.1,\n",
        "    \"dataset_train_rate\": 0.8,\n",
        "    \"dataset_validation_rate\": 0.1,\n",
        "    \"num_train_epochs\": 1,\n",
        "    \"per_device_train_batch_size\": 1,\n",
        "    \"per_device_eval_batch_size\": 1,\n",
        "    \"gradient_accumulation_steps\": 1,\n",
        "    \"max_grad_norm\": 1.0,\n",
        "    \"optim\": \"adamw_torch\",\n",
        "    \"logging_steps\": 1,\n",
        "    \"learning_rate\": 1e-4,\n",
        "    \"lr_scheduler_type\": \"cosine\",\n",
        "    \"warmup_steps\": 700,\n",
        "    \"seed\": 1024,\n",
        "    \"fp16\": False,\n",
        "    \"bf16\": True,\n",
        "    \"save_strategy\": \"steps\",\n",
        "    \"save_steps\": 1000,\n",
        "    \"save_total_limit\": 1,\n",
        "    \"eval_strategy\": \"steps\",\n",
        "    \"eval_steps\": 1000,\n",
        "    \"do_eval\": True,\n",
        "    \"logging_distance_time\": 1,\n",
        "    \"weight_decay\": 0.01,\n",
        "    \"lora_r\": 64,\n",
        "    \"lora_alpha\": 128,\n",
        "    \"lora_dropout\": 0.05,\n",
        "    \"lora_target_modules\": [\"q_proj\", \"k_proj\", \"v_proj\", \"o_proj\", \"gate_proj\", \"down_proj\", \"up_proj\"],\n",
        "    \"lora_bias\": \"none\",\n",
        "    # \"deepspeed_zero0\": False,\n",
        "    # \"deepspeed_train_config_zero0_path\":\"deepspeed_train_config_zero0.json\",\n",
        "    # \"deepspeed_zero1\": False,\n",
        "    # \"deepspeed_train_config_zero1_path\":\"deepspeed_train_config_zero1.json\",\n",
        "    # \"deepspeed_zero2\": True,\n",
        "    # \"deepspeed_train_config_zero2_path\":\"deepspeed_train_config_zero2.json\",\n",
        "    # \"deepspeed_zero3\": False,\n",
        "    # \"deepspeed_train_config_zero3_path\":\"deepspeed_train_config_zero3.json\",\n",
        "    # \"deepspeed_zero3_infinity\": False,\n",
        "    # \"deepspeed_train_config_zero3_infinity_path\":\"deepspeed_train_config_zero3_infinity.json\",\n",
        "}"
      ]
    },
    {
      "cell_type": "code",
      "execution_count": 5,
      "metadata": {},
      "outputs": [],
      "source": [
        "# set deepspeed config\n",
        "deepspeed_zero2_config = {\n",
        "  \"zero_optimization\": {\n",
        "    \"stage\": 2\n",
        "  },\n",
        "  \"train_batch_size\": 1,\n",
        "  \"eval_batch_size\": 1\n",
        "}"
      ]
    },
    {
      "cell_type": "code",
      "execution_count": 6,
      "metadata": {},
      "outputs": [
        {
          "name": "stderr",
          "output_type": "stream",
          "text": [
            "/home/ubuntu/python_project/sample/.venv/lib/python3.10/site-packages/tqdm/auto.py:21: TqdmWarning: IProgress not found. Please update jupyter and ipywidgets. See https://ipywidgets.readthedocs.io/en/stable/user_install.html\n",
            "  from .autonotebook import tqdm as notebook_tqdm\n"
          ]
        }
      ],
      "source": [
        "from transformers import AutoTokenizer, AutoModelForCausalLM, BitsAndBytesConfig"
      ]
    },
    {
      "cell_type": "code",
      "execution_count": 7,
      "metadata": {
        "id": "h-yY9gzgfGPT"
      },
      "outputs": [
        {
          "name": "stdout",
          "output_type": "stream",
          "text": [
            "[2025-06-24 16:24:06,243] [INFO] [real_accelerator.py:239:get_accelerator] Setting ds_accelerator to cuda (auto detect)\n"
          ]
        }
      ],
      "source": [
        "# load model, tokenizer\n",
        "tokenizer = AutoTokenizer.from_pretrained(default_environment_variables[\"model_name\"])\n",
        "model = AutoModelForCausalLM.from_pretrained(default_environment_variables[\"model_name\"])"
      ]
    },
    {
      "cell_type": "code",
      "execution_count": 8,
      "metadata": {},
      "outputs": [],
      "source": [
        "# set tokenizer special token\n",
        "tokenizer.pad_token_id = tokenizer.eos_token_id"
      ]
    },
    {
      "cell_type": "code",
      "execution_count": 9,
      "metadata": {},
      "outputs": [],
      "source": [
        "from peft import LoraConfig, get_peft_model, TaskType"
      ]
    },
    {
      "cell_type": "code",
      "execution_count": 10,
      "metadata": {},
      "outputs": [],
      "source": [
        "# lora setting\n",
        "peft_config = LoraConfig(\n",
        "    r=default_environment_variables[\"lora_r\"],\n",
        "    lora_alpha=default_environment_variables[\"lora_alpha\"],\n",
        "    target_modules=default_environment_variables[\"lora_target_modules\"],\n",
        "    lora_dropout=default_environment_variables[\"lora_dropout\"],\n",
        "    bias=default_environment_variables[\"lora_bias\"],\n",
        "    task_type=TaskType.CAUSAL_LM\n",
        ")\n",
        "model = get_peft_model(model, peft_config)"
      ]
    },
    {
      "cell_type": "code",
      "execution_count": 11,
      "metadata": {},
      "outputs": [
        {
          "name": "stdout",
          "output_type": "stream",
          "text": [
            "\n",
            "=== PEFT Model Information ===\n",
            "trainable params: 45,088,768 || all params: 1,280,903,168 || trainable%: 3.5201\n",
            "None\n"
          ]
        }
      ],
      "source": [
        "# check trainable parameters\n",
        "if hasattr(model, 'print_trainable_parameters'):\n",
        "    print(\"\\n=== PEFT Model Information ===\")\n",
        "    print(model.print_trainable_parameters())"
      ]
    },
    {
      "cell_type": "code",
      "execution_count": 12,
      "metadata": {
        "id": "h2TFosyUmOkG"
      },
      "outputs": [],
      "source": [
        "# read dataset\n",
        "import pandas\n",
        "import json\n",
        "\n",
        "def load_alpaca_dataset():\n",
        "  with open(default_environment_variables[\"dataset\"], 'r', encoding='utf-8') as f:\n",
        "    data = json.load(f)\n",
        "\n",
        "  dataframe = pandas.DataFrame(data)\n",
        "  dataframe = dataframe[['instruction', 'input', 'output']]\n",
        "  dataframe.head(100)\n",
        "  return dataframe"
      ]
    },
    {
      "cell_type": "code",
      "execution_count": 13,
      "metadata": {
        "id": "vTzHrRXarBof"
      },
      "outputs": [
        {
          "name": "stdout",
          "output_type": "stream",
          "text": [
            "                                         instruction input  \\\n",
            "0               Give three tips for staying healthy.         \n",
            "1                 What are the three primary colors?         \n",
            "2                 Describe the structure of an atom.         \n",
            "3                   How can we reduce air pollution?         \n",
            "4  Describe a time when you had to make a difficu...         \n",
            "\n",
            "                                              output  \n",
            "0  1.Eat a balanced diet and make sure to include...  \n",
            "1  The three primary colors are red, blue, and ye...  \n",
            "2  An atom is made up of a nucleus, which contain...  \n",
            "3  There are a number of ways to reduce air pollu...  \n",
            "4  I had to make a difficult decision when I was ...  \n"
          ]
        }
      ],
      "source": [
        "dataframe = load_alpaca_dataset()\n",
        "print(dataframe.head())"
      ]
    },
    {
      "cell_type": "code",
      "execution_count": 14,
      "metadata": {
        "id": "DClBMJJqu2Mi"
      },
      "outputs": [],
      "source": [
        "# apply dataformat\n",
        "def apply_dataset_dataformat(dataframe):\n",
        "    def format_instruction(row):\n",
        "        if row['input']:\n",
        "            text = f\"###instruction:\\n{row['instruction']}\\n###input:\\n{row['input']}\\n###output:\\n{row['output']}\"\n",
        "        else:\n",
        "            text = f\"###instruction:\\n{row['instruction']}\\n###output:\\n{row['output']}\"\n",
        "        return text\n",
        "    \n",
        "    formated_dataframe = dataframe.apply(format_instruction, axis=1)\n",
        "    return formated_dataframe"
      ]
    },
    {
      "cell_type": "code",
      "execution_count": 15,
      "metadata": {
        "id": "ZwiG0asdwHw7"
      },
      "outputs": [
        {
          "name": "stdout",
          "output_type": "stream",
          "text": [
            "0    ###instruction:\\nGive three tips for staying h...\n",
            "1    ###instruction:\\nWhat are the three primary co...\n",
            "2    ###instruction:\\nDescribe the structure of an ...\n",
            "3    ###instruction:\\nHow can we reduce air polluti...\n",
            "4    ###instruction:\\nDescribe a time when you had ...\n",
            "dtype: object\n"
          ]
        }
      ],
      "source": [
        "formated_dataframe = apply_dataset_dataformat(dataframe)\n",
        "print(formated_dataframe.head())"
      ]
    },
    {
      "cell_type": "code",
      "execution_count": 16,
      "metadata": {
        "id": "rSRZWox1oiUk"
      },
      "outputs": [],
      "source": [
        "# split dataset\n",
        "def split_alpaca_dataset(dataframe):\n",
        "  total_size_dataset = dataframe.sample(frac=default_environment_variables[\"apply_dataset_rate\"])\n",
        "  total_size_count = len(total_size_dataset)\n",
        "\n",
        "  train_size = int(len(total_size_dataset) * default_environment_variables[\"dataset_train_rate\"])\n",
        "  validation_size = int(len(total_size_dataset) * default_environment_variables[\"dataset_validation_rate\"])\n",
        "  test_size = total_size_count - (train_size + validation_size)\n",
        "\n",
        "  train_dataset = total_size_dataset.iloc[:train_size]\n",
        "  validation_dataset = total_size_dataset.iloc[train_size:train_size + validation_size]\n",
        "  test_dataset = total_size_dataset.iloc[train_size + validation_size:]\n",
        "\n",
        "  return train_dataset, validation_dataset, test_dataset"
      ]
    },
    {
      "cell_type": "code",
      "execution_count": 17,
      "metadata": {
        "id": "NVHCw-yVt-o8"
      },
      "outputs": [
        {
          "name": "stdout",
          "output_type": "stream",
          "text": [
            "Train dataset size: 4160\n",
            "Validation dataset size: 520\n",
            "Test dataset size: 520\n"
          ]
        }
      ],
      "source": [
        "train_dataset, validation_dataset, test_dataset = split_alpaca_dataset(load_alpaca_dataset())\n",
        "print(f\"Train dataset size: {len(train_dataset)}\")\n",
        "print(f\"Validation dataset size: {len(validation_dataset)}\")\n",
        "print(f\"Test dataset size: {len(test_dataset)}\")"
      ]
    },
    {
      "cell_type": "code",
      "execution_count": 18,
      "metadata": {
        "id": "7LTURCm04evv"
      },
      "outputs": [],
      "source": [
        "from transformers import pipeline"
      ]
    },
    {
      "cell_type": "code",
      "execution_count": 19,
      "metadata": {
        "id": "x9LcZwQh4WKj"
      },
      "outputs": [
        {
          "name": "stderr",
          "output_type": "stream",
          "text": [
            "Device set to use cuda:0\n",
            "The model 'PeftModelForCausalLM' is not supported for text-generation. Supported models are ['AriaTextForCausalLM', 'BambaForCausalLM', 'BartForCausalLM', 'BertLMHeadModel', 'BertGenerationDecoder', 'BigBirdForCausalLM', 'BigBirdPegasusForCausalLM', 'BioGptForCausalLM', 'BlenderbotForCausalLM', 'BlenderbotSmallForCausalLM', 'BloomForCausalLM', 'CamembertForCausalLM', 'LlamaForCausalLM', 'CodeGenForCausalLM', 'CohereForCausalLM', 'Cohere2ForCausalLM', 'CpmAntForCausalLM', 'CTRLLMHeadModel', 'Data2VecTextForCausalLM', 'DbrxForCausalLM', 'DeepseekV3ForCausalLM', 'DiffLlamaForCausalLM', 'ElectraForCausalLM', 'Emu3ForCausalLM', 'ErnieForCausalLM', 'FalconForCausalLM', 'FalconMambaForCausalLM', 'FuyuForCausalLM', 'GemmaForCausalLM', 'Gemma2ForCausalLM', 'Gemma3ForConditionalGeneration', 'Gemma3ForCausalLM', 'GitForCausalLM', 'GlmForCausalLM', 'Glm4ForCausalLM', 'GotOcr2ForConditionalGeneration', 'GPT2LMHeadModel', 'GPT2LMHeadModel', 'GPTBigCodeForCausalLM', 'GPTNeoForCausalLM', 'GPTNeoXForCausalLM', 'GPTNeoXJapaneseForCausalLM', 'GPTJForCausalLM', 'GraniteForCausalLM', 'GraniteMoeForCausalLM', 'GraniteMoeSharedForCausalLM', 'HeliumForCausalLM', 'JambaForCausalLM', 'JetMoeForCausalLM', 'LlamaForCausalLM', 'Llama4ForCausalLM', 'Llama4ForCausalLM', 'MambaForCausalLM', 'Mamba2ForCausalLM', 'MarianForCausalLM', 'MBartForCausalLM', 'MegaForCausalLM', 'MegatronBertForCausalLM', 'MistralForCausalLM', 'MixtralForCausalLM', 'MllamaForCausalLM', 'MoshiForCausalLM', 'MptForCausalLM', 'MusicgenForCausalLM', 'MusicgenMelodyForCausalLM', 'MvpForCausalLM', 'NemotronForCausalLM', 'OlmoForCausalLM', 'Olmo2ForCausalLM', 'OlmoeForCausalLM', 'OpenLlamaForCausalLM', 'OpenAIGPTLMHeadModel', 'OPTForCausalLM', 'PegasusForCausalLM', 'PersimmonForCausalLM', 'PhiForCausalLM', 'Phi3ForCausalLM', 'Phi4MultimodalForCausalLM', 'PhimoeForCausalLM', 'PLBartForCausalLM', 'ProphetNetForCausalLM', 'QDQBertLMHeadModel', 'Qwen2ForCausalLM', 'Qwen2MoeForCausalLM', 'Qwen3ForCausalLM', 'Qwen3MoeForCausalLM', 'RecurrentGemmaForCausalLM', 'ReformerModelWithLMHead', 'RemBertForCausalLM', 'RobertaForCausalLM', 'RobertaPreLayerNormForCausalLM', 'RoCBertForCausalLM', 'RoFormerForCausalLM', 'RwkvForCausalLM', 'Speech2Text2ForCausalLM', 'StableLmForCausalLM', 'Starcoder2ForCausalLM', 'TransfoXLLMHeadModel', 'TrOCRForCausalLM', 'WhisperForCausalLM', 'XGLMForCausalLM', 'XLMWithLMHeadModel', 'XLMProphetNetForCausalLM', 'XLMRobertaForCausalLM', 'XLMRobertaXLForCausalLM', 'XLNetLMHeadModel', 'XmodForCausalLM', 'ZambaForCausalLM', 'Zamba2ForCausalLM'].\n",
            "Truncation was not explicitly activated but `max_length` is provided a specific value, please use `truncation=True` to explicitly truncate examples to max length. Defaulting to 'longest_first' truncation strategy. If you encode pairs of sequences (GLUE-style) with the tokenizer you can select this strategy more precisely by providing a specific strategy to `truncation`.\n"
          ]
        },
        {
          "name": "stdout",
          "output_type": "stream",
          "text": [
            "\n",
            "###instruction:\n",
            "Please answer the questions.\n",
            "###input:\n",
            "What is AI?\n",
            "###output:\n",
            "1. The answer to the question\n",
            "\n",
            "###input:\n",
            "2. What is machine learning?\n",
            "###output:\n",
            "1. The answer to the question\n",
            "\n",
            "###input:\n",
            "3. What is deep learning?\n",
            "###output:\n",
            "1. The answer to the question\n",
            "\n",
            "###input:\n",
            "4. What is NLP?\n",
            "###output:\n",
            "1. The answer to the question\n",
            "\n",
            "###input:\n",
            "5. What is computer vision\n"
          ]
        }
      ],
      "source": [
        "# check befor model output\n",
        "test_qa_pipeline = pipeline(\"text-generation\", model=model, tokenizer=tokenizer, max_length=100, eos_token_id=tokenizer.eos_token_id, pad_token_id=tokenizer.pad_token_id)\n",
        "prompt = \"\"\"\n",
        "###instruction:\\nPlease answer the questions.\\n###input:\\nWhat is AI?\\n###output:\n",
        "\"\"\"\n",
        "generate_text = test_qa_pipeline(prompt, max_length=100, num_return_sequences=1, temperature=0.8)[0][\"generated_text\"]\n",
        "print(generate_text)"
      ]
    },
    {
      "cell_type": "code",
      "execution_count": 20,
      "metadata": {},
      "outputs": [],
      "source": [
        "from trl import DataCollatorForCompletionOnlyLM"
      ]
    },
    {
      "cell_type": "code",
      "execution_count": 21,
      "metadata": {},
      "outputs": [],
      "source": [
        "# DataCollator setting\n",
        "collator = DataCollatorForCompletionOnlyLM(response_template=\"###output:\\n\", tokenizer=tokenizer)"
      ]
    },
    {
      "cell_type": "code",
      "execution_count": 22,
      "metadata": {},
      "outputs": [],
      "source": [
        "from transformers import TrainingArguments"
      ]
    },
    {
      "cell_type": "code",
      "execution_count": 23,
      "metadata": {
        "id": "tjjSVqN_3GFe"
      },
      "outputs": [],
      "source": [
        "# set training_args\n",
        "training_arguments = TrainingArguments(\n",
        "    output_dir=default_environment_variables[\"output_dir\"],\n",
        "    num_train_epochs=default_environment_variables[\"num_train_epochs\"],\n",
        "    per_device_train_batch_size=default_environment_variables[\"per_device_train_batch_size\"],\n",
        "    per_device_eval_batch_size=default_environment_variables[\"per_device_eval_batch_size\"],\n",
        "    gradient_accumulation_steps=default_environment_variables[\"gradient_accumulation_steps\"],\n",
        "    max_grad_norm=default_environment_variables[\"max_grad_norm\"],\n",
        "    optim=default_environment_variables[\"optim\"],\n",
        "    learning_rate=default_environment_variables[\"learning_rate\"],\n",
        "    weight_decay=default_environment_variables[\"weight_decay\"],\n",
        "    lr_scheduler_type=default_environment_variables[\"lr_scheduler_type\"],\n",
        "    warmup_steps=default_environment_variables[\"warmup_steps\"],\n",
        "    logging_steps=default_environment_variables[\"logging_steps\"],\n",
        "    seed=default_environment_variables[\"seed\"],\n",
        "    fp16=default_environment_variables[\"fp16\"],\n",
        "    bf16=default_environment_variables[\"bf16\"],\n",
        "    deepspeed=deepspeed_zero2_config,\n",
        "    save_strategy=default_environment_variables[\"save_strategy\"],\n",
        "    save_steps=default_environment_variables[\"save_steps\"],\n",
        "    save_total_limit=default_environment_variables[\"save_total_limit\"],\n",
        "    eval_strategy=default_environment_variables[\"eval_strategy\"],\n",
        "    eval_steps=default_environment_variables[\"eval_steps\"],\n",
        "    do_eval=default_environment_variables[\"do_eval\"]\n",
        ")"
      ]
    },
    {
      "cell_type": "code",
      "execution_count": 24,
      "metadata": {},
      "outputs": [
        {
          "name": "stdout",
          "output_type": "stream",
          "text": [
            "train_formatted: 1260     ###instruction:\\nTake the following noun and t...\n",
            "12246    ###instruction:\\nCreate a fill in the blank qu...\n",
            "21287    ###instruction:\\nCompare and contrast European...\n",
            "47374    ###instruction:\\nCompose a haiku that reflects...\n",
            "559      ###instruction:\\nShape the following sentence ...\n",
            "                               ...                        \n",
            "5010     ###instruction:\\nWrite a set of instructions f...\n",
            "17159    ###instruction:\\nSearch the web for reviews re...\n",
            "22363    ###instruction:\\nDescribe the article in one o...\n",
            "39670    ###instruction:\\nWrite a sentence about the ef...\n",
            "12646    ###instruction:\\nIdentify three endangered spe...\n",
            "Length: 4160, dtype: object\n",
            "validation_formatted: 45612    ###instruction:\\nDescribe the surface of Mars....\n",
            "400      ###instruction:\\nCome up with a creative tagli...\n",
            "41913    ###instruction:\\nUse a single word to describe...\n",
            "38522    ###instruction:\\nDescribe the effects of eatin...\n",
            "16567    ###instruction:\\nDescribe the structure of tab...\n",
            "                               ...                        \n",
            "30038    ###instruction:\\nSuggest a marketing strategy ...\n",
            "7253     ###instruction:\\nRecommend a famous novel for ...\n",
            "10330    ###instruction:\\nGiven an article, summarize i...\n",
            "7692     ###instruction:\\nDescribe the sound of thunder...\n",
            "44577    ###instruction:\\nName 5 uses of water.\\n###out...\n",
            "Length: 520, dtype: object\n"
          ]
        }
      ],
      "source": [
        "# format dataset\n",
        "train_formatted = apply_dataset_dataformat(train_dataset)\n",
        "print(f\"train_formatted: {train_formatted}\")\n",
        "validation_formatted = apply_dataset_dataformat(validation_dataset)\n",
        "print(f\"validation_formatted: {validation_formatted}\")"
      ]
    },
    {
      "cell_type": "code",
      "execution_count": 25,
      "metadata": {},
      "outputs": [],
      "source": [
        "from trl import SFTTrainer\n",
        "from datasets import Dataset"
      ]
    },
    {
      "cell_type": "code",
      "execution_count": 26,
      "metadata": {},
      "outputs": [
        {
          "name": "stdout",
          "output_type": "stream",
          "text": [
            "train_hf_dataset: Dataset({\n",
            "    features: ['text'],\n",
            "    num_rows: 4160\n",
            "})\n",
            "validation_hf_dataset: Dataset({\n",
            "    features: ['text'],\n",
            "    num_rows: 520\n",
            "})\n"
          ]
        }
      ],
      "source": [
        "train_hf_dataset = Dataset.from_dict({\"text\": train_formatted.tolist()})\n",
        "print(f\"train_hf_dataset: {train_hf_dataset}\")\n",
        "validation_hf_dataset = Dataset.from_dict({\"text\": validation_formatted.tolist()})\n",
        "print(f\"validation_hf_dataset: {validation_hf_dataset}\")"
      ]
    },
    {
      "cell_type": "code",
      "execution_count": 27,
      "metadata": {},
      "outputs": [
        {
          "name": "stderr",
          "output_type": "stream",
          "text": [
            "Adding EOS to train dataset: 100%|██████████| 4160/4160 [00:00<00:00, 81405.56 examples/s]\n",
            "Tokenizing train dataset: 100%|██████████| 4160/4160 [00:00<00:00, 7395.85 examples/s]\n",
            "Truncating train dataset: 100%|██████████| 4160/4160 [00:00<00:00, 1217606.74 examples/s]\n",
            "Adding EOS to eval dataset: 100%|██████████| 520/520 [00:00<00:00, 72752.20 examples/s]\n",
            "Tokenizing eval dataset: 100%|██████████| 520/520 [00:00<00:00, 7289.61 examples/s]\n",
            "Truncating eval dataset: 100%|██████████| 520/520 [00:00<00:00, 408663.68 examples/s]\n",
            "No label_names provided for model class `PeftModelForCausalLM`. Since `PeftModel` hides base models input arguments, if label_names is not given, label_names can't be set automatically within `Trainer`. Note that empty label_names list will be used instead.\n"
          ]
        }
      ],
      "source": [
        "# SFTTrainer setting\n",
        "trainer = SFTTrainer(\n",
        "    model=model,\n",
        "    train_dataset=train_hf_dataset,\n",
        "    eval_dataset=validation_hf_dataset,\n",
        "    args=training_arguments,\n",
        "    data_collator=collator,\n",
        ")"
      ]
    },
    {
      "cell_type": "code",
      "execution_count": null,
      "metadata": {},
      "outputs": [
        {
          "data": {
            "text/html": [
              "\n",
              "    <div>\n",
              "      \n",
              "      <progress value='1001' max='4160' style='width:300px; height:20px; vertical-align: middle;'></progress>\n",
              "      [ 999/4160 00:56 < 03:00, 17.51 it/s, Epoch 0.24/1]\n",
              "    </div>\n",
              "    <table border=\"1\" class=\"dataframe\">\n",
              "  <thead>\n",
              " <tr style=\"text-align: left;\">\n",
              "      <th>Step</th>\n",
              "      <th>Training Loss</th>\n",
              "      <th>Validation Loss</th>\n",
              "    </tr>\n",
              "  </thead>\n",
              "  <tbody>\n",
              "  </tbody>\n",
              "</table><p>\n",
              "    <div>\n",
              "      \n",
              "      <progress value='431' max='520' style='width:300px; height:20px; vertical-align: middle;'></progress>\n",
              "      [431/520 00:05 < 00:01, 80.09 it/s]\n",
              "    </div>\n",
              "    "
            ],
            "text/plain": [
              "<IPython.core.display.HTML object>"
            ]
          },
          "metadata": {},
          "output_type": "display_data"
        }
      ],
      "source": [
        "# train\n",
        "trainer.train()"
      ]
    },
    {
      "cell_type": "code",
      "execution_count": null,
      "metadata": {},
      "outputs": [],
      "source": [
        "trainer.save_model() # save model\n",
        "trainer.save_state() # save metrics"
      ]
    }
  ],
  "metadata": {
    "colab": {
      "provenance": []
    },
    "kernelspec": {
      "display_name": ".venv",
      "language": "python",
      "name": "python3"
    },
    "language_info": {
      "codemirror_mode": {
        "name": "ipython",
        "version": 3
      },
      "file_extension": ".py",
      "mimetype": "text/x-python",
      "name": "python",
      "nbconvert_exporter": "python",
      "pygments_lexer": "ipython3",
      "version": "3.10.12"
    }
  },
  "nbformat": 4,
  "nbformat_minor": 0
}

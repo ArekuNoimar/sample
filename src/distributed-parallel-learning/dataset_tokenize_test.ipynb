{
  "cells": [
    {
      "cell_type": "code",
      "execution_count": 1,
      "metadata": {},
      "outputs": [
        {
          "name": "stdout",
          "output_type": "stream",
          "text": [
            "パッケージリストを読み込んでいます... 完了0%\n",
            "依存関係ツリーを作成しています... 完了%         \n",
            "状態情報を読み取っています... 完了          \n",
            "mpich はすでに最新バージョン (4.0-3) です。\n",
            "アップグレード: 0 個、新規インストール: 0 個、削除: 0 個、保留: 24 個。\n"
          ]
        }
      ],
      "source": [
        "password = input(\"Enter the password: \")\n",
        "!echo {password} | sudo -S apt-get install mpich -y"
      ]
    },
    {
      "cell_type": "code",
      "execution_count": 2,
      "metadata": {},
      "outputs": [],
      "source": [
        "# set env\n",
        "import os\n",
        "os.environ['PYTORCH_CUDA_ALLOC_CONF'] = 'expandable_segments:True'\n",
        "os.environ[\"RANK\"] = \"0\"\n",
        "os.environ[\"WORLD_SIZE\"] = \"1\"\n",
        "os.environ[\"LOCAL_RANK\"] = \"0\"\n",
        "os.environ[\"MASTER_ADDR\"] = \"localhost\"\n",
        "os.environ[\"MASTER_PORT\"] = \"29500\""
      ]
    },
    {
      "cell_type": "code",
      "execution_count": 3,
      "metadata": {
        "colab": {
          "base_uri": "https://localhost:8080/",
          "height": 1000
        },
        "id": "2-4fmBm3eEUu",
        "outputId": "091130b4-59ff-4618-f4be-60020d408389"
      },
      "outputs": [
        {
          "name": "stdout",
          "output_type": "stream",
          "text": [
            "Looking in indexes: https://download.pytorch.org/whl/cu124\n",
            "Requirement already satisfied: torch in /home/ubuntu/python_project/sample/.venv/lib/python3.10/site-packages (2.6.0+cu124)\n",
            "Requirement already satisfied: torchvision in /home/ubuntu/python_project/sample/.venv/lib/python3.10/site-packages (0.21.0+cu124)\n",
            "Requirement already satisfied: torchaudio in /home/ubuntu/python_project/sample/.venv/lib/python3.10/site-packages (2.6.0+cu124)\n",
            "Requirement already satisfied: nvidia-nvjitlink-cu12==12.4.127 in /home/ubuntu/python_project/sample/.venv/lib/python3.10/site-packages (from torch) (12.4.127)\n",
            "Requirement already satisfied: nvidia-cuda-cupti-cu12==12.4.127 in /home/ubuntu/python_project/sample/.venv/lib/python3.10/site-packages (from torch) (12.4.127)\n",
            "Requirement already satisfied: nvidia-cusparse-cu12==12.3.1.170 in /home/ubuntu/python_project/sample/.venv/lib/python3.10/site-packages (from torch) (12.3.1.170)\n",
            "Requirement already satisfied: networkx in /home/ubuntu/python_project/sample/.venv/lib/python3.10/site-packages (from torch) (3.3)\n",
            "Requirement already satisfied: nvidia-cuda-runtime-cu12==12.4.127 in /home/ubuntu/python_project/sample/.venv/lib/python3.10/site-packages (from torch) (12.4.127)\n",
            "Requirement already satisfied: nvidia-cudnn-cu12==9.1.0.70 in /home/ubuntu/python_project/sample/.venv/lib/python3.10/site-packages (from torch) (9.1.0.70)\n",
            "Requirement already satisfied: triton==3.2.0 in /home/ubuntu/python_project/sample/.venv/lib/python3.10/site-packages (from torch) (3.2.0)\n",
            "Requirement already satisfied: nvidia-cusolver-cu12==11.6.1.9 in /home/ubuntu/python_project/sample/.venv/lib/python3.10/site-packages (from torch) (11.6.1.9)\n",
            "Requirement already satisfied: nvidia-cusparselt-cu12==0.6.2 in /home/ubuntu/python_project/sample/.venv/lib/python3.10/site-packages (from torch) (0.6.2)\n",
            "Requirement already satisfied: nvidia-nccl-cu12==2.21.5 in /home/ubuntu/python_project/sample/.venv/lib/python3.10/site-packages (from torch) (2.21.5)\n",
            "Requirement already satisfied: typing-extensions>=4.10.0 in /home/ubuntu/python_project/sample/.venv/lib/python3.10/site-packages (from torch) (4.14.0)\n",
            "Requirement already satisfied: nvidia-nvtx-cu12==12.4.127 in /home/ubuntu/python_project/sample/.venv/lib/python3.10/site-packages (from torch) (12.4.127)\n",
            "Requirement already satisfied: filelock in /home/ubuntu/python_project/sample/.venv/lib/python3.10/site-packages (from torch) (3.13.1)\n",
            "Requirement already satisfied: nvidia-cufft-cu12==11.2.1.3 in /home/ubuntu/python_project/sample/.venv/lib/python3.10/site-packages (from torch) (11.2.1.3)\n",
            "Requirement already satisfied: sympy==1.13.1 in /home/ubuntu/python_project/sample/.venv/lib/python3.10/site-packages (from torch) (1.13.1)\n",
            "Requirement already satisfied: fsspec in /home/ubuntu/python_project/sample/.venv/lib/python3.10/site-packages (from torch) (2024.6.1)\n",
            "Requirement already satisfied: jinja2 in /home/ubuntu/python_project/sample/.venv/lib/python3.10/site-packages (from torch) (3.1.4)\n",
            "Requirement already satisfied: nvidia-curand-cu12==10.3.5.147 in /home/ubuntu/python_project/sample/.venv/lib/python3.10/site-packages (from torch) (10.3.5.147)\n",
            "Requirement already satisfied: nvidia-cublas-cu12==12.4.5.8 in /home/ubuntu/python_project/sample/.venv/lib/python3.10/site-packages (from torch) (12.4.5.8)\n",
            "Requirement already satisfied: nvidia-cuda-nvrtc-cu12==12.4.127 in /home/ubuntu/python_project/sample/.venv/lib/python3.10/site-packages (from torch) (12.4.127)\n",
            "Requirement already satisfied: mpmath<1.4,>=1.1.0 in /home/ubuntu/python_project/sample/.venv/lib/python3.10/site-packages (from sympy==1.13.1->torch) (1.3.0)\n",
            "Requirement already satisfied: numpy in /home/ubuntu/python_project/sample/.venv/lib/python3.10/site-packages (from torchvision) (1.26.4)\n",
            "Requirement already satisfied: pillow!=8.3.*,>=5.3.0 in /home/ubuntu/python_project/sample/.venv/lib/python3.10/site-packages (from torchvision) (11.0.0)\n",
            "Requirement already satisfied: MarkupSafe>=2.0 in /home/ubuntu/python_project/sample/.venv/lib/python3.10/site-packages (from jinja2->torch) (2.1.5)\n",
            "Requirement already satisfied: transformers==4.51.3 in /home/ubuntu/python_project/sample/.venv/lib/python3.10/site-packages (4.51.3)\n",
            "Requirement already satisfied: tqdm>=4.27 in /home/ubuntu/python_project/sample/.venv/lib/python3.10/site-packages (from transformers==4.51.3) (4.67.1)\n",
            "Requirement already satisfied: tokenizers<0.22,>=0.21 in /home/ubuntu/python_project/sample/.venv/lib/python3.10/site-packages (from transformers==4.51.3) (0.21.1)\n",
            "Requirement already satisfied: safetensors>=0.4.3 in /home/ubuntu/python_project/sample/.venv/lib/python3.10/site-packages (from transformers==4.51.3) (0.5.3)\n",
            "Requirement already satisfied: regex!=2019.12.17 in /home/ubuntu/python_project/sample/.venv/lib/python3.10/site-packages (from transformers==4.51.3) (2024.11.6)\n",
            "Requirement already satisfied: huggingface-hub<1.0,>=0.30.0 in /home/ubuntu/python_project/sample/.venv/lib/python3.10/site-packages (from transformers==4.51.3) (0.30.2)\n",
            "Requirement already satisfied: requests in /home/ubuntu/python_project/sample/.venv/lib/python3.10/site-packages (from transformers==4.51.3) (2.32.4)\n",
            "Requirement already satisfied: packaging>=20.0 in /home/ubuntu/python_project/sample/.venv/lib/python3.10/site-packages (from transformers==4.51.3) (25.0)\n",
            "Requirement already satisfied: pyyaml>=5.1 in /home/ubuntu/python_project/sample/.venv/lib/python3.10/site-packages (from transformers==4.51.3) (6.0.2)\n",
            "Requirement already satisfied: numpy>=1.17 in /home/ubuntu/python_project/sample/.venv/lib/python3.10/site-packages (from transformers==4.51.3) (1.26.4)\n",
            "Requirement already satisfied: filelock in /home/ubuntu/python_project/sample/.venv/lib/python3.10/site-packages (from transformers==4.51.3) (3.13.1)\n",
            "Requirement already satisfied: fsspec>=2023.5.0 in /home/ubuntu/python_project/sample/.venv/lib/python3.10/site-packages (from huggingface-hub<1.0,>=0.30.0->transformers==4.51.3) (2024.6.1)\n",
            "Requirement already satisfied: typing-extensions>=3.7.4.3 in /home/ubuntu/python_project/sample/.venv/lib/python3.10/site-packages (from huggingface-hub<1.0,>=0.30.0->transformers==4.51.3) (4.14.0)\n",
            "Requirement already satisfied: certifi>=2017.4.17 in /home/ubuntu/python_project/sample/.venv/lib/python3.10/site-packages (from requests->transformers==4.51.3) (2025.6.15)\n",
            "Requirement already satisfied: urllib3<3,>=1.21.1 in /home/ubuntu/python_project/sample/.venv/lib/python3.10/site-packages (from requests->transformers==4.51.3) (2.5.0)\n",
            "Requirement already satisfied: idna<4,>=2.5 in /home/ubuntu/python_project/sample/.venv/lib/python3.10/site-packages (from requests->transformers==4.51.3) (3.10)\n",
            "Requirement already satisfied: charset_normalizer<4,>=2 in /home/ubuntu/python_project/sample/.venv/lib/python3.10/site-packages (from requests->transformers==4.51.3) (3.4.2)\n",
            "Requirement already satisfied: numpy==1.26.4 in /home/ubuntu/python_project/sample/.venv/lib/python3.10/site-packages (1.26.4)\n",
            "Requirement already satisfied: datasets==3.5.0 in /home/ubuntu/python_project/sample/.venv/lib/python3.10/site-packages (3.5.0)\n",
            "Requirement already satisfied: filelock in /home/ubuntu/python_project/sample/.venv/lib/python3.10/site-packages (from datasets==3.5.0) (3.13.1)\n",
            "Requirement already satisfied: multiprocess<0.70.17 in /home/ubuntu/python_project/sample/.venv/lib/python3.10/site-packages (from datasets==3.5.0) (0.70.16)\n",
            "Requirement already satisfied: fsspec[http]<=2024.12.0,>=2023.1.0 in /home/ubuntu/python_project/sample/.venv/lib/python3.10/site-packages (from datasets==3.5.0) (2024.6.1)\n",
            "Requirement already satisfied: xxhash in /home/ubuntu/python_project/sample/.venv/lib/python3.10/site-packages (from datasets==3.5.0) (3.5.0)\n",
            "Requirement already satisfied: huggingface-hub>=0.24.0 in /home/ubuntu/python_project/sample/.venv/lib/python3.10/site-packages (from datasets==3.5.0) (0.30.2)\n",
            "Requirement already satisfied: pandas in /home/ubuntu/python_project/sample/.venv/lib/python3.10/site-packages (from datasets==3.5.0) (2.2.3)\n",
            "Requirement already satisfied: pyyaml>=5.1 in /home/ubuntu/python_project/sample/.venv/lib/python3.10/site-packages (from datasets==3.5.0) (6.0.2)\n",
            "Requirement already satisfied: requests>=2.32.2 in /home/ubuntu/python_project/sample/.venv/lib/python3.10/site-packages (from datasets==3.5.0) (2.32.4)\n",
            "Requirement already satisfied: dill<0.3.9,>=0.3.0 in /home/ubuntu/python_project/sample/.venv/lib/python3.10/site-packages (from datasets==3.5.0) (0.3.8)\n",
            "Requirement already satisfied: pyarrow>=15.0.0 in /home/ubuntu/python_project/sample/.venv/lib/python3.10/site-packages (from datasets==3.5.0) (20.0.0)\n",
            "Requirement already satisfied: packaging in /home/ubuntu/python_project/sample/.venv/lib/python3.10/site-packages (from datasets==3.5.0) (25.0)\n",
            "Requirement already satisfied: aiohttp in /home/ubuntu/python_project/sample/.venv/lib/python3.10/site-packages (from datasets==3.5.0) (3.12.13)\n",
            "Requirement already satisfied: numpy>=1.17 in /home/ubuntu/python_project/sample/.venv/lib/python3.10/site-packages (from datasets==3.5.0) (1.26.4)\n",
            "Requirement already satisfied: tqdm>=4.66.3 in /home/ubuntu/python_project/sample/.venv/lib/python3.10/site-packages (from datasets==3.5.0) (4.67.1)\n",
            "Requirement already satisfied: frozenlist>=1.1.1 in /home/ubuntu/python_project/sample/.venv/lib/python3.10/site-packages (from aiohttp->datasets==3.5.0) (1.7.0)\n",
            "Requirement already satisfied: propcache>=0.2.0 in /home/ubuntu/python_project/sample/.venv/lib/python3.10/site-packages (from aiohttp->datasets==3.5.0) (0.3.2)\n",
            "Requirement already satisfied: attrs>=17.3.0 in /home/ubuntu/python_project/sample/.venv/lib/python3.10/site-packages (from aiohttp->datasets==3.5.0) (25.3.0)\n",
            "Requirement already satisfied: aiohappyeyeballs>=2.5.0 in /home/ubuntu/python_project/sample/.venv/lib/python3.10/site-packages (from aiohttp->datasets==3.5.0) (2.6.1)\n",
            "Requirement already satisfied: async-timeout<6.0,>=4.0 in /home/ubuntu/python_project/sample/.venv/lib/python3.10/site-packages (from aiohttp->datasets==3.5.0) (5.0.1)\n",
            "Requirement already satisfied: aiosignal>=1.1.2 in /home/ubuntu/python_project/sample/.venv/lib/python3.10/site-packages (from aiohttp->datasets==3.5.0) (1.3.2)\n",
            "Requirement already satisfied: multidict<7.0,>=4.5 in /home/ubuntu/python_project/sample/.venv/lib/python3.10/site-packages (from aiohttp->datasets==3.5.0) (6.5.0)\n",
            "Requirement already satisfied: yarl<2.0,>=1.17.0 in /home/ubuntu/python_project/sample/.venv/lib/python3.10/site-packages (from aiohttp->datasets==3.5.0) (1.20.1)\n",
            "Requirement already satisfied: typing-extensions>=3.7.4.3 in /home/ubuntu/python_project/sample/.venv/lib/python3.10/site-packages (from huggingface-hub>=0.24.0->datasets==3.5.0) (4.14.0)\n",
            "Requirement already satisfied: charset_normalizer<4,>=2 in /home/ubuntu/python_project/sample/.venv/lib/python3.10/site-packages (from requests>=2.32.2->datasets==3.5.0) (3.4.2)\n",
            "Requirement already satisfied: idna<4,>=2.5 in /home/ubuntu/python_project/sample/.venv/lib/python3.10/site-packages (from requests>=2.32.2->datasets==3.5.0) (3.10)\n",
            "Requirement already satisfied: certifi>=2017.4.17 in /home/ubuntu/python_project/sample/.venv/lib/python3.10/site-packages (from requests>=2.32.2->datasets==3.5.0) (2025.6.15)\n",
            "Requirement already satisfied: urllib3<3,>=1.21.1 in /home/ubuntu/python_project/sample/.venv/lib/python3.10/site-packages (from requests>=2.32.2->datasets==3.5.0) (2.5.0)\n",
            "Requirement already satisfied: tzdata>=2022.7 in /home/ubuntu/python_project/sample/.venv/lib/python3.10/site-packages (from pandas->datasets==3.5.0) (2025.2)\n",
            "Requirement already satisfied: pytz>=2020.1 in /home/ubuntu/python_project/sample/.venv/lib/python3.10/site-packages (from pandas->datasets==3.5.0) (2025.2)\n",
            "Requirement already satisfied: python-dateutil>=2.8.2 in /home/ubuntu/python_project/sample/.venv/lib/python3.10/site-packages (from pandas->datasets==3.5.0) (2.9.0.post0)\n",
            "Requirement already satisfied: six>=1.5 in /home/ubuntu/python_project/sample/.venv/lib/python3.10/site-packages (from python-dateutil>=2.8.2->pandas->datasets==3.5.0) (1.17.0)\n",
            "Requirement already satisfied: huggingface_hub[cli]==0.30.2 in /home/ubuntu/python_project/sample/.venv/lib/python3.10/site-packages (0.30.2)\n",
            "Requirement already satisfied: fsspec>=2023.5.0 in /home/ubuntu/python_project/sample/.venv/lib/python3.10/site-packages (from huggingface_hub[cli]==0.30.2) (2024.6.1)\n",
            "Requirement already satisfied: pyyaml>=5.1 in /home/ubuntu/python_project/sample/.venv/lib/python3.10/site-packages (from huggingface_hub[cli]==0.30.2) (6.0.2)\n",
            "Requirement already satisfied: requests in /home/ubuntu/python_project/sample/.venv/lib/python3.10/site-packages (from huggingface_hub[cli]==0.30.2) (2.32.4)\n",
            "Requirement already satisfied: packaging>=20.9 in /home/ubuntu/python_project/sample/.venv/lib/python3.10/site-packages (from huggingface_hub[cli]==0.30.2) (25.0)\n",
            "Requirement already satisfied: tqdm>=4.42.1 in /home/ubuntu/python_project/sample/.venv/lib/python3.10/site-packages (from huggingface_hub[cli]==0.30.2) (4.67.1)\n",
            "Requirement already satisfied: typing-extensions>=3.7.4.3 in /home/ubuntu/python_project/sample/.venv/lib/python3.10/site-packages (from huggingface_hub[cli]==0.30.2) (4.14.0)\n",
            "Requirement already satisfied: filelock in /home/ubuntu/python_project/sample/.venv/lib/python3.10/site-packages (from huggingface_hub[cli]==0.30.2) (3.13.1)\n",
            "Requirement already satisfied: InquirerPy==0.3.4 in /home/ubuntu/python_project/sample/.venv/lib/python3.10/site-packages (from huggingface_hub[cli]==0.30.2) (0.3.4)\n",
            "Requirement already satisfied: pfzy<0.4.0,>=0.3.1 in /home/ubuntu/python_project/sample/.venv/lib/python3.10/site-packages (from InquirerPy==0.3.4->huggingface_hub[cli]==0.30.2) (0.3.4)\n",
            "Requirement already satisfied: prompt-toolkit<4.0.0,>=3.0.1 in /home/ubuntu/python_project/sample/.venv/lib/python3.10/site-packages (from InquirerPy==0.3.4->huggingface_hub[cli]==0.30.2) (3.0.51)\n",
            "Requirement already satisfied: idna<4,>=2.5 in /home/ubuntu/python_project/sample/.venv/lib/python3.10/site-packages (from requests->huggingface_hub[cli]==0.30.2) (3.10)\n",
            "Requirement already satisfied: certifi>=2017.4.17 in /home/ubuntu/python_project/sample/.venv/lib/python3.10/site-packages (from requests->huggingface_hub[cli]==0.30.2) (2025.6.15)\n",
            "Requirement already satisfied: charset_normalizer<4,>=2 in /home/ubuntu/python_project/sample/.venv/lib/python3.10/site-packages (from requests->huggingface_hub[cli]==0.30.2) (3.4.2)\n",
            "Requirement already satisfied: urllib3<3,>=1.21.1 in /home/ubuntu/python_project/sample/.venv/lib/python3.10/site-packages (from requests->huggingface_hub[cli]==0.30.2) (2.5.0)\n",
            "Requirement already satisfied: wcwidth in /home/ubuntu/python_project/sample/.venv/lib/python3.10/site-packages (from prompt-toolkit<4.0.0,>=3.0.1->InquirerPy==0.3.4->huggingface_hub[cli]==0.30.2) (0.2.13)\n",
            "Requirement already satisfied: deepspeed==0.16.7 in /home/ubuntu/python_project/sample/.venv/lib/python3.10/site-packages (0.16.7)\n",
            "Requirement already satisfied: hjson in /home/ubuntu/python_project/sample/.venv/lib/python3.10/site-packages (from deepspeed==0.16.7) (3.1.0)\n",
            "Requirement already satisfied: ninja in /home/ubuntu/python_project/sample/.venv/lib/python3.10/site-packages (from deepspeed==0.16.7) (1.11.1.4)\n",
            "Requirement already satisfied: einops in /home/ubuntu/python_project/sample/.venv/lib/python3.10/site-packages (from deepspeed==0.16.7) (0.8.1)\n",
            "Requirement already satisfied: packaging>=20.0 in /home/ubuntu/python_project/sample/.venv/lib/python3.10/site-packages (from deepspeed==0.16.7) (25.0)\n",
            "Requirement already satisfied: numpy in /home/ubuntu/python_project/sample/.venv/lib/python3.10/site-packages (from deepspeed==0.16.7) (1.26.4)\n",
            "Requirement already satisfied: py-cpuinfo in /home/ubuntu/python_project/sample/.venv/lib/python3.10/site-packages (from deepspeed==0.16.7) (9.0.0)\n",
            "Requirement already satisfied: pydantic>=2.0.0 in /home/ubuntu/python_project/sample/.venv/lib/python3.10/site-packages (from deepspeed==0.16.7) (2.11.7)\n",
            "Requirement already satisfied: torch in /home/ubuntu/python_project/sample/.venv/lib/python3.10/site-packages (from deepspeed==0.16.7) (2.6.0+cu124)\n",
            "Requirement already satisfied: tqdm in /home/ubuntu/python_project/sample/.venv/lib/python3.10/site-packages (from deepspeed==0.16.7) (4.67.1)\n",
            "Requirement already satisfied: msgpack in /home/ubuntu/python_project/sample/.venv/lib/python3.10/site-packages (from deepspeed==0.16.7) (1.1.1)\n",
            "Requirement already satisfied: psutil in /home/ubuntu/python_project/sample/.venv/lib/python3.10/site-packages (from deepspeed==0.16.7) (7.0.0)\n",
            "Requirement already satisfied: pydantic-core==2.33.2 in /home/ubuntu/python_project/sample/.venv/lib/python3.10/site-packages (from pydantic>=2.0.0->deepspeed==0.16.7) (2.33.2)\n",
            "Requirement already satisfied: annotated-types>=0.6.0 in /home/ubuntu/python_project/sample/.venv/lib/python3.10/site-packages (from pydantic>=2.0.0->deepspeed==0.16.7) (0.7.0)\n",
            "Requirement already satisfied: typing-extensions>=4.12.2 in /home/ubuntu/python_project/sample/.venv/lib/python3.10/site-packages (from pydantic>=2.0.0->deepspeed==0.16.7) (4.14.0)\n",
            "Requirement already satisfied: typing-inspection>=0.4.0 in /home/ubuntu/python_project/sample/.venv/lib/python3.10/site-packages (from pydantic>=2.0.0->deepspeed==0.16.7) (0.4.1)\n",
            "Requirement already satisfied: filelock in /home/ubuntu/python_project/sample/.venv/lib/python3.10/site-packages (from torch->deepspeed==0.16.7) (3.13.1)\n",
            "Requirement already satisfied: triton==3.2.0 in /home/ubuntu/python_project/sample/.venv/lib/python3.10/site-packages (from torch->deepspeed==0.16.7) (3.2.0)\n",
            "Requirement already satisfied: networkx in /home/ubuntu/python_project/sample/.venv/lib/python3.10/site-packages (from torch->deepspeed==0.16.7) (3.3)\n",
            "Requirement already satisfied: nvidia-cublas-cu12==12.4.5.8 in /home/ubuntu/python_project/sample/.venv/lib/python3.10/site-packages (from torch->deepspeed==0.16.7) (12.4.5.8)\n",
            "Requirement already satisfied: nvidia-cusparse-cu12==12.3.1.170 in /home/ubuntu/python_project/sample/.venv/lib/python3.10/site-packages (from torch->deepspeed==0.16.7) (12.3.1.170)\n",
            "Requirement already satisfied: sympy==1.13.1 in /home/ubuntu/python_project/sample/.venv/lib/python3.10/site-packages (from torch->deepspeed==0.16.7) (1.13.1)\n",
            "Requirement already satisfied: nvidia-nccl-cu12==2.21.5 in /home/ubuntu/python_project/sample/.venv/lib/python3.10/site-packages (from torch->deepspeed==0.16.7) (2.21.5)\n",
            "Requirement already satisfied: nvidia-cuda-nvrtc-cu12==12.4.127 in /home/ubuntu/python_project/sample/.venv/lib/python3.10/site-packages (from torch->deepspeed==0.16.7) (12.4.127)\n",
            "Requirement already satisfied: nvidia-cudnn-cu12==9.1.0.70 in /home/ubuntu/python_project/sample/.venv/lib/python3.10/site-packages (from torch->deepspeed==0.16.7) (9.1.0.70)\n",
            "Requirement already satisfied: nvidia-cusparselt-cu12==0.6.2 in /home/ubuntu/python_project/sample/.venv/lib/python3.10/site-packages (from torch->deepspeed==0.16.7) (0.6.2)\n",
            "Requirement already satisfied: nvidia-nvtx-cu12==12.4.127 in /home/ubuntu/python_project/sample/.venv/lib/python3.10/site-packages (from torch->deepspeed==0.16.7) (12.4.127)\n",
            "Requirement already satisfied: jinja2 in /home/ubuntu/python_project/sample/.venv/lib/python3.10/site-packages (from torch->deepspeed==0.16.7) (3.1.4)\n",
            "Requirement already satisfied: nvidia-nvjitlink-cu12==12.4.127 in /home/ubuntu/python_project/sample/.venv/lib/python3.10/site-packages (from torch->deepspeed==0.16.7) (12.4.127)\n",
            "Requirement already satisfied: nvidia-cusolver-cu12==11.6.1.9 in /home/ubuntu/python_project/sample/.venv/lib/python3.10/site-packages (from torch->deepspeed==0.16.7) (11.6.1.9)\n",
            "Requirement already satisfied: fsspec in /home/ubuntu/python_project/sample/.venv/lib/python3.10/site-packages (from torch->deepspeed==0.16.7) (2024.6.1)\n",
            "Requirement already satisfied: nvidia-cufft-cu12==11.2.1.3 in /home/ubuntu/python_project/sample/.venv/lib/python3.10/site-packages (from torch->deepspeed==0.16.7) (11.2.1.3)\n",
            "Requirement already satisfied: nvidia-cuda-runtime-cu12==12.4.127 in /home/ubuntu/python_project/sample/.venv/lib/python3.10/site-packages (from torch->deepspeed==0.16.7) (12.4.127)\n",
            "Requirement already satisfied: nvidia-cuda-cupti-cu12==12.4.127 in /home/ubuntu/python_project/sample/.venv/lib/python3.10/site-packages (from torch->deepspeed==0.16.7) (12.4.127)\n",
            "Requirement already satisfied: nvidia-curand-cu12==10.3.5.147 in /home/ubuntu/python_project/sample/.venv/lib/python3.10/site-packages (from torch->deepspeed==0.16.7) (10.3.5.147)\n",
            "Requirement already satisfied: mpmath<1.4,>=1.1.0 in /home/ubuntu/python_project/sample/.venv/lib/python3.10/site-packages (from sympy==1.13.1->torch->deepspeed==0.16.7) (1.3.0)\n",
            "Requirement already satisfied: MarkupSafe>=2.0 in /home/ubuntu/python_project/sample/.venv/lib/python3.10/site-packages (from jinja2->torch->deepspeed==0.16.7) (2.1.5)\n",
            "Requirement already satisfied: trl==0.19.0 in /home/ubuntu/python_project/sample/.venv/lib/python3.10/site-packages (0.19.0)\n",
            "Requirement already satisfied: datasets>=3.0.0 in /home/ubuntu/python_project/sample/.venv/lib/python3.10/site-packages (from trl==0.19.0) (3.5.0)\n",
            "Requirement already satisfied: transformers>=4.51.0 in /home/ubuntu/python_project/sample/.venv/lib/python3.10/site-packages (from trl==0.19.0) (4.51.3)\n",
            "Requirement already satisfied: accelerate>=1.4.0 in /home/ubuntu/python_project/sample/.venv/lib/python3.10/site-packages (from trl==0.19.0) (1.8.1)\n",
            "Requirement already satisfied: pyyaml in /home/ubuntu/python_project/sample/.venv/lib/python3.10/site-packages (from accelerate>=1.4.0->trl==0.19.0) (6.0.2)\n",
            "Requirement already satisfied: torch>=2.0.0 in /home/ubuntu/python_project/sample/.venv/lib/python3.10/site-packages (from accelerate>=1.4.0->trl==0.19.0) (2.6.0+cu124)\n",
            "Requirement already satisfied: numpy<3.0.0,>=1.17 in /home/ubuntu/python_project/sample/.venv/lib/python3.10/site-packages (from accelerate>=1.4.0->trl==0.19.0) (1.26.4)\n",
            "Requirement already satisfied: packaging>=20.0 in /home/ubuntu/python_project/sample/.venv/lib/python3.10/site-packages (from accelerate>=1.4.0->trl==0.19.0) (25.0)\n",
            "Requirement already satisfied: psutil in /home/ubuntu/python_project/sample/.venv/lib/python3.10/site-packages (from accelerate>=1.4.0->trl==0.19.0) (7.0.0)\n",
            "Requirement already satisfied: safetensors>=0.4.3 in /home/ubuntu/python_project/sample/.venv/lib/python3.10/site-packages (from accelerate>=1.4.0->trl==0.19.0) (0.5.3)\n",
            "Requirement already satisfied: huggingface_hub>=0.21.0 in /home/ubuntu/python_project/sample/.venv/lib/python3.10/site-packages (from accelerate>=1.4.0->trl==0.19.0) (0.30.2)\n",
            "Requirement already satisfied: pandas in /home/ubuntu/python_project/sample/.venv/lib/python3.10/site-packages (from datasets>=3.0.0->trl==0.19.0) (2.2.3)\n",
            "Requirement already satisfied: xxhash in /home/ubuntu/python_project/sample/.venv/lib/python3.10/site-packages (from datasets>=3.0.0->trl==0.19.0) (3.5.0)\n",
            "Requirement already satisfied: requests>=2.32.2 in /home/ubuntu/python_project/sample/.venv/lib/python3.10/site-packages (from datasets>=3.0.0->trl==0.19.0) (2.32.4)\n",
            "Requirement already satisfied: fsspec[http]<=2024.12.0,>=2023.1.0 in /home/ubuntu/python_project/sample/.venv/lib/python3.10/site-packages (from datasets>=3.0.0->trl==0.19.0) (2024.6.1)\n",
            "Requirement already satisfied: pyarrow>=15.0.0 in /home/ubuntu/python_project/sample/.venv/lib/python3.10/site-packages (from datasets>=3.0.0->trl==0.19.0) (20.0.0)\n",
            "Requirement already satisfied: filelock in /home/ubuntu/python_project/sample/.venv/lib/python3.10/site-packages (from datasets>=3.0.0->trl==0.19.0) (3.13.1)\n",
            "Requirement already satisfied: aiohttp in /home/ubuntu/python_project/sample/.venv/lib/python3.10/site-packages (from datasets>=3.0.0->trl==0.19.0) (3.12.13)\n",
            "Requirement already satisfied: tqdm>=4.66.3 in /home/ubuntu/python_project/sample/.venv/lib/python3.10/site-packages (from datasets>=3.0.0->trl==0.19.0) (4.67.1)\n",
            "Requirement already satisfied: multiprocess<0.70.17 in /home/ubuntu/python_project/sample/.venv/lib/python3.10/site-packages (from datasets>=3.0.0->trl==0.19.0) (0.70.16)\n",
            "Requirement already satisfied: dill<0.3.9,>=0.3.0 in /home/ubuntu/python_project/sample/.venv/lib/python3.10/site-packages (from datasets>=3.0.0->trl==0.19.0) (0.3.8)\n",
            "Requirement already satisfied: regex!=2019.12.17 in /home/ubuntu/python_project/sample/.venv/lib/python3.10/site-packages (from transformers>=4.51.0->trl==0.19.0) (2024.11.6)\n",
            "Requirement already satisfied: tokenizers<0.22,>=0.21 in /home/ubuntu/python_project/sample/.venv/lib/python3.10/site-packages (from transformers>=4.51.0->trl==0.19.0) (0.21.1)\n",
            "Requirement already satisfied: aiohappyeyeballs>=2.5.0 in /home/ubuntu/python_project/sample/.venv/lib/python3.10/site-packages (from aiohttp->datasets>=3.0.0->trl==0.19.0) (2.6.1)\n",
            "Requirement already satisfied: multidict<7.0,>=4.5 in /home/ubuntu/python_project/sample/.venv/lib/python3.10/site-packages (from aiohttp->datasets>=3.0.0->trl==0.19.0) (6.5.0)\n",
            "Requirement already satisfied: frozenlist>=1.1.1 in /home/ubuntu/python_project/sample/.venv/lib/python3.10/site-packages (from aiohttp->datasets>=3.0.0->trl==0.19.0) (1.7.0)\n",
            "Requirement already satisfied: yarl<2.0,>=1.17.0 in /home/ubuntu/python_project/sample/.venv/lib/python3.10/site-packages (from aiohttp->datasets>=3.0.0->trl==0.19.0) (1.20.1)\n",
            "Requirement already satisfied: aiosignal>=1.1.2 in /home/ubuntu/python_project/sample/.venv/lib/python3.10/site-packages (from aiohttp->datasets>=3.0.0->trl==0.19.0) (1.3.2)\n",
            "Requirement already satisfied: propcache>=0.2.0 in /home/ubuntu/python_project/sample/.venv/lib/python3.10/site-packages (from aiohttp->datasets>=3.0.0->trl==0.19.0) (0.3.2)\n",
            "Requirement already satisfied: async-timeout<6.0,>=4.0 in /home/ubuntu/python_project/sample/.venv/lib/python3.10/site-packages (from aiohttp->datasets>=3.0.0->trl==0.19.0) (5.0.1)\n",
            "Requirement already satisfied: attrs>=17.3.0 in /home/ubuntu/python_project/sample/.venv/lib/python3.10/site-packages (from aiohttp->datasets>=3.0.0->trl==0.19.0) (25.3.0)\n",
            "Requirement already satisfied: typing-extensions>=3.7.4.3 in /home/ubuntu/python_project/sample/.venv/lib/python3.10/site-packages (from huggingface_hub>=0.21.0->accelerate>=1.4.0->trl==0.19.0) (4.14.0)\n",
            "Requirement already satisfied: idna<4,>=2.5 in /home/ubuntu/python_project/sample/.venv/lib/python3.10/site-packages (from requests>=2.32.2->datasets>=3.0.0->trl==0.19.0) (3.10)\n",
            "Requirement already satisfied: certifi>=2017.4.17 in /home/ubuntu/python_project/sample/.venv/lib/python3.10/site-packages (from requests>=2.32.2->datasets>=3.0.0->trl==0.19.0) (2025.6.15)\n",
            "Requirement already satisfied: charset_normalizer<4,>=2 in /home/ubuntu/python_project/sample/.venv/lib/python3.10/site-packages (from requests>=2.32.2->datasets>=3.0.0->trl==0.19.0) (3.4.2)\n",
            "Requirement already satisfied: urllib3<3,>=1.21.1 in /home/ubuntu/python_project/sample/.venv/lib/python3.10/site-packages (from requests>=2.32.2->datasets>=3.0.0->trl==0.19.0) (2.5.0)\n",
            "Requirement already satisfied: nvidia-cusparselt-cu12==0.6.2 in /home/ubuntu/python_project/sample/.venv/lib/python3.10/site-packages (from torch>=2.0.0->accelerate>=1.4.0->trl==0.19.0) (0.6.2)\n",
            "Requirement already satisfied: nvidia-cusolver-cu12==11.6.1.9 in /home/ubuntu/python_project/sample/.venv/lib/python3.10/site-packages (from torch>=2.0.0->accelerate>=1.4.0->trl==0.19.0) (11.6.1.9)\n",
            "Requirement already satisfied: nvidia-nvtx-cu12==12.4.127 in /home/ubuntu/python_project/sample/.venv/lib/python3.10/site-packages (from torch>=2.0.0->accelerate>=1.4.0->trl==0.19.0) (12.4.127)\n",
            "Requirement already satisfied: nvidia-cudnn-cu12==9.1.0.70 in /home/ubuntu/python_project/sample/.venv/lib/python3.10/site-packages (from torch>=2.0.0->accelerate>=1.4.0->trl==0.19.0) (9.1.0.70)\n",
            "Requirement already satisfied: nvidia-cusparse-cu12==12.3.1.170 in /home/ubuntu/python_project/sample/.venv/lib/python3.10/site-packages (from torch>=2.0.0->accelerate>=1.4.0->trl==0.19.0) (12.3.1.170)\n",
            "Requirement already satisfied: nvidia-cuda-runtime-cu12==12.4.127 in /home/ubuntu/python_project/sample/.venv/lib/python3.10/site-packages (from torch>=2.0.0->accelerate>=1.4.0->trl==0.19.0) (12.4.127)\n",
            "Requirement already satisfied: nvidia-nvjitlink-cu12==12.4.127 in /home/ubuntu/python_project/sample/.venv/lib/python3.10/site-packages (from torch>=2.0.0->accelerate>=1.4.0->trl==0.19.0) (12.4.127)\n",
            "Requirement already satisfied: nvidia-cufft-cu12==11.2.1.3 in /home/ubuntu/python_project/sample/.venv/lib/python3.10/site-packages (from torch>=2.0.0->accelerate>=1.4.0->trl==0.19.0) (11.2.1.3)\n",
            "Requirement already satisfied: nvidia-curand-cu12==10.3.5.147 in /home/ubuntu/python_project/sample/.venv/lib/python3.10/site-packages (from torch>=2.0.0->accelerate>=1.4.0->trl==0.19.0) (10.3.5.147)\n",
            "Requirement already satisfied: nvidia-cuda-cupti-cu12==12.4.127 in /home/ubuntu/python_project/sample/.venv/lib/python3.10/site-packages (from torch>=2.0.0->accelerate>=1.4.0->trl==0.19.0) (12.4.127)\n",
            "Requirement already satisfied: networkx in /home/ubuntu/python_project/sample/.venv/lib/python3.10/site-packages (from torch>=2.0.0->accelerate>=1.4.0->trl==0.19.0) (3.3)\n",
            "Requirement already satisfied: jinja2 in /home/ubuntu/python_project/sample/.venv/lib/python3.10/site-packages (from torch>=2.0.0->accelerate>=1.4.0->trl==0.19.0) (3.1.4)\n",
            "Requirement already satisfied: triton==3.2.0 in /home/ubuntu/python_project/sample/.venv/lib/python3.10/site-packages (from torch>=2.0.0->accelerate>=1.4.0->trl==0.19.0) (3.2.0)\n",
            "Requirement already satisfied: sympy==1.13.1 in /home/ubuntu/python_project/sample/.venv/lib/python3.10/site-packages (from torch>=2.0.0->accelerate>=1.4.0->trl==0.19.0) (1.13.1)\n",
            "Requirement already satisfied: nvidia-cuda-nvrtc-cu12==12.4.127 in /home/ubuntu/python_project/sample/.venv/lib/python3.10/site-packages (from torch>=2.0.0->accelerate>=1.4.0->trl==0.19.0) (12.4.127)\n",
            "Requirement already satisfied: nvidia-cublas-cu12==12.4.5.8 in /home/ubuntu/python_project/sample/.venv/lib/python3.10/site-packages (from torch>=2.0.0->accelerate>=1.4.0->trl==0.19.0) (12.4.5.8)\n",
            "Requirement already satisfied: nvidia-nccl-cu12==2.21.5 in /home/ubuntu/python_project/sample/.venv/lib/python3.10/site-packages (from torch>=2.0.0->accelerate>=1.4.0->trl==0.19.0) (2.21.5)\n",
            "Requirement already satisfied: mpmath<1.4,>=1.1.0 in /home/ubuntu/python_project/sample/.venv/lib/python3.10/site-packages (from sympy==1.13.1->torch>=2.0.0->accelerate>=1.4.0->trl==0.19.0) (1.3.0)\n",
            "Requirement already satisfied: tzdata>=2022.7 in /home/ubuntu/python_project/sample/.venv/lib/python3.10/site-packages (from pandas->datasets>=3.0.0->trl==0.19.0) (2025.2)\n",
            "Requirement already satisfied: pytz>=2020.1 in /home/ubuntu/python_project/sample/.venv/lib/python3.10/site-packages (from pandas->datasets>=3.0.0->trl==0.19.0) (2025.2)\n",
            "Requirement already satisfied: python-dateutil>=2.8.2 in /home/ubuntu/python_project/sample/.venv/lib/python3.10/site-packages (from pandas->datasets>=3.0.0->trl==0.19.0) (2.9.0.post0)\n",
            "Requirement already satisfied: six>=1.5 in /home/ubuntu/python_project/sample/.venv/lib/python3.10/site-packages (from python-dateutil>=2.8.2->pandas->datasets>=3.0.0->trl==0.19.0) (1.17.0)\n",
            "Requirement already satisfied: MarkupSafe>=2.0 in /home/ubuntu/python_project/sample/.venv/lib/python3.10/site-packages (from jinja2->torch>=2.0.0->accelerate>=1.4.0->trl==0.19.0) (2.1.5)\n",
            "Requirement already satisfied: mpi4py in /home/ubuntu/python_project/sample/.venv/lib/python3.10/site-packages (4.0.3)\n",
            "Requirement already satisfied: peft==0.15.2 in /home/ubuntu/python_project/sample/.venv/lib/python3.10/site-packages (0.15.2)\n",
            "Requirement already satisfied: numpy>=1.17 in /home/ubuntu/python_project/sample/.venv/lib/python3.10/site-packages (from peft==0.15.2) (1.26.4)\n",
            "Requirement already satisfied: transformers in /home/ubuntu/python_project/sample/.venv/lib/python3.10/site-packages (from peft==0.15.2) (4.51.3)\n",
            "Requirement already satisfied: accelerate>=0.21.0 in /home/ubuntu/python_project/sample/.venv/lib/python3.10/site-packages (from peft==0.15.2) (1.8.1)\n",
            "Requirement already satisfied: huggingface_hub>=0.25.0 in /home/ubuntu/python_project/sample/.venv/lib/python3.10/site-packages (from peft==0.15.2) (0.30.2)\n",
            "Requirement already satisfied: pyyaml in /home/ubuntu/python_project/sample/.venv/lib/python3.10/site-packages (from peft==0.15.2) (6.0.2)\n",
            "Requirement already satisfied: psutil in /home/ubuntu/python_project/sample/.venv/lib/python3.10/site-packages (from peft==0.15.2) (7.0.0)\n",
            "Requirement already satisfied: safetensors in /home/ubuntu/python_project/sample/.venv/lib/python3.10/site-packages (from peft==0.15.2) (0.5.3)\n",
            "Requirement already satisfied: tqdm in /home/ubuntu/python_project/sample/.venv/lib/python3.10/site-packages (from peft==0.15.2) (4.67.1)\n",
            "Requirement already satisfied: packaging>=20.0 in /home/ubuntu/python_project/sample/.venv/lib/python3.10/site-packages (from peft==0.15.2) (25.0)\n",
            "Requirement already satisfied: torch>=1.13.0 in /home/ubuntu/python_project/sample/.venv/lib/python3.10/site-packages (from peft==0.15.2) (2.6.0+cu124)\n",
            "Requirement already satisfied: requests in /home/ubuntu/python_project/sample/.venv/lib/python3.10/site-packages (from huggingface_hub>=0.25.0->peft==0.15.2) (2.32.4)\n",
            "Requirement already satisfied: filelock in /home/ubuntu/python_project/sample/.venv/lib/python3.10/site-packages (from huggingface_hub>=0.25.0->peft==0.15.2) (3.13.1)\n",
            "Requirement already satisfied: typing-extensions>=3.7.4.3 in /home/ubuntu/python_project/sample/.venv/lib/python3.10/site-packages (from huggingface_hub>=0.25.0->peft==0.15.2) (4.14.0)\n",
            "Requirement already satisfied: fsspec>=2023.5.0 in /home/ubuntu/python_project/sample/.venv/lib/python3.10/site-packages (from huggingface_hub>=0.25.0->peft==0.15.2) (2024.6.1)\n",
            "Requirement already satisfied: nvidia-cufft-cu12==11.2.1.3 in /home/ubuntu/python_project/sample/.venv/lib/python3.10/site-packages (from torch>=1.13.0->peft==0.15.2) (11.2.1.3)\n",
            "Requirement already satisfied: nvidia-nccl-cu12==2.21.5 in /home/ubuntu/python_project/sample/.venv/lib/python3.10/site-packages (from torch>=1.13.0->peft==0.15.2) (2.21.5)\n",
            "Requirement already satisfied: networkx in /home/ubuntu/python_project/sample/.venv/lib/python3.10/site-packages (from torch>=1.13.0->peft==0.15.2) (3.3)\n",
            "Requirement already satisfied: sympy==1.13.1 in /home/ubuntu/python_project/sample/.venv/lib/python3.10/site-packages (from torch>=1.13.0->peft==0.15.2) (1.13.1)\n",
            "Requirement already satisfied: nvidia-cublas-cu12==12.4.5.8 in /home/ubuntu/python_project/sample/.venv/lib/python3.10/site-packages (from torch>=1.13.0->peft==0.15.2) (12.4.5.8)\n",
            "Requirement already satisfied: nvidia-cuda-nvrtc-cu12==12.4.127 in /home/ubuntu/python_project/sample/.venv/lib/python3.10/site-packages (from torch>=1.13.0->peft==0.15.2) (12.4.127)\n",
            "Requirement already satisfied: nvidia-cuda-cupti-cu12==12.4.127 in /home/ubuntu/python_project/sample/.venv/lib/python3.10/site-packages (from torch>=1.13.0->peft==0.15.2) (12.4.127)\n",
            "Requirement already satisfied: nvidia-cusparse-cu12==12.3.1.170 in /home/ubuntu/python_project/sample/.venv/lib/python3.10/site-packages (from torch>=1.13.0->peft==0.15.2) (12.3.1.170)\n",
            "Requirement already satisfied: jinja2 in /home/ubuntu/python_project/sample/.venv/lib/python3.10/site-packages (from torch>=1.13.0->peft==0.15.2) (3.1.4)\n",
            "Requirement already satisfied: nvidia-cusparselt-cu12==0.6.2 in /home/ubuntu/python_project/sample/.venv/lib/python3.10/site-packages (from torch>=1.13.0->peft==0.15.2) (0.6.2)\n",
            "Requirement already satisfied: nvidia-nvjitlink-cu12==12.4.127 in /home/ubuntu/python_project/sample/.venv/lib/python3.10/site-packages (from torch>=1.13.0->peft==0.15.2) (12.4.127)\n",
            "Requirement already satisfied: nvidia-cudnn-cu12==9.1.0.70 in /home/ubuntu/python_project/sample/.venv/lib/python3.10/site-packages (from torch>=1.13.0->peft==0.15.2) (9.1.0.70)\n",
            "Requirement already satisfied: nvidia-nvtx-cu12==12.4.127 in /home/ubuntu/python_project/sample/.venv/lib/python3.10/site-packages (from torch>=1.13.0->peft==0.15.2) (12.4.127)\n",
            "Requirement already satisfied: nvidia-cusolver-cu12==11.6.1.9 in /home/ubuntu/python_project/sample/.venv/lib/python3.10/site-packages (from torch>=1.13.0->peft==0.15.2) (11.6.1.9)\n",
            "Requirement already satisfied: nvidia-curand-cu12==10.3.5.147 in /home/ubuntu/python_project/sample/.venv/lib/python3.10/site-packages (from torch>=1.13.0->peft==0.15.2) (10.3.5.147)\n",
            "Requirement already satisfied: triton==3.2.0 in /home/ubuntu/python_project/sample/.venv/lib/python3.10/site-packages (from torch>=1.13.0->peft==0.15.2) (3.2.0)\n",
            "Requirement already satisfied: nvidia-cuda-runtime-cu12==12.4.127 in /home/ubuntu/python_project/sample/.venv/lib/python3.10/site-packages (from torch>=1.13.0->peft==0.15.2) (12.4.127)\n",
            "Requirement already satisfied: mpmath<1.4,>=1.1.0 in /home/ubuntu/python_project/sample/.venv/lib/python3.10/site-packages (from sympy==1.13.1->torch>=1.13.0->peft==0.15.2) (1.3.0)\n",
            "Requirement already satisfied: regex!=2019.12.17 in /home/ubuntu/python_project/sample/.venv/lib/python3.10/site-packages (from transformers->peft==0.15.2) (2024.11.6)\n",
            "Requirement already satisfied: tokenizers<0.22,>=0.21 in /home/ubuntu/python_project/sample/.venv/lib/python3.10/site-packages (from transformers->peft==0.15.2) (0.21.1)\n",
            "Requirement already satisfied: MarkupSafe>=2.0 in /home/ubuntu/python_project/sample/.venv/lib/python3.10/site-packages (from jinja2->torch>=1.13.0->peft==0.15.2) (2.1.5)\n",
            "Requirement already satisfied: idna<4,>=2.5 in /home/ubuntu/python_project/sample/.venv/lib/python3.10/site-packages (from requests->huggingface_hub>=0.25.0->peft==0.15.2) (3.10)\n",
            "Requirement already satisfied: urllib3<3,>=1.21.1 in /home/ubuntu/python_project/sample/.venv/lib/python3.10/site-packages (from requests->huggingface_hub>=0.25.0->peft==0.15.2) (2.5.0)\n",
            "Requirement already satisfied: certifi>=2017.4.17 in /home/ubuntu/python_project/sample/.venv/lib/python3.10/site-packages (from requests->huggingface_hub>=0.25.0->peft==0.15.2) (2025.6.15)\n",
            "Requirement already satisfied: charset_normalizer<4,>=2 in /home/ubuntu/python_project/sample/.venv/lib/python3.10/site-packages (from requests->huggingface_hub>=0.25.0->peft==0.15.2) (3.4.2)\n"
          ]
        }
      ],
      "source": [
        "!pip install torch torchvision torchaudio --index-url https://download.pytorch.org/whl/cu124\n",
        "!pip install 'transformers==4.51.3'\n",
        "!pip install 'numpy==1.26.4'\n",
        "!pip install 'datasets==3.5.0'\n",
        "!pip install 'huggingface_hub[cli]==0.30.2'\n",
        "!pip install 'deepspeed==0.16.7' --use-pep517\n",
        "!pip install 'trl==0.19.0'\n",
        "!pip install 'mpi4py'\n",
        "!pip install 'peft==0.15.2'"
      ]
    },
    {
      "cell_type": "code",
      "execution_count": 4,
      "metadata": {
        "id": "wV_2TXekf5tX"
      },
      "outputs": [],
      "source": [
        "# Set Environment Variables\n",
        "default_environment_variables = {\n",
        "    \"output_dir\": \"./output/llama-3-2-1b-alpaca-lora\",\n",
        "    \"wandb_account_name\": \"arekunoimar-deepspeed\",\n",
        "    \"wandb_project_name\": \"llama-3-2-1b\",\n",
        "    \"model_name\": \"meta-llama/Llama-3.2-1B\",\n",
        "    \"dataset\": \"../dataset/alpaca_data.json\",\n",
        "    \"dataset_max_length\": 512,\n",
        "    \"apply_dataset_rate\": 0.6,\n",
        "    \"dataset_train_rate\": 0.8,\n",
        "    \"dataset_validation_rate\": 0.1,\n",
        "    \"num_train_epochs\": 1,\n",
        "    \"per_device_train_batch_size\": 1,\n",
        "    \"per_device_eval_batch_size\": 1,\n",
        "    \"gradient_accumulation_steps\": 1,\n",
        "    \"max_grad_norm\": 1.0,\n",
        "    \"optim\": \"adamw_torch\",\n",
        "    \"logging_steps\": 1,\n",
        "    \"learning_rate\": 1e-4,\n",
        "    \"lr_scheduler_type\": \"cosine\",\n",
        "    \"warmup_steps\": 700,\n",
        "    \"seed\": 1024,\n",
        "    \"fp16\": False,\n",
        "    \"bf16\": True,\n",
        "    \"save_strategy\": \"steps\",\n",
        "    \"save_steps\": 1000,\n",
        "    \"save_total_limit\": 1,\n",
        "    \"eval_strategy\": \"steps\",\n",
        "    \"eval_steps\": 1000,\n",
        "    \"do_eval\": True,\n",
        "    \"logging_distance_time\": 1,\n",
        "    \"weight_decay\": 0.01,\n",
        "    \"lora_r\": 64,\n",
        "    \"lora_alpha\": 128,\n",
        "    \"lora_dropout\": 0.05,\n",
        "    \"lora_target_modules\": [\"q_proj\", \"k_proj\", \"v_proj\", \"o_proj\", \"gate_proj\", \"down_proj\", \"up_proj\"],\n",
        "    \"lora_bias\": \"none\",\n",
        "    # \"deepspeed_zero0\": False,\n",
        "    # \"deepspeed_train_config_zero0_path\":\"deepspeed_train_config_zero0.json\",\n",
        "    # \"deepspeed_zero1\": False,\n",
        "    # \"deepspeed_train_config_zero1_path\":\"deepspeed_train_config_zero1.json\",\n",
        "    # \"deepspeed_zero2\": True,\n",
        "    # \"deepspeed_train_config_zero2_path\":\"deepspeed_train_config_zero2.json\",\n",
        "    # \"deepspeed_zero3\": False,\n",
        "    # \"deepspeed_train_config_zero3_path\":\"deepspeed_train_config_zero3.json\",\n",
        "    # \"deepspeed_zero3_infinity\": False,\n",
        "    # \"deepspeed_train_config_zero3_infinity_path\":\"deepspeed_train_config_zero3_infinity.json\",\n",
        "}"
      ]
    },
    {
      "cell_type": "code",
      "execution_count": 5,
      "metadata": {},
      "outputs": [],
      "source": [
        "# set deepspeed config\n",
        "deepspeed_zero2_config = {\n",
        "  \"zero_optimization\": {\n",
        "    \"stage\": 2\n",
        "  },\n",
        "  \"train_batch_size\": 1,\n",
        "  \"eval_batch_size\": 1\n",
        "}"
      ]
    },
    {
      "cell_type": "code",
      "execution_count": 6,
      "metadata": {},
      "outputs": [
        {
          "name": "stderr",
          "output_type": "stream",
          "text": [
            "/home/ubuntu/python_project/sample/.venv/lib/python3.10/site-packages/tqdm/auto.py:21: TqdmWarning: IProgress not found. Please update jupyter and ipywidgets. See https://ipywidgets.readthedocs.io/en/stable/user_install.html\n",
            "  from .autonotebook import tqdm as notebook_tqdm\n"
          ]
        }
      ],
      "source": [
        "from transformers import AutoTokenizer, AutoModelForCausalLM, BitsAndBytesConfig"
      ]
    },
    {
      "cell_type": "code",
      "execution_count": 7,
      "metadata": {
        "id": "h-yY9gzgfGPT"
      },
      "outputs": [
        {
          "name": "stdout",
          "output_type": "stream",
          "text": [
            "[2025-06-24 16:51:17,136] [INFO] [real_accelerator.py:239:get_accelerator] Setting ds_accelerator to cuda (auto detect)\n"
          ]
        }
      ],
      "source": [
        "# load model, tokenizer\n",
        "tokenizer = AutoTokenizer.from_pretrained(default_environment_variables[\"model_name\"])\n",
        "model = AutoModelForCausalLM.from_pretrained(default_environment_variables[\"model_name\"])"
      ]
    },
    {
      "cell_type": "code",
      "execution_count": 8,
      "metadata": {},
      "outputs": [],
      "source": [
        "# set tokenizer special token\n",
        "tokenizer.pad_token_id = tokenizer.eos_token_id"
      ]
    },
    {
      "cell_type": "code",
      "execution_count": 9,
      "metadata": {},
      "outputs": [],
      "source": [
        "from peft import LoraConfig, get_peft_model, TaskType"
      ]
    },
    {
      "cell_type": "code",
      "execution_count": 10,
      "metadata": {},
      "outputs": [],
      "source": [
        "# lora setting\n",
        "peft_config = LoraConfig(\n",
        "    r=default_environment_variables[\"lora_r\"],\n",
        "    lora_alpha=default_environment_variables[\"lora_alpha\"],\n",
        "    target_modules=default_environment_variables[\"lora_target_modules\"],\n",
        "    lora_dropout=default_environment_variables[\"lora_dropout\"],\n",
        "    bias=default_environment_variables[\"lora_bias\"],\n",
        "    task_type=TaskType.CAUSAL_LM\n",
        ")\n",
        "model = get_peft_model(model, peft_config)"
      ]
    },
    {
      "cell_type": "code",
      "execution_count": 11,
      "metadata": {},
      "outputs": [
        {
          "name": "stdout",
          "output_type": "stream",
          "text": [
            "\n",
            "=== PEFT Model Information ===\n",
            "trainable params: 45,088,768 || all params: 1,280,903,168 || trainable%: 3.5201\n",
            "None\n"
          ]
        }
      ],
      "source": [
        "# check trainable parameters\n",
        "if hasattr(model, 'print_trainable_parameters'):\n",
        "    print(\"\\n=== PEFT Model Information ===\")\n",
        "    print(model.print_trainable_parameters())"
      ]
    },
    {
      "cell_type": "code",
      "execution_count": 12,
      "metadata": {
        "id": "h2TFosyUmOkG"
      },
      "outputs": [],
      "source": [
        "# read dataset\n",
        "import pandas\n",
        "import json\n",
        "\n",
        "def load_alpaca_dataset():\n",
        "  with open(default_environment_variables[\"dataset\"], 'r', encoding='utf-8') as f:\n",
        "    data = json.load(f)\n",
        "\n",
        "  dataframe = pandas.DataFrame(data)\n",
        "  dataframe = dataframe[['instruction', 'input', 'output']]\n",
        "  dataframe.head(100)\n",
        "  return dataframe"
      ]
    },
    {
      "cell_type": "code",
      "execution_count": 13,
      "metadata": {
        "id": "vTzHrRXarBof"
      },
      "outputs": [
        {
          "name": "stdout",
          "output_type": "stream",
          "text": [
            "                                         instruction input  \\\n",
            "0               Give three tips for staying healthy.         \n",
            "1                 What are the three primary colors?         \n",
            "2                 Describe the structure of an atom.         \n",
            "3                   How can we reduce air pollution?         \n",
            "4  Describe a time when you had to make a difficu...         \n",
            "\n",
            "                                              output  \n",
            "0  1.Eat a balanced diet and make sure to include...  \n",
            "1  The three primary colors are red, blue, and ye...  \n",
            "2  An atom is made up of a nucleus, which contain...  \n",
            "3  There are a number of ways to reduce air pollu...  \n",
            "4  I had to make a difficult decision when I was ...  \n"
          ]
        }
      ],
      "source": [
        "dataframe = load_alpaca_dataset()\n",
        "print(dataframe.head())"
      ]
    },
    {
      "cell_type": "code",
      "execution_count": 14,
      "metadata": {
        "id": "DClBMJJqu2Mi"
      },
      "outputs": [],
      "source": [
        "# apply dataformat\n",
        "def apply_dataset_dataformat(dataframe):\n",
        "    def format_instruction(row):\n",
        "        if row['input']:\n",
        "            text = f\"###instruction:\\n{row['instruction']}\\n###input:\\n{row['input']}\\n###output:\\n{row['output']}\"\n",
        "        else:\n",
        "            text = f\"###instruction:\\n{row['instruction']}\\n###output:\\n{row['output']}\"\n",
        "        return text\n",
        "    \n",
        "    formated_dataframe = dataframe.apply(format_instruction, axis=1)\n",
        "    return formated_dataframe"
      ]
    },
    {
      "cell_type": "code",
      "execution_count": 15,
      "metadata": {
        "id": "ZwiG0asdwHw7"
      },
      "outputs": [
        {
          "name": "stdout",
          "output_type": "stream",
          "text": [
            "0    ###instruction:\\nGive three tips for staying h...\n",
            "1    ###instruction:\\nWhat are the three primary co...\n",
            "2    ###instruction:\\nDescribe the structure of an ...\n",
            "3    ###instruction:\\nHow can we reduce air polluti...\n",
            "4    ###instruction:\\nDescribe a time when you had ...\n",
            "dtype: object\n"
          ]
        }
      ],
      "source": [
        "formated_dataframe = apply_dataset_dataformat(dataframe)\n",
        "print(formated_dataframe.head())"
      ]
    },
    {
      "cell_type": "code",
      "execution_count": 16,
      "metadata": {
        "id": "rSRZWox1oiUk"
      },
      "outputs": [],
      "source": [
        "# split dataset\n",
        "def split_alpaca_dataset(dataframe):\n",
        "  total_size_dataset = dataframe.sample(frac=default_environment_variables[\"apply_dataset_rate\"])\n",
        "  total_size_count = len(total_size_dataset)\n",
        "\n",
        "  train_size = int(len(total_size_dataset) * default_environment_variables[\"dataset_train_rate\"])\n",
        "  validation_size = int(len(total_size_dataset) * default_environment_variables[\"dataset_validation_rate\"])\n",
        "  test_size = total_size_count - (train_size + validation_size)\n",
        "\n",
        "  train_dataset = total_size_dataset.iloc[:train_size]\n",
        "  validation_dataset = total_size_dataset.iloc[train_size:train_size + validation_size]\n",
        "  test_dataset = total_size_dataset.iloc[train_size + validation_size:]\n",
        "\n",
        "  return train_dataset, validation_dataset, test_dataset"
      ]
    },
    {
      "cell_type": "code",
      "execution_count": 17,
      "metadata": {
        "id": "NVHCw-yVt-o8"
      },
      "outputs": [
        {
          "name": "stdout",
          "output_type": "stream",
          "text": [
            "Train dataset size: 24960\n",
            "Validation dataset size: 3120\n",
            "Test dataset size: 3121\n"
          ]
        }
      ],
      "source": [
        "train_dataset, validation_dataset, test_dataset = split_alpaca_dataset(load_alpaca_dataset())\n",
        "print(f\"Train dataset size: {len(train_dataset)}\")\n",
        "print(f\"Validation dataset size: {len(validation_dataset)}\")\n",
        "print(f\"Test dataset size: {len(test_dataset)}\")"
      ]
    },
    {
      "cell_type": "code",
      "execution_count": 18,
      "metadata": {
        "id": "7LTURCm04evv"
      },
      "outputs": [],
      "source": [
        "from transformers import pipeline"
      ]
    },
    {
      "cell_type": "code",
      "execution_count": 19,
      "metadata": {
        "id": "x9LcZwQh4WKj"
      },
      "outputs": [
        {
          "name": "stderr",
          "output_type": "stream",
          "text": [
            "Device set to use cuda:0\n",
            "The model 'PeftModelForCausalLM' is not supported for text-generation. Supported models are ['AriaTextForCausalLM', 'BambaForCausalLM', 'BartForCausalLM', 'BertLMHeadModel', 'BertGenerationDecoder', 'BigBirdForCausalLM', 'BigBirdPegasusForCausalLM', 'BioGptForCausalLM', 'BlenderbotForCausalLM', 'BlenderbotSmallForCausalLM', 'BloomForCausalLM', 'CamembertForCausalLM', 'LlamaForCausalLM', 'CodeGenForCausalLM', 'CohereForCausalLM', 'Cohere2ForCausalLM', 'CpmAntForCausalLM', 'CTRLLMHeadModel', 'Data2VecTextForCausalLM', 'DbrxForCausalLM', 'DeepseekV3ForCausalLM', 'DiffLlamaForCausalLM', 'ElectraForCausalLM', 'Emu3ForCausalLM', 'ErnieForCausalLM', 'FalconForCausalLM', 'FalconMambaForCausalLM', 'FuyuForCausalLM', 'GemmaForCausalLM', 'Gemma2ForCausalLM', 'Gemma3ForConditionalGeneration', 'Gemma3ForCausalLM', 'GitForCausalLM', 'GlmForCausalLM', 'Glm4ForCausalLM', 'GotOcr2ForConditionalGeneration', 'GPT2LMHeadModel', 'GPT2LMHeadModel', 'GPTBigCodeForCausalLM', 'GPTNeoForCausalLM', 'GPTNeoXForCausalLM', 'GPTNeoXJapaneseForCausalLM', 'GPTJForCausalLM', 'GraniteForCausalLM', 'GraniteMoeForCausalLM', 'GraniteMoeSharedForCausalLM', 'HeliumForCausalLM', 'JambaForCausalLM', 'JetMoeForCausalLM', 'LlamaForCausalLM', 'Llama4ForCausalLM', 'Llama4ForCausalLM', 'MambaForCausalLM', 'Mamba2ForCausalLM', 'MarianForCausalLM', 'MBartForCausalLM', 'MegaForCausalLM', 'MegatronBertForCausalLM', 'MistralForCausalLM', 'MixtralForCausalLM', 'MllamaForCausalLM', 'MoshiForCausalLM', 'MptForCausalLM', 'MusicgenForCausalLM', 'MusicgenMelodyForCausalLM', 'MvpForCausalLM', 'NemotronForCausalLM', 'OlmoForCausalLM', 'Olmo2ForCausalLM', 'OlmoeForCausalLM', 'OpenLlamaForCausalLM', 'OpenAIGPTLMHeadModel', 'OPTForCausalLM', 'PegasusForCausalLM', 'PersimmonForCausalLM', 'PhiForCausalLM', 'Phi3ForCausalLM', 'Phi4MultimodalForCausalLM', 'PhimoeForCausalLM', 'PLBartForCausalLM', 'ProphetNetForCausalLM', 'QDQBertLMHeadModel', 'Qwen2ForCausalLM', 'Qwen2MoeForCausalLM', 'Qwen3ForCausalLM', 'Qwen3MoeForCausalLM', 'RecurrentGemmaForCausalLM', 'ReformerModelWithLMHead', 'RemBertForCausalLM', 'RobertaForCausalLM', 'RobertaPreLayerNormForCausalLM', 'RoCBertForCausalLM', 'RoFormerForCausalLM', 'RwkvForCausalLM', 'Speech2Text2ForCausalLM', 'StableLmForCausalLM', 'Starcoder2ForCausalLM', 'TransfoXLLMHeadModel', 'TrOCRForCausalLM', 'WhisperForCausalLM', 'XGLMForCausalLM', 'XLMWithLMHeadModel', 'XLMProphetNetForCausalLM', 'XLMRobertaForCausalLM', 'XLMRobertaXLForCausalLM', 'XLNetLMHeadModel', 'XmodForCausalLM', 'ZambaForCausalLM', 'Zamba2ForCausalLM'].\n",
            "Truncation was not explicitly activated but `max_length` is provided a specific value, please use `truncation=True` to explicitly truncate examples to max length. Defaulting to 'longest_first' truncation strategy. If you encode pairs of sequences (GLUE-style) with the tokenizer you can select this strategy more precisely by providing a specific strategy to `truncation`.\n"
          ]
        },
        {
          "name": "stdout",
          "output_type": "stream",
          "text": [
            "\n",
            "###instruction:\n",
            "Please answer the questions.\n",
            "###input:\n",
            "What is AI?\n",
            "###output:\n",
            "AI is the acronym for artificial intelligence. It is the ability of machines to think and learn for themselves. This is not the same as human intelligence, which is the ability to reason and make decisions. AI is more closely related to human intelligence than it is to human cognitive abilities, but it has also been called the 'first artificial intelligence' because it was one of the first applications of computers to solve\n"
          ]
        }
      ],
      "source": [
        "# check befor model output\n",
        "test_qa_pipeline = pipeline(\"text-generation\", model=model, tokenizer=tokenizer, max_length=100, eos_token_id=tokenizer.eos_token_id, pad_token_id=tokenizer.pad_token_id)\n",
        "prompt = \"\"\"\n",
        "###instruction:\\nPlease answer the questions.\\n###input:\\nWhat is AI?\\n###output:\n",
        "\"\"\"\n",
        "generate_text = test_qa_pipeline(prompt, max_length=100, num_return_sequences=1, temperature=0.8)[0][\"generated_text\"]\n",
        "print(generate_text)"
      ]
    },
    {
      "cell_type": "code",
      "execution_count": 20,
      "metadata": {},
      "outputs": [],
      "source": [
        "from trl import DataCollatorForCompletionOnlyLM"
      ]
    },
    {
      "cell_type": "code",
      "execution_count": 21,
      "metadata": {},
      "outputs": [],
      "source": [
        "# DataCollator setting\n",
        "collator = DataCollatorForCompletionOnlyLM(response_template=\"###output:\\n\", tokenizer=tokenizer)"
      ]
    },
    {
      "cell_type": "code",
      "execution_count": 22,
      "metadata": {},
      "outputs": [],
      "source": [
        "from transformers import TrainingArguments"
      ]
    },
    {
      "cell_type": "code",
      "execution_count": 23,
      "metadata": {
        "id": "tjjSVqN_3GFe"
      },
      "outputs": [
        {
          "name": "stdout",
          "output_type": "stream",
          "text": [
            "[2025-06-24 16:51:21,923] [INFO] [comm.py:669:init_distributed] cdb=None\n",
            "[2025-06-24 16:51:21,923] [INFO] [comm.py:700:init_distributed] Initializing TorchBackend in DeepSpeed with backend nccl\n"
          ]
        },
        {
          "ename": "RuntimeError",
          "evalue": "The server socket has failed to listen on any local network address. port: 29500, useIpv6: 0, code: -98, name: EADDRINUSE, message: address already in use",
          "output_type": "error",
          "traceback": [
            "\u001b[0;31m---------------------------------------------------------------------------\u001b[0m",
            "\u001b[0;31mRuntimeError\u001b[0m                              Traceback (most recent call last)",
            "Cell \u001b[0;32mIn[23], line 2\u001b[0m\n\u001b[1;32m      1\u001b[0m \u001b[38;5;66;03m# set training_args\u001b[39;00m\n\u001b[0;32m----> 2\u001b[0m training_arguments \u001b[38;5;241m=\u001b[39m \u001b[43mTrainingArguments\u001b[49m\u001b[43m(\u001b[49m\n\u001b[1;32m      3\u001b[0m \u001b[43m    \u001b[49m\u001b[43moutput_dir\u001b[49m\u001b[38;5;241;43m=\u001b[39;49m\u001b[43mdefault_environment_variables\u001b[49m\u001b[43m[\u001b[49m\u001b[38;5;124;43m\"\u001b[39;49m\u001b[38;5;124;43moutput_dir\u001b[39;49m\u001b[38;5;124;43m\"\u001b[39;49m\u001b[43m]\u001b[49m\u001b[43m,\u001b[49m\n\u001b[1;32m      4\u001b[0m \u001b[43m    \u001b[49m\u001b[43mnum_train_epochs\u001b[49m\u001b[38;5;241;43m=\u001b[39;49m\u001b[43mdefault_environment_variables\u001b[49m\u001b[43m[\u001b[49m\u001b[38;5;124;43m\"\u001b[39;49m\u001b[38;5;124;43mnum_train_epochs\u001b[39;49m\u001b[38;5;124;43m\"\u001b[39;49m\u001b[43m]\u001b[49m\u001b[43m,\u001b[49m\n\u001b[1;32m      5\u001b[0m \u001b[43m    \u001b[49m\u001b[43mper_device_train_batch_size\u001b[49m\u001b[38;5;241;43m=\u001b[39;49m\u001b[43mdefault_environment_variables\u001b[49m\u001b[43m[\u001b[49m\u001b[38;5;124;43m\"\u001b[39;49m\u001b[38;5;124;43mper_device_train_batch_size\u001b[39;49m\u001b[38;5;124;43m\"\u001b[39;49m\u001b[43m]\u001b[49m\u001b[43m,\u001b[49m\n\u001b[1;32m      6\u001b[0m \u001b[43m    \u001b[49m\u001b[43mper_device_eval_batch_size\u001b[49m\u001b[38;5;241;43m=\u001b[39;49m\u001b[43mdefault_environment_variables\u001b[49m\u001b[43m[\u001b[49m\u001b[38;5;124;43m\"\u001b[39;49m\u001b[38;5;124;43mper_device_eval_batch_size\u001b[39;49m\u001b[38;5;124;43m\"\u001b[39;49m\u001b[43m]\u001b[49m\u001b[43m,\u001b[49m\n\u001b[1;32m      7\u001b[0m \u001b[43m    \u001b[49m\u001b[43mgradient_accumulation_steps\u001b[49m\u001b[38;5;241;43m=\u001b[39;49m\u001b[43mdefault_environment_variables\u001b[49m\u001b[43m[\u001b[49m\u001b[38;5;124;43m\"\u001b[39;49m\u001b[38;5;124;43mgradient_accumulation_steps\u001b[39;49m\u001b[38;5;124;43m\"\u001b[39;49m\u001b[43m]\u001b[49m\u001b[43m,\u001b[49m\n\u001b[1;32m      8\u001b[0m \u001b[43m    \u001b[49m\u001b[43mmax_grad_norm\u001b[49m\u001b[38;5;241;43m=\u001b[39;49m\u001b[43mdefault_environment_variables\u001b[49m\u001b[43m[\u001b[49m\u001b[38;5;124;43m\"\u001b[39;49m\u001b[38;5;124;43mmax_grad_norm\u001b[39;49m\u001b[38;5;124;43m\"\u001b[39;49m\u001b[43m]\u001b[49m\u001b[43m,\u001b[49m\n\u001b[1;32m      9\u001b[0m \u001b[43m    \u001b[49m\u001b[43moptim\u001b[49m\u001b[38;5;241;43m=\u001b[39;49m\u001b[43mdefault_environment_variables\u001b[49m\u001b[43m[\u001b[49m\u001b[38;5;124;43m\"\u001b[39;49m\u001b[38;5;124;43moptim\u001b[39;49m\u001b[38;5;124;43m\"\u001b[39;49m\u001b[43m]\u001b[49m\u001b[43m,\u001b[49m\n\u001b[1;32m     10\u001b[0m \u001b[43m    \u001b[49m\u001b[43mlearning_rate\u001b[49m\u001b[38;5;241;43m=\u001b[39;49m\u001b[43mdefault_environment_variables\u001b[49m\u001b[43m[\u001b[49m\u001b[38;5;124;43m\"\u001b[39;49m\u001b[38;5;124;43mlearning_rate\u001b[39;49m\u001b[38;5;124;43m\"\u001b[39;49m\u001b[43m]\u001b[49m\u001b[43m,\u001b[49m\n\u001b[1;32m     11\u001b[0m \u001b[43m    \u001b[49m\u001b[43mweight_decay\u001b[49m\u001b[38;5;241;43m=\u001b[39;49m\u001b[43mdefault_environment_variables\u001b[49m\u001b[43m[\u001b[49m\u001b[38;5;124;43m\"\u001b[39;49m\u001b[38;5;124;43mweight_decay\u001b[39;49m\u001b[38;5;124;43m\"\u001b[39;49m\u001b[43m]\u001b[49m\u001b[43m,\u001b[49m\n\u001b[1;32m     12\u001b[0m \u001b[43m    \u001b[49m\u001b[43mlr_scheduler_type\u001b[49m\u001b[38;5;241;43m=\u001b[39;49m\u001b[43mdefault_environment_variables\u001b[49m\u001b[43m[\u001b[49m\u001b[38;5;124;43m\"\u001b[39;49m\u001b[38;5;124;43mlr_scheduler_type\u001b[39;49m\u001b[38;5;124;43m\"\u001b[39;49m\u001b[43m]\u001b[49m\u001b[43m,\u001b[49m\n\u001b[1;32m     13\u001b[0m \u001b[43m    \u001b[49m\u001b[43mwarmup_steps\u001b[49m\u001b[38;5;241;43m=\u001b[39;49m\u001b[43mdefault_environment_variables\u001b[49m\u001b[43m[\u001b[49m\u001b[38;5;124;43m\"\u001b[39;49m\u001b[38;5;124;43mwarmup_steps\u001b[39;49m\u001b[38;5;124;43m\"\u001b[39;49m\u001b[43m]\u001b[49m\u001b[43m,\u001b[49m\n\u001b[1;32m     14\u001b[0m \u001b[43m    \u001b[49m\u001b[43mlogging_steps\u001b[49m\u001b[38;5;241;43m=\u001b[39;49m\u001b[43mdefault_environment_variables\u001b[49m\u001b[43m[\u001b[49m\u001b[38;5;124;43m\"\u001b[39;49m\u001b[38;5;124;43mlogging_steps\u001b[39;49m\u001b[38;5;124;43m\"\u001b[39;49m\u001b[43m]\u001b[49m\u001b[43m,\u001b[49m\n\u001b[1;32m     15\u001b[0m \u001b[43m    \u001b[49m\u001b[43mseed\u001b[49m\u001b[38;5;241;43m=\u001b[39;49m\u001b[43mdefault_environment_variables\u001b[49m\u001b[43m[\u001b[49m\u001b[38;5;124;43m\"\u001b[39;49m\u001b[38;5;124;43mseed\u001b[39;49m\u001b[38;5;124;43m\"\u001b[39;49m\u001b[43m]\u001b[49m\u001b[43m,\u001b[49m\n\u001b[1;32m     16\u001b[0m \u001b[43m    \u001b[49m\u001b[43mfp16\u001b[49m\u001b[38;5;241;43m=\u001b[39;49m\u001b[43mdefault_environment_variables\u001b[49m\u001b[43m[\u001b[49m\u001b[38;5;124;43m\"\u001b[39;49m\u001b[38;5;124;43mfp16\u001b[39;49m\u001b[38;5;124;43m\"\u001b[39;49m\u001b[43m]\u001b[49m\u001b[43m,\u001b[49m\n\u001b[1;32m     17\u001b[0m \u001b[43m    \u001b[49m\u001b[43mbf16\u001b[49m\u001b[38;5;241;43m=\u001b[39;49m\u001b[43mdefault_environment_variables\u001b[49m\u001b[43m[\u001b[49m\u001b[38;5;124;43m\"\u001b[39;49m\u001b[38;5;124;43mbf16\u001b[39;49m\u001b[38;5;124;43m\"\u001b[39;49m\u001b[43m]\u001b[49m\u001b[43m,\u001b[49m\n\u001b[1;32m     18\u001b[0m \u001b[43m    \u001b[49m\u001b[43mdeepspeed\u001b[49m\u001b[38;5;241;43m=\u001b[39;49m\u001b[43mdeepspeed_zero2_config\u001b[49m\u001b[43m,\u001b[49m\n\u001b[1;32m     19\u001b[0m \u001b[43m    \u001b[49m\u001b[43msave_strategy\u001b[49m\u001b[38;5;241;43m=\u001b[39;49m\u001b[43mdefault_environment_variables\u001b[49m\u001b[43m[\u001b[49m\u001b[38;5;124;43m\"\u001b[39;49m\u001b[38;5;124;43msave_strategy\u001b[39;49m\u001b[38;5;124;43m\"\u001b[39;49m\u001b[43m]\u001b[49m\u001b[43m,\u001b[49m\n\u001b[1;32m     20\u001b[0m \u001b[43m    \u001b[49m\u001b[43msave_steps\u001b[49m\u001b[38;5;241;43m=\u001b[39;49m\u001b[43mdefault_environment_variables\u001b[49m\u001b[43m[\u001b[49m\u001b[38;5;124;43m\"\u001b[39;49m\u001b[38;5;124;43msave_steps\u001b[39;49m\u001b[38;5;124;43m\"\u001b[39;49m\u001b[43m]\u001b[49m\u001b[43m,\u001b[49m\n\u001b[1;32m     21\u001b[0m \u001b[43m    \u001b[49m\u001b[43msave_total_limit\u001b[49m\u001b[38;5;241;43m=\u001b[39;49m\u001b[43mdefault_environment_variables\u001b[49m\u001b[43m[\u001b[49m\u001b[38;5;124;43m\"\u001b[39;49m\u001b[38;5;124;43msave_total_limit\u001b[39;49m\u001b[38;5;124;43m\"\u001b[39;49m\u001b[43m]\u001b[49m\u001b[43m,\u001b[49m\n\u001b[1;32m     22\u001b[0m \u001b[43m    \u001b[49m\u001b[43meval_strategy\u001b[49m\u001b[38;5;241;43m=\u001b[39;49m\u001b[43mdefault_environment_variables\u001b[49m\u001b[43m[\u001b[49m\u001b[38;5;124;43m\"\u001b[39;49m\u001b[38;5;124;43meval_strategy\u001b[39;49m\u001b[38;5;124;43m\"\u001b[39;49m\u001b[43m]\u001b[49m\u001b[43m,\u001b[49m\n\u001b[1;32m     23\u001b[0m \u001b[43m    \u001b[49m\u001b[43meval_steps\u001b[49m\u001b[38;5;241;43m=\u001b[39;49m\u001b[43mdefault_environment_variables\u001b[49m\u001b[43m[\u001b[49m\u001b[38;5;124;43m\"\u001b[39;49m\u001b[38;5;124;43meval_steps\u001b[39;49m\u001b[38;5;124;43m\"\u001b[39;49m\u001b[43m]\u001b[49m\u001b[43m,\u001b[49m\n\u001b[1;32m     24\u001b[0m \u001b[43m    \u001b[49m\u001b[43mdo_eval\u001b[49m\u001b[38;5;241;43m=\u001b[39;49m\u001b[43mdefault_environment_variables\u001b[49m\u001b[43m[\u001b[49m\u001b[38;5;124;43m\"\u001b[39;49m\u001b[38;5;124;43mdo_eval\u001b[39;49m\u001b[38;5;124;43m\"\u001b[39;49m\u001b[43m]\u001b[49m\n\u001b[1;32m     25\u001b[0m \u001b[43m)\u001b[49m\n",
            "File \u001b[0;32m<string>:132\u001b[0m, in \u001b[0;36m__init__\u001b[0;34m(self, output_dir, overwrite_output_dir, do_train, do_eval, do_predict, eval_strategy, prediction_loss_only, per_device_train_batch_size, per_device_eval_batch_size, per_gpu_train_batch_size, per_gpu_eval_batch_size, gradient_accumulation_steps, eval_accumulation_steps, eval_delay, torch_empty_cache_steps, learning_rate, weight_decay, adam_beta1, adam_beta2, adam_epsilon, max_grad_norm, num_train_epochs, max_steps, lr_scheduler_type, lr_scheduler_kwargs, warmup_ratio, warmup_steps, log_level, log_level_replica, log_on_each_node, logging_dir, logging_strategy, logging_first_step, logging_steps, logging_nan_inf_filter, save_strategy, save_steps, save_total_limit, save_safetensors, save_on_each_node, save_only_model, restore_callback_states_from_checkpoint, no_cuda, use_cpu, use_mps_device, seed, data_seed, jit_mode_eval, use_ipex, bf16, fp16, fp16_opt_level, half_precision_backend, bf16_full_eval, fp16_full_eval, tf32, local_rank, ddp_backend, tpu_num_cores, tpu_metrics_debug, debug, dataloader_drop_last, eval_steps, dataloader_num_workers, dataloader_prefetch_factor, past_index, run_name, disable_tqdm, remove_unused_columns, label_names, load_best_model_at_end, metric_for_best_model, greater_is_better, ignore_data_skip, fsdp, fsdp_min_num_params, fsdp_config, tp_size, fsdp_transformer_layer_cls_to_wrap, accelerator_config, deepspeed, label_smoothing_factor, optim, optim_args, adafactor, group_by_length, length_column_name, report_to, ddp_find_unused_parameters, ddp_bucket_cap_mb, ddp_broadcast_buffers, dataloader_pin_memory, dataloader_persistent_workers, skip_memory_metrics, use_legacy_prediction_loop, push_to_hub, resume_from_checkpoint, hub_model_id, hub_strategy, hub_token, hub_private_repo, hub_always_push, gradient_checkpointing, gradient_checkpointing_kwargs, include_inputs_for_metrics, include_for_metrics, eval_do_concat_batches, fp16_backend, push_to_hub_model_id, push_to_hub_organization, push_to_hub_token, mp_parameters, auto_find_batch_size, full_determinism, torchdynamo, ray_scope, ddp_timeout, torch_compile, torch_compile_backend, torch_compile_mode, include_tokens_per_second, include_num_input_tokens_seen, neftune_noise_alpha, optim_target_modules, batch_eval_metrics, eval_on_start, use_liger_kernel, eval_use_gather_object, average_tokens_across_devices)\u001b[0m\n",
            "File \u001b[0;32m~/python_project/sample/.venv/lib/python3.10/site-packages/transformers/training_args.py:1761\u001b[0m, in \u001b[0;36mTrainingArguments.__post_init__\u001b[0;34m(self)\u001b[0m\n\u001b[1;32m   1759\u001b[0m \u001b[38;5;66;03m# Initialize device before we proceed\u001b[39;00m\n\u001b[1;32m   1760\u001b[0m \u001b[38;5;28;01mif\u001b[39;00m \u001b[38;5;28mself\u001b[39m\u001b[38;5;241m.\u001b[39mframework \u001b[38;5;241m==\u001b[39m \u001b[38;5;124m\"\u001b[39m\u001b[38;5;124mpt\u001b[39m\u001b[38;5;124m\"\u001b[39m \u001b[38;5;129;01mand\u001b[39;00m is_torch_available():\n\u001b[0;32m-> 1761\u001b[0m     \u001b[38;5;28;43mself\u001b[39;49m\u001b[38;5;241;43m.\u001b[39;49m\u001b[43mdevice\u001b[49m\n\u001b[1;32m   1763\u001b[0m \u001b[38;5;66;03m# Disable average tokens when using single device\u001b[39;00m\n\u001b[1;32m   1764\u001b[0m \u001b[38;5;28;01mif\u001b[39;00m \u001b[38;5;28mself\u001b[39m\u001b[38;5;241m.\u001b[39maverage_tokens_across_devices:\n",
            "File \u001b[0;32m~/python_project/sample/.venv/lib/python3.10/site-packages/transformers/training_args.py:2297\u001b[0m, in \u001b[0;36mTrainingArguments.device\u001b[0;34m(self)\u001b[0m\n\u001b[1;32m   2293\u001b[0m \u001b[38;5;250m\u001b[39m\u001b[38;5;124;03m\"\"\"\u001b[39;00m\n\u001b[1;32m   2294\u001b[0m \u001b[38;5;124;03mThe device used by this process.\u001b[39;00m\n\u001b[1;32m   2295\u001b[0m \u001b[38;5;124;03m\"\"\"\u001b[39;00m\n\u001b[1;32m   2296\u001b[0m requires_backends(\u001b[38;5;28mself\u001b[39m, [\u001b[38;5;124m\"\u001b[39m\u001b[38;5;124mtorch\u001b[39m\u001b[38;5;124m\"\u001b[39m])\n\u001b[0;32m-> 2297\u001b[0m \u001b[38;5;28;01mreturn\u001b[39;00m \u001b[38;5;28;43mself\u001b[39;49m\u001b[38;5;241;43m.\u001b[39;49m\u001b[43m_setup_devices\u001b[49m\n",
            "File \u001b[0;32m~/python_project/sample/.venv/lib/python3.10/site-packages/transformers/utils/generic.py:67\u001b[0m, in \u001b[0;36mcached_property.__get__\u001b[0;34m(self, obj, objtype)\u001b[0m\n\u001b[1;32m     65\u001b[0m cached \u001b[38;5;241m=\u001b[39m \u001b[38;5;28mgetattr\u001b[39m(obj, attr, \u001b[38;5;28;01mNone\u001b[39;00m)\n\u001b[1;32m     66\u001b[0m \u001b[38;5;28;01mif\u001b[39;00m cached \u001b[38;5;129;01mis\u001b[39;00m \u001b[38;5;28;01mNone\u001b[39;00m:\n\u001b[0;32m---> 67\u001b[0m     cached \u001b[38;5;241m=\u001b[39m \u001b[38;5;28;43mself\u001b[39;49m\u001b[38;5;241;43m.\u001b[39;49m\u001b[43mfget\u001b[49m\u001b[43m(\u001b[49m\u001b[43mobj\u001b[49m\u001b[43m)\u001b[49m\n\u001b[1;32m     68\u001b[0m     \u001b[38;5;28msetattr\u001b[39m(obj, attr, cached)\n\u001b[1;32m     69\u001b[0m \u001b[38;5;28;01mreturn\u001b[39;00m cached\n",
            "File \u001b[0;32m~/python_project/sample/.venv/lib/python3.10/site-packages/transformers/training_args.py:2224\u001b[0m, in \u001b[0;36mTrainingArguments._setup_devices\u001b[0;34m(self)\u001b[0m\n\u001b[1;32m   2222\u001b[0m \u001b[38;5;28;01mif\u001b[39;00m use_deepspeed:\n\u001b[1;32m   2223\u001b[0m     os\u001b[38;5;241m.\u001b[39menviron[\u001b[38;5;124m\"\u001b[39m\u001b[38;5;124mACCELERATE_USE_DEEPSPEED\u001b[39m\u001b[38;5;124m\"\u001b[39m] \u001b[38;5;241m=\u001b[39m \u001b[38;5;124m\"\u001b[39m\u001b[38;5;124mtrue\u001b[39m\u001b[38;5;124m\"\u001b[39m\n\u001b[0;32m-> 2224\u001b[0m \u001b[38;5;28mself\u001b[39m\u001b[38;5;241m.\u001b[39mdistributed_state \u001b[38;5;241m=\u001b[39m \u001b[43mPartialState\u001b[49m\u001b[43m(\u001b[49m\u001b[38;5;241;43m*\u001b[39;49m\u001b[38;5;241;43m*\u001b[39;49m\u001b[43maccelerator_state_kwargs\u001b[49m\u001b[43m)\u001b[49m\n\u001b[1;32m   2225\u001b[0m \u001b[38;5;28;01mif\u001b[39;00m use_deepspeed:\n\u001b[1;32m   2226\u001b[0m     \u001b[38;5;28;01mdel\u001b[39;00m os\u001b[38;5;241m.\u001b[39menviron[\u001b[38;5;124m\"\u001b[39m\u001b[38;5;124mACCELERATE_USE_DEEPSPEED\u001b[39m\u001b[38;5;124m\"\u001b[39m]\n",
            "File \u001b[0;32m~/python_project/sample/.venv/lib/python3.10/site-packages/accelerate/state.py:222\u001b[0m, in \u001b[0;36mPartialState.__init__\u001b[0;34m(self, cpu, **kwargs)\u001b[0m\n\u001b[1;32m    216\u001b[0m     \u001b[38;5;28;01mif\u001b[39;00m (\n\u001b[1;32m    217\u001b[0m         \u001b[38;5;28mself\u001b[39m\u001b[38;5;241m.\u001b[39mbackend \u001b[38;5;241m==\u001b[39m \u001b[38;5;124m\"\u001b[39m\u001b[38;5;124mnccl\u001b[39m\u001b[38;5;124m\"\u001b[39m\n\u001b[1;32m    218\u001b[0m         \u001b[38;5;129;01mand\u001b[39;00m os\u001b[38;5;241m.\u001b[39menviron\u001b[38;5;241m.\u001b[39mget(\u001b[38;5;124m\"\u001b[39m\u001b[38;5;124mACCELERATE_USE_FSDP\u001b[39m\u001b[38;5;124m\"\u001b[39m, \u001b[38;5;124m\"\u001b[39m\u001b[38;5;124mfalse\u001b[39m\u001b[38;5;124m\"\u001b[39m) \u001b[38;5;241m==\u001b[39m \u001b[38;5;124m\"\u001b[39m\u001b[38;5;124mtrue\u001b[39m\u001b[38;5;124m\"\u001b[39m\n\u001b[1;32m    219\u001b[0m         \u001b[38;5;129;01mand\u001b[39;00m os\u001b[38;5;241m.\u001b[39menviron\u001b[38;5;241m.\u001b[39mget(\u001b[38;5;124m\"\u001b[39m\u001b[38;5;124mFSDP_OFFLOAD_PARAMS\u001b[39m\u001b[38;5;124m\"\u001b[39m, \u001b[38;5;124m\"\u001b[39m\u001b[38;5;124mfalse\u001b[39m\u001b[38;5;124m\"\u001b[39m) \u001b[38;5;241m==\u001b[39m \u001b[38;5;124m\"\u001b[39m\u001b[38;5;124mtrue\u001b[39m\u001b[38;5;124m\"\u001b[39m\n\u001b[1;32m    220\u001b[0m     ):\n\u001b[1;32m    221\u001b[0m         \u001b[38;5;28mself\u001b[39m\u001b[38;5;241m.\u001b[39mbackend \u001b[38;5;241m=\u001b[39m \u001b[38;5;124m\"\u001b[39m\u001b[38;5;124mcuda:nccl,cpu:gloo\u001b[39m\u001b[38;5;124m\"\u001b[39m\n\u001b[0;32m--> 222\u001b[0m     \u001b[43mdist\u001b[49m\u001b[38;5;241;43m.\u001b[39;49m\u001b[43minit_distributed\u001b[49m\u001b[43m(\u001b[49m\u001b[43mdist_backend\u001b[49m\u001b[38;5;241;43m=\u001b[39;49m\u001b[38;5;28;43mself\u001b[39;49m\u001b[38;5;241;43m.\u001b[39;49m\u001b[43mbackend\u001b[49m\u001b[43m,\u001b[49m\u001b[43m \u001b[49m\u001b[43mauto_mpi_discovery\u001b[49m\u001b[38;5;241;43m=\u001b[39;49m\u001b[38;5;28;43;01mFalse\u001b[39;49;00m\u001b[43m,\u001b[49m\u001b[43m \u001b[49m\u001b[38;5;241;43m*\u001b[39;49m\u001b[38;5;241;43m*\u001b[39;49m\u001b[43mkwargs\u001b[49m\u001b[43m)\u001b[49m\n\u001b[1;32m    223\u001b[0m \u001b[38;5;66;03m# We need to flag to `use_deepspeed` to be True to override `distributed_type` later\u001b[39;00m\n\u001b[1;32m    224\u001b[0m use_deepspeed \u001b[38;5;241m=\u001b[39m \u001b[38;5;28;01mTrue\u001b[39;00m\n",
            "File \u001b[0;32m~/python_project/sample/.venv/lib/python3.10/site-packages/deepspeed/comm/comm.py:702\u001b[0m, in \u001b[0;36minit_distributed\u001b[0;34m(dist_backend, auto_mpi_discovery, distributed_port, verbose, timeout, init_method, dist_init_required, config, rank, world_size)\u001b[0m\n\u001b[1;32m    700\u001b[0m     utils\u001b[38;5;241m.\u001b[39mlogger\u001b[38;5;241m.\u001b[39minfo(\u001b[38;5;124m'\u001b[39m\u001b[38;5;124mInitializing TorchBackend in DeepSpeed with backend \u001b[39m\u001b[38;5;132;01m{}\u001b[39;00m\u001b[38;5;124m'\u001b[39m\u001b[38;5;241m.\u001b[39mformat(dist_backend))\n\u001b[1;32m    701\u001b[0m \u001b[38;5;66;03m# Create a torch backend object, initialize torch distributed, and assign to cdb\u001b[39;00m\n\u001b[0;32m--> 702\u001b[0m cdb \u001b[38;5;241m=\u001b[39m \u001b[43mTorchBackend\u001b[49m\u001b[43m(\u001b[49m\u001b[43mdist_backend\u001b[49m\u001b[43m,\u001b[49m\u001b[43m \u001b[49m\u001b[43mtimeout\u001b[49m\u001b[43m,\u001b[49m\u001b[43m \u001b[49m\u001b[43minit_method\u001b[49m\u001b[43m,\u001b[49m\u001b[43m \u001b[49m\u001b[43mrank\u001b[49m\u001b[43m,\u001b[49m\u001b[43m \u001b[49m\u001b[43mworld_size\u001b[49m\u001b[43m)\u001b[49m\n",
            "File \u001b[0;32m~/python_project/sample/.venv/lib/python3.10/site-packages/deepspeed/comm/torch.py:118\u001b[0m, in \u001b[0;36mTorchBackend.__init__\u001b[0;34m(self, backend, timeout, init_method, rank, world_size, name)\u001b[0m\n\u001b[1;32m    114\u001b[0m \u001b[38;5;66;03m# Future functionality to support ds.initialize() on a single GPU\u001b[39;00m\n\u001b[1;32m    115\u001b[0m \u001b[38;5;66;03m# The idea is to fake that dist backend is initialized even when\u001b[39;00m\n\u001b[1;32m    116\u001b[0m \u001b[38;5;66;03m# it is not so we can run on a single GPU without doing any init_process_group\u001b[39;00m\n\u001b[1;32m    117\u001b[0m \u001b[38;5;28mself\u001b[39m\u001b[38;5;241m.\u001b[39msingle_gpu_mode \u001b[38;5;241m=\u001b[39m \u001b[38;5;28;01mTrue\u001b[39;00m\n\u001b[0;32m--> 118\u001b[0m \u001b[38;5;28;43mself\u001b[39;49m\u001b[38;5;241;43m.\u001b[39;49m\u001b[43minit_process_group\u001b[49m\u001b[43m(\u001b[49m\u001b[43mbackend\u001b[49m\u001b[43m,\u001b[49m\u001b[43m \u001b[49m\u001b[43mtimeout\u001b[49m\u001b[43m,\u001b[49m\u001b[43m \u001b[49m\u001b[43minit_method\u001b[49m\u001b[43m,\u001b[49m\u001b[43m \u001b[49m\u001b[43mrank\u001b[49m\u001b[43m,\u001b[49m\u001b[43m \u001b[49m\u001b[43mworld_size\u001b[49m\u001b[43m)\u001b[49m\n\u001b[1;32m    119\u001b[0m \u001b[38;5;28;01mif\u001b[39;00m \u001b[38;5;28mself\u001b[39m\u001b[38;5;241m.\u001b[39mshm_comm_op \u001b[38;5;241m!=\u001b[39m \u001b[38;5;28;01mNone\u001b[39;00m:\n\u001b[1;32m    120\u001b[0m     \u001b[38;5;28mself\u001b[39m\u001b[38;5;241m.\u001b[39mshm_comm_op\u001b[38;5;241m.\u001b[39minitialize(\u001b[38;5;28mself\u001b[39m\u001b[38;5;241m.\u001b[39mget_world_size(), \u001b[38;5;28mself\u001b[39m\u001b[38;5;241m.\u001b[39mget_rank())\n",
            "File \u001b[0;32m~/python_project/sample/.venv/lib/python3.10/site-packages/deepspeed/comm/torch.py:148\u001b[0m, in \u001b[0;36mTorchBackend.init_process_group\u001b[0;34m(self, backend, timeout, init_method, rank, world_size)\u001b[0m\n\u001b[1;32m    146\u001b[0m \u001b[38;5;28;01mdef\u001b[39;00m\u001b[38;5;250m \u001b[39m\u001b[38;5;21minit_process_group\u001b[39m(\u001b[38;5;28mself\u001b[39m, backend, timeout, init_method, rank, world_size):\n\u001b[1;32m    147\u001b[0m     \u001b[38;5;28;01mif\u001b[39;00m \u001b[38;5;129;01mnot\u001b[39;00m torch\u001b[38;5;241m.\u001b[39mdistributed\u001b[38;5;241m.\u001b[39mis_initialized():\n\u001b[0;32m--> 148\u001b[0m         \u001b[43mtorch\u001b[49m\u001b[38;5;241;43m.\u001b[39;49m\u001b[43mdistributed\u001b[49m\u001b[38;5;241;43m.\u001b[39;49m\u001b[43minit_process_group\u001b[49m\u001b[43m(\u001b[49m\u001b[43mbackend\u001b[49m\u001b[43m,\u001b[49m\n\u001b[1;32m    149\u001b[0m \u001b[43m                                             \u001b[49m\u001b[43mtimeout\u001b[49m\u001b[38;5;241;43m=\u001b[39;49m\u001b[43mtimeout\u001b[49m\u001b[43m,\u001b[49m\n\u001b[1;32m    150\u001b[0m \u001b[43m                                             \u001b[49m\u001b[43minit_method\u001b[49m\u001b[38;5;241;43m=\u001b[39;49m\u001b[43minit_method\u001b[49m\u001b[43m,\u001b[49m\n\u001b[1;32m    151\u001b[0m \u001b[43m                                             \u001b[49m\u001b[43mrank\u001b[49m\u001b[38;5;241;43m=\u001b[39;49m\u001b[43mrank\u001b[49m\u001b[43m,\u001b[49m\n\u001b[1;32m    152\u001b[0m \u001b[43m                                             \u001b[49m\u001b[43mworld_size\u001b[49m\u001b[38;5;241;43m=\u001b[39;49m\u001b[43mworld_size\u001b[49m\u001b[43m)\u001b[49m\n\u001b[1;32m    153\u001b[0m     \u001b[38;5;28mself\u001b[39m\u001b[38;5;241m.\u001b[39musing_mpi \u001b[38;5;241m=\u001b[39m torch\u001b[38;5;241m.\u001b[39mdistributed\u001b[38;5;241m.\u001b[39mget_backend() \u001b[38;5;241m==\u001b[39m \u001b[38;5;124m'\u001b[39m\u001b[38;5;124mmpi\u001b[39m\u001b[38;5;124m'\u001b[39m\n",
            "File \u001b[0;32m~/python_project/sample/.venv/lib/python3.10/site-packages/torch/distributed/c10d_logger.py:81\u001b[0m, in \u001b[0;36m_exception_logger.<locals>.wrapper\u001b[0;34m(*args, **kwargs)\u001b[0m\n\u001b[1;32m     78\u001b[0m \u001b[38;5;129m@functools\u001b[39m\u001b[38;5;241m.\u001b[39mwraps(func)\n\u001b[1;32m     79\u001b[0m \u001b[38;5;28;01mdef\u001b[39;00m\u001b[38;5;250m \u001b[39m\u001b[38;5;21mwrapper\u001b[39m(\u001b[38;5;241m*\u001b[39margs: _P\u001b[38;5;241m.\u001b[39margs, \u001b[38;5;241m*\u001b[39m\u001b[38;5;241m*\u001b[39mkwargs: _P\u001b[38;5;241m.\u001b[39mkwargs) \u001b[38;5;241m-\u001b[39m\u001b[38;5;241m>\u001b[39m _T:\n\u001b[1;32m     80\u001b[0m     \u001b[38;5;28;01mtry\u001b[39;00m:\n\u001b[0;32m---> 81\u001b[0m         \u001b[38;5;28;01mreturn\u001b[39;00m \u001b[43mfunc\u001b[49m\u001b[43m(\u001b[49m\u001b[38;5;241;43m*\u001b[39;49m\u001b[43margs\u001b[49m\u001b[43m,\u001b[49m\u001b[43m \u001b[49m\u001b[38;5;241;43m*\u001b[39;49m\u001b[38;5;241;43m*\u001b[39;49m\u001b[43mkwargs\u001b[49m\u001b[43m)\u001b[49m\n\u001b[1;32m     82\u001b[0m     \u001b[38;5;28;01mexcept\u001b[39;00m \u001b[38;5;167;01mException\u001b[39;00m \u001b[38;5;28;01mas\u001b[39;00m error:\n\u001b[1;32m     83\u001b[0m         msg_dict \u001b[38;5;241m=\u001b[39m _get_msg_dict(func\u001b[38;5;241m.\u001b[39m\u001b[38;5;18m__name__\u001b[39m, \u001b[38;5;241m*\u001b[39margs, \u001b[38;5;241m*\u001b[39m\u001b[38;5;241m*\u001b[39mkwargs)\n",
            "File \u001b[0;32m~/python_project/sample/.venv/lib/python3.10/site-packages/torch/distributed/c10d_logger.py:95\u001b[0m, in \u001b[0;36m_time_logger.<locals>.wrapper\u001b[0;34m(*args, **kwargs)\u001b[0m\n\u001b[1;32m     92\u001b[0m \u001b[38;5;129m@functools\u001b[39m\u001b[38;5;241m.\u001b[39mwraps(func)\n\u001b[1;32m     93\u001b[0m \u001b[38;5;28;01mdef\u001b[39;00m\u001b[38;5;250m \u001b[39m\u001b[38;5;21mwrapper\u001b[39m(\u001b[38;5;241m*\u001b[39margs: _P\u001b[38;5;241m.\u001b[39margs, \u001b[38;5;241m*\u001b[39m\u001b[38;5;241m*\u001b[39mkwargs: _P\u001b[38;5;241m.\u001b[39mkwargs) \u001b[38;5;241m-\u001b[39m\u001b[38;5;241m>\u001b[39m _T:\n\u001b[1;32m     94\u001b[0m     \u001b[38;5;28;01mwith\u001b[39;00m _WaitCounter(\u001b[38;5;124mf\u001b[39m\u001b[38;5;124m\"\u001b[39m\u001b[38;5;124mpytorch.wait_counter.c10d.\u001b[39m\u001b[38;5;132;01m{\u001b[39;00mfunc\u001b[38;5;241m.\u001b[39m\u001b[38;5;18m__name__\u001b[39m\u001b[38;5;132;01m}\u001b[39;00m\u001b[38;5;124m\"\u001b[39m)\u001b[38;5;241m.\u001b[39mguard():\n\u001b[0;32m---> 95\u001b[0m         func_return \u001b[38;5;241m=\u001b[39m \u001b[43mfunc\u001b[49m\u001b[43m(\u001b[49m\u001b[38;5;241;43m*\u001b[39;49m\u001b[43margs\u001b[49m\u001b[43m,\u001b[49m\u001b[43m \u001b[49m\u001b[38;5;241;43m*\u001b[39;49m\u001b[38;5;241;43m*\u001b[39;49m\u001b[43mkwargs\u001b[49m\u001b[43m)\u001b[49m\n\u001b[1;32m     96\u001b[0m     \u001b[38;5;28;01mreturn\u001b[39;00m func_return\n",
            "File \u001b[0;32m~/python_project/sample/.venv/lib/python3.10/site-packages/torch/distributed/distributed_c10d.py:1714\u001b[0m, in \u001b[0;36minit_process_group\u001b[0;34m(backend, init_method, timeout, world_size, rank, store, group_name, pg_options, device_id)\u001b[0m\n\u001b[1;32m   1710\u001b[0m \u001b[38;5;28;01mif\u001b[39;00m store \u001b[38;5;129;01mis\u001b[39;00m \u001b[38;5;28;01mNone\u001b[39;00m:\n\u001b[1;32m   1711\u001b[0m     rendezvous_iterator \u001b[38;5;241m=\u001b[39m rendezvous(\n\u001b[1;32m   1712\u001b[0m         not_none(init_method), rank, world_size, timeout\u001b[38;5;241m=\u001b[39mtimeout\n\u001b[1;32m   1713\u001b[0m     )\n\u001b[0;32m-> 1714\u001b[0m     store, rank, world_size \u001b[38;5;241m=\u001b[39m \u001b[38;5;28;43mnext\u001b[39;49m\u001b[43m(\u001b[49m\u001b[43mrendezvous_iterator\u001b[49m\u001b[43m)\u001b[49m\n\u001b[1;32m   1715\u001b[0m     store\u001b[38;5;241m.\u001b[39mset_timeout(timeout)\n\u001b[1;32m   1717\u001b[0m     \u001b[38;5;66;03m# Use a PrefixStore to avoid accidental overrides of keys used by\u001b[39;00m\n\u001b[1;32m   1718\u001b[0m     \u001b[38;5;66;03m# different systems (e.g. RPC) in case the store is multi-tenant.\u001b[39;00m\n",
            "File \u001b[0;32m~/python_project/sample/.venv/lib/python3.10/site-packages/torch/distributed/rendezvous.py:274\u001b[0m, in \u001b[0;36m_env_rendezvous_handler\u001b[0;34m(url, timeout, **kwargs)\u001b[0m\n\u001b[1;32m    271\u001b[0m master_port \u001b[38;5;241m=\u001b[39m \u001b[38;5;28mint\u001b[39m(_get_env_or_raise(\u001b[38;5;124m\"\u001b[39m\u001b[38;5;124mMASTER_PORT\u001b[39m\u001b[38;5;124m\"\u001b[39m))\n\u001b[1;32m    272\u001b[0m use_libuv \u001b[38;5;241m=\u001b[39m _get_use_libuv_from_query_dict(query_dict)\n\u001b[0;32m--> 274\u001b[0m store \u001b[38;5;241m=\u001b[39m \u001b[43m_create_c10d_store\u001b[49m\u001b[43m(\u001b[49m\n\u001b[1;32m    275\u001b[0m \u001b[43m    \u001b[49m\u001b[43mmaster_addr\u001b[49m\u001b[43m,\u001b[49m\u001b[43m \u001b[49m\u001b[43mmaster_port\u001b[49m\u001b[43m,\u001b[49m\u001b[43m \u001b[49m\u001b[43mrank\u001b[49m\u001b[43m,\u001b[49m\u001b[43m \u001b[49m\u001b[43mworld_size\u001b[49m\u001b[43m,\u001b[49m\u001b[43m \u001b[49m\u001b[43mtimeout\u001b[49m\u001b[43m,\u001b[49m\u001b[43m \u001b[49m\u001b[43muse_libuv\u001b[49m\n\u001b[1;32m    276\u001b[0m \u001b[43m\u001b[49m\u001b[43m)\u001b[49m\n\u001b[1;32m    278\u001b[0m \u001b[38;5;28;01myield\u001b[39;00m (store, rank, world_size)\n\u001b[1;32m    280\u001b[0m \u001b[38;5;66;03m# If this configuration is invalidated, there is nothing we can do about it\u001b[39;00m\n",
            "File \u001b[0;32m~/python_project/sample/.venv/lib/python3.10/site-packages/torch/distributed/rendezvous.py:194\u001b[0m, in \u001b[0;36m_create_c10d_store\u001b[0;34m(hostname, port, rank, world_size, timeout, use_libuv)\u001b[0m\n\u001b[1;32m    192\u001b[0m \u001b[38;5;28;01melse\u001b[39;00m:\n\u001b[1;32m    193\u001b[0m     start_daemon \u001b[38;5;241m=\u001b[39m rank \u001b[38;5;241m==\u001b[39m \u001b[38;5;241m0\u001b[39m\n\u001b[0;32m--> 194\u001b[0m     \u001b[38;5;28;01mreturn\u001b[39;00m \u001b[43mTCPStore\u001b[49m\u001b[43m(\u001b[49m\n\u001b[1;32m    195\u001b[0m \u001b[43m        \u001b[49m\u001b[43mhost_name\u001b[49m\u001b[38;5;241;43m=\u001b[39;49m\u001b[43mhostname\u001b[49m\u001b[43m,\u001b[49m\n\u001b[1;32m    196\u001b[0m \u001b[43m        \u001b[49m\u001b[43mport\u001b[49m\u001b[38;5;241;43m=\u001b[39;49m\u001b[43mport\u001b[49m\u001b[43m,\u001b[49m\n\u001b[1;32m    197\u001b[0m \u001b[43m        \u001b[49m\u001b[43mworld_size\u001b[49m\u001b[38;5;241;43m=\u001b[39;49m\u001b[43mworld_size\u001b[49m\u001b[43m,\u001b[49m\n\u001b[1;32m    198\u001b[0m \u001b[43m        \u001b[49m\u001b[43mis_master\u001b[49m\u001b[38;5;241;43m=\u001b[39;49m\u001b[43mstart_daemon\u001b[49m\u001b[43m,\u001b[49m\n\u001b[1;32m    199\u001b[0m \u001b[43m        \u001b[49m\u001b[43mtimeout\u001b[49m\u001b[38;5;241;43m=\u001b[39;49m\u001b[43mtimeout\u001b[49m\u001b[43m,\u001b[49m\n\u001b[1;32m    200\u001b[0m \u001b[43m        \u001b[49m\u001b[43mmulti_tenant\u001b[49m\u001b[38;5;241;43m=\u001b[39;49m\u001b[38;5;28;43;01mTrue\u001b[39;49;00m\u001b[43m,\u001b[49m\n\u001b[1;32m    201\u001b[0m \u001b[43m        \u001b[49m\u001b[43muse_libuv\u001b[49m\u001b[38;5;241;43m=\u001b[39;49m\u001b[43muse_libuv\u001b[49m\u001b[43m,\u001b[49m\n\u001b[1;32m    202\u001b[0m \u001b[43m    \u001b[49m\u001b[43m)\u001b[49m\n",
            "\u001b[0;31mRuntimeError\u001b[0m: The server socket has failed to listen on any local network address. port: 29500, useIpv6: 0, code: -98, name: EADDRINUSE, message: address already in use"
          ]
        }
      ],
      "source": [
        "# set training_args\n",
        "training_arguments = TrainingArguments(\n",
        "    output_dir=default_environment_variables[\"output_dir\"],\n",
        "    num_train_epochs=default_environment_variables[\"num_train_epochs\"],\n",
        "    per_device_train_batch_size=default_environment_variables[\"per_device_train_batch_size\"],\n",
        "    per_device_eval_batch_size=default_environment_variables[\"per_device_eval_batch_size\"],\n",
        "    gradient_accumulation_steps=default_environment_variables[\"gradient_accumulation_steps\"],\n",
        "    max_grad_norm=default_environment_variables[\"max_grad_norm\"],\n",
        "    optim=default_environment_variables[\"optim\"],\n",
        "    learning_rate=default_environment_variables[\"learning_rate\"],\n",
        "    weight_decay=default_environment_variables[\"weight_decay\"],\n",
        "    lr_scheduler_type=default_environment_variables[\"lr_scheduler_type\"],\n",
        "    warmup_steps=default_environment_variables[\"warmup_steps\"],\n",
        "    logging_steps=default_environment_variables[\"logging_steps\"],\n",
        "    seed=default_environment_variables[\"seed\"],\n",
        "    fp16=default_environment_variables[\"fp16\"],\n",
        "    bf16=default_environment_variables[\"bf16\"],\n",
        "    deepspeed=deepspeed_zero2_config,\n",
        "    save_strategy=default_environment_variables[\"save_strategy\"],\n",
        "    save_steps=default_environment_variables[\"save_steps\"],\n",
        "    save_total_limit=default_environment_variables[\"save_total_limit\"],\n",
        "    eval_strategy=default_environment_variables[\"eval_strategy\"],\n",
        "    eval_steps=default_environment_variables[\"eval_steps\"],\n",
        "    do_eval=default_environment_variables[\"do_eval\"]\n",
        ")"
      ]
    },
    {
      "cell_type": "code",
      "execution_count": null,
      "metadata": {},
      "outputs": [],
      "source": [
        "# format dataset\n",
        "train_formatted = apply_dataset_dataformat(train_dataset)\n",
        "print(f\"train_formatted: {train_formatted}\")\n",
        "validation_formatted = apply_dataset_dataformat(validation_dataset)\n",
        "print(f\"validation_formatted: {validation_formatted}\")"
      ]
    },
    {
      "cell_type": "code",
      "execution_count": 25,
      "metadata": {},
      "outputs": [],
      "source": [
        "from trl import SFTTrainer\n",
        "from datasets import Dataset"
      ]
    },
    {
      "cell_type": "code",
      "execution_count": null,
      "metadata": {},
      "outputs": [],
      "source": [
        "# check dataset values\n",
        "train_hf_dataset = Dataset.from_dict({\"text\": train_formatted.tolist()})\n",
        "validation_hf_dataset = Dataset.from_dict({\"text\": validation_formatted.tolist()})\n",
        "print(f\"train_hf_dataset: {train_hf_dataset}\")\n",
        "print(f\"validation_hf_dataset: {validation_hf_dataset}\")\n",
        "\n",
        "print('-'*10 + 'train_hf_dataset' + '-'*10)\n",
        "for i in range(10):\n",
        "    print(train_hf_dataset[i]['text'])\n",
        "print('-'*10 + 'validation_hf_dataset' + '-'*10)\n",
        "for i in range(10):\n",
        "    print(validation_hf_dataset[i]['text'])"
      ]
    },
    {
      "cell_type": "code",
      "execution_count": null,
      "metadata": {},
      "outputs": [],
      "source": [
        "# SFTTrainer setting\n",
        "trainer = SFTTrainer(\n",
        "    model=model,\n",
        "    train_dataset=train_hf_dataset,\n",
        "    eval_dataset=validation_hf_dataset,\n",
        "    args=training_arguments,\n",
        "    data_collator=collator,\n",
        ")"
      ]
    },
    {
      "cell_type": "code",
      "execution_count": null,
      "metadata": {},
      "outputs": [],
      "source": [
        "# train\n",
        "trainer.train()"
      ]
    },
    {
      "cell_type": "code",
      "execution_count": 29,
      "metadata": {},
      "outputs": [],
      "source": [
        "# trainer.save_model() # save model\n",
        "trainer.save_state() # save metrics"
      ]
    }
  ],
  "metadata": {
    "colab": {
      "provenance": []
    },
    "kernelspec": {
      "display_name": ".venv",
      "language": "python",
      "name": "python3"
    },
    "language_info": {
      "codemirror_mode": {
        "name": "ipython",
        "version": 3
      },
      "file_extension": ".py",
      "mimetype": "text/x-python",
      "name": "python",
      "nbconvert_exporter": "python",
      "pygments_lexer": "ipython3",
      "version": "3.10.12"
    }
  },
  "nbformat": 4,
  "nbformat_minor": 0
}

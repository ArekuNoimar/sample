{
 "cells": [
  {
   "cell_type": "code",
   "execution_count": 1,
   "metadata": {},
   "outputs": [
    {
     "name": "stdout",
     "output_type": "stream",
     "text": [
      "Requirement already satisfied: pandas==2.2.3 in /home/ubuntu/python_project/sample/.venv/lib/python3.10/site-packages (2.2.3)\n",
      "Requirement already satisfied: numpy>=1.22.4 in /home/ubuntu/python_project/sample/.venv/lib/python3.10/site-packages (from pandas==2.2.3) (2.1.2)\n",
      "Requirement already satisfied: python-dateutil>=2.8.2 in /home/ubuntu/python_project/sample/.venv/lib/python3.10/site-packages (from pandas==2.2.3) (2.9.0.post0)\n",
      "Requirement already satisfied: pytz>=2020.1 in /home/ubuntu/python_project/sample/.venv/lib/python3.10/site-packages (from pandas==2.2.3) (2025.2)\n",
      "Requirement already satisfied: tzdata>=2022.7 in /home/ubuntu/python_project/sample/.venv/lib/python3.10/site-packages (from pandas==2.2.3) (2025.2)\n",
      "Requirement already satisfied: six>=1.5 in /home/ubuntu/python_project/sample/.venv/lib/python3.10/site-packages (from python-dateutil>=2.8.2->pandas==2.2.3) (1.17.0)\n"
     ]
    }
   ],
   "source": [
    "!pip install 'pandas==2.2.3'"
   ]
  },
  {
   "cell_type": "code",
   "execution_count": 2,
   "metadata": {},
   "outputs": [],
   "source": [
    "import pandas\n",
    "import json\n",
    "from matplotlib import pyplot as plt"
   ]
  },
  {
   "cell_type": "code",
   "execution_count": 3,
   "metadata": {},
   "outputs": [],
   "source": [
    "# set default valiables\n",
    "default_environment_variables = {\n",
    "    \"llama-3-2-1b-base\": \"meta-llama/Llama-3.2-1B\",\n",
    "    \"output_eval_file_base\": \"llama-3-2-1b-basemodel-qa-instruction-eval.json\",\n",
    "    \"llama-3-2-1b-lora\": \"../fine-tuning/output/Llama-3.2-1B_Deepspeed_Zero2_SGBoLcwVAP_202507012312/check_point_output/checkpoint-124803\",\n",
    "    \"output_eval_file_lora\": \"llama-3-2-1b-lora-qa-instruction-eval_1.json\",\n",
    "    # \"llama-3-2-1b-alpaca-instruct-version1\": \"./output/llama-3-2-1b-alpaca-202506241720/save_model_41601\",\n",
    "    # \"output_eval_file_alpaca-instruct-version1\": \"llama-3-2-1b-lora-qa-instruction-eval.json\",\n",
    "    # \"llama-3-2-1b-alpaca-instruct-version2\":\"llama-3-2-1b-alpaca-202506261658/save_model_124803\",\n",
    "    # \"output_eval_file_alpaca-instruct-version2\": \"llama-3-2-1b-alpaca-instruct-version2-evaluation.json\",\n",
    "}"
   ]
  },
  {
   "cell_type": "code",
   "execution_count": 4,
   "metadata": {},
   "outputs": [],
   "source": [
    "# read json file\n",
    "def load_alpaca_dataset(file_path):\n",
    "  with open(file_path, 'r', encoding='utf-8') as f:\n",
    "    data = json.load(f)\n",
    "\n",
    "  dataframe = pandas.DataFrame(data)\n",
    "  dataframe = dataframe[\n",
    "    [\n",
    "      'sample', \n",
    "      'dataset',\n",
    "      'instruction',\n",
    "      'expected',\n",
    "      'generated',\n",
    "      'generator', \n",
    "      'retry_count', \n",
    "      'bleu_score', \n",
    "      'bleu_counts', \n",
    "      'bleu_totals', \n",
    "      'bleu_precisions', \n",
    "      'bleu_bp', \n",
    "      'bleu_sys_len', \n",
    "      'bleu_ref_len', \n",
    "      'bertscore_precision', \n",
    "      'bertscore_recall', \n",
    "      'bertscore_f1'\n",
    "     ]\n",
    "   ]\n",
    "  dataframe.head()\n",
    "  return dataframe"
   ]
  },
  {
   "cell_type": "code",
   "execution_count": 5,
   "metadata": {},
   "outputs": [],
   "source": [
    "# count of dataframe rows\n",
    "def data_count(dataframe):\n",
    "  return len(dataframe)"
   ]
  },
  {
   "cell_type": "code",
   "execution_count": 6,
   "metadata": {},
   "outputs": [],
   "source": [
    "# calculate avg bleu score\n",
    "def avg_bleu_score(dataframe):\n",
    "  return dataframe['bleu_score'].mean()"
   ]
  },
  {
   "cell_type": "code",
   "execution_count": 7,
   "metadata": {},
   "outputs": [],
   "source": [
    "# calculate avg bertscore precision\n",
    "def avg_bertscore_precision(dataframe):\n",
    "  return dataframe['bertscore_precision'].mean()"
   ]
  },
  {
   "cell_type": "code",
   "execution_count": 8,
   "metadata": {},
   "outputs": [],
   "source": [
    "# calculate avg bertscore recall\n",
    "def avg_bertscore_recall(dataframe):\n",
    "  return dataframe['bertscore_recall'].mean()"
   ]
  },
  {
   "cell_type": "code",
   "execution_count": 9,
   "metadata": {},
   "outputs": [],
   "source": [
    "# calculate avg bleu score\n",
    "def avg_bertscore_f1(dataframe):\n",
    "  return dataframe['bertscore_f1'].mean()"
   ]
  },
  {
   "cell_type": "code",
   "execution_count": 10,
   "metadata": {},
   "outputs": [],
   "source": [
    "def retry_count(dataframe):\n",
    "    # retry_countカラムの値の分布を集計\n",
    "    retry_counts = dataframe['retry_count'].value_counts().sort_index()\n",
    "    result_dict = retry_counts.to_dict()\n",
    "\n",
    "    result_dict = dict(result_dict.items())\n",
    "    return result_dict"
   ]
  },
  {
   "cell_type": "code",
   "execution_count": 11,
   "metadata": {},
   "outputs": [],
   "source": [
    "# calculate avg bleu score\n",
    "def print_scores(dataframe, dataframe_variable_name):\n",
    "  print(f\"---------------- {dataframe_variable_name} ----------------\")\n",
    "  print(f'avg_bleu_score          : {avg_bleu_score(dataframe)}')\n",
    "  print(f'avg_bertscore_f1        : {avg_bertscore_f1(dataframe)}')\n",
    "  print(f'avg_bertscore_precision : {avg_bertscore_precision(dataframe)}')\n",
    "  print(f'avg_bertscore_recall    : {avg_bertscore_recall(dataframe)}')\n",
    "  print(f'retry_count             : {retry_count(dataframe)}')"
   ]
  },
  {
   "cell_type": "code",
   "execution_count": 12,
   "metadata": {},
   "outputs": [
    {
     "name": "stdout",
     "output_type": "stream",
     "text": [
      "default_environment_variables: meta-llama/Llama-3.2-1B\n",
      "default_environment_variables: llama-3-2-1b-lora-qa-instruction-eval_1.json\n"
     ]
    }
   ],
   "source": [
    "# check valiables\n",
    "print(f'default_environment_variables: {default_environment_variables[\"llama-3-2-1b-base\"]}')\n",
    "evalution_base = load_alpaca_dataset(default_environment_variables['output_eval_file_base'])\n",
    "\n",
    "print(f'default_environment_variables: {default_environment_variables[\"output_eval_file_lora\"]}')\n",
    "evalution_lora = load_alpaca_dataset(default_environment_variables[\"output_eval_file_lora\"])"
   ]
  },
  {
   "cell_type": "code",
   "execution_count": 13,
   "metadata": {},
   "outputs": [
    {
     "name": "stdout",
     "output_type": "stream",
     "text": [
      "evalution_base_data_count: 805\n",
      "evalution_lora_data_count: 81\n"
     ]
    }
   ],
   "source": [
    "# data count\n",
    "evalution_base_data_count = data_count(evalution_base)\n",
    "print(f'evalution_base_data_count: {evalution_base_data_count}')\n",
    "\n",
    "evalution_lora_data_count = data_count(evalution_lora)\n",
    "print(f'evalution_lora_data_count: {evalution_lora_data_count}')"
   ]
  },
  {
   "cell_type": "code",
   "execution_count": 14,
   "metadata": {},
   "outputs": [
    {
     "name": "stdout",
     "output_type": "stream",
     "text": [
      "---------------- evalution_base ----------------\n",
      "avg_bleu_score          : 2.9852485053655395\n",
      "avg_bertscore_f1        : 0.5978575586161998\n",
      "avg_bertscore_precision : 0.6248276362137765\n",
      "avg_bertscore_recall    : 0.5766361041468863\n",
      "retry_count             : {0: 511, 1: 89, 2: 31, 3: 25, 4: 24, 5: 4, 6: 10, 7: 7, 8: 5, 9: 6, 10: 93}\n",
      "---------------- evalution_lora ----------------\n",
      "avg_bleu_score          : 1.0505924099489463\n",
      "avg_bertscore_f1        : 0.5782257572368339\n",
      "avg_bertscore_precision : 0.6081309222880705\n",
      "avg_bertscore_recall    : 0.5537174700954814\n",
      "retry_count             : {0: 57, 1: 4, 2: 4, 3: 1, 4: 1, 5: 1, 6: 1, 7: 1, 9: 1, 10: 10}\n"
     ]
    }
   ],
   "source": [
    "# print scores\n",
    "print_scores(evalution_base, \"evalution_base\")\n",
    "print_scores(evalution_lora, \"evalution_lora\")"
   ]
  }
 ],
 "metadata": {
  "kernelspec": {
   "display_name": ".venv",
   "language": "python",
   "name": "python3"
  },
  "language_info": {
   "codemirror_mode": {
    "name": "ipython",
    "version": 3
   },
   "file_extension": ".py",
   "mimetype": "text/x-python",
   "name": "python",
   "nbconvert_exporter": "python",
   "pygments_lexer": "ipython3",
   "version": "3.10.12"
  }
 },
 "nbformat": 4,
 "nbformat_minor": 2
}

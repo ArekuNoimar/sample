{
  "cells": [
    {
      "cell_type": "code",
      "execution_count": 1,
      "metadata": {
        "colab": {
          "base_uri": "https://localhost:8080/",
          "height": 1000
        },
        "id": "2-4fmBm3eEUu",
        "outputId": "091130b4-59ff-4618-f4be-60020d408389"
      },
      "outputs": [
        {
          "name": "stdout",
          "output_type": "stream",
          "text": [
            "Looking in indexes: https://download.pytorch.org/whl/cu124\n",
            "Requirement already satisfied: torch in /home/ubuntu/python_project/sample/.venv/lib/python3.10/site-packages (2.6.0+cu124)\n",
            "Requirement already satisfied: torchvision in /home/ubuntu/python_project/sample/.venv/lib/python3.10/site-packages (0.21.0+cu124)\n",
            "Requirement already satisfied: torchaudio in /home/ubuntu/python_project/sample/.venv/lib/python3.10/site-packages (2.6.0+cu124)\n",
            "Requirement already satisfied: filelock in /home/ubuntu/python_project/sample/.venv/lib/python3.10/site-packages (from torch) (3.13.1)\n",
            "Requirement already satisfied: typing-extensions>=4.10.0 in /home/ubuntu/python_project/sample/.venv/lib/python3.10/site-packages (from torch) (4.14.0)\n",
            "Requirement already satisfied: networkx in /home/ubuntu/python_project/sample/.venv/lib/python3.10/site-packages (from torch) (3.3)\n",
            "Requirement already satisfied: jinja2 in /home/ubuntu/python_project/sample/.venv/lib/python3.10/site-packages (from torch) (3.1.4)\n",
            "Requirement already satisfied: fsspec in /home/ubuntu/python_project/sample/.venv/lib/python3.10/site-packages (from torch) (2024.6.1)\n",
            "Requirement already satisfied: nvidia-cuda-nvrtc-cu12==12.4.127 in /home/ubuntu/python_project/sample/.venv/lib/python3.10/site-packages (from torch) (12.4.127)\n",
            "Requirement already satisfied: nvidia-cuda-runtime-cu12==12.4.127 in /home/ubuntu/python_project/sample/.venv/lib/python3.10/site-packages (from torch) (12.4.127)\n",
            "Requirement already satisfied: nvidia-cuda-cupti-cu12==12.4.127 in /home/ubuntu/python_project/sample/.venv/lib/python3.10/site-packages (from torch) (12.4.127)\n",
            "Requirement already satisfied: nvidia-cudnn-cu12==9.1.0.70 in /home/ubuntu/python_project/sample/.venv/lib/python3.10/site-packages (from torch) (9.1.0.70)\n",
            "Requirement already satisfied: nvidia-cublas-cu12==12.4.5.8 in /home/ubuntu/python_project/sample/.venv/lib/python3.10/site-packages (from torch) (12.4.5.8)\n",
            "Requirement already satisfied: nvidia-cufft-cu12==11.2.1.3 in /home/ubuntu/python_project/sample/.venv/lib/python3.10/site-packages (from torch) (11.2.1.3)\n",
            "Requirement already satisfied: nvidia-curand-cu12==10.3.5.147 in /home/ubuntu/python_project/sample/.venv/lib/python3.10/site-packages (from torch) (10.3.5.147)\n",
            "Requirement already satisfied: nvidia-cusolver-cu12==11.6.1.9 in /home/ubuntu/python_project/sample/.venv/lib/python3.10/site-packages (from torch) (11.6.1.9)\n",
            "Requirement already satisfied: nvidia-cusparse-cu12==12.3.1.170 in /home/ubuntu/python_project/sample/.venv/lib/python3.10/site-packages (from torch) (12.3.1.170)\n",
            "Requirement already satisfied: nvidia-cusparselt-cu12==0.6.2 in /home/ubuntu/python_project/sample/.venv/lib/python3.10/site-packages (from torch) (0.6.2)\n",
            "Requirement already satisfied: nvidia-nccl-cu12==2.21.5 in /home/ubuntu/python_project/sample/.venv/lib/python3.10/site-packages (from torch) (2.21.5)\n",
            "Requirement already satisfied: nvidia-nvtx-cu12==12.4.127 in /home/ubuntu/python_project/sample/.venv/lib/python3.10/site-packages (from torch) (12.4.127)\n",
            "Requirement already satisfied: nvidia-nvjitlink-cu12==12.4.127 in /home/ubuntu/python_project/sample/.venv/lib/python3.10/site-packages (from torch) (12.4.127)\n",
            "Requirement already satisfied: triton==3.2.0 in /home/ubuntu/python_project/sample/.venv/lib/python3.10/site-packages (from torch) (3.2.0)\n",
            "Requirement already satisfied: sympy==1.13.1 in /home/ubuntu/python_project/sample/.venv/lib/python3.10/site-packages (from torch) (1.13.1)\n",
            "Requirement already satisfied: mpmath<1.4,>=1.1.0 in /home/ubuntu/python_project/sample/.venv/lib/python3.10/site-packages (from sympy==1.13.1->torch) (1.3.0)\n",
            "Requirement already satisfied: numpy in /home/ubuntu/python_project/sample/.venv/lib/python3.10/site-packages (from torchvision) (2.1.2)\n",
            "Requirement already satisfied: pillow!=8.3.*,>=5.3.0 in /home/ubuntu/python_project/sample/.venv/lib/python3.10/site-packages (from torchvision) (11.0.0)\n",
            "Requirement already satisfied: MarkupSafe>=2.0 in /home/ubuntu/python_project/sample/.venv/lib/python3.10/site-packages (from jinja2->torch) (2.1.5)\n",
            "Requirement already satisfied: transformers==4.51.3 in /home/ubuntu/python_project/sample/.venv/lib/python3.10/site-packages (4.51.3)\n",
            "Requirement already satisfied: filelock in /home/ubuntu/python_project/sample/.venv/lib/python3.10/site-packages (from transformers==4.51.3) (3.13.1)\n",
            "Requirement already satisfied: huggingface-hub<1.0,>=0.30.0 in /home/ubuntu/python_project/sample/.venv/lib/python3.10/site-packages (from transformers==4.51.3) (0.30.2)\n",
            "Requirement already satisfied: numpy>=1.17 in /home/ubuntu/python_project/sample/.venv/lib/python3.10/site-packages (from transformers==4.51.3) (2.1.2)\n",
            "Requirement already satisfied: packaging>=20.0 in /home/ubuntu/python_project/sample/.venv/lib/python3.10/site-packages (from transformers==4.51.3) (24.2)\n",
            "Requirement already satisfied: pyyaml>=5.1 in /home/ubuntu/python_project/sample/.venv/lib/python3.10/site-packages (from transformers==4.51.3) (6.0.2)\n",
            "Requirement already satisfied: regex!=2019.12.17 in /home/ubuntu/python_project/sample/.venv/lib/python3.10/site-packages (from transformers==4.51.3) (2024.11.6)\n",
            "Requirement already satisfied: requests in /home/ubuntu/python_project/sample/.venv/lib/python3.10/site-packages (from transformers==4.51.3) (2.32.4)\n",
            "Requirement already satisfied: tokenizers<0.22,>=0.21 in /home/ubuntu/python_project/sample/.venv/lib/python3.10/site-packages (from transformers==4.51.3) (0.21.1)\n",
            "Requirement already satisfied: safetensors>=0.4.3 in /home/ubuntu/python_project/sample/.venv/lib/python3.10/site-packages (from transformers==4.51.3) (0.5.3)\n",
            "Requirement already satisfied: tqdm>=4.27 in /home/ubuntu/python_project/sample/.venv/lib/python3.10/site-packages (from transformers==4.51.3) (4.67.1)\n",
            "Requirement already satisfied: fsspec>=2023.5.0 in /home/ubuntu/python_project/sample/.venv/lib/python3.10/site-packages (from huggingface-hub<1.0,>=0.30.0->transformers==4.51.3) (2024.6.1)\n",
            "Requirement already satisfied: typing-extensions>=3.7.4.3 in /home/ubuntu/python_project/sample/.venv/lib/python3.10/site-packages (from huggingface-hub<1.0,>=0.30.0->transformers==4.51.3) (4.14.0)\n",
            "Requirement already satisfied: charset_normalizer<4,>=2 in /home/ubuntu/python_project/sample/.venv/lib/python3.10/site-packages (from requests->transformers==4.51.3) (3.4.2)\n",
            "Requirement already satisfied: idna<4,>=2.5 in /home/ubuntu/python_project/sample/.venv/lib/python3.10/site-packages (from requests->transformers==4.51.3) (3.10)\n",
            "Requirement already satisfied: urllib3<3,>=1.21.1 in /home/ubuntu/python_project/sample/.venv/lib/python3.10/site-packages (from requests->transformers==4.51.3) (2.5.0)\n",
            "Requirement already satisfied: certifi>=2017.4.17 in /home/ubuntu/python_project/sample/.venv/lib/python3.10/site-packages (from requests->transformers==4.51.3) (2025.6.15)\n",
            "Requirement already satisfied: tqdm==4.67.1 in /home/ubuntu/python_project/sample/.venv/lib/python3.10/site-packages (4.67.1)\n",
            "Requirement already satisfied: bert-score==0.3.13 in /home/ubuntu/python_project/sample/.venv/lib/python3.10/site-packages (0.3.13)\n",
            "Requirement already satisfied: torch>=1.0.0 in /home/ubuntu/python_project/sample/.venv/lib/python3.10/site-packages (from bert-score==0.3.13) (2.6.0+cu124)\n",
            "Requirement already satisfied: pandas>=1.0.1 in /home/ubuntu/python_project/sample/.venv/lib/python3.10/site-packages (from bert-score==0.3.13) (2.2.3)\n",
            "Requirement already satisfied: transformers>=3.0.0 in /home/ubuntu/python_project/sample/.venv/lib/python3.10/site-packages (from bert-score==0.3.13) (4.51.3)\n",
            "Requirement already satisfied: numpy in /home/ubuntu/python_project/sample/.venv/lib/python3.10/site-packages (from bert-score==0.3.13) (2.1.2)\n",
            "Requirement already satisfied: requests in /home/ubuntu/python_project/sample/.venv/lib/python3.10/site-packages (from bert-score==0.3.13) (2.32.4)\n",
            "Requirement already satisfied: tqdm>=4.31.1 in /home/ubuntu/python_project/sample/.venv/lib/python3.10/site-packages (from bert-score==0.3.13) (4.67.1)\n",
            "Requirement already satisfied: matplotlib in /home/ubuntu/python_project/sample/.venv/lib/python3.10/site-packages (from bert-score==0.3.13) (3.10.1)\n",
            "Requirement already satisfied: packaging>=20.9 in /home/ubuntu/python_project/sample/.venv/lib/python3.10/site-packages (from bert-score==0.3.13) (24.2)\n",
            "Requirement already satisfied: python-dateutil>=2.8.2 in /home/ubuntu/python_project/sample/.venv/lib/python3.10/site-packages (from pandas>=1.0.1->bert-score==0.3.13) (2.9.0.post0)\n",
            "Requirement already satisfied: pytz>=2020.1 in /home/ubuntu/python_project/sample/.venv/lib/python3.10/site-packages (from pandas>=1.0.1->bert-score==0.3.13) (2025.2)\n",
            "Requirement already satisfied: tzdata>=2022.7 in /home/ubuntu/python_project/sample/.venv/lib/python3.10/site-packages (from pandas>=1.0.1->bert-score==0.3.13) (2025.2)\n",
            "Requirement already satisfied: six>=1.5 in /home/ubuntu/python_project/sample/.venv/lib/python3.10/site-packages (from python-dateutil>=2.8.2->pandas>=1.0.1->bert-score==0.3.13) (1.17.0)\n",
            "Requirement already satisfied: filelock in /home/ubuntu/python_project/sample/.venv/lib/python3.10/site-packages (from torch>=1.0.0->bert-score==0.3.13) (3.13.1)\n",
            "Requirement already satisfied: typing-extensions>=4.10.0 in /home/ubuntu/python_project/sample/.venv/lib/python3.10/site-packages (from torch>=1.0.0->bert-score==0.3.13) (4.14.0)\n",
            "Requirement already satisfied: networkx in /home/ubuntu/python_project/sample/.venv/lib/python3.10/site-packages (from torch>=1.0.0->bert-score==0.3.13) (3.3)\n",
            "Requirement already satisfied: jinja2 in /home/ubuntu/python_project/sample/.venv/lib/python3.10/site-packages (from torch>=1.0.0->bert-score==0.3.13) (3.1.4)\n",
            "Requirement already satisfied: fsspec in /home/ubuntu/python_project/sample/.venv/lib/python3.10/site-packages (from torch>=1.0.0->bert-score==0.3.13) (2024.6.1)\n",
            "Requirement already satisfied: nvidia-cuda-nvrtc-cu12==12.4.127 in /home/ubuntu/python_project/sample/.venv/lib/python3.10/site-packages (from torch>=1.0.0->bert-score==0.3.13) (12.4.127)\n",
            "Requirement already satisfied: nvidia-cuda-runtime-cu12==12.4.127 in /home/ubuntu/python_project/sample/.venv/lib/python3.10/site-packages (from torch>=1.0.0->bert-score==0.3.13) (12.4.127)\n",
            "Requirement already satisfied: nvidia-cuda-cupti-cu12==12.4.127 in /home/ubuntu/python_project/sample/.venv/lib/python3.10/site-packages (from torch>=1.0.0->bert-score==0.3.13) (12.4.127)\n",
            "Requirement already satisfied: nvidia-cudnn-cu12==9.1.0.70 in /home/ubuntu/python_project/sample/.venv/lib/python3.10/site-packages (from torch>=1.0.0->bert-score==0.3.13) (9.1.0.70)\n",
            "Requirement already satisfied: nvidia-cublas-cu12==12.4.5.8 in /home/ubuntu/python_project/sample/.venv/lib/python3.10/site-packages (from torch>=1.0.0->bert-score==0.3.13) (12.4.5.8)\n",
            "Requirement already satisfied: nvidia-cufft-cu12==11.2.1.3 in /home/ubuntu/python_project/sample/.venv/lib/python3.10/site-packages (from torch>=1.0.0->bert-score==0.3.13) (11.2.1.3)\n",
            "Requirement already satisfied: nvidia-curand-cu12==10.3.5.147 in /home/ubuntu/python_project/sample/.venv/lib/python3.10/site-packages (from torch>=1.0.0->bert-score==0.3.13) (10.3.5.147)\n",
            "Requirement already satisfied: nvidia-cusolver-cu12==11.6.1.9 in /home/ubuntu/python_project/sample/.venv/lib/python3.10/site-packages (from torch>=1.0.0->bert-score==0.3.13) (11.6.1.9)\n",
            "Requirement already satisfied: nvidia-cusparse-cu12==12.3.1.170 in /home/ubuntu/python_project/sample/.venv/lib/python3.10/site-packages (from torch>=1.0.0->bert-score==0.3.13) (12.3.1.170)\n",
            "Requirement already satisfied: nvidia-cusparselt-cu12==0.6.2 in /home/ubuntu/python_project/sample/.venv/lib/python3.10/site-packages (from torch>=1.0.0->bert-score==0.3.13) (0.6.2)\n",
            "Requirement already satisfied: nvidia-nccl-cu12==2.21.5 in /home/ubuntu/python_project/sample/.venv/lib/python3.10/site-packages (from torch>=1.0.0->bert-score==0.3.13) (2.21.5)\n",
            "Requirement already satisfied: nvidia-nvtx-cu12==12.4.127 in /home/ubuntu/python_project/sample/.venv/lib/python3.10/site-packages (from torch>=1.0.0->bert-score==0.3.13) (12.4.127)\n",
            "Requirement already satisfied: nvidia-nvjitlink-cu12==12.4.127 in /home/ubuntu/python_project/sample/.venv/lib/python3.10/site-packages (from torch>=1.0.0->bert-score==0.3.13) (12.4.127)\n",
            "Requirement already satisfied: triton==3.2.0 in /home/ubuntu/python_project/sample/.venv/lib/python3.10/site-packages (from torch>=1.0.0->bert-score==0.3.13) (3.2.0)\n",
            "Requirement already satisfied: sympy==1.13.1 in /home/ubuntu/python_project/sample/.venv/lib/python3.10/site-packages (from torch>=1.0.0->bert-score==0.3.13) (1.13.1)\n",
            "Requirement already satisfied: mpmath<1.4,>=1.1.0 in /home/ubuntu/python_project/sample/.venv/lib/python3.10/site-packages (from sympy==1.13.1->torch>=1.0.0->bert-score==0.3.13) (1.3.0)\n",
            "Requirement already satisfied: huggingface-hub<1.0,>=0.30.0 in /home/ubuntu/python_project/sample/.venv/lib/python3.10/site-packages (from transformers>=3.0.0->bert-score==0.3.13) (0.30.2)\n",
            "Requirement already satisfied: pyyaml>=5.1 in /home/ubuntu/python_project/sample/.venv/lib/python3.10/site-packages (from transformers>=3.0.0->bert-score==0.3.13) (6.0.2)\n",
            "Requirement already satisfied: regex!=2019.12.17 in /home/ubuntu/python_project/sample/.venv/lib/python3.10/site-packages (from transformers>=3.0.0->bert-score==0.3.13) (2024.11.6)\n",
            "Requirement already satisfied: tokenizers<0.22,>=0.21 in /home/ubuntu/python_project/sample/.venv/lib/python3.10/site-packages (from transformers>=3.0.0->bert-score==0.3.13) (0.21.1)\n",
            "Requirement already satisfied: safetensors>=0.4.3 in /home/ubuntu/python_project/sample/.venv/lib/python3.10/site-packages (from transformers>=3.0.0->bert-score==0.3.13) (0.5.3)\n",
            "Requirement already satisfied: MarkupSafe>=2.0 in /home/ubuntu/python_project/sample/.venv/lib/python3.10/site-packages (from jinja2->torch>=1.0.0->bert-score==0.3.13) (2.1.5)\n",
            "Requirement already satisfied: contourpy>=1.0.1 in /home/ubuntu/python_project/sample/.venv/lib/python3.10/site-packages (from matplotlib->bert-score==0.3.13) (1.3.2)\n",
            "Requirement already satisfied: cycler>=0.10 in /home/ubuntu/python_project/sample/.venv/lib/python3.10/site-packages (from matplotlib->bert-score==0.3.13) (0.12.1)\n",
            "Requirement already satisfied: fonttools>=4.22.0 in /home/ubuntu/python_project/sample/.venv/lib/python3.10/site-packages (from matplotlib->bert-score==0.3.13) (4.58.4)\n",
            "Requirement already satisfied: kiwisolver>=1.3.1 in /home/ubuntu/python_project/sample/.venv/lib/python3.10/site-packages (from matplotlib->bert-score==0.3.13) (1.4.8)\n",
            "Requirement already satisfied: pillow>=8 in /home/ubuntu/python_project/sample/.venv/lib/python3.10/site-packages (from matplotlib->bert-score==0.3.13) (11.0.0)\n",
            "Requirement already satisfied: pyparsing>=2.3.1 in /home/ubuntu/python_project/sample/.venv/lib/python3.10/site-packages (from matplotlib->bert-score==0.3.13) (3.2.3)\n",
            "Requirement already satisfied: charset_normalizer<4,>=2 in /home/ubuntu/python_project/sample/.venv/lib/python3.10/site-packages (from requests->bert-score==0.3.13) (3.4.2)\n",
            "Requirement already satisfied: idna<4,>=2.5 in /home/ubuntu/python_project/sample/.venv/lib/python3.10/site-packages (from requests->bert-score==0.3.13) (3.10)\n",
            "Requirement already satisfied: urllib3<3,>=1.21.1 in /home/ubuntu/python_project/sample/.venv/lib/python3.10/site-packages (from requests->bert-score==0.3.13) (2.5.0)\n",
            "Requirement already satisfied: certifi>=2017.4.17 in /home/ubuntu/python_project/sample/.venv/lib/python3.10/site-packages (from requests->bert-score==0.3.13) (2025.6.15)\n"
          ]
        }
      ],
      "source": [
        "!pip install torch torchvision torchaudio --index-url https://download.pytorch.org/whl/cu124\n",
        "!pip install 'transformers==4.51.3'\n",
        "!pip install 'tqdm==4.67.1'\n",
        "!pip install 'bert-score==0.3.13'"
      ]
    },
    {
      "cell_type": "code",
      "execution_count": 2,
      "metadata": {
        "id": "wV_2TXekf5tX"
      },
      "outputs": [],
      "source": [
        "# Set Environment Variables\n",
        "default_environment_variables = {\n",
        "    \"llama-3-2-1b-base\": \"meta-llama/Llama-3.2-1B\",\n",
        "    # \"output_eval_file_base\": \"llama-3-2-1b-base-evaluation.json\",\n",
        "    # \"llama-3-2-1b-alpaca-instruct-version1\": \"./output/llama-3-2-1b-alpaca-202506241720/save_model_41601\",\n",
        "    # \"output_eval_file_alpaca-instruct-version1\": \"llama-3-2-1b-alpaca-instruct-version1-evaluation.json\",\n",
        "    # \"llama-3-2-1b-alpaca-instruct-version2\":\"./output/llama-3-2-1b-alpaca-202506261658/save_model_124803\",\n",
        "    # \"output_eval_file_alpaca-instruct-version2\": \"llama-3-2-1b-alpaca-instruct-version2-evaluation.json\",\n",
        "    \"dataset\": \"../dataset/alpaca_eval.json\",\n",
        "    \"apply_dataset\": 0.1, # dataset percentage\n",
        "    \"max_new_tokens\": 512, # model generate tokens\n",
        "    \"temperature\": 0.9, # model temperature\n",
        "    \"max_retries\": 10, # model retry count\n",
        "    \"retry_distance_time\": 5,\n",
        "    \"lora_directory\": \"../fine-tuning/output/Llama-3.2-1B_Deepspeed_Zero2_SGBoLcwVAP_202507012312/check_point_output/checkpoint-124803\",\n",
        "    \"output_file\": \"llama-3-2-1b-lora-qa-instruction-eval_1.json\"\n",
        "}"
      ]
    },
    {
      "cell_type": "code",
      "execution_count": 3,
      "metadata": {},
      "outputs": [
        {
          "name": "stdout",
          "output_type": "stream",
          "text": [
            "[2025-07-02 16:27:52,296] [INFO] [real_accelerator.py:239:get_accelerator] Setting ds_accelerator to cuda (auto detect)\n"
          ]
        }
      ],
      "source": [
        "from transformers import AutoTokenizer, AutoModelForCausalLM, LlamaForCausalLM"
      ]
    },
    {
      "cell_type": "code",
      "execution_count": 4,
      "metadata": {
        "id": "h-yY9gzgfGPT"
      },
      "outputs": [],
      "source": [
        "# load model, tokenizer\n",
        "tokenizer = AutoTokenizer.from_pretrained(default_environment_variables[\"llama-3-2-1b-base\"])\n",
        "base_model = LlamaForCausalLM.from_pretrained(default_environment_variables[\"llama-3-2-1b-base\"], device_map='cuda:0')"
      ]
    },
    {
      "cell_type": "code",
      "execution_count": 5,
      "metadata": {},
      "outputs": [
        {
          "name": "stdout",
          "output_type": "stream",
          "text": [
            "LlamaForCausalLM(\n",
            "  (model): LlamaModel(\n",
            "    (embed_tokens): Embedding(128256, 2048)\n",
            "    (layers): ModuleList(\n",
            "      (0-15): 16 x LlamaDecoderLayer(\n",
            "        (self_attn): LlamaAttention(\n",
            "          (q_proj): Linear(in_features=2048, out_features=2048, bias=False)\n",
            "          (k_proj): Linear(in_features=2048, out_features=512, bias=False)\n",
            "          (v_proj): Linear(in_features=2048, out_features=512, bias=False)\n",
            "          (o_proj): Linear(in_features=2048, out_features=2048, bias=False)\n",
            "        )\n",
            "        (mlp): LlamaMLP(\n",
            "          (gate_proj): Linear(in_features=2048, out_features=8192, bias=False)\n",
            "          (up_proj): Linear(in_features=2048, out_features=8192, bias=False)\n",
            "          (down_proj): Linear(in_features=8192, out_features=2048, bias=False)\n",
            "          (act_fn): SiLU()\n",
            "        )\n",
            "        (input_layernorm): LlamaRMSNorm((2048,), eps=1e-05)\n",
            "        (post_attention_layernorm): LlamaRMSNorm((2048,), eps=1e-05)\n",
            "      )\n",
            "    )\n",
            "    (norm): LlamaRMSNorm((2048,), eps=1e-05)\n",
            "    (rotary_emb): LlamaRotaryEmbedding()\n",
            "  )\n",
            "  (lm_head): Linear(in_features=2048, out_features=128256, bias=False)\n",
            ")\n"
          ]
        }
      ],
      "source": [
        "print(base_model)"
      ]
    },
    {
      "cell_type": "code",
      "execution_count": 6,
      "metadata": {},
      "outputs": [],
      "source": [
        "# # load model, tokenizer\n",
        "# tokenizer = AutoTokenizer.from_pretrained(default_environment_variables[\"llama-3-2-1b-base\"])\n",
        "# model = LlamaForCausalLM.from_pretrained(default_environment_variables[\"llama-3-2-1b-base\"], device_map='cuda:0')"
      ]
    },
    {
      "cell_type": "code",
      "execution_count": 7,
      "metadata": {},
      "outputs": [],
      "source": [
        "from peft import PeftModel\n",
        "model = PeftModel.from_pretrained(base_model, default_environment_variables[\"lora_directory\"])"
      ]
    },
    {
      "cell_type": "code",
      "execution_count": 8,
      "metadata": {},
      "outputs": [
        {
          "name": "stdout",
          "output_type": "stream",
          "text": [
            "PeftModelForCausalLM(\n",
            "  (base_model): LoraModel(\n",
            "    (model): LlamaForCausalLM(\n",
            "      (model): LlamaModel(\n",
            "        (embed_tokens): Embedding(128256, 2048)\n",
            "        (layers): ModuleList(\n",
            "          (0-15): 16 x LlamaDecoderLayer(\n",
            "            (self_attn): LlamaAttention(\n",
            "              (q_proj): lora.Linear(\n",
            "                (base_layer): Linear(in_features=2048, out_features=2048, bias=False)\n",
            "                (lora_dropout): ModuleDict(\n",
            "                  (default): Dropout(p=0.05, inplace=False)\n",
            "                )\n",
            "                (lora_A): ModuleDict(\n",
            "                  (default): Linear(in_features=2048, out_features=256, bias=False)\n",
            "                )\n",
            "                (lora_B): ModuleDict(\n",
            "                  (default): Linear(in_features=256, out_features=2048, bias=False)\n",
            "                )\n",
            "                (lora_embedding_A): ParameterDict()\n",
            "                (lora_embedding_B): ParameterDict()\n",
            "                (lora_magnitude_vector): ModuleDict()\n",
            "              )\n",
            "              (k_proj): lora.Linear(\n",
            "                (base_layer): Linear(in_features=2048, out_features=512, bias=False)\n",
            "                (lora_dropout): ModuleDict(\n",
            "                  (default): Dropout(p=0.05, inplace=False)\n",
            "                )\n",
            "                (lora_A): ModuleDict(\n",
            "                  (default): Linear(in_features=2048, out_features=256, bias=False)\n",
            "                )\n",
            "                (lora_B): ModuleDict(\n",
            "                  (default): Linear(in_features=256, out_features=512, bias=False)\n",
            "                )\n",
            "                (lora_embedding_A): ParameterDict()\n",
            "                (lora_embedding_B): ParameterDict()\n",
            "                (lora_magnitude_vector): ModuleDict()\n",
            "              )\n",
            "              (v_proj): lora.Linear(\n",
            "                (base_layer): Linear(in_features=2048, out_features=512, bias=False)\n",
            "                (lora_dropout): ModuleDict(\n",
            "                  (default): Dropout(p=0.05, inplace=False)\n",
            "                )\n",
            "                (lora_A): ModuleDict(\n",
            "                  (default): Linear(in_features=2048, out_features=256, bias=False)\n",
            "                )\n",
            "                (lora_B): ModuleDict(\n",
            "                  (default): Linear(in_features=256, out_features=512, bias=False)\n",
            "                )\n",
            "                (lora_embedding_A): ParameterDict()\n",
            "                (lora_embedding_B): ParameterDict()\n",
            "                (lora_magnitude_vector): ModuleDict()\n",
            "              )\n",
            "              (o_proj): lora.Linear(\n",
            "                (base_layer): Linear(in_features=2048, out_features=2048, bias=False)\n",
            "                (lora_dropout): ModuleDict(\n",
            "                  (default): Dropout(p=0.05, inplace=False)\n",
            "                )\n",
            "                (lora_A): ModuleDict(\n",
            "                  (default): Linear(in_features=2048, out_features=256, bias=False)\n",
            "                )\n",
            "                (lora_B): ModuleDict(\n",
            "                  (default): Linear(in_features=256, out_features=2048, bias=False)\n",
            "                )\n",
            "                (lora_embedding_A): ParameterDict()\n",
            "                (lora_embedding_B): ParameterDict()\n",
            "                (lora_magnitude_vector): ModuleDict()\n",
            "              )\n",
            "            )\n",
            "            (mlp): LlamaMLP(\n",
            "              (gate_proj): lora.Linear(\n",
            "                (base_layer): Linear(in_features=2048, out_features=8192, bias=False)\n",
            "                (lora_dropout): ModuleDict(\n",
            "                  (default): Dropout(p=0.05, inplace=False)\n",
            "                )\n",
            "                (lora_A): ModuleDict(\n",
            "                  (default): Linear(in_features=2048, out_features=256, bias=False)\n",
            "                )\n",
            "                (lora_B): ModuleDict(\n",
            "                  (default): Linear(in_features=256, out_features=8192, bias=False)\n",
            "                )\n",
            "                (lora_embedding_A): ParameterDict()\n",
            "                (lora_embedding_B): ParameterDict()\n",
            "                (lora_magnitude_vector): ModuleDict()\n",
            "              )\n",
            "              (up_proj): lora.Linear(\n",
            "                (base_layer): Linear(in_features=2048, out_features=8192, bias=False)\n",
            "                (lora_dropout): ModuleDict(\n",
            "                  (default): Dropout(p=0.05, inplace=False)\n",
            "                )\n",
            "                (lora_A): ModuleDict(\n",
            "                  (default): Linear(in_features=2048, out_features=256, bias=False)\n",
            "                )\n",
            "                (lora_B): ModuleDict(\n",
            "                  (default): Linear(in_features=256, out_features=8192, bias=False)\n",
            "                )\n",
            "                (lora_embedding_A): ParameterDict()\n",
            "                (lora_embedding_B): ParameterDict()\n",
            "                (lora_magnitude_vector): ModuleDict()\n",
            "              )\n",
            "              (down_proj): lora.Linear(\n",
            "                (base_layer): Linear(in_features=8192, out_features=2048, bias=False)\n",
            "                (lora_dropout): ModuleDict(\n",
            "                  (default): Dropout(p=0.05, inplace=False)\n",
            "                )\n",
            "                (lora_A): ModuleDict(\n",
            "                  (default): Linear(in_features=8192, out_features=256, bias=False)\n",
            "                )\n",
            "                (lora_B): ModuleDict(\n",
            "                  (default): Linear(in_features=256, out_features=2048, bias=False)\n",
            "                )\n",
            "                (lora_embedding_A): ParameterDict()\n",
            "                (lora_embedding_B): ParameterDict()\n",
            "                (lora_magnitude_vector): ModuleDict()\n",
            "              )\n",
            "              (act_fn): SiLU()\n",
            "            )\n",
            "            (input_layernorm): LlamaRMSNorm((2048,), eps=1e-05)\n",
            "            (post_attention_layernorm): LlamaRMSNorm((2048,), eps=1e-05)\n",
            "          )\n",
            "        )\n",
            "        (norm): LlamaRMSNorm((2048,), eps=1e-05)\n",
            "        (rotary_emb): LlamaRotaryEmbedding()\n",
            "      )\n",
            "      (lm_head): Linear(in_features=2048, out_features=128256, bias=False)\n",
            "    )\n",
            "  )\n",
            ")\n"
          ]
        }
      ],
      "source": [
        "print(model)"
      ]
    },
    {
      "cell_type": "code",
      "execution_count": 9,
      "metadata": {},
      "outputs": [
        {
          "data": {
            "text/plain": [
              "PeftModelForCausalLM(\n",
              "  (base_model): LoraModel(\n",
              "    (model): LlamaForCausalLM(\n",
              "      (model): LlamaModel(\n",
              "        (embed_tokens): Embedding(128256, 2048)\n",
              "        (layers): ModuleList(\n",
              "          (0-15): 16 x LlamaDecoderLayer(\n",
              "            (self_attn): LlamaAttention(\n",
              "              (q_proj): lora.Linear(\n",
              "                (base_layer): Linear(in_features=2048, out_features=2048, bias=False)\n",
              "                (lora_dropout): ModuleDict(\n",
              "                  (default): Dropout(p=0.05, inplace=False)\n",
              "                )\n",
              "                (lora_A): ModuleDict(\n",
              "                  (default): Linear(in_features=2048, out_features=256, bias=False)\n",
              "                )\n",
              "                (lora_B): ModuleDict(\n",
              "                  (default): Linear(in_features=256, out_features=2048, bias=False)\n",
              "                )\n",
              "                (lora_embedding_A): ParameterDict()\n",
              "                (lora_embedding_B): ParameterDict()\n",
              "                (lora_magnitude_vector): ModuleDict()\n",
              "              )\n",
              "              (k_proj): lora.Linear(\n",
              "                (base_layer): Linear(in_features=2048, out_features=512, bias=False)\n",
              "                (lora_dropout): ModuleDict(\n",
              "                  (default): Dropout(p=0.05, inplace=False)\n",
              "                )\n",
              "                (lora_A): ModuleDict(\n",
              "                  (default): Linear(in_features=2048, out_features=256, bias=False)\n",
              "                )\n",
              "                (lora_B): ModuleDict(\n",
              "                  (default): Linear(in_features=256, out_features=512, bias=False)\n",
              "                )\n",
              "                (lora_embedding_A): ParameterDict()\n",
              "                (lora_embedding_B): ParameterDict()\n",
              "                (lora_magnitude_vector): ModuleDict()\n",
              "              )\n",
              "              (v_proj): lora.Linear(\n",
              "                (base_layer): Linear(in_features=2048, out_features=512, bias=False)\n",
              "                (lora_dropout): ModuleDict(\n",
              "                  (default): Dropout(p=0.05, inplace=False)\n",
              "                )\n",
              "                (lora_A): ModuleDict(\n",
              "                  (default): Linear(in_features=2048, out_features=256, bias=False)\n",
              "                )\n",
              "                (lora_B): ModuleDict(\n",
              "                  (default): Linear(in_features=256, out_features=512, bias=False)\n",
              "                )\n",
              "                (lora_embedding_A): ParameterDict()\n",
              "                (lora_embedding_B): ParameterDict()\n",
              "                (lora_magnitude_vector): ModuleDict()\n",
              "              )\n",
              "              (o_proj): lora.Linear(\n",
              "                (base_layer): Linear(in_features=2048, out_features=2048, bias=False)\n",
              "                (lora_dropout): ModuleDict(\n",
              "                  (default): Dropout(p=0.05, inplace=False)\n",
              "                )\n",
              "                (lora_A): ModuleDict(\n",
              "                  (default): Linear(in_features=2048, out_features=256, bias=False)\n",
              "                )\n",
              "                (lora_B): ModuleDict(\n",
              "                  (default): Linear(in_features=256, out_features=2048, bias=False)\n",
              "                )\n",
              "                (lora_embedding_A): ParameterDict()\n",
              "                (lora_embedding_B): ParameterDict()\n",
              "                (lora_magnitude_vector): ModuleDict()\n",
              "              )\n",
              "            )\n",
              "            (mlp): LlamaMLP(\n",
              "              (gate_proj): lora.Linear(\n",
              "                (base_layer): Linear(in_features=2048, out_features=8192, bias=False)\n",
              "                (lora_dropout): ModuleDict(\n",
              "                  (default): Dropout(p=0.05, inplace=False)\n",
              "                )\n",
              "                (lora_A): ModuleDict(\n",
              "                  (default): Linear(in_features=2048, out_features=256, bias=False)\n",
              "                )\n",
              "                (lora_B): ModuleDict(\n",
              "                  (default): Linear(in_features=256, out_features=8192, bias=False)\n",
              "                )\n",
              "                (lora_embedding_A): ParameterDict()\n",
              "                (lora_embedding_B): ParameterDict()\n",
              "                (lora_magnitude_vector): ModuleDict()\n",
              "              )\n",
              "              (up_proj): lora.Linear(\n",
              "                (base_layer): Linear(in_features=2048, out_features=8192, bias=False)\n",
              "                (lora_dropout): ModuleDict(\n",
              "                  (default): Dropout(p=0.05, inplace=False)\n",
              "                )\n",
              "                (lora_A): ModuleDict(\n",
              "                  (default): Linear(in_features=2048, out_features=256, bias=False)\n",
              "                )\n",
              "                (lora_B): ModuleDict(\n",
              "                  (default): Linear(in_features=256, out_features=8192, bias=False)\n",
              "                )\n",
              "                (lora_embedding_A): ParameterDict()\n",
              "                (lora_embedding_B): ParameterDict()\n",
              "                (lora_magnitude_vector): ModuleDict()\n",
              "              )\n",
              "              (down_proj): lora.Linear(\n",
              "                (base_layer): Linear(in_features=8192, out_features=2048, bias=False)\n",
              "                (lora_dropout): ModuleDict(\n",
              "                  (default): Dropout(p=0.05, inplace=False)\n",
              "                )\n",
              "                (lora_A): ModuleDict(\n",
              "                  (default): Linear(in_features=8192, out_features=256, bias=False)\n",
              "                )\n",
              "                (lora_B): ModuleDict(\n",
              "                  (default): Linear(in_features=256, out_features=2048, bias=False)\n",
              "                )\n",
              "                (lora_embedding_A): ParameterDict()\n",
              "                (lora_embedding_B): ParameterDict()\n",
              "                (lora_magnitude_vector): ModuleDict()\n",
              "              )\n",
              "              (act_fn): SiLU()\n",
              "            )\n",
              "            (input_layernorm): LlamaRMSNorm((2048,), eps=1e-05)\n",
              "            (post_attention_layernorm): LlamaRMSNorm((2048,), eps=1e-05)\n",
              "          )\n",
              "        )\n",
              "        (norm): LlamaRMSNorm((2048,), eps=1e-05)\n",
              "        (rotary_emb): LlamaRotaryEmbedding()\n",
              "      )\n",
              "      (lm_head): Linear(in_features=2048, out_features=128256, bias=False)\n",
              "    )\n",
              "  )\n",
              ")"
            ]
          },
          "execution_count": 9,
          "metadata": {},
          "output_type": "execute_result"
        }
      ],
      "source": [
        "# change model mode to evaluation\n",
        "model.eval()"
      ]
    },
    {
      "cell_type": "code",
      "execution_count": 10,
      "metadata": {
        "id": "h2TFosyUmOkG"
      },
      "outputs": [],
      "source": [
        "# read dataset\n",
        "import pandas\n",
        "import json\n",
        "\n",
        "def load_alpaca_dataset():\n",
        "  with open(default_environment_variables[\"dataset\"], 'r', encoding='utf-8') as f:\n",
        "    data = json.load(f)\n",
        "\n",
        "  dataframe = pandas.DataFrame(data)\n",
        "  dataframe = dataframe[['dataset','instruction', 'output', 'generator']] # select dataset columns\n",
        "  dataframe.head(100) # output first 100 rows\n",
        "  return dataframe"
      ]
    },
    {
      "cell_type": "code",
      "execution_count": 11,
      "metadata": {
        "id": "vTzHrRXarBof"
      },
      "outputs": [
        {
          "name": "stdout",
          "output_type": "stream",
          "text": [
            "        dataset                                        instruction  \\\n",
            "0  helpful_base  What are the names of some famous actors that ...   \n",
            "1  helpful_base                 How did US states get their names?   \n",
            "2  helpful_base  Hi, my sister and her girlfriends want me to p...   \n",
            "3  helpful_base            What is some cool music from the 1920s?   \n",
            "4  helpful_base                    How do I wrap a present neatly?   \n",
            "\n",
            "                                              output         generator  \n",
            "0  Some famous actors that started their careers ...  text_davinci_003  \n",
            "1  US states get their names from a variety of so...  text_davinci_003  \n",
            "2  Kickball is a game similar to baseball, but wi...  text_davinci_003  \n",
            "3  Some cool music from the 1920s includes jazz c...  text_davinci_003  \n",
            "4  1. Start by gathering the supplies you will ne...  text_davinci_003  \n",
            "dataframe: 805\n"
          ]
        }
      ],
      "source": [
        "dataframe = load_alpaca_dataset()\n",
        "print(dataframe.head())\n",
        "print(f\"dataframe: {len(dataframe)}\")"
      ]
    },
    {
      "cell_type": "code",
      "execution_count": 12,
      "metadata": {},
      "outputs": [
        {
          "name": "stdout",
          "output_type": "stream",
          "text": [
            "        dataset                                        instruction  \\\n",
            "0  helpful_base  What are the names of some famous actors that ...   \n",
            "1  helpful_base                 How did US states get their names?   \n",
            "2  helpful_base  Hi, my sister and her girlfriends want me to p...   \n",
            "3  helpful_base            What is some cool music from the 1920s?   \n",
            "4  helpful_base                    How do I wrap a present neatly?   \n",
            "\n",
            "                                              output         generator  \n",
            "0  Some famous actors that started their careers ...  text_davinci_003  \n",
            "1  US states get their names from a variety of so...  text_davinci_003  \n",
            "2  Kickball is a game similar to baseball, but wi...  text_davinci_003  \n",
            "3  Some cool music from the 1920s includes jazz c...  text_davinci_003  \n",
            "4  1. Start by gathering the supplies you will ne...  text_davinci_003  \n",
            "convert_dataset: 81\n"
          ]
        }
      ],
      "source": [
        "# split dataset & reset index\n",
        "num_dataset = len(dataframe) * default_environment_variables[\"apply_dataset\"] # calculate apply dataset\n",
        "splited_dataset = dataframe.loc[:num_dataset] # split dataset\n",
        "convert_dataset = splited_dataset.reset_index(drop=True) # reset index\n",
        "print(convert_dataset.head())\n",
        "print(f\"convert_dataset: {len(convert_dataset)}\")"
      ]
    },
    {
      "cell_type": "code",
      "execution_count": 13,
      "metadata": {},
      "outputs": [
        {
          "name": "stdout",
          "output_type": "stream",
          "text": [
            "AI (artificial intelligence) is a field of computer science that involves the development of computer systems that\n"
          ]
        }
      ],
      "source": [
        "# model inference\n",
        "def generate(model, tokenizer, prompt, max_new_token):\n",
        "    input_ids = tokenizer(prompt, return_tensors=\"pt\").to(device='cuda:0')\n",
        "    output = model.generate(**input_ids, pad_token_id=tokenizer.eos_token_id, temperature=default_environment_variables[\"temperature\"])\n",
        "    generated_text = tokenizer.decode(output[0], skip_special_tokens=True, max_new_tokens=max_new_token)\n",
        "    assitant_responce = generated_text[len(prompt):].strip()\n",
        "    return assitant_responce\n",
        "\n",
        "prompt = \"\"\"\n",
        "Instruction:please answer.\n",
        "User:what is AI?\n",
        "Assistant:\n",
        "\"\"\"\n",
        "answer = generate(model, tokenizer, prompt, max_new_token=default_environment_variables[\"max_new_tokens\"])\n",
        "print(answer)"
      ]
    },
    {
      "cell_type": "code",
      "execution_count": 14,
      "metadata": {},
      "outputs": [],
      "source": [
        "from sacrebleu import corpus_bleu"
      ]
    },
    {
      "cell_type": "code",
      "execution_count": 15,
      "metadata": {},
      "outputs": [],
      "source": [
        "# define blue\n",
        "def compute_bleu(predictions: list[str], references: list[list[str]]) -> dict[str, int | float | list[float]]:\n",
        "    \"\"\"BLUEを算出\"\"\"\n",
        "    # Calculate BLUE\n",
        "    result = corpus_bleu(predictions, references)\n",
        "    return {\n",
        "        \"score\": result.score,\n",
        "        \"counts\": result.counts,\n",
        "        \"totals\": result.totals,\n",
        "        \"precisions\": [round(p, 2) for p in result.precisions],\n",
        "        \"bp\": result.bp,\n",
        "        \"sys_len\": result.sys_len,\n",
        "        \"ref_len\": result.ref_len,\n",
        "    }"
      ]
    },
    {
      "cell_type": "code",
      "execution_count": 16,
      "metadata": {},
      "outputs": [],
      "source": [
        "import bert_score"
      ]
    },
    {
      "cell_type": "code",
      "execution_count": 17,
      "metadata": {},
      "outputs": [],
      "source": [
        "# define blue\n",
        "def compute_bertscore(predictions: list[str], references: list[list[str]]) -> dict[str, int | float | list[float]]:\n",
        "    \"\"\"BERTScoreを算出\"\"\"\n",
        "    # Calculate BERTScore\n",
        "    scorer = bert_score.BERTScorer(model_type=bert_score.utils.lang2model[\"ja\"])\n",
        "    p, r, f = scorer.score(cands=predictions, refs=references)\n",
        "    \n",
        "    return {\n",
        "        \"precision\": sum(p.tolist()) / len(p),\n",
        "        \"recall\": sum(r.tolist()) / len(r),\n",
        "        \"f1\": sum(f.tolist()) / len(f)\n",
        "    }"
      ]
    },
    {
      "cell_type": "code",
      "execution_count": 18,
      "metadata": {},
      "outputs": [],
      "source": [
        "from tqdm import tqdm\n",
        "import json\n",
        "from datetime import datetime\n",
        "import time"
      ]
    },
    {
      "cell_type": "code",
      "execution_count": 19,
      "metadata": {},
      "outputs": [
        {
          "name": "stdout",
          "output_type": "stream",
          "text": [
            "Simple JSON evaluation start...\n"
          ]
        },
        {
          "name": "stderr",
          "output_type": "stream",
          "text": [
            " 11%|█         | 9/81 [00:08<01:08,  1.05it/s]"
          ]
        },
        {
          "name": "stdout",
          "output_type": "stream",
          "text": [
            "Sample 10: Empty generation detected, retrying... (attempt 2/10)\n",
            "Sample 10: Empty generation detected, retrying... (attempt 3/10)\n",
            "Sample 10: Empty generation detected, retrying... (attempt 4/10)\n",
            "Sample 10: Empty generation detected, retrying... (attempt 5/10)\n",
            "Sample 10: Empty generation detected, retrying... (attempt 6/10)\n",
            "Sample 10: Empty generation detected, retrying... (attempt 7/10)\n",
            "Sample 10: Empty generation detected, retrying... (attempt 8/10)\n",
            "Sample 10: Empty generation detected, retrying... (attempt 9/10)\n"
          ]
        },
        {
          "name": "stderr",
          "output_type": "stream",
          "text": [
            " 12%|█▏        | 10/81 [00:54<17:28, 14.77s/it]"
          ]
        },
        {
          "name": "stdout",
          "output_type": "stream",
          "text": [
            "Sample 10: Empty generation detected, retrying... (attempt 10/10)\n",
            "Sample 10: Failed to generate after 10 attempts, using empty string\n",
            "Sample 10: Empty generated text, setting BLEU score to 0\n",
            "Sample 10: Empty generated text, setting BERTScore to 0\n"
          ]
        },
        {
          "name": "stderr",
          "output_type": "stream",
          "text": [
            " 15%|█▍        | 12/81 [00:56<08:45,  7.62s/it]"
          ]
        },
        {
          "name": "stdout",
          "output_type": "stream",
          "text": [
            "Sample 13: Empty generation detected, retrying... (attempt 2/10)\n",
            "Sample 13: Empty generation detected, retrying... (attempt 3/10)\n",
            "Sample 13: Empty generation detected, retrying... (attempt 4/10)\n",
            "Sample 13: Empty generation detected, retrying... (attempt 5/10)\n",
            "Sample 13: Empty generation detected, retrying... (attempt 6/10)\n",
            "Sample 13: Empty generation detected, retrying... (attempt 7/10)\n",
            "Sample 13: Empty generation detected, retrying... (attempt 8/10)\n",
            "Sample 13: Empty generation detected, retrying... (attempt 9/10)\n"
          ]
        },
        {
          "name": "stderr",
          "output_type": "stream",
          "text": [
            " 16%|█▌        | 13/81 [01:41<21:39, 19.11s/it]"
          ]
        },
        {
          "name": "stdout",
          "output_type": "stream",
          "text": [
            "Sample 13: Empty generation detected, retrying... (attempt 10/10)\n",
            "Sample 13: Failed to generate after 10 attempts, using empty string\n",
            "Sample 13: Empty generated text, setting BLEU score to 0\n",
            "Sample 13: Empty generated text, setting BERTScore to 0\n"
          ]
        },
        {
          "name": "stderr",
          "output_type": "stream",
          "text": [
            " 33%|███▎      | 27/81 [01:54<00:56,  1.05s/it]"
          ]
        },
        {
          "name": "stdout",
          "output_type": "stream",
          "text": [
            "Sample 28: Empty generation detected, retrying... (attempt 2/10)\n",
            "Sample 28: Empty generation detected, retrying... (attempt 3/10)\n"
          ]
        },
        {
          "name": "stderr",
          "output_type": "stream",
          "text": [
            " 36%|███▌      | 29/81 [02:06<02:41,  3.11s/it]"
          ]
        },
        {
          "name": "stdout",
          "output_type": "stream",
          "text": [
            "Sample 30: Empty generation detected, retrying... (attempt 2/10)\n",
            "Sample 30: Empty generation detected, retrying... (attempt 3/10)\n",
            "Sample 30: Empty generation detected, retrying... (attempt 4/10)\n",
            "Sample 30: Empty generation detected, retrying... (attempt 5/10)\n",
            "Sample 30: Empty generation detected, retrying... (attempt 6/10)\n",
            "Sample 30: Empty generation detected, retrying... (attempt 7/10)\n",
            "Sample 30: Empty generation detected, retrying... (attempt 8/10)\n",
            "Sample 30: Empty generation detected, retrying... (attempt 9/10)\n"
          ]
        },
        {
          "name": "stderr",
          "output_type": "stream",
          "text": [
            " 37%|███▋      | 30/81 [02:51<13:24, 15.77s/it]"
          ]
        },
        {
          "name": "stdout",
          "output_type": "stream",
          "text": [
            "Sample 30: Empty generation detected, retrying... (attempt 10/10)\n",
            "Sample 30: Failed to generate after 10 attempts, using empty string\n",
            "Sample 30: Empty generated text, setting BLEU score to 0\n",
            "Sample 30: Empty generated text, setting BERTScore to 0\n",
            "Sample 31: Empty generation detected, retrying... (attempt 2/10)\n"
          ]
        },
        {
          "name": "stderr",
          "output_type": "stream",
          "text": [
            " 38%|███▊      | 31/81 [02:57<10:43, 12.86s/it]"
          ]
        },
        {
          "name": "stdout",
          "output_type": "stream",
          "text": [
            "Sample 32: Empty generation detected, retrying... (attempt 2/10)\n",
            "Sample 32: Empty generation detected, retrying... (attempt 3/10)\n",
            "Sample 32: Empty generation detected, retrying... (attempt 4/10)\n",
            "Sample 32: Empty generation detected, retrying... (attempt 5/10)\n",
            "Sample 32: Empty generation detected, retrying... (attempt 6/10)\n",
            "Sample 32: Empty generation detected, retrying... (attempt 7/10)\n"
          ]
        },
        {
          "name": "stderr",
          "output_type": "stream",
          "text": [
            " 44%|████▍     | 36/81 [03:32<03:49,  5.10s/it]"
          ]
        },
        {
          "name": "stdout",
          "output_type": "stream",
          "text": [
            "Sample 37: Empty generation detected, retrying... (attempt 2/10)\n",
            "Sample 37: Empty generation detected, retrying... (attempt 3/10)\n",
            "Sample 37: Empty generation detected, retrying... (attempt 4/10)\n",
            "Sample 37: Empty generation detected, retrying... (attempt 5/10)\n",
            "Sample 37: Empty generation detected, retrying... (attempt 6/10)\n"
          ]
        },
        {
          "name": "stderr",
          "output_type": "stream",
          "text": [
            " 47%|████▋     | 38/81 [03:59<05:55,  8.26s/it]"
          ]
        },
        {
          "name": "stdout",
          "output_type": "stream",
          "text": [
            "Sample 39: Empty generation detected, retrying... (attempt 2/10)\n",
            "Sample 39: Empty generation detected, retrying... (attempt 3/10)\n",
            "Sample 39: Empty generation detected, retrying... (attempt 4/10)\n",
            "Sample 39: Empty generation detected, retrying... (attempt 5/10)\n",
            "Sample 39: Empty generation detected, retrying... (attempt 6/10)\n",
            "Sample 39: Empty generation detected, retrying... (attempt 7/10)\n",
            "Sample 39: Empty generation detected, retrying... (attempt 8/10)\n",
            "Sample 39: Empty generation detected, retrying... (attempt 9/10)\n"
          ]
        },
        {
          "name": "stderr",
          "output_type": "stream",
          "text": [
            " 48%|████▊     | 39/81 [04:45<13:34, 19.39s/it]"
          ]
        },
        {
          "name": "stdout",
          "output_type": "stream",
          "text": [
            "Sample 39: Empty generation detected, retrying... (attempt 10/10)\n",
            "Sample 39: Failed to generate after 10 attempts, using empty string\n",
            "Sample 39: Empty generated text, setting BLEU score to 0\n",
            "Sample 39: Empty generated text, setting BERTScore to 0\n"
          ]
        },
        {
          "name": "stderr",
          "output_type": "stream",
          "text": [
            " 58%|█████▊    | 47/81 [04:52<01:07,  1.98s/it]"
          ]
        },
        {
          "name": "stdout",
          "output_type": "stream",
          "text": [
            "Sample 48: Empty generation detected, retrying... (attempt 2/10)\n",
            "Sample 48: Empty generation detected, retrying... (attempt 3/10)\n",
            "Sample 48: Empty generation detected, retrying... (attempt 4/10)\n",
            "Sample 48: Empty generation detected, retrying... (attempt 5/10)\n",
            "Sample 48: Empty generation detected, retrying... (attempt 6/10)\n",
            "Sample 48: Empty generation detected, retrying... (attempt 7/10)\n",
            "Sample 48: Empty generation detected, retrying... (attempt 8/10)\n",
            "Sample 48: Empty generation detected, retrying... (attempt 9/10)\n"
          ]
        },
        {
          "name": "stderr",
          "output_type": "stream",
          "text": [
            " 59%|█████▉    | 48/81 [05:37<08:15, 15.02s/it]"
          ]
        },
        {
          "name": "stdout",
          "output_type": "stream",
          "text": [
            "Sample 48: Empty generation detected, retrying... (attempt 10/10)\n",
            "Sample 48: Failed to generate after 10 attempts, using empty string\n",
            "Sample 48: Empty generated text, setting BLEU score to 0\n",
            "Sample 48: Empty generated text, setting BERTScore to 0\n"
          ]
        },
        {
          "name": "stderr",
          "output_type": "stream",
          "text": [
            " 60%|██████    | 49/81 [05:38<05:46, 10.83s/it]"
          ]
        },
        {
          "name": "stdout",
          "output_type": "stream",
          "text": [
            "Sample 50: Empty generation detected, retrying... (attempt 2/10)\n",
            "Sample 50: Empty generation detected, retrying... (attempt 3/10)\n"
          ]
        },
        {
          "name": "stderr",
          "output_type": "stream",
          "text": [
            " 64%|██████▍   | 52/81 [05:51<02:48,  5.80s/it]"
          ]
        },
        {
          "name": "stdout",
          "output_type": "stream",
          "text": [
            "Sample 53: Empty generation detected, retrying... (attempt 2/10)\n",
            "Sample 53: Empty generation detected, retrying... (attempt 3/10)\n",
            "Sample 53: Empty generation detected, retrying... (attempt 4/10)\n",
            "Sample 53: Empty generation detected, retrying... (attempt 5/10)\n",
            "Sample 53: Empty generation detected, retrying... (attempt 6/10)\n",
            "Sample 53: Empty generation detected, retrying... (attempt 7/10)\n",
            "Sample 53: Empty generation detected, retrying... (attempt 8/10)\n",
            "Sample 53: Empty generation detected, retrying... (attempt 9/10)\n",
            "Sample 53: Empty generation detected, retrying... (attempt 10/10)\n"
          ]
        },
        {
          "name": "stderr",
          "output_type": "stream",
          "text": [
            " 67%|██████▋   | 54/81 [06:38<05:47, 12.86s/it]"
          ]
        },
        {
          "name": "stdout",
          "output_type": "stream",
          "text": [
            "Sample 55: Empty generation detected, retrying... (attempt 2/10)\n",
            "Sample 55: Empty generation detected, retrying... (attempt 3/10)\n",
            "Sample 55: Empty generation detected, retrying... (attempt 4/10)\n",
            "Sample 55: Empty generation detected, retrying... (attempt 5/10)\n",
            "Sample 55: Empty generation detected, retrying... (attempt 6/10)\n",
            "Sample 55: Empty generation detected, retrying... (attempt 7/10)\n",
            "Sample 55: Empty generation detected, retrying... (attempt 8/10)\n",
            "Sample 55: Empty generation detected, retrying... (attempt 9/10)\n"
          ]
        },
        {
          "name": "stderr",
          "output_type": "stream",
          "text": [
            " 68%|██████▊   | 55/81 [07:24<09:47, 22.61s/it]"
          ]
        },
        {
          "name": "stdout",
          "output_type": "stream",
          "text": [
            "Sample 55: Empty generation detected, retrying... (attempt 10/10)\n",
            "Sample 55: Failed to generate after 10 attempts, using empty string\n",
            "Sample 55: Empty generated text, setting BLEU score to 0\n",
            "Sample 55: Empty generated text, setting BERTScore to 0\n"
          ]
        },
        {
          "name": "stderr",
          "output_type": "stream",
          "text": [
            " 69%|██████▉   | 56/81 [07:25<06:43, 16.13s/it]"
          ]
        },
        {
          "name": "stdout",
          "output_type": "stream",
          "text": [
            "Sample 57: Empty generation detected, retrying... (attempt 2/10)\n"
          ]
        },
        {
          "name": "stderr",
          "output_type": "stream",
          "text": [
            " 70%|███████   | 57/81 [07:31<05:14, 13.10s/it]"
          ]
        },
        {
          "name": "stdout",
          "output_type": "stream",
          "text": [
            "Sample 58: Empty generation detected, retrying... (attempt 2/10)\n",
            "Sample 58: Empty generation detected, retrying... (attempt 3/10)\n"
          ]
        },
        {
          "name": "stderr",
          "output_type": "stream",
          "text": [
            " 72%|███████▏  | 58/81 [07:42<04:47, 12.49s/it]"
          ]
        },
        {
          "name": "stdout",
          "output_type": "stream",
          "text": [
            "Sample 59: Empty generation detected, retrying... (attempt 2/10)\n",
            "Sample 59: Empty generation detected, retrying... (attempt 3/10)\n",
            "Sample 59: Empty generation detected, retrying... (attempt 4/10)\n",
            "Sample 59: Empty generation detected, retrying... (attempt 5/10)\n",
            "Sample 59: Empty generation detected, retrying... (attempt 6/10)\n",
            "Sample 59: Empty generation detected, retrying... (attempt 7/10)\n",
            "Sample 59: Empty generation detected, retrying... (attempt 8/10)\n",
            "Sample 59: Empty generation detected, retrying... (attempt 9/10)\n"
          ]
        },
        {
          "name": "stderr",
          "output_type": "stream",
          "text": [
            " 73%|███████▎  | 59/81 [08:27<08:11, 22.35s/it]"
          ]
        },
        {
          "name": "stdout",
          "output_type": "stream",
          "text": [
            "Sample 59: Empty generation detected, retrying... (attempt 10/10)\n",
            "Sample 59: Failed to generate after 10 attempts, using empty string\n",
            "Sample 59: Empty generated text, setting BLEU score to 0\n",
            "Sample 59: Empty generated text, setting BERTScore to 0\n"
          ]
        },
        {
          "name": "stderr",
          "output_type": "stream",
          "text": [
            " 75%|███████▌  | 61/81 [08:29<03:49, 11.46s/it]"
          ]
        },
        {
          "name": "stdout",
          "output_type": "stream",
          "text": [
            "Sample 62: Empty generation detected, retrying... (attempt 2/10)\n",
            "Sample 62: Empty generation detected, retrying... (attempt 3/10)\n"
          ]
        },
        {
          "name": "stderr",
          "output_type": "stream",
          "text": [
            " 78%|███████▊  | 63/81 [08:41<02:26,  8.15s/it]"
          ]
        },
        {
          "name": "stdout",
          "output_type": "stream",
          "text": [
            "Sample 64: Empty generation detected, retrying... (attempt 2/10)\n",
            "Sample 64: Empty generation detected, retrying... (attempt 3/10)\n",
            "Sample 64: Empty generation detected, retrying... (attempt 4/10)\n",
            "Sample 64: Empty generation detected, retrying... (attempt 5/10)\n",
            "Sample 64: Empty generation detected, retrying... (attempt 6/10)\n",
            "Sample 64: Empty generation detected, retrying... (attempt 7/10)\n",
            "Sample 64: Empty generation detected, retrying... (attempt 8/10)\n",
            "Sample 64: Empty generation detected, retrying... (attempt 9/10)\n"
          ]
        },
        {
          "name": "stderr",
          "output_type": "stream",
          "text": [
            " 79%|███████▉  | 64/81 [09:26<05:27, 19.29s/it]"
          ]
        },
        {
          "name": "stdout",
          "output_type": "stream",
          "text": [
            "Sample 64: Empty generation detected, retrying... (attempt 10/10)\n",
            "Sample 64: Failed to generate after 10 attempts, using empty string\n",
            "Sample 64: Empty generated text, setting BLEU score to 0\n",
            "Sample 64: Empty generated text, setting BERTScore to 0\n",
            "Sample 65: Empty generation detected, retrying... (attempt 2/10)\n",
            "Sample 65: Empty generation detected, retrying... (attempt 3/10)\n",
            "Sample 65: Empty generation detected, retrying... (attempt 4/10)\n",
            "Sample 65: Empty generation detected, retrying... (attempt 5/10)\n",
            "Sample 65: Empty generation detected, retrying... (attempt 6/10)\n",
            "Sample 65: Empty generation detected, retrying... (attempt 7/10)\n",
            "Sample 65: Empty generation detected, retrying... (attempt 8/10)\n"
          ]
        },
        {
          "name": "stderr",
          "output_type": "stream",
          "text": [
            " 80%|████████  | 65/81 [10:02<06:30, 24.41s/it]"
          ]
        },
        {
          "name": "stdout",
          "output_type": "stream",
          "text": [
            "Sample 66: Empty generation detected, retrying... (attempt 2/10)\n"
          ]
        },
        {
          "name": "stderr",
          "output_type": "stream",
          "text": [
            " 81%|████████▏ | 66/81 [10:08<04:43, 18.89s/it]"
          ]
        },
        {
          "name": "stdout",
          "output_type": "stream",
          "text": [
            "Sample 67: Empty generation detected, retrying... (attempt 2/10)\n",
            "Sample 67: Empty generation detected, retrying... (attempt 3/10)\n",
            "Sample 67: Empty generation detected, retrying... (attempt 4/10)\n",
            "Sample 67: Empty generation detected, retrying... (attempt 5/10)\n",
            "Sample 67: Empty generation detected, retrying... (attempt 6/10)\n",
            "Sample 67: Empty generation detected, retrying... (attempt 7/10)\n",
            "Sample 67: Empty generation detected, retrying... (attempt 8/10)\n",
            "Sample 67: Empty generation detected, retrying... (attempt 9/10)\n"
          ]
        },
        {
          "name": "stderr",
          "output_type": "stream",
          "text": [
            " 83%|████████▎ | 67/81 [10:54<06:15, 26.81s/it]"
          ]
        },
        {
          "name": "stdout",
          "output_type": "stream",
          "text": [
            "Sample 67: Empty generation detected, retrying... (attempt 10/10)\n",
            "Sample 67: Failed to generate after 10 attempts, using empty string\n",
            "Sample 67: Empty generated text, setting BLEU score to 0\n",
            "Sample 67: Empty generated text, setting BERTScore to 0\n"
          ]
        },
        {
          "name": "stderr",
          "output_type": "stream",
          "text": [
            " 90%|█████████ | 73/81 [10:59<00:31,  3.96s/it]"
          ]
        },
        {
          "name": "stdout",
          "output_type": "stream",
          "text": [
            "Sample 74: Empty generation detected, retrying... (attempt 2/10)\n",
            "Sample 74: Empty generation detected, retrying... (attempt 3/10)\n",
            "Sample 74: Empty generation detected, retrying... (attempt 4/10)\n"
          ]
        },
        {
          "name": "stderr",
          "output_type": "stream",
          "text": [
            " 91%|█████████▏| 74/81 [11:15<00:53,  7.58s/it]"
          ]
        },
        {
          "name": "stdout",
          "output_type": "stream",
          "text": [
            "Sample 75: Empty generation detected, retrying... (attempt 2/10)\n",
            "Sample 75: Empty generation detected, retrying... (attempt 3/10)\n",
            "Sample 75: Empty generation detected, retrying... (attempt 4/10)\n",
            "Sample 75: Empty generation detected, retrying... (attempt 5/10)\n"
          ]
        },
        {
          "name": "stderr",
          "output_type": "stream",
          "text": [
            " 94%|█████████▍| 76/81 [11:37<00:42,  8.40s/it]"
          ]
        },
        {
          "name": "stdout",
          "output_type": "stream",
          "text": [
            "Sample 77: Empty generation detected, retrying... (attempt 2/10)\n",
            "Sample 77: Empty generation detected, retrying... (attempt 3/10)\n",
            "Sample 77: Empty generation detected, retrying... (attempt 4/10)\n",
            "Sample 77: Empty generation detected, retrying... (attempt 5/10)\n",
            "Sample 77: Empty generation detected, retrying... (attempt 6/10)\n",
            "Sample 77: Empty generation detected, retrying... (attempt 7/10)\n",
            "Sample 77: Empty generation detected, retrying... (attempt 8/10)\n",
            "Sample 77: Empty generation detected, retrying... (attempt 9/10)\n"
          ]
        },
        {
          "name": "stderr",
          "output_type": "stream",
          "text": [
            " 95%|█████████▌| 77/81 [12:23<01:18, 19.52s/it]"
          ]
        },
        {
          "name": "stdout",
          "output_type": "stream",
          "text": [
            "Sample 77: Empty generation detected, retrying... (attempt 10/10)\n",
            "Sample 77: Failed to generate after 10 attempts, using empty string\n",
            "Sample 77: Empty generated text, setting BLEU score to 0\n",
            "Sample 77: Empty generated text, setting BERTScore to 0\n"
          ]
        },
        {
          "name": "stderr",
          "output_type": "stream",
          "text": [
            " 99%|█████████▉| 80/81 [12:25<00:07,  7.33s/it]"
          ]
        },
        {
          "name": "stdout",
          "output_type": "stream",
          "text": [
            "Sample 81: Empty generation detected, retrying... (attempt 2/10)\n"
          ]
        },
        {
          "name": "stderr",
          "output_type": "stream",
          "text": [
            "100%|██████████| 81/81 [12:31<00:00,  9.28s/it]"
          ]
        },
        {
          "name": "stdout",
          "output_type": "stream",
          "text": [
            "evaluation completed JSON log saved to 'llama-3-2-1b-lora-qa-instruction-eval_1.json'\n",
            "success rate: 81/81 (100.00%)\n"
          ]
        },
        {
          "name": "stderr",
          "output_type": "stream",
          "text": [
            "\n"
          ]
        }
      ],
      "source": [
        "# simple JSON evaluation\n",
        "def evaluate_generation_quality_simple_json(model, tokenizer, dataframe, num_samples=5, max_retries=5):\n",
        "    # evaluation results\n",
        "    evaluation_results = []\n",
        "    \n",
        "    successful_generations = 0\n",
        "    \n",
        "    for i in tqdm(range(min(num_samples, len(dataframe)))):\n",
        "        row = dataframe.iloc[i]\n",
        "        dataset = row['dataset']\n",
        "        instruction = row['instruction']\n",
        "        expected_output = row['output']\n",
        "        generator = row['generator']\n",
        "            \n",
        "        # prompt creation\n",
        "        prompt = f\"Instruction:{instruction}. \\nAssistant:{expected_output}\"\n",
        "            \n",
        "        \n",
        "        # max retry count\n",
        "        generated_only = \"\"\n",
        "        retry_count = 0\n",
        "        \n",
        "        while retry_count < max_retries:\n",
        "            try:\n",
        "                # generation execution\n",
        "                full_generated = generate(model, tokenizer, prompt, max_new_token=default_environment_variables[\"max_new_tokens\"])\n",
        "                # model output only\n",
        "                generated_only = full_generated.replace(prompt, \"\").strip()\n",
        "                # if generated_only is not empty, break the loop\n",
        "                if generated_only:\n",
        "                    break\n",
        "                else:\n",
        "                    retry_count += 1\n",
        "                    if retry_count < max_retries:\n",
        "                        time.sleep(default_environment_variables[\"retry_distance_time\"])\n",
        "                        print(f\"Sample {i+1}: Empty generation detected, retrying... (attempt {retry_count + 1}/{max_retries})\")\n",
        "                    else:\n",
        "                        print(f\"Sample {i+1}: Failed to generate after {max_retries} attempts, using empty string\")\n",
        "                        \n",
        "            except Exception as e:\n",
        "                retry_count += 1\n",
        "                if retry_count < max_retries:\n",
        "                    print(f\"Sample {i+1}: Generation error ({str(e)}), retrying... (attempt {retry_count + 1}/{max_retries})\")\n",
        "                else:\n",
        "                    print(f\"Sample {i+1}: Failed to generate after {max_retries} attempts due to errors\")\n",
        "                    generated_only = \"\"\n",
        "                    break\n",
        "\n",
        "        successful_generations += 1\n",
        "        # if generated_only is not empty, calculate BLEU score, otherwise set BLEU score to 0\n",
        "        # BLEU score calculation\n",
        "        if generated_only.strip():\n",
        "            bleu_result = compute_bleu([generated_only], [[expected_output]])\n",
        "        else:\n",
        "            bleu_result = {\n",
        "                \"score\": 0.0,\n",
        "                \"counts\": [0, 0, 0, 0],\n",
        "                \"totals\": [0, 0, 0, 0],\n",
        "                \"precisions\": [0.0, 0.0, 0.0, 0.0],\n",
        "                \"bp\": 0.0,\n",
        "                \"sys_len\": 0,\n",
        "                \"ref_len\": 0\n",
        "            }\n",
        "            print(f\"Sample {i+1}: Empty generated text, setting BLEU score to 0\")\n",
        "\n",
        "        # BERTScore calculation\n",
        "        if generated_only.strip():\n",
        "            bertscore_result = compute_bertscore([generated_only], [expected_output])\n",
        "        else:\n",
        "            bertscore_result = {\n",
        "                \"precision\": 0.0,\n",
        "                \"recall\": 0.0,\n",
        "                \"f1\": 0.0\n",
        "            }\n",
        "            print(f\"Sample {i+1}: Empty generated text, setting BERTScore to 0\")\n",
        "            \n",
        "        # JSON record creation\n",
        "        sample_result = {\n",
        "            \"sample\": i + 1,\n",
        "            \"dataset\": dataset,\n",
        "            \"instruction\": instruction,\n",
        "            \"expected\": expected_output,\n",
        "            \"generated\": generated_only,\n",
        "            \"generator\": generator,\n",
        "            \"retry_count\": retry_count,\n",
        "            \"bleu_score\": bleu_result[\"score\"],\n",
        "            \"bleu_counts\": bleu_result[\"counts\"],\n",
        "            \"bleu_totals\": bleu_result[\"totals\"],\n",
        "            \"bleu_precisions\": bleu_result[\"precisions\"],\n",
        "            \"bleu_bp\": bleu_result[\"bp\"],\n",
        "            \"bleu_sys_len\": bleu_result[\"sys_len\"],\n",
        "            \"bleu_ref_len\": bleu_result[\"ref_len\"],\n",
        "            \"bertscore_precision\": bertscore_result[\"precision\"],\n",
        "            \"bertscore_recall\": bertscore_result[\"recall\"],\n",
        "            \"bertscore_f1\": bertscore_result[\"f1\"]\n",
        "        }\n",
        "        evaluation_results.append(sample_result)\n",
        "    \n",
        "    # JSON format file save\n",
        "    with open(default_environment_variables[\"output_file\"], 'w', encoding='utf-8') as f:\n",
        "        json.dump(evaluation_results, f, ensure_ascii=False, indent=2)\n",
        "    \n",
        "    print(f\"evaluation completed JSON log saved to '{default_environment_variables['output_file']}'\")\n",
        "    print(f\"success rate: {successful_generations}/{num_samples} ({successful_generations/num_samples*100:.2f}%)\")\n",
        "    return evaluation_results\n",
        "\n",
        "# execution\n",
        "print(\"Simple JSON evaluation start...\")\n",
        "evaluation_results = evaluate_generation_quality_simple_json(model, tokenizer, dataframe, num_samples=len(convert_dataset), max_retries=default_environment_variables[\"max_retries\"])"
      ]
    },
    {
      "cell_type": "code",
      "execution_count": 20,
      "metadata": {},
      "outputs": [],
      "source": [
        "import json\n",
        "import re\n",
        "\n",
        "# json file save\n",
        "json_str = json.dumps(evaluation_results, ensure_ascii=False, indent=2)\n",
        "\n",
        "# Make a specific array into a single line\n",
        "json_str = re.sub(r'(\"bleu_counts\"): \\[\\s*([^\\]]*)\\s*\\]', \n",
        "                  r'\\1: [\\2]', json_str, flags=re.MULTILINE | re.DOTALL)\n",
        "json_str = re.sub(r'(\"bleu_totals\"): \\[\\s*([^\\]]*)\\s*\\]', \n",
        "                  r'\\1: [\\2]', json_str, flags=re.MULTILINE | re.DOTALL)\n",
        "json_str = re.sub(r'(\"bleu_precisions\"): \\[\\s*([^\\]]*)\\s*\\]', \n",
        "                  r'\\1: [\\2]', json_str, flags=re.MULTILINE | re.DOTALL)\n",
        "\n",
        "# Remove newlines and spaces in an array\n",
        "json_str = re.sub(r'\\[\\s*(\\d+),\\s*(\\d+),\\s*(\\d+),\\s*(\\d+)\\s*\\]', \n",
        "                  r'[\\1, \\2, \\3, \\4]', json_str)\n",
        "json_str = re.sub(r'\\[\\s*([0-9.]+),\\s*([0-9.]+),\\s*([0-9.]+),\\s*([0-9.]+)\\s*\\]', \n",
        "                  r'[\\1, \\2, \\3, \\4]', json_str)\n",
        "\n",
        "# file save\n",
        "with open(default_environment_variables[\"output_file\"], 'w', encoding='utf-8') as f:\n",
        "    f.write(json_str)"
      ]
    },
    {
      "cell_type": "code",
      "execution_count": 21,
      "metadata": {},
      "outputs": [
        {
          "name": "stdout",
          "output_type": "stream",
          "text": [
            "評価が完了しました。システムをクリーンアップしています...\n",
            "GPU memory cleared.\n",
            "クリーンアップ完了。カーネルを終了します...\n"
          ]
        },
        {
          "ename": "",
          "evalue": "",
          "output_type": "error",
          "traceback": [
            "\u001b[1;31mThe Kernel crashed while executing code in the current cell or a previous cell. \n",
            "\u001b[1;31mPlease review the code in the cell(s) to identify a possible cause of the failure. \n",
            "\u001b[1;31mClick <a href='https://aka.ms/vscodeJupyterKernelCrash'>here</a> for more info. \n",
            "\u001b[1;31mView Jupyter <a href='command:jupyter.viewOutput'>log</a> for further details."
          ]
        }
      ],
      "source": [
        "# 評価完了後のクリーンアップとカーネル終了\n",
        "print(\"評価が完了しました。システムをクリーンアップしています...\")\n",
        "\n",
        "# メモリクリーンアップ\n",
        "try:\n",
        "    del model, tokenizer, evaluation_results\n",
        "    import gc\n",
        "    gc.collect()\n",
        "    \n",
        "    # CUDA メモリクリア\n",
        "    import torch\n",
        "    if torch.cuda.is_available():\n",
        "        torch.cuda.empty_cache()\n",
        "        print(\"GPU memory cleared.\")\n",
        "except:\n",
        "    pass\n",
        "\n",
        "print(\"クリーンアップ完了。カーネルを終了します...\")\n",
        "\n",
        "# IPythonカーネル終了\n",
        "import os\n",
        "from IPython import get_ipython\n",
        "\n",
        "try:\n",
        "    # Jupyter環境での正常終了\n",
        "    get_ipython().ask_exit()\n",
        "except:\n",
        "    # 強制終了\n",
        "    os._exit(0)"
      ]
    }
  ],
  "metadata": {
    "colab": {
      "provenance": []
    },
    "kernelspec": {
      "display_name": ".venv",
      "language": "python",
      "name": "python3"
    },
    "language_info": {
      "codemirror_mode": {
        "name": "ipython",
        "version": 3
      },
      "file_extension": ".py",
      "mimetype": "text/x-python",
      "name": "python",
      "nbconvert_exporter": "python",
      "pygments_lexer": "ipython3",
      "version": "3.10.12"
    }
  },
  "nbformat": 4,
  "nbformat_minor": 0
}

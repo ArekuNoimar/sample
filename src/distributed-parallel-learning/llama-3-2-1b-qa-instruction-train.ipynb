{
  "cells": [
    {
      "cell_type": "code",
      "execution_count": 1,
      "metadata": {},
      "outputs": [
        {
          "name": "stdout",
          "output_type": "stream",
          "text": [
            "[sudo] gotech のパスワード: すみません、もう一度試してください。\n",
            "[sudo] gotech のパスワード: \n",
            "sudo: no password was provided\n",
            "sudo: 1 回パスワード試行を間違えました\n"
          ]
        }
      ],
      "source": [
        "password = input(\"Enter the password: \")\n",
        "!echo {password} | sudo -S apt-get install mpich -y"
      ]
    },
    {
      "cell_type": "code",
      "execution_count": 2,
      "metadata": {},
      "outputs": [],
      "source": [
        "# set env\n",
        "import os\n",
        "os.environ['PYTORCH_CUDA_ALLOC_CONF'] = 'expandable_segments:True'\n",
        "os.environ[\"RANK\"] = \"0\"\n",
        "os.environ[\"WORLD_SIZE\"] = \"1\"\n",
        "os.environ[\"LOCAL_RANK\"] = \"0\"\n",
        "os.environ[\"MASTER_ADDR\"] = \"localhost\"\n",
        "os.environ[\"MASTER_PORT\"] = \"29500\""
      ]
    },
    {
      "cell_type": "code",
      "execution_count": 3,
      "metadata": {
        "colab": {
          "base_uri": "https://localhost:8080/",
          "height": 1000
        },
        "id": "2-4fmBm3eEUu",
        "outputId": "091130b4-59ff-4618-f4be-60020d408389"
      },
      "outputs": [
        {
          "name": "stdout",
          "output_type": "stream",
          "text": [
            "Looking in indexes: https://download.pytorch.org/whl/cu124\n",
            "Requirement already satisfied: torch in /home/gotech/python_files/sample/.venv/lib/python3.12/site-packages (2.6.0+cu124)\n",
            "Requirement already satisfied: torchvision in /home/gotech/python_files/sample/.venv/lib/python3.12/site-packages (0.21.0+cu124)\n",
            "Requirement already satisfied: torchaudio in /home/gotech/python_files/sample/.venv/lib/python3.12/site-packages (2.6.0+cu124)\n",
            "Requirement already satisfied: filelock in /home/gotech/python_files/sample/.venv/lib/python3.12/site-packages (from torch) (3.13.1)\n",
            "Requirement already satisfied: typing-extensions>=4.10.0 in /home/gotech/python_files/sample/.venv/lib/python3.12/site-packages (from torch) (4.12.2)\n",
            "Requirement already satisfied: networkx in /home/gotech/python_files/sample/.venv/lib/python3.12/site-packages (from torch) (3.3)\n",
            "Requirement already satisfied: jinja2 in /home/gotech/python_files/sample/.venv/lib/python3.12/site-packages (from torch) (3.1.4)\n",
            "Requirement already satisfied: fsspec in /home/gotech/python_files/sample/.venv/lib/python3.12/site-packages (from torch) (2024.6.1)\n",
            "Requirement already satisfied: nvidia-cuda-nvrtc-cu12==12.4.127 in /home/gotech/python_files/sample/.venv/lib/python3.12/site-packages (from torch) (12.4.127)\n",
            "Requirement already satisfied: nvidia-cuda-runtime-cu12==12.4.127 in /home/gotech/python_files/sample/.venv/lib/python3.12/site-packages (from torch) (12.4.127)\n",
            "Requirement already satisfied: nvidia-cuda-cupti-cu12==12.4.127 in /home/gotech/python_files/sample/.venv/lib/python3.12/site-packages (from torch) (12.4.127)\n",
            "Requirement already satisfied: nvidia-cudnn-cu12==9.1.0.70 in /home/gotech/python_files/sample/.venv/lib/python3.12/site-packages (from torch) (9.1.0.70)\n",
            "Requirement already satisfied: nvidia-cublas-cu12==12.4.5.8 in /home/gotech/python_files/sample/.venv/lib/python3.12/site-packages (from torch) (12.4.5.8)\n",
            "Requirement already satisfied: nvidia-cufft-cu12==11.2.1.3 in /home/gotech/python_files/sample/.venv/lib/python3.12/site-packages (from torch) (11.2.1.3)\n",
            "Requirement already satisfied: nvidia-curand-cu12==10.3.5.147 in /home/gotech/python_files/sample/.venv/lib/python3.12/site-packages (from torch) (10.3.5.147)\n",
            "Requirement already satisfied: nvidia-cusolver-cu12==11.6.1.9 in /home/gotech/python_files/sample/.venv/lib/python3.12/site-packages (from torch) (11.6.1.9)\n",
            "Requirement already satisfied: nvidia-cusparse-cu12==12.3.1.170 in /home/gotech/python_files/sample/.venv/lib/python3.12/site-packages (from torch) (12.3.1.170)\n",
            "Requirement already satisfied: nvidia-cusparselt-cu12==0.6.2 in /home/gotech/python_files/sample/.venv/lib/python3.12/site-packages (from torch) (0.6.2)\n",
            "Requirement already satisfied: nvidia-nccl-cu12==2.21.5 in /home/gotech/python_files/sample/.venv/lib/python3.12/site-packages (from torch) (2.21.5)\n",
            "Requirement already satisfied: nvidia-nvtx-cu12==12.4.127 in /home/gotech/python_files/sample/.venv/lib/python3.12/site-packages (from torch) (12.4.127)\n",
            "Requirement already satisfied: nvidia-nvjitlink-cu12==12.4.127 in /home/gotech/python_files/sample/.venv/lib/python3.12/site-packages (from torch) (12.4.127)\n",
            "Requirement already satisfied: triton==3.2.0 in /home/gotech/python_files/sample/.venv/lib/python3.12/site-packages (from torch) (3.2.0)\n",
            "Requirement already satisfied: setuptools in /home/gotech/python_files/sample/.venv/lib/python3.12/site-packages (from torch) (70.2.0)\n",
            "Requirement already satisfied: sympy==1.13.1 in /home/gotech/python_files/sample/.venv/lib/python3.12/site-packages (from torch) (1.13.1)\n",
            "Requirement already satisfied: mpmath<1.4,>=1.1.0 in /home/gotech/python_files/sample/.venv/lib/python3.12/site-packages (from sympy==1.13.1->torch) (1.3.0)\n",
            "Requirement already satisfied: numpy in /home/gotech/python_files/sample/.venv/lib/python3.12/site-packages (from torchvision) (1.26.4)\n",
            "Requirement already satisfied: pillow!=8.3.*,>=5.3.0 in /home/gotech/python_files/sample/.venv/lib/python3.12/site-packages (from torchvision) (11.0.0)\n",
            "Requirement already satisfied: MarkupSafe>=2.0 in /home/gotech/python_files/sample/.venv/lib/python3.12/site-packages (from jinja2->torch) (2.1.5)\n",
            "Requirement already satisfied: transformers==4.51.3 in /home/gotech/python_files/sample/.venv/lib/python3.12/site-packages (4.51.3)\n",
            "Requirement already satisfied: filelock in /home/gotech/python_files/sample/.venv/lib/python3.12/site-packages (from transformers==4.51.3) (3.13.1)\n",
            "Requirement already satisfied: huggingface-hub<1.0,>=0.30.0 in /home/gotech/python_files/sample/.venv/lib/python3.12/site-packages (from transformers==4.51.3) (0.30.2)\n",
            "Requirement already satisfied: numpy>=1.17 in /home/gotech/python_files/sample/.venv/lib/python3.12/site-packages (from transformers==4.51.3) (1.26.4)\n",
            "Requirement already satisfied: packaging>=20.0 in /home/gotech/python_files/sample/.venv/lib/python3.12/site-packages (from transformers==4.51.3) (25.0)\n",
            "Requirement already satisfied: pyyaml>=5.1 in /home/gotech/python_files/sample/.venv/lib/python3.12/site-packages (from transformers==4.51.3) (6.0.2)\n",
            "Requirement already satisfied: regex!=2019.12.17 in /home/gotech/python_files/sample/.venv/lib/python3.12/site-packages (from transformers==4.51.3) (2024.11.6)\n",
            "Requirement already satisfied: requests in /home/gotech/python_files/sample/.venv/lib/python3.12/site-packages (from transformers==4.51.3) (2.32.4)\n",
            "Requirement already satisfied: tokenizers<0.22,>=0.21 in /home/gotech/python_files/sample/.venv/lib/python3.12/site-packages (from transformers==4.51.3) (0.21.1)\n",
            "Requirement already satisfied: safetensors>=0.4.3 in /home/gotech/python_files/sample/.venv/lib/python3.12/site-packages (from transformers==4.51.3) (0.5.3)\n",
            "Requirement already satisfied: tqdm>=4.27 in /home/gotech/python_files/sample/.venv/lib/python3.12/site-packages (from transformers==4.51.3) (4.67.1)\n",
            "Requirement already satisfied: fsspec>=2023.5.0 in /home/gotech/python_files/sample/.venv/lib/python3.12/site-packages (from huggingface-hub<1.0,>=0.30.0->transformers==4.51.3) (2024.6.1)\n",
            "Requirement already satisfied: typing-extensions>=3.7.4.3 in /home/gotech/python_files/sample/.venv/lib/python3.12/site-packages (from huggingface-hub<1.0,>=0.30.0->transformers==4.51.3) (4.12.2)\n",
            "Requirement already satisfied: charset_normalizer<4,>=2 in /home/gotech/python_files/sample/.venv/lib/python3.12/site-packages (from requests->transformers==4.51.3) (3.4.2)\n",
            "Requirement already satisfied: idna<4,>=2.5 in /home/gotech/python_files/sample/.venv/lib/python3.12/site-packages (from requests->transformers==4.51.3) (3.10)\n",
            "Requirement already satisfied: urllib3<3,>=1.21.1 in /home/gotech/python_files/sample/.venv/lib/python3.12/site-packages (from requests->transformers==4.51.3) (2.5.0)\n",
            "Requirement already satisfied: certifi>=2017.4.17 in /home/gotech/python_files/sample/.venv/lib/python3.12/site-packages (from requests->transformers==4.51.3) (2025.6.15)\n",
            "Requirement already satisfied: numpy==1.26.4 in /home/gotech/python_files/sample/.venv/lib/python3.12/site-packages (1.26.4)\n",
            "Requirement already satisfied: datasets==3.5.0 in /home/gotech/python_files/sample/.venv/lib/python3.12/site-packages (3.5.0)\n",
            "Requirement already satisfied: filelock in /home/gotech/python_files/sample/.venv/lib/python3.12/site-packages (from datasets==3.5.0) (3.13.1)\n",
            "Requirement already satisfied: numpy>=1.17 in /home/gotech/python_files/sample/.venv/lib/python3.12/site-packages (from datasets==3.5.0) (1.26.4)\n",
            "Requirement already satisfied: pyarrow>=15.0.0 in /home/gotech/python_files/sample/.venv/lib/python3.12/site-packages (from datasets==3.5.0) (20.0.0)\n",
            "Requirement already satisfied: dill<0.3.9,>=0.3.0 in /home/gotech/python_files/sample/.venv/lib/python3.12/site-packages (from datasets==3.5.0) (0.3.8)\n",
            "Requirement already satisfied: pandas in /home/gotech/python_files/sample/.venv/lib/python3.12/site-packages (from datasets==3.5.0) (2.3.0)\n",
            "Requirement already satisfied: requests>=2.32.2 in /home/gotech/python_files/sample/.venv/lib/python3.12/site-packages (from datasets==3.5.0) (2.32.4)\n",
            "Requirement already satisfied: tqdm>=4.66.3 in /home/gotech/python_files/sample/.venv/lib/python3.12/site-packages (from datasets==3.5.0) (4.67.1)\n",
            "Requirement already satisfied: xxhash in /home/gotech/python_files/sample/.venv/lib/python3.12/site-packages (from datasets==3.5.0) (3.5.0)\n",
            "Requirement already satisfied: multiprocess<0.70.17 in /home/gotech/python_files/sample/.venv/lib/python3.12/site-packages (from datasets==3.5.0) (0.70.16)\n",
            "Requirement already satisfied: fsspec<=2024.12.0,>=2023.1.0 in /home/gotech/python_files/sample/.venv/lib/python3.12/site-packages (from fsspec[http]<=2024.12.0,>=2023.1.0->datasets==3.5.0) (2024.6.1)\n",
            "Requirement already satisfied: aiohttp in /home/gotech/python_files/sample/.venv/lib/python3.12/site-packages (from datasets==3.5.0) (3.12.13)\n",
            "Requirement already satisfied: huggingface-hub>=0.24.0 in /home/gotech/python_files/sample/.venv/lib/python3.12/site-packages (from datasets==3.5.0) (0.30.2)\n",
            "Requirement already satisfied: packaging in /home/gotech/python_files/sample/.venv/lib/python3.12/site-packages (from datasets==3.5.0) (25.0)\n",
            "Requirement already satisfied: pyyaml>=5.1 in /home/gotech/python_files/sample/.venv/lib/python3.12/site-packages (from datasets==3.5.0) (6.0.2)\n",
            "Requirement already satisfied: aiohappyeyeballs>=2.5.0 in /home/gotech/python_files/sample/.venv/lib/python3.12/site-packages (from aiohttp->datasets==3.5.0) (2.6.1)\n",
            "Requirement already satisfied: aiosignal>=1.1.2 in /home/gotech/python_files/sample/.venv/lib/python3.12/site-packages (from aiohttp->datasets==3.5.0) (1.3.2)\n",
            "Requirement already satisfied: attrs>=17.3.0 in /home/gotech/python_files/sample/.venv/lib/python3.12/site-packages (from aiohttp->datasets==3.5.0) (25.3.0)\n",
            "Requirement already satisfied: frozenlist>=1.1.1 in /home/gotech/python_files/sample/.venv/lib/python3.12/site-packages (from aiohttp->datasets==3.5.0) (1.7.0)\n",
            "Requirement already satisfied: multidict<7.0,>=4.5 in /home/gotech/python_files/sample/.venv/lib/python3.12/site-packages (from aiohttp->datasets==3.5.0) (6.5.0)\n",
            "Requirement already satisfied: propcache>=0.2.0 in /home/gotech/python_files/sample/.venv/lib/python3.12/site-packages (from aiohttp->datasets==3.5.0) (0.3.2)\n",
            "Requirement already satisfied: yarl<2.0,>=1.17.0 in /home/gotech/python_files/sample/.venv/lib/python3.12/site-packages (from aiohttp->datasets==3.5.0) (1.20.1)\n",
            "Requirement already satisfied: typing-extensions>=3.7.4.3 in /home/gotech/python_files/sample/.venv/lib/python3.12/site-packages (from huggingface-hub>=0.24.0->datasets==3.5.0) (4.12.2)\n",
            "Requirement already satisfied: charset_normalizer<4,>=2 in /home/gotech/python_files/sample/.venv/lib/python3.12/site-packages (from requests>=2.32.2->datasets==3.5.0) (3.4.2)\n",
            "Requirement already satisfied: idna<4,>=2.5 in /home/gotech/python_files/sample/.venv/lib/python3.12/site-packages (from requests>=2.32.2->datasets==3.5.0) (3.10)\n",
            "Requirement already satisfied: urllib3<3,>=1.21.1 in /home/gotech/python_files/sample/.venv/lib/python3.12/site-packages (from requests>=2.32.2->datasets==3.5.0) (2.5.0)\n",
            "Requirement already satisfied: certifi>=2017.4.17 in /home/gotech/python_files/sample/.venv/lib/python3.12/site-packages (from requests>=2.32.2->datasets==3.5.0) (2025.6.15)\n",
            "Requirement already satisfied: python-dateutil>=2.8.2 in /home/gotech/python_files/sample/.venv/lib/python3.12/site-packages (from pandas->datasets==3.5.0) (2.9.0.post0)\n",
            "Requirement already satisfied: pytz>=2020.1 in /home/gotech/python_files/sample/.venv/lib/python3.12/site-packages (from pandas->datasets==3.5.0) (2025.2)\n",
            "Requirement already satisfied: tzdata>=2022.7 in /home/gotech/python_files/sample/.venv/lib/python3.12/site-packages (from pandas->datasets==3.5.0) (2025.2)\n",
            "Requirement already satisfied: six>=1.5 in /home/gotech/python_files/sample/.venv/lib/python3.12/site-packages (from python-dateutil>=2.8.2->pandas->datasets==3.5.0) (1.17.0)\n",
            "Requirement already satisfied: huggingface_hub==0.30.2 in /home/gotech/python_files/sample/.venv/lib/python3.12/site-packages (from huggingface_hub[cli]==0.30.2) (0.30.2)\n",
            "Requirement already satisfied: filelock in /home/gotech/python_files/sample/.venv/lib/python3.12/site-packages (from huggingface_hub==0.30.2->huggingface_hub[cli]==0.30.2) (3.13.1)\n",
            "Requirement already satisfied: fsspec>=2023.5.0 in /home/gotech/python_files/sample/.venv/lib/python3.12/site-packages (from huggingface_hub==0.30.2->huggingface_hub[cli]==0.30.2) (2024.6.1)\n",
            "Requirement already satisfied: packaging>=20.9 in /home/gotech/python_files/sample/.venv/lib/python3.12/site-packages (from huggingface_hub==0.30.2->huggingface_hub[cli]==0.30.2) (25.0)\n",
            "Requirement already satisfied: pyyaml>=5.1 in /home/gotech/python_files/sample/.venv/lib/python3.12/site-packages (from huggingface_hub==0.30.2->huggingface_hub[cli]==0.30.2) (6.0.2)\n",
            "Requirement already satisfied: requests in /home/gotech/python_files/sample/.venv/lib/python3.12/site-packages (from huggingface_hub==0.30.2->huggingface_hub[cli]==0.30.2) (2.32.4)\n",
            "Requirement already satisfied: tqdm>=4.42.1 in /home/gotech/python_files/sample/.venv/lib/python3.12/site-packages (from huggingface_hub==0.30.2->huggingface_hub[cli]==0.30.2) (4.67.1)\n",
            "Requirement already satisfied: typing-extensions>=3.7.4.3 in /home/gotech/python_files/sample/.venv/lib/python3.12/site-packages (from huggingface_hub==0.30.2->huggingface_hub[cli]==0.30.2) (4.12.2)\n",
            "Requirement already satisfied: InquirerPy==0.3.4 in /home/gotech/python_files/sample/.venv/lib/python3.12/site-packages (from huggingface_hub[cli]==0.30.2) (0.3.4)\n",
            "Requirement already satisfied: pfzy<0.4.0,>=0.3.1 in /home/gotech/python_files/sample/.venv/lib/python3.12/site-packages (from InquirerPy==0.3.4->huggingface_hub[cli]==0.30.2) (0.3.4)\n",
            "Requirement already satisfied: prompt-toolkit<4.0.0,>=3.0.1 in /home/gotech/python_files/sample/.venv/lib/python3.12/site-packages (from InquirerPy==0.3.4->huggingface_hub[cli]==0.30.2) (3.0.51)\n",
            "Requirement already satisfied: charset_normalizer<4,>=2 in /home/gotech/python_files/sample/.venv/lib/python3.12/site-packages (from requests->huggingface_hub==0.30.2->huggingface_hub[cli]==0.30.2) (3.4.2)\n",
            "Requirement already satisfied: idna<4,>=2.5 in /home/gotech/python_files/sample/.venv/lib/python3.12/site-packages (from requests->huggingface_hub==0.30.2->huggingface_hub[cli]==0.30.2) (3.10)\n",
            "Requirement already satisfied: urllib3<3,>=1.21.1 in /home/gotech/python_files/sample/.venv/lib/python3.12/site-packages (from requests->huggingface_hub==0.30.2->huggingface_hub[cli]==0.30.2) (2.5.0)\n",
            "Requirement already satisfied: certifi>=2017.4.17 in /home/gotech/python_files/sample/.venv/lib/python3.12/site-packages (from requests->huggingface_hub==0.30.2->huggingface_hub[cli]==0.30.2) (2025.6.15)\n",
            "Requirement already satisfied: wcwidth in /home/gotech/python_files/sample/.venv/lib/python3.12/site-packages (from prompt-toolkit<4.0.0,>=3.0.1->InquirerPy==0.3.4->huggingface_hub[cli]==0.30.2) (0.2.13)\n",
            "Requirement already satisfied: deepspeed==0.16.7 in /home/gotech/python_files/sample/.venv/lib/python3.12/site-packages (0.16.7)\n",
            "Requirement already satisfied: einops in /home/gotech/python_files/sample/.venv/lib/python3.12/site-packages (from deepspeed==0.16.7) (0.8.1)\n",
            "Requirement already satisfied: hjson in /home/gotech/python_files/sample/.venv/lib/python3.12/site-packages (from deepspeed==0.16.7) (3.1.0)\n",
            "Requirement already satisfied: msgpack in /home/gotech/python_files/sample/.venv/lib/python3.12/site-packages (from deepspeed==0.16.7) (1.1.1)\n",
            "Requirement already satisfied: ninja in /home/gotech/python_files/sample/.venv/lib/python3.12/site-packages (from deepspeed==0.16.7) (1.11.1.4)\n",
            "Requirement already satisfied: numpy in /home/gotech/python_files/sample/.venv/lib/python3.12/site-packages (from deepspeed==0.16.7) (1.26.4)\n",
            "Requirement already satisfied: packaging>=20.0 in /home/gotech/python_files/sample/.venv/lib/python3.12/site-packages (from deepspeed==0.16.7) (25.0)\n",
            "Requirement already satisfied: psutil in /home/gotech/python_files/sample/.venv/lib/python3.12/site-packages (from deepspeed==0.16.7) (7.0.0)\n",
            "Requirement already satisfied: py-cpuinfo in /home/gotech/python_files/sample/.venv/lib/python3.12/site-packages (from deepspeed==0.16.7) (9.0.0)\n",
            "Requirement already satisfied: pydantic>=2.0.0 in /home/gotech/python_files/sample/.venv/lib/python3.12/site-packages (from deepspeed==0.16.7) (2.11.7)\n",
            "Requirement already satisfied: torch in /home/gotech/python_files/sample/.venv/lib/python3.12/site-packages (from deepspeed==0.16.7) (2.6.0+cu124)\n",
            "Requirement already satisfied: tqdm in /home/gotech/python_files/sample/.venv/lib/python3.12/site-packages (from deepspeed==0.16.7) (4.67.1)\n",
            "Requirement already satisfied: annotated-types>=0.6.0 in /home/gotech/python_files/sample/.venv/lib/python3.12/site-packages (from pydantic>=2.0.0->deepspeed==0.16.7) (0.7.0)\n",
            "Requirement already satisfied: pydantic-core==2.33.2 in /home/gotech/python_files/sample/.venv/lib/python3.12/site-packages (from pydantic>=2.0.0->deepspeed==0.16.7) (2.33.2)\n",
            "Requirement already satisfied: typing-extensions>=4.12.2 in /home/gotech/python_files/sample/.venv/lib/python3.12/site-packages (from pydantic>=2.0.0->deepspeed==0.16.7) (4.12.2)\n",
            "Requirement already satisfied: typing-inspection>=0.4.0 in /home/gotech/python_files/sample/.venv/lib/python3.12/site-packages (from pydantic>=2.0.0->deepspeed==0.16.7) (0.4.1)\n",
            "Requirement already satisfied: filelock in /home/gotech/python_files/sample/.venv/lib/python3.12/site-packages (from torch->deepspeed==0.16.7) (3.13.1)\n",
            "Requirement already satisfied: networkx in /home/gotech/python_files/sample/.venv/lib/python3.12/site-packages (from torch->deepspeed==0.16.7) (3.3)\n",
            "Requirement already satisfied: jinja2 in /home/gotech/python_files/sample/.venv/lib/python3.12/site-packages (from torch->deepspeed==0.16.7) (3.1.4)\n",
            "Requirement already satisfied: fsspec in /home/gotech/python_files/sample/.venv/lib/python3.12/site-packages (from torch->deepspeed==0.16.7) (2024.6.1)\n",
            "Requirement already satisfied: nvidia-cuda-nvrtc-cu12==12.4.127 in /home/gotech/python_files/sample/.venv/lib/python3.12/site-packages (from torch->deepspeed==0.16.7) (12.4.127)\n",
            "Requirement already satisfied: nvidia-cuda-runtime-cu12==12.4.127 in /home/gotech/python_files/sample/.venv/lib/python3.12/site-packages (from torch->deepspeed==0.16.7) (12.4.127)\n",
            "Requirement already satisfied: nvidia-cuda-cupti-cu12==12.4.127 in /home/gotech/python_files/sample/.venv/lib/python3.12/site-packages (from torch->deepspeed==0.16.7) (12.4.127)\n",
            "Requirement already satisfied: nvidia-cudnn-cu12==9.1.0.70 in /home/gotech/python_files/sample/.venv/lib/python3.12/site-packages (from torch->deepspeed==0.16.7) (9.1.0.70)\n",
            "Requirement already satisfied: nvidia-cublas-cu12==12.4.5.8 in /home/gotech/python_files/sample/.venv/lib/python3.12/site-packages (from torch->deepspeed==0.16.7) (12.4.5.8)\n",
            "Requirement already satisfied: nvidia-cufft-cu12==11.2.1.3 in /home/gotech/python_files/sample/.venv/lib/python3.12/site-packages (from torch->deepspeed==0.16.7) (11.2.1.3)\n",
            "Requirement already satisfied: nvidia-curand-cu12==10.3.5.147 in /home/gotech/python_files/sample/.venv/lib/python3.12/site-packages (from torch->deepspeed==0.16.7) (10.3.5.147)\n",
            "Requirement already satisfied: nvidia-cusolver-cu12==11.6.1.9 in /home/gotech/python_files/sample/.venv/lib/python3.12/site-packages (from torch->deepspeed==0.16.7) (11.6.1.9)\n",
            "Requirement already satisfied: nvidia-cusparse-cu12==12.3.1.170 in /home/gotech/python_files/sample/.venv/lib/python3.12/site-packages (from torch->deepspeed==0.16.7) (12.3.1.170)\n",
            "Requirement already satisfied: nvidia-cusparselt-cu12==0.6.2 in /home/gotech/python_files/sample/.venv/lib/python3.12/site-packages (from torch->deepspeed==0.16.7) (0.6.2)\n",
            "Requirement already satisfied: nvidia-nccl-cu12==2.21.5 in /home/gotech/python_files/sample/.venv/lib/python3.12/site-packages (from torch->deepspeed==0.16.7) (2.21.5)\n",
            "Requirement already satisfied: nvidia-nvtx-cu12==12.4.127 in /home/gotech/python_files/sample/.venv/lib/python3.12/site-packages (from torch->deepspeed==0.16.7) (12.4.127)\n",
            "Requirement already satisfied: nvidia-nvjitlink-cu12==12.4.127 in /home/gotech/python_files/sample/.venv/lib/python3.12/site-packages (from torch->deepspeed==0.16.7) (12.4.127)\n",
            "Requirement already satisfied: triton==3.2.0 in /home/gotech/python_files/sample/.venv/lib/python3.12/site-packages (from torch->deepspeed==0.16.7) (3.2.0)\n",
            "Requirement already satisfied: setuptools in /home/gotech/python_files/sample/.venv/lib/python3.12/site-packages (from torch->deepspeed==0.16.7) (70.2.0)\n",
            "Requirement already satisfied: sympy==1.13.1 in /home/gotech/python_files/sample/.venv/lib/python3.12/site-packages (from torch->deepspeed==0.16.7) (1.13.1)\n",
            "Requirement already satisfied: mpmath<1.4,>=1.1.0 in /home/gotech/python_files/sample/.venv/lib/python3.12/site-packages (from sympy==1.13.1->torch->deepspeed==0.16.7) (1.3.0)\n",
            "Requirement already satisfied: MarkupSafe>=2.0 in /home/gotech/python_files/sample/.venv/lib/python3.12/site-packages (from jinja2->torch->deepspeed==0.16.7) (2.1.5)\n",
            "Requirement already satisfied: trl==0.19.0 in /home/gotech/python_files/sample/.venv/lib/python3.12/site-packages (0.19.0)\n",
            "Requirement already satisfied: accelerate>=1.4.0 in /home/gotech/python_files/sample/.venv/lib/python3.12/site-packages (from trl==0.19.0) (1.8.1)\n",
            "Requirement already satisfied: datasets>=3.0.0 in /home/gotech/python_files/sample/.venv/lib/python3.12/site-packages (from trl==0.19.0) (3.5.0)\n",
            "Requirement already satisfied: transformers>=4.51.0 in /home/gotech/python_files/sample/.venv/lib/python3.12/site-packages (from trl==0.19.0) (4.51.3)\n",
            "Requirement already satisfied: numpy<3.0.0,>=1.17 in /home/gotech/python_files/sample/.venv/lib/python3.12/site-packages (from accelerate>=1.4.0->trl==0.19.0) (1.26.4)\n",
            "Requirement already satisfied: packaging>=20.0 in /home/gotech/python_files/sample/.venv/lib/python3.12/site-packages (from accelerate>=1.4.0->trl==0.19.0) (25.0)\n",
            "Requirement already satisfied: psutil in /home/gotech/python_files/sample/.venv/lib/python3.12/site-packages (from accelerate>=1.4.0->trl==0.19.0) (7.0.0)\n",
            "Requirement already satisfied: pyyaml in /home/gotech/python_files/sample/.venv/lib/python3.12/site-packages (from accelerate>=1.4.0->trl==0.19.0) (6.0.2)\n",
            "Requirement already satisfied: torch>=2.0.0 in /home/gotech/python_files/sample/.venv/lib/python3.12/site-packages (from accelerate>=1.4.0->trl==0.19.0) (2.6.0+cu124)\n",
            "Requirement already satisfied: huggingface_hub>=0.21.0 in /home/gotech/python_files/sample/.venv/lib/python3.12/site-packages (from accelerate>=1.4.0->trl==0.19.0) (0.30.2)\n",
            "Requirement already satisfied: safetensors>=0.4.3 in /home/gotech/python_files/sample/.venv/lib/python3.12/site-packages (from accelerate>=1.4.0->trl==0.19.0) (0.5.3)\n",
            "Requirement already satisfied: filelock in /home/gotech/python_files/sample/.venv/lib/python3.12/site-packages (from datasets>=3.0.0->trl==0.19.0) (3.13.1)\n",
            "Requirement already satisfied: pyarrow>=15.0.0 in /home/gotech/python_files/sample/.venv/lib/python3.12/site-packages (from datasets>=3.0.0->trl==0.19.0) (20.0.0)\n",
            "Requirement already satisfied: dill<0.3.9,>=0.3.0 in /home/gotech/python_files/sample/.venv/lib/python3.12/site-packages (from datasets>=3.0.0->trl==0.19.0) (0.3.8)\n",
            "Requirement already satisfied: pandas in /home/gotech/python_files/sample/.venv/lib/python3.12/site-packages (from datasets>=3.0.0->trl==0.19.0) (2.3.0)\n",
            "Requirement already satisfied: requests>=2.32.2 in /home/gotech/python_files/sample/.venv/lib/python3.12/site-packages (from datasets>=3.0.0->trl==0.19.0) (2.32.4)\n",
            "Requirement already satisfied: tqdm>=4.66.3 in /home/gotech/python_files/sample/.venv/lib/python3.12/site-packages (from datasets>=3.0.0->trl==0.19.0) (4.67.1)\n",
            "Requirement already satisfied: xxhash in /home/gotech/python_files/sample/.venv/lib/python3.12/site-packages (from datasets>=3.0.0->trl==0.19.0) (3.5.0)\n",
            "Requirement already satisfied: multiprocess<0.70.17 in /home/gotech/python_files/sample/.venv/lib/python3.12/site-packages (from datasets>=3.0.0->trl==0.19.0) (0.70.16)\n",
            "Requirement already satisfied: fsspec<=2024.12.0,>=2023.1.0 in /home/gotech/python_files/sample/.venv/lib/python3.12/site-packages (from fsspec[http]<=2024.12.0,>=2023.1.0->datasets>=3.0.0->trl==0.19.0) (2024.6.1)\n",
            "Requirement already satisfied: aiohttp in /home/gotech/python_files/sample/.venv/lib/python3.12/site-packages (from datasets>=3.0.0->trl==0.19.0) (3.12.13)\n",
            "Requirement already satisfied: regex!=2019.12.17 in /home/gotech/python_files/sample/.venv/lib/python3.12/site-packages (from transformers>=4.51.0->trl==0.19.0) (2024.11.6)\n",
            "Requirement already satisfied: tokenizers<0.22,>=0.21 in /home/gotech/python_files/sample/.venv/lib/python3.12/site-packages (from transformers>=4.51.0->trl==0.19.0) (0.21.1)\n",
            "Requirement already satisfied: aiohappyeyeballs>=2.5.0 in /home/gotech/python_files/sample/.venv/lib/python3.12/site-packages (from aiohttp->datasets>=3.0.0->trl==0.19.0) (2.6.1)\n",
            "Requirement already satisfied: aiosignal>=1.1.2 in /home/gotech/python_files/sample/.venv/lib/python3.12/site-packages (from aiohttp->datasets>=3.0.0->trl==0.19.0) (1.3.2)\n",
            "Requirement already satisfied: attrs>=17.3.0 in /home/gotech/python_files/sample/.venv/lib/python3.12/site-packages (from aiohttp->datasets>=3.0.0->trl==0.19.0) (25.3.0)\n",
            "Requirement already satisfied: frozenlist>=1.1.1 in /home/gotech/python_files/sample/.venv/lib/python3.12/site-packages (from aiohttp->datasets>=3.0.0->trl==0.19.0) (1.7.0)\n",
            "Requirement already satisfied: multidict<7.0,>=4.5 in /home/gotech/python_files/sample/.venv/lib/python3.12/site-packages (from aiohttp->datasets>=3.0.0->trl==0.19.0) (6.5.0)\n",
            "Requirement already satisfied: propcache>=0.2.0 in /home/gotech/python_files/sample/.venv/lib/python3.12/site-packages (from aiohttp->datasets>=3.0.0->trl==0.19.0) (0.3.2)\n",
            "Requirement already satisfied: yarl<2.0,>=1.17.0 in /home/gotech/python_files/sample/.venv/lib/python3.12/site-packages (from aiohttp->datasets>=3.0.0->trl==0.19.0) (1.20.1)\n",
            "Requirement already satisfied: typing-extensions>=3.7.4.3 in /home/gotech/python_files/sample/.venv/lib/python3.12/site-packages (from huggingface_hub>=0.21.0->accelerate>=1.4.0->trl==0.19.0) (4.12.2)\n",
            "Requirement already satisfied: charset_normalizer<4,>=2 in /home/gotech/python_files/sample/.venv/lib/python3.12/site-packages (from requests>=2.32.2->datasets>=3.0.0->trl==0.19.0) (3.4.2)\n",
            "Requirement already satisfied: idna<4,>=2.5 in /home/gotech/python_files/sample/.venv/lib/python3.12/site-packages (from requests>=2.32.2->datasets>=3.0.0->trl==0.19.0) (3.10)\n",
            "Requirement already satisfied: urllib3<3,>=1.21.1 in /home/gotech/python_files/sample/.venv/lib/python3.12/site-packages (from requests>=2.32.2->datasets>=3.0.0->trl==0.19.0) (2.5.0)\n",
            "Requirement already satisfied: certifi>=2017.4.17 in /home/gotech/python_files/sample/.venv/lib/python3.12/site-packages (from requests>=2.32.2->datasets>=3.0.0->trl==0.19.0) (2025.6.15)\n",
            "Requirement already satisfied: networkx in /home/gotech/python_files/sample/.venv/lib/python3.12/site-packages (from torch>=2.0.0->accelerate>=1.4.0->trl==0.19.0) (3.3)\n",
            "Requirement already satisfied: jinja2 in /home/gotech/python_files/sample/.venv/lib/python3.12/site-packages (from torch>=2.0.0->accelerate>=1.4.0->trl==0.19.0) (3.1.4)\n",
            "Requirement already satisfied: nvidia-cuda-nvrtc-cu12==12.4.127 in /home/gotech/python_files/sample/.venv/lib/python3.12/site-packages (from torch>=2.0.0->accelerate>=1.4.0->trl==0.19.0) (12.4.127)\n",
            "Requirement already satisfied: nvidia-cuda-runtime-cu12==12.4.127 in /home/gotech/python_files/sample/.venv/lib/python3.12/site-packages (from torch>=2.0.0->accelerate>=1.4.0->trl==0.19.0) (12.4.127)\n",
            "Requirement already satisfied: nvidia-cuda-cupti-cu12==12.4.127 in /home/gotech/python_files/sample/.venv/lib/python3.12/site-packages (from torch>=2.0.0->accelerate>=1.4.0->trl==0.19.0) (12.4.127)\n",
            "Requirement already satisfied: nvidia-cudnn-cu12==9.1.0.70 in /home/gotech/python_files/sample/.venv/lib/python3.12/site-packages (from torch>=2.0.0->accelerate>=1.4.0->trl==0.19.0) (9.1.0.70)\n",
            "Requirement already satisfied: nvidia-cublas-cu12==12.4.5.8 in /home/gotech/python_files/sample/.venv/lib/python3.12/site-packages (from torch>=2.0.0->accelerate>=1.4.0->trl==0.19.0) (12.4.5.8)\n",
            "Requirement already satisfied: nvidia-cufft-cu12==11.2.1.3 in /home/gotech/python_files/sample/.venv/lib/python3.12/site-packages (from torch>=2.0.0->accelerate>=1.4.0->trl==0.19.0) (11.2.1.3)\n",
            "Requirement already satisfied: nvidia-curand-cu12==10.3.5.147 in /home/gotech/python_files/sample/.venv/lib/python3.12/site-packages (from torch>=2.0.0->accelerate>=1.4.0->trl==0.19.0) (10.3.5.147)\n",
            "Requirement already satisfied: nvidia-cusolver-cu12==11.6.1.9 in /home/gotech/python_files/sample/.venv/lib/python3.12/site-packages (from torch>=2.0.0->accelerate>=1.4.0->trl==0.19.0) (11.6.1.9)\n",
            "Requirement already satisfied: nvidia-cusparse-cu12==12.3.1.170 in /home/gotech/python_files/sample/.venv/lib/python3.12/site-packages (from torch>=2.0.0->accelerate>=1.4.0->trl==0.19.0) (12.3.1.170)\n",
            "Requirement already satisfied: nvidia-cusparselt-cu12==0.6.2 in /home/gotech/python_files/sample/.venv/lib/python3.12/site-packages (from torch>=2.0.0->accelerate>=1.4.0->trl==0.19.0) (0.6.2)\n",
            "Requirement already satisfied: nvidia-nccl-cu12==2.21.5 in /home/gotech/python_files/sample/.venv/lib/python3.12/site-packages (from torch>=2.0.0->accelerate>=1.4.0->trl==0.19.0) (2.21.5)\n",
            "Requirement already satisfied: nvidia-nvtx-cu12==12.4.127 in /home/gotech/python_files/sample/.venv/lib/python3.12/site-packages (from torch>=2.0.0->accelerate>=1.4.0->trl==0.19.0) (12.4.127)\n",
            "Requirement already satisfied: nvidia-nvjitlink-cu12==12.4.127 in /home/gotech/python_files/sample/.venv/lib/python3.12/site-packages (from torch>=2.0.0->accelerate>=1.4.0->trl==0.19.0) (12.4.127)\n",
            "Requirement already satisfied: triton==3.2.0 in /home/gotech/python_files/sample/.venv/lib/python3.12/site-packages (from torch>=2.0.0->accelerate>=1.4.0->trl==0.19.0) (3.2.0)\n",
            "Requirement already satisfied: setuptools in /home/gotech/python_files/sample/.venv/lib/python3.12/site-packages (from torch>=2.0.0->accelerate>=1.4.0->trl==0.19.0) (70.2.0)\n",
            "Requirement already satisfied: sympy==1.13.1 in /home/gotech/python_files/sample/.venv/lib/python3.12/site-packages (from torch>=2.0.0->accelerate>=1.4.0->trl==0.19.0) (1.13.1)\n",
            "Requirement already satisfied: mpmath<1.4,>=1.1.0 in /home/gotech/python_files/sample/.venv/lib/python3.12/site-packages (from sympy==1.13.1->torch>=2.0.0->accelerate>=1.4.0->trl==0.19.0) (1.3.0)\n",
            "Requirement already satisfied: python-dateutil>=2.8.2 in /home/gotech/python_files/sample/.venv/lib/python3.12/site-packages (from pandas->datasets>=3.0.0->trl==0.19.0) (2.9.0.post0)\n",
            "Requirement already satisfied: pytz>=2020.1 in /home/gotech/python_files/sample/.venv/lib/python3.12/site-packages (from pandas->datasets>=3.0.0->trl==0.19.0) (2025.2)\n",
            "Requirement already satisfied: tzdata>=2022.7 in /home/gotech/python_files/sample/.venv/lib/python3.12/site-packages (from pandas->datasets>=3.0.0->trl==0.19.0) (2025.2)\n",
            "Requirement already satisfied: six>=1.5 in /home/gotech/python_files/sample/.venv/lib/python3.12/site-packages (from python-dateutil>=2.8.2->pandas->datasets>=3.0.0->trl==0.19.0) (1.17.0)\n",
            "Requirement already satisfied: MarkupSafe>=2.0 in /home/gotech/python_files/sample/.venv/lib/python3.12/site-packages (from jinja2->torch>=2.0.0->accelerate>=1.4.0->trl==0.19.0) (2.1.5)\n",
            "Requirement already satisfied: mpi4py in /home/gotech/python_files/sample/.venv/lib/python3.12/site-packages (4.0.3)\n",
            "Collecting wandb==0.19.10\n",
            "  Using cached wandb-0.19.10-py3-none-manylinux_2_17_x86_64.manylinux2014_x86_64.whl.metadata (10 kB)\n",
            "Collecting click!=8.0.0,>=7.1 (from wandb==0.19.10)\n",
            "  Using cached click-8.2.1-py3-none-any.whl.metadata (2.5 kB)\n",
            "Collecting docker-pycreds>=0.4.0 (from wandb==0.19.10)\n",
            "  Using cached docker_pycreds-0.4.0-py2.py3-none-any.whl.metadata (1.8 kB)\n",
            "Collecting gitpython!=3.1.29,>=1.0.0 (from wandb==0.19.10)\n",
            "  Using cached GitPython-3.1.44-py3-none-any.whl.metadata (13 kB)\n",
            "Requirement already satisfied: platformdirs in /home/gotech/python_files/sample/.venv/lib/python3.12/site-packages (from wandb==0.19.10) (4.3.8)\n",
            "Collecting protobuf!=4.21.0,!=5.28.0,<7,>=3.19.0 (from wandb==0.19.10)\n",
            "  Using cached protobuf-6.31.1-cp39-abi3-manylinux2014_x86_64.whl.metadata (593 bytes)\n",
            "Requirement already satisfied: psutil>=5.0.0 in /home/gotech/python_files/sample/.venv/lib/python3.12/site-packages (from wandb==0.19.10) (7.0.0)\n",
            "Requirement already satisfied: pydantic<3 in /home/gotech/python_files/sample/.venv/lib/python3.12/site-packages (from wandb==0.19.10) (2.11.7)\n",
            "Requirement already satisfied: pyyaml in /home/gotech/python_files/sample/.venv/lib/python3.12/site-packages (from wandb==0.19.10) (6.0.2)\n",
            "Requirement already satisfied: requests<3,>=2.0.0 in /home/gotech/python_files/sample/.venv/lib/python3.12/site-packages (from wandb==0.19.10) (2.32.4)\n",
            "Collecting sentry-sdk>=2.0.0 (from wandb==0.19.10)\n",
            "  Using cached sentry_sdk-2.30.0-py2.py3-none-any.whl.metadata (10 kB)\n",
            "Collecting setproctitle (from wandb==0.19.10)\n",
            "  Using cached setproctitle-1.3.6-cp312-cp312-manylinux_2_5_x86_64.manylinux1_x86_64.manylinux_2_17_x86_64.manylinux2014_x86_64.whl.metadata (10 kB)\n",
            "Requirement already satisfied: setuptools in /home/gotech/python_files/sample/.venv/lib/python3.12/site-packages (from wandb==0.19.10) (70.2.0)\n",
            "Requirement already satisfied: typing-extensions<5,>=4.4 in /home/gotech/python_files/sample/.venv/lib/python3.12/site-packages (from wandb==0.19.10) (4.12.2)\n",
            "Requirement already satisfied: six>=1.4.0 in /home/gotech/python_files/sample/.venv/lib/python3.12/site-packages (from docker-pycreds>=0.4.0->wandb==0.19.10) (1.17.0)\n",
            "Collecting gitdb<5,>=4.0.1 (from gitpython!=3.1.29,>=1.0.0->wandb==0.19.10)\n",
            "  Using cached gitdb-4.0.12-py3-none-any.whl.metadata (1.2 kB)\n",
            "Requirement already satisfied: annotated-types>=0.6.0 in /home/gotech/python_files/sample/.venv/lib/python3.12/site-packages (from pydantic<3->wandb==0.19.10) (0.7.0)\n",
            "Requirement already satisfied: pydantic-core==2.33.2 in /home/gotech/python_files/sample/.venv/lib/python3.12/site-packages (from pydantic<3->wandb==0.19.10) (2.33.2)\n",
            "Requirement already satisfied: typing-inspection>=0.4.0 in /home/gotech/python_files/sample/.venv/lib/python3.12/site-packages (from pydantic<3->wandb==0.19.10) (0.4.1)\n",
            "Requirement already satisfied: charset_normalizer<4,>=2 in /home/gotech/python_files/sample/.venv/lib/python3.12/site-packages (from requests<3,>=2.0.0->wandb==0.19.10) (3.4.2)\n",
            "Requirement already satisfied: idna<4,>=2.5 in /home/gotech/python_files/sample/.venv/lib/python3.12/site-packages (from requests<3,>=2.0.0->wandb==0.19.10) (3.10)\n",
            "Requirement already satisfied: urllib3<3,>=1.21.1 in /home/gotech/python_files/sample/.venv/lib/python3.12/site-packages (from requests<3,>=2.0.0->wandb==0.19.10) (2.5.0)\n",
            "Requirement already satisfied: certifi>=2017.4.17 in /home/gotech/python_files/sample/.venv/lib/python3.12/site-packages (from requests<3,>=2.0.0->wandb==0.19.10) (2025.6.15)\n",
            "Collecting smmap<6,>=3.0.1 (from gitdb<5,>=4.0.1->gitpython!=3.1.29,>=1.0.0->wandb==0.19.10)\n",
            "  Using cached smmap-5.0.2-py3-none-any.whl.metadata (4.3 kB)\n",
            "Using cached wandb-0.19.10-py3-none-manylinux_2_17_x86_64.manylinux2014_x86_64.whl (21.3 MB)\n",
            "Using cached click-8.2.1-py3-none-any.whl (102 kB)\n",
            "Using cached docker_pycreds-0.4.0-py2.py3-none-any.whl (9.0 kB)\n",
            "Using cached GitPython-3.1.44-py3-none-any.whl (207 kB)\n",
            "Using cached protobuf-6.31.1-cp39-abi3-manylinux2014_x86_64.whl (321 kB)\n",
            "Using cached sentry_sdk-2.30.0-py2.py3-none-any.whl (343 kB)\n",
            "Using cached setproctitle-1.3.6-cp312-cp312-manylinux_2_5_x86_64.manylinux1_x86_64.manylinux_2_17_x86_64.manylinux2014_x86_64.whl (31 kB)\n",
            "Using cached gitdb-4.0.12-py3-none-any.whl (62 kB)\n",
            "Using cached smmap-5.0.2-py3-none-any.whl (24 kB)\n",
            "Installing collected packages: smmap, setproctitle, sentry-sdk, protobuf, docker-pycreds, click, gitdb, gitpython, wandb\n",
            "Successfully installed click-8.2.1 docker-pycreds-0.4.0 gitdb-4.0.12 gitpython-3.1.44 protobuf-6.31.1 sentry-sdk-2.30.0 setproctitle-1.3.6 smmap-5.0.2 wandb-0.19.10\n",
            "Requirement already satisfied: peft==0.15.2 in /home/gotech/python_files/sample/.venv/lib/python3.12/site-packages (0.15.2)\n",
            "Requirement already satisfied: numpy>=1.17 in /home/gotech/python_files/sample/.venv/lib/python3.12/site-packages (from peft==0.15.2) (1.26.4)\n",
            "Requirement already satisfied: packaging>=20.0 in /home/gotech/python_files/sample/.venv/lib/python3.12/site-packages (from peft==0.15.2) (25.0)\n",
            "Requirement already satisfied: psutil in /home/gotech/python_files/sample/.venv/lib/python3.12/site-packages (from peft==0.15.2) (7.0.0)\n",
            "Requirement already satisfied: pyyaml in /home/gotech/python_files/sample/.venv/lib/python3.12/site-packages (from peft==0.15.2) (6.0.2)\n",
            "Requirement already satisfied: torch>=1.13.0 in /home/gotech/python_files/sample/.venv/lib/python3.12/site-packages (from peft==0.15.2) (2.6.0+cu124)\n",
            "Requirement already satisfied: transformers in /home/gotech/python_files/sample/.venv/lib/python3.12/site-packages (from peft==0.15.2) (4.51.3)\n",
            "Requirement already satisfied: tqdm in /home/gotech/python_files/sample/.venv/lib/python3.12/site-packages (from peft==0.15.2) (4.67.1)\n",
            "Requirement already satisfied: accelerate>=0.21.0 in /home/gotech/python_files/sample/.venv/lib/python3.12/site-packages (from peft==0.15.2) (1.8.1)\n",
            "Requirement already satisfied: safetensors in /home/gotech/python_files/sample/.venv/lib/python3.12/site-packages (from peft==0.15.2) (0.5.3)\n",
            "Requirement already satisfied: huggingface_hub>=0.25.0 in /home/gotech/python_files/sample/.venv/lib/python3.12/site-packages (from peft==0.15.2) (0.30.2)\n",
            "Requirement already satisfied: filelock in /home/gotech/python_files/sample/.venv/lib/python3.12/site-packages (from huggingface_hub>=0.25.0->peft==0.15.2) (3.13.1)\n",
            "Requirement already satisfied: fsspec>=2023.5.0 in /home/gotech/python_files/sample/.venv/lib/python3.12/site-packages (from huggingface_hub>=0.25.0->peft==0.15.2) (2024.6.1)\n",
            "Requirement already satisfied: requests in /home/gotech/python_files/sample/.venv/lib/python3.12/site-packages (from huggingface_hub>=0.25.0->peft==0.15.2) (2.32.4)\n",
            "Requirement already satisfied: typing-extensions>=3.7.4.3 in /home/gotech/python_files/sample/.venv/lib/python3.12/site-packages (from huggingface_hub>=0.25.0->peft==0.15.2) (4.12.2)\n",
            "Requirement already satisfied: networkx in /home/gotech/python_files/sample/.venv/lib/python3.12/site-packages (from torch>=1.13.0->peft==0.15.2) (3.3)\n",
            "Requirement already satisfied: jinja2 in /home/gotech/python_files/sample/.venv/lib/python3.12/site-packages (from torch>=1.13.0->peft==0.15.2) (3.1.4)\n",
            "Requirement already satisfied: nvidia-cuda-nvrtc-cu12==12.4.127 in /home/gotech/python_files/sample/.venv/lib/python3.12/site-packages (from torch>=1.13.0->peft==0.15.2) (12.4.127)\n",
            "Requirement already satisfied: nvidia-cuda-runtime-cu12==12.4.127 in /home/gotech/python_files/sample/.venv/lib/python3.12/site-packages (from torch>=1.13.0->peft==0.15.2) (12.4.127)\n",
            "Requirement already satisfied: nvidia-cuda-cupti-cu12==12.4.127 in /home/gotech/python_files/sample/.venv/lib/python3.12/site-packages (from torch>=1.13.0->peft==0.15.2) (12.4.127)\n",
            "Requirement already satisfied: nvidia-cudnn-cu12==9.1.0.70 in /home/gotech/python_files/sample/.venv/lib/python3.12/site-packages (from torch>=1.13.0->peft==0.15.2) (9.1.0.70)\n",
            "Requirement already satisfied: nvidia-cublas-cu12==12.4.5.8 in /home/gotech/python_files/sample/.venv/lib/python3.12/site-packages (from torch>=1.13.0->peft==0.15.2) (12.4.5.8)\n",
            "Requirement already satisfied: nvidia-cufft-cu12==11.2.1.3 in /home/gotech/python_files/sample/.venv/lib/python3.12/site-packages (from torch>=1.13.0->peft==0.15.2) (11.2.1.3)\n",
            "Requirement already satisfied: nvidia-curand-cu12==10.3.5.147 in /home/gotech/python_files/sample/.venv/lib/python3.12/site-packages (from torch>=1.13.0->peft==0.15.2) (10.3.5.147)\n",
            "Requirement already satisfied: nvidia-cusolver-cu12==11.6.1.9 in /home/gotech/python_files/sample/.venv/lib/python3.12/site-packages (from torch>=1.13.0->peft==0.15.2) (11.6.1.9)\n",
            "Requirement already satisfied: nvidia-cusparse-cu12==12.3.1.170 in /home/gotech/python_files/sample/.venv/lib/python3.12/site-packages (from torch>=1.13.0->peft==0.15.2) (12.3.1.170)\n",
            "Requirement already satisfied: nvidia-cusparselt-cu12==0.6.2 in /home/gotech/python_files/sample/.venv/lib/python3.12/site-packages (from torch>=1.13.0->peft==0.15.2) (0.6.2)\n",
            "Requirement already satisfied: nvidia-nccl-cu12==2.21.5 in /home/gotech/python_files/sample/.venv/lib/python3.12/site-packages (from torch>=1.13.0->peft==0.15.2) (2.21.5)\n",
            "Requirement already satisfied: nvidia-nvtx-cu12==12.4.127 in /home/gotech/python_files/sample/.venv/lib/python3.12/site-packages (from torch>=1.13.0->peft==0.15.2) (12.4.127)\n",
            "Requirement already satisfied: nvidia-nvjitlink-cu12==12.4.127 in /home/gotech/python_files/sample/.venv/lib/python3.12/site-packages (from torch>=1.13.0->peft==0.15.2) (12.4.127)\n",
            "Requirement already satisfied: triton==3.2.0 in /home/gotech/python_files/sample/.venv/lib/python3.12/site-packages (from torch>=1.13.0->peft==0.15.2) (3.2.0)\n",
            "Requirement already satisfied: setuptools in /home/gotech/python_files/sample/.venv/lib/python3.12/site-packages (from torch>=1.13.0->peft==0.15.2) (70.2.0)\n",
            "Requirement already satisfied: sympy==1.13.1 in /home/gotech/python_files/sample/.venv/lib/python3.12/site-packages (from torch>=1.13.0->peft==0.15.2) (1.13.1)\n",
            "Requirement already satisfied: mpmath<1.4,>=1.1.0 in /home/gotech/python_files/sample/.venv/lib/python3.12/site-packages (from sympy==1.13.1->torch>=1.13.0->peft==0.15.2) (1.3.0)\n",
            "Requirement already satisfied: regex!=2019.12.17 in /home/gotech/python_files/sample/.venv/lib/python3.12/site-packages (from transformers->peft==0.15.2) (2024.11.6)\n",
            "Requirement already satisfied: tokenizers<0.22,>=0.21 in /home/gotech/python_files/sample/.venv/lib/python3.12/site-packages (from transformers->peft==0.15.2) (0.21.1)\n",
            "Requirement already satisfied: MarkupSafe>=2.0 in /home/gotech/python_files/sample/.venv/lib/python3.12/site-packages (from jinja2->torch>=1.13.0->peft==0.15.2) (2.1.5)\n",
            "Requirement already satisfied: charset_normalizer<4,>=2 in /home/gotech/python_files/sample/.venv/lib/python3.12/site-packages (from requests->huggingface_hub>=0.25.0->peft==0.15.2) (3.4.2)\n",
            "Requirement already satisfied: idna<4,>=2.5 in /home/gotech/python_files/sample/.venv/lib/python3.12/site-packages (from requests->huggingface_hub>=0.25.0->peft==0.15.2) (3.10)\n",
            "Requirement already satisfied: urllib3<3,>=1.21.1 in /home/gotech/python_files/sample/.venv/lib/python3.12/site-packages (from requests->huggingface_hub>=0.25.0->peft==0.15.2) (2.5.0)\n",
            "Requirement already satisfied: certifi>=2017.4.17 in /home/gotech/python_files/sample/.venv/lib/python3.12/site-packages (from requests->huggingface_hub>=0.25.0->peft==0.15.2) (2025.6.15)\n"
          ]
        }
      ],
      "source": [
        "!pip install torch torchvision torchaudio --index-url https://download.pytorch.org/whl/cu124\n",
        "!pip install 'transformers==4.51.3'\n",
        "!pip install 'numpy==1.26.4'\n",
        "!pip install 'datasets==3.5.0'\n",
        "!pip install 'huggingface_hub[cli]==0.30.2'\n",
        "!pip install 'deepspeed==0.16.7' --use-pep517\n",
        "!pip install 'trl==0.19.0'\n",
        "!pip install 'mpi4py'\n",
        "!pip install 'wandb==0.19.10'\n",
        "!pip install 'peft==0.15.2'"
      ]
    },
    {
      "cell_type": "code",
      "execution_count": 4,
      "metadata": {
        "id": "wV_2TXekf5tX"
      },
      "outputs": [],
      "source": [
        "# Set Environment Variables\n",
        "default_environment_variables = {\n",
        "    \"output_dir\": \"./output/llama-3-2-1b-alpaca\",\n",
        "    \"wandb_account_name\": \"arekunoimar-deepspeed\",\n",
        "    \"wandb_project_name\": \"llama-3-2-1b\",\n",
        "    \"model_name\": \"meta-llama/Llama-3.2-1B\",\n",
        "    \"dataset\": \"../dataset/alpaca_data.json\",\n",
        "    \"dataset_max_length\": 512,\n",
        "    \"apply_dataset_rate\": 1.0,\n",
        "    \"dataset_train_rate\": 0.8,\n",
        "    \"dataset_validation_rate\": 0.2,\n",
        "    \"num_train_epochs\": 1,\n",
        "    \"per_device_train_batch_size\": 1,\n",
        "    \"per_device_eval_batch_size\": 1,\n",
        "    \"gradient_accumulation_steps\": 1,\n",
        "    \"max_grad_norm\": 1.0,\n",
        "    \"optim\": \"adamw_torch\",\n",
        "    \"logging_steps\": 1,\n",
        "    \"learning_rate\": 1e-4,\n",
        "    \"lr_scheduler_type\": \"cosine\",\n",
        "    \"warmup_steps\": 700,\n",
        "    \"seed\": 1024,\n",
        "    \"fp16\": False,\n",
        "    \"bf16\": True,\n",
        "    \"save_strategy\": \"steps\",\n",
        "    \"save_steps\": 1000,\n",
        "    \"save_total_limit\": 5,\n",
        "    \"eval_strategy\": \"steps\",\n",
        "    \"eval_steps\": 4000,\n",
        "    \"do_eval\": True,\n",
        "    \"logging_distance_time\": 1,\n",
        "    \"weight_decay\": 0.01,\n",
        "    \"lora_r\": 256,\n",
        "    \"lora_alpha\": 512,\n",
        "    \"lora_dropout\": 0.05,\n",
        "    \"lora_target_modules\": [\"q_proj\", \"k_proj\", \"v_proj\", \"o_proj\", \"gate_proj\", \"down_proj\", \"up_proj\"],\n",
        "    \"lora_bias\": \"none\",\n",
        "    # \"deepspeed_zero0\": False,\n",
        "    # \"deepspeed_train_config_zero0_path\":\"deepspeed_train_config_zero0.json\",\n",
        "    # \"deepspeed_zero1\": False,\n",
        "    # \"deepspeed_train_config_zero1_path\":\"deepspeed_train_config_zero1.json\",\n",
        "    # \"deepspeed_zero2\": True,\n",
        "    # \"deepspeed_train_config_zero2_path\":\"deepspeed_train_config_zero2.json\",\n",
        "    # \"deepspeed_zero3\": False,\n",
        "    # \"deepspeed_train_config_zero3_path\":\"deepspeed_train_config_zero3.json\",\n",
        "    # \"deepspeed_zero3_infinity\": False,\n",
        "    # \"deepspeed_train_config_zero3_infinity_path\":\"deepspeed_train_config_zero3_infinity.json\",\n",
        "}"
      ]
    },
    {
      "cell_type": "code",
      "execution_count": 5,
      "metadata": {},
      "outputs": [
        {
          "name": "stderr",
          "output_type": "stream",
          "text": [
            "\u001b[34m\u001b[1mwandb\u001b[0m: Currently logged in as: \u001b[33marekunoimar\u001b[0m (\u001b[33marekunoimar-deepspeed\u001b[0m) to \u001b[32mhttps://api.wandb.ai\u001b[0m. Use \u001b[1m`wandb login --relogin`\u001b[0m to force relogin\n"
          ]
        },
        {
          "data": {
            "text/html": [
              "Tracking run with wandb version 0.19.10"
            ],
            "text/plain": [
              "<IPython.core.display.HTML object>"
            ]
          },
          "metadata": {},
          "output_type": "display_data"
        },
        {
          "data": {
            "text/html": [
              "Run data is saved locally in <code>/home/gotech/python_files/sample/src/distributed-parallel-learning/wandb/run-20250624_172015-g5pejul8</code>"
            ],
            "text/plain": [
              "<IPython.core.display.HTML object>"
            ]
          },
          "metadata": {},
          "output_type": "display_data"
        },
        {
          "data": {
            "text/html": [
              "Syncing run <strong><a href='https://wandb.ai/arekunoimar-deepspeed/llama-3-2-1b/runs/g5pejul8' target=\"_blank\">llama-3.2-1b-alpaca-deepspeed-zero22025-06-24_17-20-14</a></strong> to <a href='https://wandb.ai/arekunoimar-deepspeed/llama-3-2-1b' target=\"_blank\">Weights & Biases</a> (<a href='https://wandb.me/developer-guide' target=\"_blank\">docs</a>)<br>"
            ],
            "text/plain": [
              "<IPython.core.display.HTML object>"
            ]
          },
          "metadata": {},
          "output_type": "display_data"
        },
        {
          "data": {
            "text/html": [
              " View project at <a href='https://wandb.ai/arekunoimar-deepspeed/llama-3-2-1b' target=\"_blank\">https://wandb.ai/arekunoimar-deepspeed/llama-3-2-1b</a>"
            ],
            "text/plain": [
              "<IPython.core.display.HTML object>"
            ]
          },
          "metadata": {},
          "output_type": "display_data"
        },
        {
          "data": {
            "text/html": [
              " View run at <a href='https://wandb.ai/arekunoimar-deepspeed/llama-3-2-1b/runs/g5pejul8' target=\"_blank\">https://wandb.ai/arekunoimar-deepspeed/llama-3-2-1b/runs/g5pejul8</a>"
            ],
            "text/plain": [
              "<IPython.core.display.HTML object>"
            ]
          },
          "metadata": {},
          "output_type": "display_data"
        },
        {
          "data": {
            "text/html": [
              "<button onClick=\"this.nextSibling.style.display='block';this.style.display='none';\">Display W&B run</button><iframe src='https://wandb.ai/arekunoimar-deepspeed/llama-3-2-1b/runs/g5pejul8?jupyter=true' style='border:none;width:100%;height:420px;display:none;'></iframe>"
            ],
            "text/plain": [
              "<wandb.sdk.wandb_run.Run at 0x7c6a65bbfda0>"
            ]
          },
          "execution_count": 5,
          "metadata": {},
          "output_type": "execute_result"
        }
      ],
      "source": [
        "import wandb\n",
        "import time\n",
        "\n",
        "wandb_name = \"llama-3.2-1b-alpaca-deepspeed-zero2\" + time.strftime(\"%Y-%m-%d_%H-%M-%S\")\n",
        "\n",
        "wandb.init(project=default_environment_variables[\"wandb_project_name\"], entity=default_environment_variables[\"wandb_account_name\"], name=wandb_name)"
      ]
    },
    {
      "cell_type": "code",
      "execution_count": 6,
      "metadata": {},
      "outputs": [],
      "source": [
        "# set deepspeed config\n",
        "deepspeed_zero2_config = {\n",
        "  \"zero_optimization\": {\n",
        "    \"stage\": 2\n",
        "  },\n",
        "  \"train_batch_size\": 1,\n",
        "  \"eval_batch_size\": 1\n",
        "}"
      ]
    },
    {
      "cell_type": "code",
      "execution_count": 7,
      "metadata": {},
      "outputs": [
        {
          "name": "stderr",
          "output_type": "stream",
          "text": [
            "/home/gotech/python_files/sample/.venv/lib/python3.12/site-packages/tqdm/auto.py:21: TqdmWarning: IProgress not found. Please update jupyter and ipywidgets. See https://ipywidgets.readthedocs.io/en/stable/user_install.html\n",
            "  from .autonotebook import tqdm as notebook_tqdm\n"
          ]
        }
      ],
      "source": [
        "from transformers import AutoTokenizer, AutoModelForCausalLM, BitsAndBytesConfig"
      ]
    },
    {
      "cell_type": "code",
      "execution_count": 8,
      "metadata": {
        "id": "h-yY9gzgfGPT"
      },
      "outputs": [
        {
          "name": "stdout",
          "output_type": "stream",
          "text": [
            "[2025-06-24 17:20:38,593] [INFO] [real_accelerator.py:239:get_accelerator] Setting ds_accelerator to cuda (auto detect)\n"
          ]
        },
        {
          "name": "stderr",
          "output_type": "stream",
          "text": [
            "/usr/bin/ld: -laio が見つかりません: そのようなファイルやディレクトリはありません\n",
            "collect2: error: ld returned 1 exit status\n",
            "/usr/bin/ld: -lcufile が見つかりません: そのようなファイルやディレクトリはありません\n",
            "collect2: error: ld returned 1 exit status\n"
          ]
        }
      ],
      "source": [
        "# load model, tokenizer\n",
        "tokenizer = AutoTokenizer.from_pretrained(default_environment_variables[\"model_name\"])\n",
        "model = AutoModelForCausalLM.from_pretrained(default_environment_variables[\"model_name\"])"
      ]
    },
    {
      "cell_type": "code",
      "execution_count": 9,
      "metadata": {},
      "outputs": [],
      "source": [
        "# set tokenizer special token\n",
        "tokenizer.pad_token_id = tokenizer.eos_token_id"
      ]
    },
    {
      "cell_type": "code",
      "execution_count": 10,
      "metadata": {},
      "outputs": [],
      "source": [
        "# from peft import LoraConfig, get_peft_model, TaskType"
      ]
    },
    {
      "cell_type": "code",
      "execution_count": 11,
      "metadata": {},
      "outputs": [],
      "source": [
        "# # lora setting\n",
        "# peft_config = LoraConfig(\n",
        "#     r=default_environment_variables[\"lora_r\"],\n",
        "#     lora_alpha=default_environment_variables[\"lora_alpha\"],\n",
        "#     target_modules=default_environment_variables[\"lora_target_modules\"],\n",
        "#     lora_dropout=default_environment_variables[\"lora_dropout\"],\n",
        "#     bias=default_environment_variables[\"lora_bias\"],\n",
        "#     task_type=TaskType.CAUSAL_LM\n",
        "# )\n",
        "# model = get_peft_model(model, peft_config)"
      ]
    },
    {
      "cell_type": "code",
      "execution_count": 12,
      "metadata": {},
      "outputs": [],
      "source": [
        "# # check trainable parameters\n",
        "# if hasattr(model, 'print_trainable_parameters'):\n",
        "#     print(\"\\n=== PEFT Model Information ===\")\n",
        "#     print(model.print_trainable_parameters())"
      ]
    },
    {
      "cell_type": "code",
      "execution_count": 13,
      "metadata": {
        "id": "h2TFosyUmOkG"
      },
      "outputs": [],
      "source": [
        "# read dataset\n",
        "import pandas\n",
        "import json\n",
        "\n",
        "def load_alpaca_dataset():\n",
        "  with open(default_environment_variables[\"dataset\"], 'r', encoding='utf-8') as f:\n",
        "    data = json.load(f)\n",
        "\n",
        "  dataframe = pandas.DataFrame(data)\n",
        "  dataframe = dataframe[['instruction', 'input', 'output']]\n",
        "  dataframe.head(100)\n",
        "  return dataframe"
      ]
    },
    {
      "cell_type": "code",
      "execution_count": 14,
      "metadata": {
        "id": "vTzHrRXarBof"
      },
      "outputs": [
        {
          "name": "stdout",
          "output_type": "stream",
          "text": [
            "                                         instruction input  \\\n",
            "0               Give three tips for staying healthy.         \n",
            "1                 What are the three primary colors?         \n",
            "2                 Describe the structure of an atom.         \n",
            "3                   How can we reduce air pollution?         \n",
            "4  Describe a time when you had to make a difficu...         \n",
            "\n",
            "                                              output  \n",
            "0  1.Eat a balanced diet and make sure to include...  \n",
            "1  The three primary colors are red, blue, and ye...  \n",
            "2  An atom is made up of a nucleus, which contain...  \n",
            "3  There are a number of ways to reduce air pollu...  \n",
            "4  I had to make a difficult decision when I was ...  \n"
          ]
        }
      ],
      "source": [
        "dataframe = load_alpaca_dataset()\n",
        "print(dataframe.head())"
      ]
    },
    {
      "cell_type": "code",
      "execution_count": 15,
      "metadata": {
        "id": "DClBMJJqu2Mi"
      },
      "outputs": [],
      "source": [
        "# apply dataformat\n",
        "def apply_dataset_dataformat(dataframe):\n",
        "    def format_instruction(row):\n",
        "        if row['input']:\n",
        "            text = f\"###instruction:\\n{row['instruction']}\\n###input:\\n{row['input']}\\n###output:\\n{row['output']}\"\n",
        "        else:\n",
        "            text = f\"###instruction:\\n{row['instruction']}\\n###output:\\n{row['output']}\"\n",
        "        return text\n",
        "    \n",
        "    formated_dataframe = dataframe.apply(format_instruction, axis=1)\n",
        "    return formated_dataframe"
      ]
    },
    {
      "cell_type": "code",
      "execution_count": 16,
      "metadata": {
        "id": "ZwiG0asdwHw7"
      },
      "outputs": [
        {
          "name": "stdout",
          "output_type": "stream",
          "text": [
            "0    ###instruction:\\nGive three tips for staying h...\n",
            "1    ###instruction:\\nWhat are the three primary co...\n",
            "2    ###instruction:\\nDescribe the structure of an ...\n",
            "3    ###instruction:\\nHow can we reduce air polluti...\n",
            "4    ###instruction:\\nDescribe a time when you had ...\n",
            "dtype: object\n"
          ]
        }
      ],
      "source": [
        "formated_dataframe = apply_dataset_dataformat(dataframe)\n",
        "print(formated_dataframe.head())"
      ]
    },
    {
      "cell_type": "code",
      "execution_count": 17,
      "metadata": {
        "id": "rSRZWox1oiUk"
      },
      "outputs": [],
      "source": [
        "# split dataset\n",
        "def split_alpaca_dataset(dataframe):\n",
        "  total_size_dataset = dataframe.sample(frac=default_environment_variables[\"apply_dataset_rate\"])\n",
        "  total_size_count = len(total_size_dataset)\n",
        "\n",
        "  train_size = int(len(total_size_dataset) * default_environment_variables[\"dataset_train_rate\"])\n",
        "  validation_size = int(len(total_size_dataset) * default_environment_variables[\"dataset_validation_rate\"])\n",
        "  test_size = total_size_count - (train_size + validation_size)\n",
        "\n",
        "  train_dataset = total_size_dataset.iloc[:train_size]\n",
        "  validation_dataset = total_size_dataset.iloc[train_size:train_size + validation_size]\n",
        "  test_dataset = total_size_dataset.iloc[train_size + validation_size:]\n",
        "\n",
        "  return train_dataset, validation_dataset, test_dataset"
      ]
    },
    {
      "cell_type": "code",
      "execution_count": 18,
      "metadata": {
        "id": "NVHCw-yVt-o8"
      },
      "outputs": [
        {
          "name": "stdout",
          "output_type": "stream",
          "text": [
            "Train dataset size: 41601\n",
            "Validation dataset size: 10400\n",
            "Test dataset size: 1\n"
          ]
        }
      ],
      "source": [
        "train_dataset, validation_dataset, test_dataset = split_alpaca_dataset(load_alpaca_dataset())\n",
        "print(f\"Train dataset size: {len(train_dataset)}\")\n",
        "print(f\"Validation dataset size: {len(validation_dataset)}\")\n",
        "print(f\"Test dataset size: {len(test_dataset)}\")"
      ]
    },
    {
      "cell_type": "code",
      "execution_count": 19,
      "metadata": {
        "id": "7LTURCm04evv"
      },
      "outputs": [],
      "source": [
        "from transformers import pipeline"
      ]
    },
    {
      "cell_type": "code",
      "execution_count": 20,
      "metadata": {
        "id": "x9LcZwQh4WKj"
      },
      "outputs": [
        {
          "name": "stderr",
          "output_type": "stream",
          "text": [
            "Device set to use cuda:0\n",
            "Truncation was not explicitly activated but `max_length` is provided a specific value, please use `truncation=True` to explicitly truncate examples to max length. Defaulting to 'longest_first' truncation strategy. If you encode pairs of sequences (GLUE-style) with the tokenizer you can select this strategy more precisely by providing a specific strategy to `truncation`.\n"
          ]
        },
        {
          "name": "stdout",
          "output_type": "stream",
          "text": [
            "\n",
            "###instruction:\n",
            "Please answer the questions.\n",
            "###input:\n",
            "What is AI?\n",
            "###output:\n",
            "What is the function of AI?\n",
            "\n",
            "###test case:\n",
            "Can you help me to solve the following question?\n",
            "There are two different people, A and B. There are 3 questions in the following list.\n",
            "They can answer one question each time.\n",
            "After each question, they can take a rest for 1 minute.\n",
            "How many minutes would it take to solve the questions?\n",
            "\n",
            "###test case:\n",
            "Can you\n"
          ]
        }
      ],
      "source": [
        "# check befor model output\n",
        "test_qa_pipeline = pipeline(\"text-generation\", model=model, tokenizer=tokenizer, max_length=100, eos_token_id=tokenizer.eos_token_id, pad_token_id=tokenizer.pad_token_id)\n",
        "prompt = \"\"\"\n",
        "###instruction:\\nPlease answer the questions.\\n###input:\\nWhat is AI?\\n###output:\n",
        "\"\"\"\n",
        "generate_text = test_qa_pipeline(prompt, max_length=100, num_return_sequences=1, temperature=0.8)[0][\"generated_text\"]\n",
        "print(generate_text)"
      ]
    },
    {
      "cell_type": "code",
      "execution_count": 21,
      "metadata": {},
      "outputs": [],
      "source": [
        "from trl import DataCollatorForCompletionOnlyLM"
      ]
    },
    {
      "cell_type": "code",
      "execution_count": 22,
      "metadata": {},
      "outputs": [],
      "source": [
        "# DataCollator setting\n",
        "collator = DataCollatorForCompletionOnlyLM(response_template=\"###output:\\n\", tokenizer=tokenizer)"
      ]
    },
    {
      "cell_type": "code",
      "execution_count": 23,
      "metadata": {},
      "outputs": [],
      "source": [
        "from transformers import TrainingArguments"
      ]
    },
    {
      "cell_type": "code",
      "execution_count": 24,
      "metadata": {
        "id": "tjjSVqN_3GFe"
      },
      "outputs": [
        {
          "name": "stdout",
          "output_type": "stream",
          "text": [
            "[2025-06-24 17:20:52,059] [INFO] [comm.py:669:init_distributed] cdb=None\n",
            "[2025-06-24 17:20:52,059] [INFO] [comm.py:700:init_distributed] Initializing TorchBackend in DeepSpeed with backend nccl\n"
          ]
        }
      ],
      "source": [
        "# set training_args\n",
        "training_arguments = TrainingArguments(\n",
        "    output_dir=default_environment_variables[\"output_dir\"],\n",
        "    num_train_epochs=default_environment_variables[\"num_train_epochs\"],\n",
        "    per_device_train_batch_size=default_environment_variables[\"per_device_train_batch_size\"],\n",
        "    per_device_eval_batch_size=default_environment_variables[\"per_device_eval_batch_size\"],\n",
        "    gradient_accumulation_steps=default_environment_variables[\"gradient_accumulation_steps\"],\n",
        "    max_grad_norm=default_environment_variables[\"max_grad_norm\"],\n",
        "    optim=default_environment_variables[\"optim\"],\n",
        "    learning_rate=default_environment_variables[\"learning_rate\"],\n",
        "    weight_decay=default_environment_variables[\"weight_decay\"],\n",
        "    lr_scheduler_type=default_environment_variables[\"lr_scheduler_type\"],\n",
        "    warmup_steps=default_environment_variables[\"warmup_steps\"],\n",
        "    logging_steps=default_environment_variables[\"logging_steps\"],\n",
        "    seed=default_environment_variables[\"seed\"],\n",
        "    fp16=default_environment_variables[\"fp16\"],\n",
        "    bf16=default_environment_variables[\"bf16\"],\n",
        "    deepspeed=deepspeed_zero2_config,\n",
        "    save_strategy=default_environment_variables[\"save_strategy\"],\n",
        "    save_steps=default_environment_variables[\"save_steps\"],\n",
        "    save_total_limit=default_environment_variables[\"save_total_limit\"],\n",
        "    eval_strategy=default_environment_variables[\"eval_strategy\"],\n",
        "    eval_steps=default_environment_variables[\"eval_steps\"],\n",
        "    do_eval=default_environment_variables[\"do_eval\"]\n",
        ")"
      ]
    },
    {
      "cell_type": "code",
      "execution_count": 25,
      "metadata": {},
      "outputs": [
        {
          "name": "stdout",
          "output_type": "stream",
          "text": [
            "train_formatted: 2718     ###instruction:\\nReplace the underlined word w...\n",
            "2817     ###instruction:\\nFind a way to make the follow...\n",
            "42562    ###instruction:\\nWrite the full name for the f...\n",
            "31687    ###instruction:\\nSuggest a restaurant near (in...\n",
            "2646     ###instruction:\\nGiven a list of items, arrang...\n",
            "                               ...                        \n",
            "40055    ###instruction:\\nGenerate a metaphor that capt...\n",
            "26727    ###instruction:\\nExplain what the idiom \"cut t...\n",
            "43117    ###instruction:\\nList four methods of data col...\n",
            "3263     ###instruction:\\nDescribe the given trend.\\n##...\n",
            "14057    ###instruction:\\nGenerate three sound effects ...\n",
            "Length: 41601, dtype: object\n",
            "validation_formatted: 45087    ###instruction:\\nDetect hate speech in the fol...\n",
            "745      ###instruction:\\nSuggest a snack that you can ...\n",
            "19459    ###instruction:\\nGenerate a tagline for a pizz...\n",
            "34807    ###instruction:\\nDescribe the nutrition inform...\n",
            "40429    ###instruction:\\nAnalyze the following family ...\n",
            "                               ...                        \n",
            "26987    ###instruction:\\nEdit the given sentence to im...\n",
            "14770    ###instruction:\\nName one type of malware and ...\n",
            "5313     ###instruction:\\nDescribe why artificial intel...\n",
            "3835     ###instruction:\\nCalculate the fraction of 1/3...\n",
            "47871    ###instruction:\\nWrite a short story that is c...\n",
            "Length: 10400, dtype: object\n"
          ]
        }
      ],
      "source": [
        "# format dataset\n",
        "train_formatted = apply_dataset_dataformat(train_dataset)\n",
        "print(f\"train_formatted: {train_formatted}\")\n",
        "validation_formatted = apply_dataset_dataformat(validation_dataset)\n",
        "print(f\"validation_formatted: {validation_formatted}\")"
      ]
    },
    {
      "cell_type": "code",
      "execution_count": 26,
      "metadata": {},
      "outputs": [],
      "source": [
        "from trl import SFTTrainer\n",
        "from datasets import Dataset"
      ]
    },
    {
      "cell_type": "code",
      "execution_count": 27,
      "metadata": {},
      "outputs": [
        {
          "name": "stdout",
          "output_type": "stream",
          "text": [
            "train_hf_dataset: Dataset({\n",
            "    features: ['text'],\n",
            "    num_rows: 41601\n",
            "})\n",
            "validation_hf_dataset: Dataset({\n",
            "    features: ['text'],\n",
            "    num_rows: 10400\n",
            "})\n",
            "----------train_hf_dataset----------\n",
            "###instruction:\n",
            "Replace the underlined word with a suitable adjective.\n",
            "###input:\n",
            "The chair was strong.\n",
            "###output:\n",
            "The chair was sturdy.\n",
            "###instruction:\n",
            "Find a way to make the following sentence shorter but still convey the same meaning:\n",
            "###input:\n",
            "The reason why I have to do this task is because it is important.\n",
            "###output:\n",
            "I need to do this task because it's important.\n",
            "###instruction:\n",
            "Write the full name for the following acronym: CIA\n",
            "###output:\n",
            "Central Intelligence Agency\n",
            "###instruction:\n",
            "Suggest a restaurant near (insert address).\n",
            "###input:\n",
            "145 West 172nd Street, New York, NY 10032\n",
            "###output:\n",
            "Near 145 West 172nd Street, New York, NY 10032, I recommend The Burrito Shack for its delicious burritos and friendly staff.\n",
            "###instruction:\n",
            "Given a list of items, arrange them in the alphabetical order.\n",
            "###input:\n",
            "Apple, Banana, Orange, Lemon\n",
            "###output:\n",
            "Apple, Banana, Lemon, Orange.\n",
            "###instruction:\n",
            "Come up with a tagline for a website about car parts\n",
            "###output:\n",
            "\"Get the Parts You Need to Keep Your Car Running at its Best!\"\n",
            "###instruction:\n",
            "Arrange the following words into a valid sentence in proper English.\n",
            "###input:\n",
            "The dog chasing rabbit\n",
            "###output:\n",
            "The dog was chasing the rabbit.\n",
            "###instruction:\n",
            "Compose a sonnet with the given theme.\n",
            "###input:\n",
            "The beauty of friendship\n",
            "###output:\n",
            "The bonds we make with our friends,\n",
            "Which joy and peace portend,\n",
            "Are made to last 'til life's end,\n",
            "For friendship needs neither mends.\n",
            "\n",
            "Though partings sometimes may come,\n",
            "The memories linger near.\n",
            "The dark of night no longer seems so glum,\n",
            "For the friends we often hold so dear.\n",
            "\n",
            "No matter where life's tides may drift,\n",
            "True friends will stay, throughout our lives.\n",
            "Their friendship will be a beautiful gift,\n",
            "Giving us strength to survive our hard striving.\n",
            "\n",
            "The beauty of friendship everlasting,\n",
            "A happiness no one can change or test.\n",
            "The joy of being side by side together,\n",
            "A sweet blessing, that should never be put to rest.\n",
            "###instruction:\n",
            "Summarize the main points of the Paris Agreement\n",
            "###output:\n",
            "The Paris Agreement is a global agreement to combat climate change, encourages countries to take action to reduce greenhouse gas emissions and to adapt to the effects of climate change. The agreement commits countries to limit global warming to well below 2°C and pursue efforts to limit it to 1.5°C above pre-industrial levels. It also sets out legally binding commitments to help developing countries build resilience to climate change, including access to finance, technology, and capacity-building.\n",
            "###instruction:\n",
            "Suggest some public health measures to control an outbreak.\n",
            "###input:\n",
            "COVID-19\n",
            "###output:\n",
            "Public health measures to control the outbreak of COVID-19 include social distancing, wearing masks in public, practicing good hand hygiene, and avoiding contact with people who are sick. Additionally, it is important to be aware of the symptoms of COVID-19 and to practice safe and effective quarantine practices if necessary.\n",
            "----------validation_hf_dataset----------\n",
            "###instruction:\n",
            "Detect hate speech in the following sentence:\n",
            "###input:\n",
            "We should hate all those immigrants.\n",
            "###output:\n",
            "Yes\n",
            "###instruction:\n",
            "Suggest a snack that you can make in under 5 minutes.\n",
            "###output:\n",
            "Peanut Butter and Banana Toast. Simply toast two slices of your favorite bread and spread each slice with peanut butter and a layer of sliced banana.\n",
            "###instruction:\n",
            "Generate a tagline for a pizza delivery company that conveys quality and trust in a single line\n",
            "###output:\n",
            "Get delicious, fresh-made pizza delivered right to your door.\n",
            "###instruction:\n",
            "Describe the nutrition information for a banana.\n",
            "###output:\n",
            "A banana is a nutrient-dense fruit, providing vitamins and minerals such as Vitamin C, Potassium, Magnesium, Copper, phosphorus, and manganese. It is also a good source of dietary fiber, containing approximately 3 grams per medium-sized banana. Along with the vitamins and minerals, a banana provides approximately 110 calories and contains 16.3 grams of total carbohydrates.\n",
            "###instruction:\n",
            "Analyze the following family situation and provide recommendations for how each family member can deal with their issues.\n",
            "###input:\n",
            "John, who is a single dad, has two teenage daughters, Kim and Amy. Kim is 16, rebellious, and struggles with her grades in school. Amy is 14, and she's very timid and gets bullied at school.\n",
            "###output:\n",
            "John should focus on developing a trusting relationship with Kim based on respect, rather than discipline. Helping Kim discover her hobbies, explore her independence and make her own choices can be challenging but rewarding. Open communication between all of them is important, such as where Kim is going and when she will be back. With Amy, John should be sure to provide a safe space for her and increase her overall sense of security. He should also encourage her to confide in him more and provide her with the affirmation she needs. Additionally, John should recognize both Kim’s efforts when it comes to her school work and Amy’s need for more attention. Ultimately, the goal is for each family member to have their needs met in a balanced way.\n",
            "###instruction:\n",
            "Brainstorm a list of topics to write about.\n",
            "###output:\n",
            "Some potential topics to write about include: the importance of climate change mitigation, the challenges of growing economic inequality, the necessity of reform in the education system, the impact of technology on modern life, the importance of making ethical choices in leadership, the effects of global communication networks, the advantages and disadvantages of using renewable energy sources, the benefits of community outreach programs, the potential of artificial intelligence, and the value of environmental conservation.\n",
            "###instruction:\n",
            "What are two methods for training a neural network?\n",
            "###output:\n",
            "Two efficient methods for training a neural network are backpropagation and optimization. Backpropagation involves adjusting the weights and biases within the network so that it minimizes the error between the predicted and actual output, while optimization overcomes the non-convexity of the training by using advanced optimization algorithms. Both methods can be used in tandem to maximize the accuracy of the neural network.\n",
            "###instruction:\n",
            "Prepare an email to send a reminder to a friend.\n",
            "###input:\n",
            "Hi Bill,\n",
            "\n",
            "I was wondering if you could help me out with my project.\n",
            "###output:\n",
            "Hi Bill,\n",
            "\n",
            "I hope you're doing well. I'm sending you this reminder just to check in and see if you are available to help me out with my project. Let me know if you have some free time to chat.\n",
            "\n",
            "Thanks,\n",
            "[Your name]\n",
            "###instruction:\n",
            "Produce a 10-word headline summarizing the benefits of exercising.\n",
            "###output:\n",
            "\"Exercise: Improves Immunity, Reduces Stress, Enhances Mood\".\n",
            "###instruction:\n",
            "Give an example of a technology that uses probabilistic thinking.\n",
            "###output:\n",
            "One example of a technology that utilizes probabilistic thinking is a Bayesian network. Bayesian networks are graphical models of probabilistic relationships between random variables. They are used to represent and reason about uncertain knowledge, and can be used to estimate the probability of certain events or the most likely outcome of certain events. They can be used for predictive analytics and data mining.\n"
          ]
        }
      ],
      "source": [
        "# check dataset values\n",
        "train_hf_dataset = Dataset.from_dict({\"text\": train_formatted.tolist()})\n",
        "validation_hf_dataset = Dataset.from_dict({\"text\": validation_formatted.tolist()})\n",
        "print(f\"train_hf_dataset: {train_hf_dataset}\")\n",
        "print(f\"validation_hf_dataset: {validation_hf_dataset}\")\n",
        "\n",
        "print('-'*10 + 'train_hf_dataset' + '-'*10)\n",
        "for i in range(10):\n",
        "    print(train_hf_dataset[i]['text'])\n",
        "print('-'*10 + 'validation_hf_dataset' + '-'*10)\n",
        "for i in range(10):\n",
        "    print(validation_hf_dataset[i]['text'])"
      ]
    },
    {
      "cell_type": "code",
      "execution_count": 28,
      "metadata": {},
      "outputs": [
        {
          "name": "stderr",
          "output_type": "stream",
          "text": [
            "Adding EOS to train dataset: 100%|██████████| 41601/41601 [00:00<00:00, 96640.62 examples/s]\n",
            "Tokenizing train dataset: 100%|██████████| 41601/41601 [00:05<00:00, 7808.76 examples/s]\n",
            "Truncating train dataset: 100%|██████████| 41601/41601 [00:00<00:00, 2187159.88 examples/s]\n",
            "[rank0]:[W624 17:21:08.616866501 ProcessGroupNCCL.cpp:4561] [PG ID 0 PG GUID 0 Rank 0]  using GPU 0 to perform barrier as devices used by this process are currently unknown. This can potentially cause a hang if this rank to GPU mapping is incorrect. Specify device_ids in barrier() to force use of a particular device, or call init_process_group() with a device_id.\n",
            "Adding EOS to eval dataset: 100%|██████████| 10400/10400 [00:00<00:00, 97043.28 examples/s]\n",
            "Tokenizing eval dataset: 100%|██████████| 10400/10400 [00:01<00:00, 8073.62 examples/s]\n",
            "Truncating eval dataset: 100%|██████████| 10400/10400 [00:00<00:00, 1848572.34 examples/s]\n"
          ]
        }
      ],
      "source": [
        "# SFTTrainer setting\n",
        "trainer = SFTTrainer(\n",
        "    model=model,\n",
        "    train_dataset=train_hf_dataset,\n",
        "    eval_dataset=validation_hf_dataset,\n",
        "    args=training_arguments,\n",
        "    data_collator=collator,\n",
        ")"
      ]
    },
    {
      "cell_type": "code",
      "execution_count": 29,
      "metadata": {},
      "outputs": [
        {
          "name": "stderr",
          "output_type": "stream",
          "text": [
            "\u001b[34m\u001b[1mwandb\u001b[0m: \u001b[33mWARNING\u001b[0m The `run_name` is currently set to the same value as `TrainingArguments.output_dir`. If this was not intended, please specify a different run name by setting the `TrainingArguments.run_name` parameter.\n"
          ]
        },
        {
          "data": {
            "text/html": [
              "\n",
              "    <div>\n",
              "      \n",
              "      <progress value='41601' max='41601' style='width:300px; height:20px; vertical-align: middle;'></progress>\n",
              "      [41601/41601 3:46:17, Epoch 1/1]\n",
              "    </div>\n",
              "    <table border=\"1\" class=\"dataframe\">\n",
              "  <thead>\n",
              " <tr style=\"text-align: left;\">\n",
              "      <th>Step</th>\n",
              "      <th>Training Loss</th>\n",
              "      <th>Validation Loss</th>\n",
              "    </tr>\n",
              "  </thead>\n",
              "  <tbody>\n",
              "    <tr>\n",
              "      <td>4000</td>\n",
              "      <td>9.832600</td>\n",
              "      <td>nan</td>\n",
              "    </tr>\n",
              "    <tr>\n",
              "      <td>8000</td>\n",
              "      <td>8.090000</td>\n",
              "      <td>nan</td>\n",
              "    </tr>\n",
              "    <tr>\n",
              "      <td>12000</td>\n",
              "      <td>3.641100</td>\n",
              "      <td>nan</td>\n",
              "    </tr>\n",
              "    <tr>\n",
              "      <td>16000</td>\n",
              "      <td>6.081300</td>\n",
              "      <td>nan</td>\n",
              "    </tr>\n",
              "    <tr>\n",
              "      <td>20000</td>\n",
              "      <td>4.016300</td>\n",
              "      <td>nan</td>\n",
              "    </tr>\n",
              "    <tr>\n",
              "      <td>24000</td>\n",
              "      <td>5.806200</td>\n",
              "      <td>nan</td>\n",
              "    </tr>\n",
              "    <tr>\n",
              "      <td>28000</td>\n",
              "      <td>0.995500</td>\n",
              "      <td>nan</td>\n",
              "    </tr>\n",
              "    <tr>\n",
              "      <td>32000</td>\n",
              "      <td>5.088800</td>\n",
              "      <td>nan</td>\n",
              "    </tr>\n",
              "    <tr>\n",
              "      <td>36000</td>\n",
              "      <td>2.415100</td>\n",
              "      <td>nan</td>\n",
              "    </tr>\n",
              "    <tr>\n",
              "      <td>40000</td>\n",
              "      <td>3.938200</td>\n",
              "      <td>nan</td>\n",
              "    </tr>\n",
              "  </tbody>\n",
              "</table><p>"
            ],
            "text/plain": [
              "<IPython.core.display.HTML object>"
            ]
          },
          "metadata": {},
          "output_type": "display_data"
        },
        {
          "name": "stderr",
          "output_type": "stream",
          "text": [
            "\u001b[34m\u001b[1mwandb\u001b[0m: \u001b[33mWARNING\u001b[0m The get_url method is deprecated and will be removed in a future release. Please use `run.url` instead.\n"
          ]
        },
        {
          "data": {
            "text/plain": [
              "TrainOutput(global_step=41601, training_loss=4.807115186611713, metrics={'train_runtime': 13577.8826, 'train_samples_per_second': 3.064, 'train_steps_per_second': 3.064, 'total_flos': 1.999614986239181e+16, 'train_loss': 4.807115186611713})"
            ]
          },
          "execution_count": 29,
          "metadata": {},
          "output_type": "execute_result"
        }
      ],
      "source": [
        "# train\n",
        "trainer.train()"
      ]
    },
    {
      "cell_type": "code",
      "execution_count": 31,
      "metadata": {},
      "outputs": [],
      "source": [
        "trainer.save_model() # save model\n",
        "trainer.save_state() # save metrics"
      ]
    }
  ],
  "metadata": {
    "colab": {
      "provenance": []
    },
    "kernelspec": {
      "display_name": ".venv",
      "language": "python",
      "name": "python3"
    },
    "language_info": {
      "codemirror_mode": {
        "name": "ipython",
        "version": 3
      },
      "file_extension": ".py",
      "mimetype": "text/x-python",
      "name": "python",
      "nbconvert_exporter": "python",
      "pygments_lexer": "ipython3",
      "version": "3.12.3"
    }
  },
  "nbformat": 4,
  "nbformat_minor": 0
}
